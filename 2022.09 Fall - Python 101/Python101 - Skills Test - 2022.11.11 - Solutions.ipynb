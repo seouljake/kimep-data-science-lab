{
 "cells": [
  {
   "cell_type": "markdown",
   "metadata": {},
   "source": [
    "# Python 101 - Data Types and Control Structures"
   ]
  },
  {
   "cell_type": "markdown",
   "metadata": {},
   "source": [
    "## Skills Test"
   ]
  },
  {
   "cell_type": "markdown",
   "metadata": {},
   "source": [
    "#### Time:  30 minutes"
   ]
  },
  {
   "cell_type": "markdown",
   "metadata": {},
   "source": [
    "#### Contents\n",
    "-  Shorter exercises (5 pts x 5)  = 25\n",
    "-  Longer exercises (20 pts x 5) = 100"
   ]
  },
  {
   "cell_type": "markdown",
   "metadata": {},
   "source": [
    "#### Total points: 125"
   ]
  },
  {
   "cell_type": "markdown",
   "metadata": {},
   "source": [
    "#### Passing Grade: 60% (75 of 125pts)"
   ]
  },
  {
   "cell_type": "markdown",
   "metadata": {},
   "source": [
    "## Shorter exercises"
   ]
  },
  {
   "cell_type": "markdown",
   "metadata": {},
   "source": [
    "#### 1. create two lists, boy_names and girl_names\n",
    "\n",
    "-  boy_names will be a list containing three boy names: Joey, Tommy, Ricky\n",
    "-  girl_names will be a list containing three girl names: Sally, Ruby, Cherry"
   ]
  },
  {
   "cell_type": "code",
   "execution_count": 1,
   "metadata": {},
   "outputs": [],
   "source": [
    "boy_names = [\"Joey\",\"Tommy\",\"Ricky\"]\n",
    "girl_names = [\"Sally\",\"Ruby\",\"Cherry\"]"
   ]
  },
  {
   "cell_type": "code",
   "execution_count": 2,
   "metadata": {},
   "outputs": [
    {
     "data": {
      "text/plain": [
       "(['Joey', 'Tommy', 'Ricky'], ['Sally', 'Ruby', 'Cherry'])"
      ]
     },
     "execution_count": 2,
     "metadata": {},
     "output_type": "execute_result"
    }
   ],
   "source": [
    "boy_names,girl_names"
   ]
  },
  {
   "cell_type": "markdown",
   "metadata": {},
   "source": [
    "#### 2. remove Joey from the list of boy_names\n",
    "-  use the remove() function"
   ]
  },
  {
   "cell_type": "code",
   "execution_count": 3,
   "metadata": {},
   "outputs": [],
   "source": [
    "boy_names.remove(\"Joey\")"
   ]
  },
  {
   "cell_type": "code",
   "execution_count": 4,
   "metadata": {},
   "outputs": [
    {
     "data": {
      "text/plain": [
       "['Tommy', 'Ricky']"
      ]
     },
     "execution_count": 4,
     "metadata": {},
     "output_type": "execute_result"
    }
   ],
   "source": [
    "boy_names"
   ]
  },
  {
   "cell_type": "markdown",
   "metadata": {},
   "source": [
    "#### 3. create a dictionary: names_dict\n",
    "\n",
    "create a dictionary, names_dict, whose key:value pairs are:\n",
    " - \"boys\" : boy_names\n",
    " - \"girls\" : girl_names"
   ]
  },
  {
   "cell_type": "code",
   "execution_count": 5,
   "metadata": {},
   "outputs": [],
   "source": [
    "names_dict = dict({\"boys\":boy_names,\"girls\":girl_names})"
   ]
  },
  {
   "cell_type": "code",
   "execution_count": 6,
   "metadata": {},
   "outputs": [
    {
     "data": {
      "text/plain": [
       "{'boys': ['Tommy', 'Ricky'], 'girls': ['Sally', 'Ruby', 'Cherry']}"
      ]
     },
     "execution_count": 6,
     "metadata": {},
     "output_type": "execute_result"
    }
   ],
   "source": [
    "names_dict"
   ]
  },
  {
   "cell_type": "markdown",
   "metadata": {},
   "source": [
    "#### 4. create a new list, names_list\n",
    "\n",
    "concatenate (combine) boy_names and girl_names into one new list, names_list"
   ]
  },
  {
   "cell_type": "code",
   "execution_count": 7,
   "metadata": {},
   "outputs": [],
   "source": [
    "names_list = boy_names + girl_names"
   ]
  },
  {
   "cell_type": "code",
   "execution_count": 8,
   "metadata": {},
   "outputs": [
    {
     "data": {
      "text/plain": [
       "['Tommy', 'Ricky', 'Sally', 'Ruby', 'Cherry']"
      ]
     },
     "execution_count": 8,
     "metadata": {},
     "output_type": "execute_result"
    }
   ],
   "source": [
    "names_list"
   ]
  },
  {
   "cell_type": "markdown",
   "metadata": {},
   "source": [
    "#### 5. create a string which reports the number of boy names, girl names, and all names across the 3 lists\n",
    "\n",
    "-  hint: use the len() function"
   ]
  },
  {
   "cell_type": "code",
   "execution_count": 11,
   "metadata": {},
   "outputs": [],
   "source": [
    "name_string = \"You have \"+str(len(boy_names))+\" boy names, \"+str(len(girl_names))+\" girl names, and \"+str(len(names_list))+\" names overall.\""
   ]
  },
  {
   "cell_type": "code",
   "execution_count": 12,
   "metadata": {},
   "outputs": [
    {
     "data": {
      "text/plain": [
       "'You have 2 boy names, 3 girl names, and 5 names overall.'"
      ]
     },
     "execution_count": 12,
     "metadata": {},
     "output_type": "execute_result"
    }
   ],
   "source": [
    "name_string"
   ]
  },
  {
   "cell_type": "markdown",
   "metadata": {},
   "source": [
    "## Longer exercises"
   ]
  },
  {
   "cell_type": "markdown",
   "metadata": {},
   "source": [
    "#### 6. Define a function, name_report\n",
    "\n",
    "- name_report accepts to lists as parameters, boy_names and girl_names\n",
    "- reports the elements of each list\n",
    "- and print() out name_string from Exercise 5.\n",
    "\n",
    "- Your output should match the output below."
   ]
  },
  {
   "cell_type": "code",
   "execution_count": 16,
   "metadata": {},
   "outputs": [],
   "source": [
    "def name_report(boy_names,girl_names):\n",
    "    \n",
    "    name_string = \"You have \"+str(len(boy_names))+\" boy names, \"+str(len(girl_names))+\" girl names, and \"+str(len(boy_names)+len(girl_names))+\" names overall.\"\n",
    "\n",
    "    print(\"===== Names Report =======================================\")\n",
    "    print(\"boy names: \",boy_names)\n",
    "    print(\"girl names: \",girl_names)\n",
    "    print(name_string)"
   ]
  },
  {
   "cell_type": "code",
   "execution_count": 17,
   "metadata": {},
   "outputs": [
    {
     "name": "stdout",
     "output_type": "stream",
     "text": [
      "===== Names Report =======================================\n",
      "boy names:  ['Tommy', 'Ricky']\n",
      "girl names:  ['Sally', 'Ruby', 'Cherry']\n",
      "You have 2 boy names, 3 girl names, and 5 names overall.\n"
     ]
    }
   ],
   "source": [
    "name_report(boy_names,girl_names)"
   ]
  },
  {
   "cell_type": "markdown",
   "metadata": {},
   "source": [
    "#### 7. Print out all of the girl names in names_list\n",
    "\n",
    "- use girl_names from Exercise 1 and names_list from Exercise 4\n",
    "- use a for loop\n",
    "- within your for loop, use an if statement to test whether or not each name in name_list is also in girl_names\n",
    "- Output should resemble the output below."
   ]
  },
  {
   "cell_type": "code",
   "execution_count": 19,
   "metadata": {},
   "outputs": [
    {
     "name": "stdout",
     "output_type": "stream",
     "text": [
      "Sally\n",
      "Ruby\n",
      "Cherry\n"
     ]
    }
   ],
   "source": [
    "for name in names_list:\n",
    "    if name in girl_names:\n",
    "        print(name)"
   ]
  },
  {
   "cell_type": "markdown",
   "metadata": {},
   "source": [
    "#### 8. Output all pairs of girl names with no duplicates.\n",
    "\n",
    "- use girl_names from Exercise 1\n",
    "- use nested FOR loops.\n",
    "- Don't report identical or duplicate pairs.\n",
    "- Output should resemble the output below."
   ]
  },
  {
   "cell_type": "code",
   "execution_count": 20,
   "metadata": {},
   "outputs": [
    {
     "name": "stdout",
     "output_type": "stream",
     "text": [
      "Ruby Sally\n",
      "Cherry Sally\n",
      "Cherry Ruby\n"
     ]
    }
   ],
   "source": [
    "for girl1 in girl_names:\n",
    "    for girl2 in girl_names:\n",
    "        if girl1<girl2:\n",
    "            print(girl1,girl2)"
   ]
  },
  {
   "cell_type": "markdown",
   "metadata": {},
   "source": [
    "####  9. Count the number of instances of the the word \"seed\"\n",
    "\n",
    "- Consider seed_text, a list of strings which are sentences about fruit seeds.\n",
    "- Create a variable, seed_word_count.\n",
    "- Use this variable to count the number of instances of the word \"seed\".\n",
    "- Then please print(seed_word_count) \n",
    "\n",
    "- Use an if statement in a for loop\n",
    "- Your output should match the output below."
   ]
  },
  {
   "cell_type": "code",
   "execution_count": 31,
   "metadata": {},
   "outputs": [],
   "source": [
    "seed_text = [\"Fruits are the means by which flowering plants (also known as angiosperms) disseminate their seeds.\",\"Edible fruits in particular have long propagated using the movements of humans and animals in a symbiotic relationship that is the means for seed dispersal for the one group and nutrition for the other; in fact, humans and many animals have become dependent on fruits as a source of food.\",\"Consequently, fruits account for a substantial fraction of the world's agricultural output, and some (such as the apple and the pomegranate) have acquired extensive cultural and symbolic meanings.\",\"In common language usage, fruit normally means the seed-associated fleshy structures (or produce) of plants that typically are sweet or sour and edible in the raw state, such as apples, bananas, grapes, lemons, oranges, and strawberries.\",\"In botanical usage, the term fruit also includes many structures that are not commonly called fruits in everyday language, such as nuts, bean pods, corn kernels, tomatoes, and wheat grains.\"]"
   ]
  },
  {
   "cell_type": "code",
   "execution_count": 32,
   "metadata": {},
   "outputs": [
    {
     "name": "stdout",
     "output_type": "stream",
     "text": [
      "3\n"
     ]
    }
   ],
   "source": [
    "seed_word_count=0\n",
    "\n",
    "for s in seed_text:\n",
    "    seed_word_count+=s.count(\"seed\")\n",
    "        \n",
    "print(seed_word_count)"
   ]
  },
  {
   "cell_type": "markdown",
   "metadata": {},
   "source": [
    "####  10. Count the number of sentences containing the word \"seed\"\n",
    "\n",
    "- Consider fruit_text, a list of strings which are sentences about fruit.\n",
    "- Create a variable, fruit_sentence_count.\n",
    "- Use this variable to count the number of sentences containing the word \"fruit\".\n",
    "- Then please print \"fruit_sentence_count\".\n",
    "- Use an if statement in a for loop\n",
    "- Your output should match the output below."
   ]
  },
  {
   "cell_type": "code",
   "execution_count": 33,
   "metadata": {},
   "outputs": [],
   "source": [
    "seed_text = [\"Fruits are the means by which flowering plants (also known as angiosperms) disseminate their seeds.\",\"Edible fruits in particular have long propagated using the movements of humans and animals in a symbiotic relationship that is the means for seed dispersal for the one group and nutrition for the other; in fact, humans and many animals have become dependent on fruits as a source of food.\",\"Consequently, fruits account for a substantial fraction of the world's agricultural output, and some (such as the apple and the pomegranate) have acquired extensive cultural and symbolic meanings.\",\"In common language usage, fruit normally means the seed-associated fleshy structures (or produce) of plants that typically are sweet or sour and edible in the raw state, such as apples, bananas, grapes, lemons, oranges, and strawberries.\",\"In botanical usage, the term fruit also includes many structures that are not commonly called fruits in everyday language, such as nuts, bean pods, corn kernels, tomatoes, and wheat grains.\"]"
   ]
  },
  {
   "cell_type": "code",
   "execution_count": 34,
   "metadata": {},
   "outputs": [
    {
     "name": "stdout",
     "output_type": "stream",
     "text": [
      "3\n"
     ]
    }
   ],
   "source": [
    "seed_sentence_count=0\n",
    "\n",
    "for s in seed_text:\n",
    "    if \"seed\" in s:\n",
    "        seed_sentence_count+=1\n",
    "        \n",
    "print(seed_sentence_count)"
   ]
  }
 ],
 "metadata": {
  "kernelspec": {
   "display_name": "Python 3 (ipykernel)",
   "language": "python",
   "name": "python3"
  },
  "language_info": {
   "codemirror_mode": {
    "name": "ipython",
    "version": 3
   },
   "file_extension": ".py",
   "mimetype": "text/x-python",
   "name": "python",
   "nbconvert_exporter": "python",
   "pygments_lexer": "ipython3",
   "version": "3.11.0"
  }
 },
 "nbformat": 4,
 "nbformat_minor": 4
}
