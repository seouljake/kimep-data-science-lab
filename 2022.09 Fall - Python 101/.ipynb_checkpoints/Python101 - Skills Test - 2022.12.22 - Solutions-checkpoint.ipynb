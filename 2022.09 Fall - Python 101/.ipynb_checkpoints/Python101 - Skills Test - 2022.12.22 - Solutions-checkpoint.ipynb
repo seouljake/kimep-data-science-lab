{
 "cells": [
  {
   "cell_type": "markdown",
   "metadata": {},
   "source": [
    "# Python 101 - Data Types and Control Structures"
   ]
  },
  {
   "cell_type": "markdown",
   "metadata": {},
   "source": [
    "## Skills Test"
   ]
  },
  {
   "cell_type": "markdown",
   "metadata": {},
   "source": [
    "#### Time:  30 minutes"
   ]
  },
  {
   "cell_type": "markdown",
   "metadata": {},
   "source": [
    "#### Contents\n",
    "-  Shorter exercises (5 pts x 5)  = 25\n",
    "-  Longer exercises (20 pts x 5) = 100"
   ]
  },
  {
   "cell_type": "markdown",
   "metadata": {},
   "source": [
    "#### Total points: 125"
   ]
  },
  {
   "cell_type": "markdown",
   "metadata": {},
   "source": [
    "#### Passing Grade: 60% (75 of 125pts)"
   ]
  },
  {
   "cell_type": "markdown",
   "metadata": {},
   "source": [
    "## Shorter exercises"
   ]
  },
  {
   "cell_type": "markdown",
   "metadata": {},
   "source": [
    "#### 1. create two lists, cold_colors and warm_colors\n",
    "\n",
    "-  cold_colors will be a list containing three cold colors: blue, green, purple\n",
    "-  warm_colors will be a list containing three warm names: orange, yellow, red"
   ]
  },
  {
   "cell_type": "code",
   "execution_count": 28,
   "metadata": {},
   "outputs": [],
   "source": [
    "cold_colors = [\"blue\",\"green\",\"purple\"]\n",
    "warm_colors = [\"orange\",\"yellow\",\"red\"]"
   ]
  },
  {
   "cell_type": "code",
   "execution_count": 29,
   "metadata": {},
   "outputs": [
    {
     "data": {
      "text/plain": [
       "(['blue', 'green', 'purple'], ['orange', 'yellow', 'red'])"
      ]
     },
     "execution_count": 29,
     "metadata": {},
     "output_type": "execute_result"
    }
   ],
   "source": [
    "cold_colors,warm_colors"
   ]
  },
  {
   "cell_type": "markdown",
   "metadata": {},
   "source": [
    "#### 2. remove green from the list of cold_colors\n",
    "-  use the remove() function"
   ]
  },
  {
   "cell_type": "code",
   "execution_count": 30,
   "metadata": {},
   "outputs": [],
   "source": [
    "cold_colors.remove(\"green\")"
   ]
  },
  {
   "cell_type": "code",
   "execution_count": 31,
   "metadata": {},
   "outputs": [
    {
     "data": {
      "text/plain": [
       "['blue', 'purple']"
      ]
     },
     "execution_count": 31,
     "metadata": {},
     "output_type": "execute_result"
    }
   ],
   "source": [
    "cold_colors"
   ]
  },
  {
   "cell_type": "markdown",
   "metadata": {},
   "source": [
    "#### 3. create a dictionary of colors: colors_dict\n",
    "\n",
    "create a dictionary, colors_dict, whose key:value pairs are:\n",
    " - \"cold\" : list of cold_colors\n",
    " - \"warm\" : list of warm_colors"
   ]
  },
  {
   "cell_type": "code",
   "execution_count": 32,
   "metadata": {},
   "outputs": [],
   "source": [
    "colors_dict = dict({\"cold\":cold_colors,\"warm\":warm_colors})"
   ]
  },
  {
   "cell_type": "code",
   "execution_count": 33,
   "metadata": {},
   "outputs": [
    {
     "data": {
      "text/plain": [
       "{'cold': ['blue', 'purple'], 'warm': ['orange', 'yellow', 'red']}"
      ]
     },
     "execution_count": 33,
     "metadata": {},
     "output_type": "execute_result"
    }
   ],
   "source": [
    "colors_dict"
   ]
  },
  {
   "cell_type": "markdown",
   "metadata": {},
   "source": [
    "#### 4. create a new list containing both cold and warm colors\n",
    "\n",
    "concatenate (combine) cold_colors and warm_colors into one new list, rainbow_colors"
   ]
  },
  {
   "cell_type": "code",
   "execution_count": 34,
   "metadata": {},
   "outputs": [],
   "source": [
    "rainbow_colors = cold_colors + warm_colors"
   ]
  },
  {
   "cell_type": "code",
   "execution_count": 35,
   "metadata": {},
   "outputs": [
    {
     "data": {
      "text/plain": [
       "['blue', 'purple', 'orange', 'yellow', 'red']"
      ]
     },
     "execution_count": 35,
     "metadata": {},
     "output_type": "execute_result"
    }
   ],
   "source": [
    "rainbow_colors"
   ]
  },
  {
   "cell_type": "markdown",
   "metadata": {},
   "source": [
    "#### 5. create a string which reports the number of cold colors, warm colors and rainbow colors in all the 3 lists\n",
    "\n",
    "-  hint: use the len() function"
   ]
  },
  {
   "cell_type": "code",
   "execution_count": 36,
   "metadata": {},
   "outputs": [],
   "source": [
    "color_string = \"You have \"+str(len(cold_colors))+\" cold colors, \"+str(len(warm_colors))+\" warm colors, and \"+str(len(rainbow_colors))+\" rainbow colors overall.\""
   ]
  },
  {
   "cell_type": "code",
   "execution_count": 37,
   "metadata": {},
   "outputs": [
    {
     "data": {
      "text/plain": [
       "'You have 2 cold colors, 3 warm colors, and 5 rainbow colors overall.'"
      ]
     },
     "execution_count": 37,
     "metadata": {},
     "output_type": "execute_result"
    }
   ],
   "source": [
    "color_string"
   ]
  },
  {
   "cell_type": "markdown",
   "metadata": {},
   "source": [
    "## Longer exercises"
   ]
  },
  {
   "cell_type": "markdown",
   "metadata": {},
   "source": [
    "#### 6. Define a function, color_report\n",
    "\n",
    "the function color_report\n",
    "- accepts two lists as parameters: cold_colors and warm_colors\n",
    "- uses print() to\n",
    " - report the elements of each list\n",
    " - print out the color_string from Exercise 5.\n",
    "\n",
    "Your output should match the output below."
   ]
  },
  {
   "cell_type": "code",
   "execution_count": 38,
   "metadata": {},
   "outputs": [],
   "source": [
    "def color_report(cold_colors,warm_colors):\n",
    "    \n",
    "    color_string = \"You have \"+str(len(cold_colors))+\" cold colors, \"+str(len(warm_colors))+\" warm colors, and \"+str(len(cold_colors)+len(warm_colors))+\" rainbow colors overall.\"\n",
    "\n",
    "    print(\"=================== Color Report =========================\")\n",
    "    print(\"cold colors: \",cold_colors)\n",
    "    print(\"warm colors: \",warm_colors)\n",
    "    print(color_string)"
   ]
  },
  {
   "cell_type": "code",
   "execution_count": 39,
   "metadata": {},
   "outputs": [
    {
     "name": "stdout",
     "output_type": "stream",
     "text": [
      "=================== Color Report =========================\n",
      "cold colors:  ['blue', 'purple']\n",
      "warm colors:  ['orange', 'yellow', 'red']\n",
      "You have 2 cold colors, 3 warm colors, and 5 rainbow colors overall.\n"
     ]
    }
   ],
   "source": [
    "color_report(cold_colors,warm_colors)"
   ]
  },
  {
   "cell_type": "markdown",
   "metadata": {},
   "source": [
    "#### 7. Print out all of the warm colors  in rainbow_colors\n",
    "\n",
    "- Use warm_colors from Exercise 1 and rainbow_colors from Exercise 4\n",
    "- Use a for loop and an if statement to test whether or not each name in warm_colors is also in rainbow_colors\n",
    "- Output should resemble the output below."
   ]
  },
  {
   "cell_type": "code",
   "execution_count": 40,
   "metadata": {},
   "outputs": [
    {
     "name": "stdout",
     "output_type": "stream",
     "text": [
      "orange\n",
      "yellow\n",
      "red\n"
     ]
    }
   ],
   "source": [
    "for color in rainbow_colors:\n",
    "    if color in warm_colors:\n",
    "        print(color)"
   ]
  },
  {
   "cell_type": "markdown",
   "metadata": {},
   "source": [
    "#### 8. Output all pairs of warm colors WITHOUT duplicates.\n",
    "\n",
    "- Use warm_colors from Exercise 1\n",
    "- Use nested FOR loops to output all unique pairs of warm colors\n",
    "- DO NOT report identical or duplicate pairs.\n",
    "- Output should resemble the output below."
   ]
  },
  {
   "cell_type": "code",
   "execution_count": 41,
   "metadata": {},
   "outputs": [
    {
     "name": "stdout",
     "output_type": "stream",
     "text": [
      "orange yellow\n",
      "orange red\n",
      "red yellow\n"
     ]
    }
   ],
   "source": [
    "for color1 in warm_colors:\n",
    "    for color2 in warm_colors:\n",
    "        if color1<color2:\n",
    "            print(color1,color2)"
   ]
  },
  {
   "cell_type": "markdown",
   "metadata": {},
   "source": [
    "####  9. Count the number of sentences in color_text which contain the string \"color\"  \n",
    "\n",
    "- Consider color_text, a list of strings which are sentences about colors of the rainbow.\n",
    "- Create a variable, color_sentence_count, and set it equal to 0.\n",
    "- Check each sentence to see if it contains the string \"color\".\n",
    "- If so, increment color_sentence_count.\n",
    "- At the end, print color_sentence_count.\n",
    "\n",
    "- Your output should match the output below."
   ]
  },
  {
   "cell_type": "code",
   "execution_count": 42,
   "metadata": {},
   "outputs": [],
   "source": [
    "color_text = [\"The idea that there are seven colors in the rainbow still lasts to this day.\",\n",
    "              \"At a glance, you might think this to be true, but closer inspection of a rainbow shows that there are far more than just seven individual hues.\",\n",
    "              \"A rainbow is not a pure spectrum. It is actually made up of a myriad of individual spectral colors that have overlapped and mixed.\",\n",
    "              \"The basic sequence for primary rainbows is always the same running from red (the longest wavelength at around 780 nm) through to violet (the shortest wavelength in the sequence at 380 nm).\",\n",
    "              \"The seven color idea is still a popular one and it helps remember the order of the most recognisable colors in a rainbow.\",\n",
    "              \"However, remember that there is also a whole range of colors, so many that we cannot distinguish them all with the naked eye.\"]"
   ]
  },
  {
   "cell_type": "code",
   "execution_count": 43,
   "metadata": {},
   "outputs": [
    {
     "name": "stdout",
     "output_type": "stream",
     "text": [
      "4\n"
     ]
    }
   ],
   "source": [
    "color_sentence_count=0\n",
    "\n",
    "for s in color_text:\n",
    "    if \"color\" in s:\n",
    "        color_sentence_count+=1\n",
    "        \n",
    "print(color_sentence_count)"
   ]
  },
  {
   "cell_type": "markdown",
   "metadata": {},
   "source": [
    "####  10. Count the number of instances of the string \"color\"\n",
    "\n",
    "- Consider color_text, a list of strings which are sentences about colors of the rainbow.\n",
    "- Create a variable, color_word_count, and set it equal to 0.\n",
    "- Check each sentence to count the number of instances of the string \"color\" \n",
    "- Add all of the instances to color_word_count.\n",
    "- At the end, print color_word_count.\n",
    "\n",
    "- Your output should match the output below."
   ]
  },
  {
   "cell_type": "code",
   "execution_count": 44,
   "metadata": {},
   "outputs": [],
   "source": [
    "color_text = [\"The idea that there are seven colors in the rainbow still lasts to this day.\",\n",
    "              \"At a glance, you might think this to be true, but closer inspection of a rainbow shows that there are far more than just seven individual hues.\",\n",
    "              \"A rainbow is not a pure spectrum. It is actually made up of a myriad of individual spectral colors that have overlapped and mixed.\",\n",
    "              \"The basic sequence for primary rainbows is always the same running from red (the longest wavelength at around 780 nm) through to violet (the shortest wavelength in the sequence at 380 nm).\",\n",
    "              \"The seven color idea is still a popular one and it helps remember the order of the most recognisable colors in a rainbow.\",\n",
    "              \"However, remember that there is also a whole range of colors, so many that we cannot distinguish them all with the naked eye.\"]"
   ]
  },
  {
   "cell_type": "code",
   "execution_count": 46,
   "metadata": {},
   "outputs": [
    {
     "name": "stdout",
     "output_type": "stream",
     "text": [
      "5\n"
     ]
    }
   ],
   "source": [
    "color_word_count=0\n",
    "\n",
    "for s in color_text:\n",
    "    color_word_count+=s.count(\"color\")\n",
    "        \n",
    "print(color_word_count)"
   ]
  },
  {
   "cell_type": "code",
   "execution_count": null,
   "metadata": {},
   "outputs": [],
   "source": []
  }
 ],
 "metadata": {
  "kernelspec": {
   "display_name": "Python 3 (ipykernel)",
   "language": "python",
   "name": "python3"
  },
  "language_info": {
   "codemirror_mode": {
    "name": "ipython",
    "version": 3
   },
   "file_extension": ".py",
   "mimetype": "text/x-python",
   "name": "python",
   "nbconvert_exporter": "python",
   "pygments_lexer": "ipython3",
   "version": "3.11.0"
  }
 },
 "nbformat": 4,
 "nbformat_minor": 4
}
