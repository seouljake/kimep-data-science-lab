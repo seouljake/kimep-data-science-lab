{
 "cells": [
  {
   "cell_type": "markdown",
   "metadata": {},
   "source": [
    "# Python 101 - Data Types and Control Structures"
   ]
  },
  {
   "cell_type": "markdown",
   "metadata": {},
   "source": [
    "## Skills Test"
   ]
  },
  {
   "cell_type": "markdown",
   "metadata": {},
   "source": [
    "#### Time:  30 minutes"
   ]
  },
  {
   "cell_type": "markdown",
   "metadata": {},
   "source": [
    "#### Contents\n",
    "-  Shorter exercises (5 pts x 5)  = 25\n",
    "-  Longer exercises (20 pts x 5) = 100"
   ]
  },
  {
   "cell_type": "markdown",
   "metadata": {},
   "source": [
    "#### Total points: 125"
   ]
  },
  {
   "cell_type": "markdown",
   "metadata": {},
   "source": [
    "#### Passing Grade: 60% (75 of 125pts)"
   ]
  },
  {
   "cell_type": "markdown",
   "metadata": {},
   "source": [
    "## Shorter exercises"
   ]
  },
  {
   "cell_type": "markdown",
   "metadata": {},
   "source": [
    "#### 1. create two lists, pets and toys\n",
    "\n",
    "-  pets will be a list containing three pets, coded as strings (e.g., \"dog\", \"cat\", \"turtle\")\n",
    "-  toys will be a list containing three toys, coded as strings (e.g., \"doll\", \"ball\", \"chessboard\")"
   ]
  },
  {
   "cell_type": "code",
   "execution_count": 11,
   "metadata": {},
   "outputs": [],
   "source": [
    "pets = [\"dog\", \"cat\", \"turtle\"]\n",
    "toys = [\"doll\", \"ball\", \"chessboard\"]"
   ]
  },
  {
   "cell_type": "code",
   "execution_count": 12,
   "metadata": {},
   "outputs": [
    {
     "data": {
      "text/plain": [
       "(['dog', 'cat', 'turtle'], ['doll', 'ball', 'chessboard'])"
      ]
     },
     "execution_count": 12,
     "metadata": {},
     "output_type": "execute_result"
    }
   ],
   "source": [
    "pets,toys"
   ]
  },
  {
   "cell_type": "markdown",
   "metadata": {},
   "source": [
    "#### 2. add \"lizard\" to the list of pets\n",
    "-  use the append() function"
   ]
  },
  {
   "cell_type": "code",
   "execution_count": 13,
   "metadata": {},
   "outputs": [],
   "source": [
    "pets.append(\"lizard\")"
   ]
  },
  {
   "cell_type": "code",
   "execution_count": 14,
   "metadata": {},
   "outputs": [
    {
     "data": {
      "text/plain": [
       "['dog', 'cat', 'turtle', 'lizard']"
      ]
     },
     "execution_count": 14,
     "metadata": {},
     "output_type": "execute_result"
    }
   ],
   "source": [
    "pets"
   ]
  },
  {
   "cell_type": "markdown",
   "metadata": {},
   "source": [
    "#### 3. create a dictionary, playtime\n",
    "-  whose keys are \"pets\" and \"toys\"\n",
    "-  whose values are the lists, pets and toys, respectively"
   ]
  },
  {
   "cell_type": "code",
   "execution_count": 16,
   "metadata": {},
   "outputs": [],
   "source": [
    "playtime = dict({\"pets\":pets,\"toys\":toys})"
   ]
  },
  {
   "cell_type": "code",
   "execution_count": 17,
   "metadata": {},
   "outputs": [
    {
     "data": {
      "text/plain": [
       "{'pets': ['dog', 'cat', 'turtle', 'lizard'],\n",
       " 'toys': ['doll', 'ball', 'chessboard']}"
      ]
     },
     "execution_count": 17,
     "metadata": {},
     "output_type": "execute_result"
    }
   ],
   "source": [
    "playtime"
   ]
  },
  {
   "cell_type": "markdown",
   "metadata": {},
   "source": [
    "#### 4. add another \"lizard\" to the list of pets\n",
    "-  use the append() function\n",
    "-  use the dictionary, playtime"
   ]
  },
  {
   "cell_type": "code",
   "execution_count": 18,
   "metadata": {},
   "outputs": [],
   "source": [
    "playtime[\"pets\"].append(\"lizard\")"
   ]
  },
  {
   "cell_type": "code",
   "execution_count": 19,
   "metadata": {},
   "outputs": [
    {
     "data": {
      "text/plain": [
       "{'pets': ['dog', 'cat', 'turtle', 'lizard', 'lizard'],\n",
       " 'toys': ['doll', 'ball', 'chessboard']}"
      ]
     },
     "execution_count": 19,
     "metadata": {},
     "output_type": "execute_result"
    }
   ],
   "source": [
    "playtime"
   ]
  },
  {
   "cell_type": "markdown",
   "metadata": {},
   "source": [
    "#### 5. create two string variables, pet_report and toy_report, to report the number of pets and toys, respectively.\n",
    "-  use the len() function\n",
    "-  pet_report should return something like \"You have 5 pets.\"\n",
    "-  toy_report should return something like \"You have 3 toys.\""
   ]
  },
  {
   "cell_type": "code",
   "execution_count": 23,
   "metadata": {},
   "outputs": [],
   "source": [
    "pet_report = \"You have \"+str(len(pets))+\" pets.\"\n",
    "toy_report = \"You have \"+str(len(toys))+\" toys.\""
   ]
  },
  {
   "cell_type": "code",
   "execution_count": 25,
   "metadata": {},
   "outputs": [
    {
     "data": {
      "text/plain": [
       "'You have 5 pets.'"
      ]
     },
     "execution_count": 25,
     "metadata": {},
     "output_type": "execute_result"
    }
   ],
   "source": [
    "pet_report"
   ]
  },
  {
   "cell_type": "code",
   "execution_count": 26,
   "metadata": {},
   "outputs": [
    {
     "data": {
      "text/plain": [
       "'You have 3 toys.'"
      ]
     },
     "execution_count": 26,
     "metadata": {},
     "output_type": "execute_result"
    }
   ],
   "source": [
    "toy_report"
   ]
  },
  {
   "cell_type": "markdown",
   "metadata": {},
   "source": [
    "## Longer exercises"
   ]
  },
  {
   "cell_type": "markdown",
   "metadata": {},
   "source": [
    "#### 6. Write a function, playtime_report, which reports the numbers and types of pets and toys.\n",
    "\n",
    "##### Instructions:\n",
    "-  complete the code below\n",
    "<br>\n",
    "<br>\n",
    "\n",
    "##### playtime_report should output:\n",
    "-  a report title\n",
    "-  number of pets\n",
    "-  number of toys\n",
    "-  pets list\n",
    "-  toys list\n",
    "-  playtime dictionary\n",
    "<br>\n",
    "<br>\n",
    "\n",
    "##### The output should look something like:\n",
    "   \"===== Playtime report =====\"<br>\n",
    "   You have 5 pets.<br>\n",
    "   You have 3 toys.<br>\n",
    "   *list of pets*<br>\n",
    "   *list of toys*<br>\n",
    "   *playtime dictionary*\n",
    "\n",
    "\n"
   ]
  },
  {
   "cell_type": "code",
   "execution_count": 29,
   "metadata": {},
   "outputs": [],
   "source": [
    "def playtime_report(playtime):\n",
    "    \n",
    "    print(\"===== Playtime report =====\")\n",
    "    print(\"You have \"+str(len(playtime[\"pets\"]))+\" pets.\") # report number of pets\n",
    "    print(\"You have \"+str(len(playtime[\"toys\"]))+\" toys.\") # report number of toys\n",
    "    print(pets) # report pets list\n",
    "    print(toys) # report toys list\n",
    "    print(playtime) # report playtime dictionary"
   ]
  },
  {
   "cell_type": "code",
   "execution_count": 30,
   "metadata": {},
   "outputs": [
    {
     "name": "stdout",
     "output_type": "stream",
     "text": [
      "===== Playtime report =====\n",
      "You have 5 pets.\n",
      "You have 3 toys.\n",
      "['dog', 'cat', 'turtle', 'lizard', 'lizard']\n",
      "['doll', 'ball', 'chessboard']\n",
      "{'pets': ['dog', 'cat', 'turtle', 'lizard', 'lizard'], 'toys': ['doll', 'ball', 'chessboard']}\n"
     ]
    }
   ],
   "source": [
    "playtime_report(playtime)"
   ]
  },
  {
   "cell_type": "markdown",
   "metadata": {},
   "source": [
    "#### 7. Print out all the toys in your playtime dictionary\n",
    "-  use a while loop\n",
    "-  use the pop() function to remove each toy as you print it"
   ]
  },
  {
   "cell_type": "code",
   "execution_count": 31,
   "metadata": {},
   "outputs": [
    {
     "name": "stdout",
     "output_type": "stream",
     "text": [
      "chessboard\n",
      "ball\n",
      "doll\n"
     ]
    }
   ],
   "source": [
    "while(playtime[\"toys\"]):\n",
    "    print(playtime[\"toys\"].pop())"
   ]
  },
  {
   "cell_type": "markdown",
   "metadata": {},
   "source": [
    "#### 8. Remove all the lizards in your playtime dictionary\n",
    "-  use a for loop\n",
    "-  use an if condition to see if a pet is a lizard\n",
    "-  if the pet is a lizard, use the remove() function to remove a lizard\n",
    "-  run playtime_report to show the result "
   ]
  },
  {
   "cell_type": "code",
   "execution_count": 33,
   "metadata": {},
   "outputs": [],
   "source": [
    "for pet in playtime[\"pets\"]:\n",
    "    if(pet == \"lizard\"):\n",
    "        playtime[\"pets\"].remove(\"lizard\")"
   ]
  },
  {
   "cell_type": "code",
   "execution_count": 34,
   "metadata": {},
   "outputs": [
    {
     "name": "stdout",
     "output_type": "stream",
     "text": [
      "===== Playtime report =====\n",
      "You have 3 pets.\n",
      "You have 0 toys.\n",
      "['dog', 'cat', 'turtle']\n",
      "[]\n",
      "{'pets': ['dog', 'cat', 'turtle'], 'toys': []}\n"
     ]
    }
   ],
   "source": [
    "playtime_report(playtime)"
   ]
  },
  {
   "cell_type": "markdown",
   "metadata": {},
   "source": [
    "#### 9. Output all pairs of pets.\n",
    "-  Use nested FOR loops.\n",
    "-  Don't report identical or duplicate pairs. "
   ]
  },
  {
   "cell_type": "code",
   "execution_count": 35,
   "metadata": {},
   "outputs": [
    {
     "name": "stdout",
     "output_type": "stream",
     "text": [
      "dog turtle\n",
      "cat dog\n",
      "cat turtle\n"
     ]
    }
   ],
   "source": [
    "for pet1 in pets:\n",
    "    for pet2 in pets:\n",
    "        if pet1<pet2:\n",
    "            print(pet1,pet2)"
   ]
  },
  {
   "cell_type": "markdown",
   "metadata": {},
   "source": [
    "#### 10. Create a new list, pet_love.\n",
    "-  use a list comprehension on pets in playtime\n",
    "-  for each pet in pets, create a string which reads \"I love $<$pet$>$s.\"\n",
    "-  for example, if pets contains $[$\"dog\", \"cat\", \"turtle\"$]$,\n",
    "-  then pet_love should contain $[$\"I love dogs.\", \"I love cats.\", \"I love turtles.\"$]$,"
   ]
  },
  {
   "cell_type": "code",
   "execution_count": 36,
   "metadata": {},
   "outputs": [],
   "source": [
    "pet_love = [\"I love \"+pet+\"s.\" for pet in pets]"
   ]
  },
  {
   "cell_type": "code",
   "execution_count": 37,
   "metadata": {},
   "outputs": [
    {
     "data": {
      "text/plain": [
       "['I love dogs.', 'I love cats.', 'I love turtles.']"
      ]
     },
     "execution_count": 37,
     "metadata": {},
     "output_type": "execute_result"
    }
   ],
   "source": [
    "pet_love"
   ]
  }
 ],
 "metadata": {
  "kernelspec": {
   "display_name": "Python 3",
   "language": "python",
   "name": "python3"
  },
  "language_info": {
   "codemirror_mode": {
    "name": "ipython",
    "version": 3
   },
   "file_extension": ".py",
   "mimetype": "text/x-python",
   "name": "python",
   "nbconvert_exporter": "python",
   "pygments_lexer": "ipython3",
   "version": "3.7.3"
  }
 },
 "nbformat": 4,
 "nbformat_minor": 4
}
