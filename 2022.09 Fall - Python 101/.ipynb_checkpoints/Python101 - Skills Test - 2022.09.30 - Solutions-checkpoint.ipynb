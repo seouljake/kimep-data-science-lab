{
 "cells": [
  {
   "cell_type": "markdown",
   "metadata": {},
   "source": [
    "# Python 101 - Data Types and Control Structures"
   ]
  },
  {
   "cell_type": "markdown",
   "metadata": {},
   "source": [
    "## Skills Test"
   ]
  },
  {
   "cell_type": "markdown",
   "metadata": {},
   "source": [
    "#### Time:  30 minutes"
   ]
  },
  {
   "cell_type": "markdown",
   "metadata": {},
   "source": [
    "#### Contents\n",
    "-  Shorter exercises (5 pts x 5)  = 25\n",
    "-  Longer exercises (20 pts x 5) = 100"
   ]
  },
  {
   "cell_type": "markdown",
   "metadata": {},
   "source": [
    "#### Total points: 125"
   ]
  },
  {
   "cell_type": "markdown",
   "metadata": {},
   "source": [
    "#### Passing Grade: 60% (75 of 125pts)"
   ]
  },
  {
   "cell_type": "markdown",
   "metadata": {},
   "source": [
    "## Shorter exercises"
   ]
  },
  {
   "cell_type": "markdown",
   "metadata": {},
   "source": [
    "#### 1. create two lists, small_pets and big_pets\n",
    "\n",
    "-  small_pets will be a list containing three pets, coded as strings (e.g., \"mouse\", \"hamster\", \"fish\")\n",
    "-  big_pets will be a list containing three more pets, coded as strings (e.g., \"horse\", \"elephant\", \"snake\")"
   ]
  },
  {
   "cell_type": "code",
   "execution_count": 17,
   "metadata": {},
   "outputs": [],
   "source": [
    "small_pets = [\"mouse\", \"hamster\", \"fish\"]\n",
    "big_pets = [\"horse\", \"elephant\", \"snake\"]"
   ]
  },
  {
   "cell_type": "code",
   "execution_count": 19,
   "metadata": {},
   "outputs": [
    {
     "data": {
      "text/plain": [
       "(['mouse', 'hamster', 'fish'], ['horse', 'elephant', 'snake'])"
      ]
     },
     "execution_count": 19,
     "metadata": {},
     "output_type": "execute_result"
    }
   ],
   "source": [
    "small_pets,big_pets"
   ]
  },
  {
   "cell_type": "markdown",
   "metadata": {},
   "source": [
    "#### 2. remove \"snake\" from the list of big pets\n",
    "-  use the remove() function"
   ]
  },
  {
   "cell_type": "code",
   "execution_count": 20,
   "metadata": {},
   "outputs": [],
   "source": [
    "big_pets.remove(\"snake\")"
   ]
  },
  {
   "cell_type": "code",
   "execution_count": 21,
   "metadata": {},
   "outputs": [
    {
     "data": {
      "text/plain": [
       "['horse', 'elephant']"
      ]
     },
     "execution_count": 21,
     "metadata": {},
     "output_type": "execute_result"
    }
   ],
   "source": [
    "big_pets"
   ]
  },
  {
   "cell_type": "markdown",
   "metadata": {},
   "source": [
    "#### 3. create a dictionary: pets\n",
    "-  whose keys are \"big\" and \"small\"\n",
    "-  whose values are the lists, big_pets and small_pets, respectively"
   ]
  },
  {
   "cell_type": "code",
   "execution_count": 22,
   "metadata": {},
   "outputs": [],
   "source": [
    "pets = dict({\"big\":big_pets,\"small\":small_pets})"
   ]
  },
  {
   "cell_type": "code",
   "execution_count": 23,
   "metadata": {},
   "outputs": [
    {
     "data": {
      "text/plain": [
       "{'big': ['horse', 'elephant'], 'small': ['mouse', 'hamster', 'fish']}"
      ]
     },
     "execution_count": 23,
     "metadata": {},
     "output_type": "execute_result"
    }
   ],
   "source": [
    "pets"
   ]
  },
  {
   "cell_type": "raw",
   "metadata": {},
   "source": [
    "#### 4. create a new list, all_pets, by concatenating the two lists, big_pets and small_pets"
   ]
  },
  {
   "cell_type": "code",
   "execution_count": 24,
   "metadata": {},
   "outputs": [],
   "source": [
    "all_pets = big_pets+small_pets"
   ]
  },
  {
   "cell_type": "code",
   "execution_count": 25,
   "metadata": {},
   "outputs": [
    {
     "data": {
      "text/plain": [
       "['horse', 'elephant', 'mouse', 'hamster', 'fish']"
      ]
     },
     "execution_count": 25,
     "metadata": {},
     "output_type": "execute_result"
    }
   ],
   "source": [
    "all_pets"
   ]
  },
  {
   "cell_type": "markdown",
   "metadata": {},
   "source": [
    "#### 5. create a string which reports the number of big pets, small pets, and total pets, across the 3 lists\n",
    "-  use the len() function\n",
    "-  pet_report should return something like \"You have 2 big, 3 small pets, and 5 pets overall.\""
   ]
  },
  {
   "cell_type": "code",
   "execution_count": 29,
   "metadata": {},
   "outputs": [],
   "source": [
    "pet_string = \"You have \"+str(len(big_pets))+\" big pets, \"+str(len(small_pets))+\" small pets, and \"+str(len(all_pets))+\" pets overall.\""
   ]
  },
  {
   "cell_type": "code",
   "execution_count": 30,
   "metadata": {},
   "outputs": [
    {
     "data": {
      "text/plain": [
       "'You have 2 big pets, 3 small pets, and 5 pets overall.'"
      ]
     },
     "execution_count": 30,
     "metadata": {},
     "output_type": "execute_result"
    }
   ],
   "source": [
    "pet_string"
   ]
  },
  {
   "cell_type": "markdown",
   "metadata": {},
   "source": [
    "## Longer exercises"
   ]
  },
  {
   "cell_type": "markdown",
   "metadata": {},
   "source": [
    "#### 6. Write a function, pet_report, which reports the numbers and types of small and big pets.\n",
    "\n",
    "##### Instructions:\n",
    "-  complete the code below\n",
    "<br>\n",
    "<br>\n",
    "\n",
    "##### pet_report should receive as input:\n",
    "-  two lists, small_pets and big_pets\n",
    "-  or dict, pets\n",
    "\n",
    "\n",
    "##### pet_report should output:\n",
    "-  a report title\n",
    "-  list of small pets\n",
    "-  list of big pets\n",
    "-  pet_string, stating the number of small pets, big pets, and pets overall \n",
    "<br>\n",
    "<br>\n",
    "\n",
    "##### The output should look something like:\n",
    "   \"===== Pet report =====\"<br>\n",
    "   *['mouse','hamster','fish']*<br>\n",
    "   *['horse','elephant']*<br>\n",
    "   *You have 2 big pets, 3 small pets, and 5 pets overall.*<br>\n",
    "\n"
   ]
  },
  {
   "cell_type": "code",
   "execution_count": 37,
   "metadata": {},
   "outputs": [],
   "source": [
    "def pet_report(small_pets,big_pets):\n",
    "    \n",
    "    pet_string = \"You have \"+str(len(big_pets))+\" big pets, \"+str(len(small_pets))+\" small pets, and \"+str(len(all_pets))+\" pets overall.\"\n",
    "    \n",
    "    print(\"===== Playtime report =====\")\n",
    "    print(small_pets) # report small pets list\n",
    "    print(big_pets) # report big pets list\n",
    "    print(pet_string) # report playtime dictionary"
   ]
  },
  {
   "cell_type": "code",
   "execution_count": 38,
   "metadata": {},
   "outputs": [
    {
     "name": "stdout",
     "output_type": "stream",
     "text": [
      "===== Playtime report =====\n",
      "['mouse', 'hamster', 'fish']\n",
      "['horse', 'elephant']\n",
      "You have 2 big pets, 3 small pets, and 5 pets overall.\n"
     ]
    }
   ],
   "source": [
    "pet_report(small_pets,big_pets)"
   ]
  },
  {
   "cell_type": "markdown",
   "metadata": {},
   "source": [
    "#### 7. Print out all of the small pets in your list all_pets\n",
    "-  use a for loop\n",
    "-  within your for loop, use an if statement to test whether or not each pet is in small_pets"
   ]
  },
  {
   "cell_type": "code",
   "execution_count": 41,
   "metadata": {},
   "outputs": [
    {
     "name": "stdout",
     "output_type": "stream",
     "text": [
      "horse\n",
      "elephant\n"
     ]
    }
   ],
   "source": [
    "for pet in all_pets:\n",
    "    if pet in big_pets:\n",
    "        print(pet)"
   ]
  },
  {
   "cell_type": "markdown",
   "metadata": {},
   "source": [
    "#### 8. Output all pairs of small pets with no duplicates.\n",
    "-  Use nested FOR loops.\n",
    "-  Don't report identical or duplicate pairs. "
   ]
  },
  {
   "cell_type": "code",
   "execution_count": 43,
   "metadata": {},
   "outputs": [
    {
     "name": "stdout",
     "output_type": "stream",
     "text": [
      "hamster mouse\n",
      "fish mouse\n",
      "fish hamster\n"
     ]
    }
   ],
   "source": [
    "for pet1 in small_pets:\n",
    "    for pet2 in small_pets:\n",
    "        if pet1<pet2:\n",
    "            print(pet1,pet2)"
   ]
  },
  {
   "cell_type": "markdown",
   "metadata": {},
   "source": [
    "####  9. Consider \"text\", a list of strings which are sentences about fruit. Create a variable, fruit_sentence_count. Use this variable to count the number of sentences containing the word \"fruit\". Then please print \"fruit_sentence_count\".\n",
    "-  use an if statement in a for loop"
   ]
  },
  {
   "cell_type": "code",
   "execution_count": 1,
   "metadata": {},
   "outputs": [],
   "source": [
    "text = [\"Fruits are the means by which flowering plants (also known as angiosperms) disseminate their seeds.\",\"Edible fruits in particular have long propagated using the movements of humans and animals in a symbiotic relationship that is the means for seed dispersal for the one group and nutrition for the other; in fact, humans and many animals have become dependent on fruits as a source of food.\",\"Consequently, fruits account for a substantial fraction of the world's agricultural output, and some (such as the apple and the pomegranate) have acquired extensive cultural and symbolic meanings.\",\"In common language usage, fruit normally means the seed-associated fleshy structures (or produce) of plants that typically are sweet or sour and edible in the raw state, such as apples, bananas, grapes, lemons, oranges, and strawberries.\",\"In botanical usage, the term fruit also includes many structures that are not commonly called fruits in everyday language, such as nuts, bean pods, corn kernels, tomatoes, and wheat grains.\"]"
   ]
  },
  {
   "cell_type": "code",
   "execution_count": 2,
   "metadata": {},
   "outputs": [
    {
     "name": "stdout",
     "output_type": "stream",
     "text": [
      "4\n"
     ]
    }
   ],
   "source": [
    "fruit_sentence_count=0\n",
    "\n",
    "for t in text:\n",
    "    if \"fruit\" in t:\n",
    "        fruit_sentence_count+=1\n",
    "        \n",
    "print(fruit_sentence_count)"
   ]
  },
  {
   "cell_type": "markdown",
   "metadata": {},
   "source": [
    "####  10. Again using \"text\", create a variable, fruit_word_count. Use this variable to count the total number of times the word \"fruit\" appears in all sentences. Then please print \"fruit_word_count\".\n",
    "-  use an if statement in a for loop"
   ]
  },
  {
   "cell_type": "code",
   "execution_count": 3,
   "metadata": {},
   "outputs": [
    {
     "name": "stdout",
     "output_type": "stream",
     "text": [
      "6\n"
     ]
    }
   ],
   "source": [
    "fruit_word_count=0\n",
    "\n",
    "for t in text:\n",
    "    fruit_word_count+=t.count(\"fruit\")\n",
    "        \n",
    "print(fruit_word_count)"
   ]
  },
  {
   "cell_type": "code",
   "execution_count": null,
   "metadata": {},
   "outputs": [],
   "source": []
  }
 ],
 "metadata": {
  "kernelspec": {
   "display_name": "Python 3 (ipykernel)",
   "language": "python",
   "name": "python3"
  },
  "language_info": {
   "codemirror_mode": {
    "name": "ipython",
    "version": 3
   },
   "file_extension": ".py",
   "mimetype": "text/x-python",
   "name": "python",
   "nbconvert_exporter": "python",
   "pygments_lexer": "ipython3",
   "version": "3.11.0"
  }
 },
 "nbformat": 4,
 "nbformat_minor": 4
}
