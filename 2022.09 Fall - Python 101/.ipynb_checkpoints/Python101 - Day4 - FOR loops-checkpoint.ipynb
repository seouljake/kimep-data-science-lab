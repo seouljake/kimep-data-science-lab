{
 "cells": [
  {
   "cell_type": "markdown",
   "metadata": {},
   "source": [
    "# Python 101 - Data Types and Control Structures"
   ]
  },
  {
   "cell_type": "markdown",
   "metadata": {},
   "source": [
    "# Day 4 - Basic Control Structures - FOR loops"
   ]
  },
  {
   "cell_type": "markdown",
   "metadata": {},
   "source": [
    "### Video Recording of this Tutorial on YouTube"
   ]
  },
  {
   "cell_type": "code",
   "execution_count": null,
   "metadata": {},
   "outputs": [],
   "source": [
    "# I will upload this after the tutorial."
   ]
  },
  {
   "cell_type": "markdown",
   "metadata": {},
   "source": [
    "### Python 101 Tutorial Outline"
   ]
  },
  {
   "cell_type": "code",
   "execution_count": null,
   "metadata": {},
   "outputs": [],
   "source": [
    "# Python 101 introduces basic python data types, control structures, and how to begin combining these to write code."
   ]
  },
  {
   "cell_type": "code",
   "execution_count": null,
   "metadata": {},
   "outputs": [],
   "source": [
    "#### Monday - Primitive Data Types\n",
    "\n",
    "# 1. numeric types - int, float\n",
    "# 2. boolean type - bool\n",
    "# 3. text type - str"
   ]
  },
  {
   "cell_type": "code",
   "execution_count": null,
   "metadata": {},
   "outputs": [],
   "source": [
    "#### Tuesday - Non-Primitive Data Types\n",
    "\n",
    "# 1. sequence types - list\n",
    "# 2. matching types - dict\n",
    "# 3. complex data structures"
   ]
  },
  {
   "cell_type": "code",
   "execution_count": null,
   "metadata": {},
   "outputs": [],
   "source": [
    "#### Wednesday - Basic Control Structures\n",
    "\n",
    "# 1. selection statements - if\n",
    "# 2. repetition statements - while, for"
   ]
  },
  {
   "cell_type": "code",
   "execution_count": null,
   "metadata": {},
   "outputs": [],
   "source": [
    "#### Thursday - More Control Structures\n",
    "\n",
    "# 1. for loops\n",
    "# 2. combining selection & repetition statements\n",
    "# 3. nested repetition statements - for, for, for...\n",
    "# 4. list comprehensions"
   ]
  },
  {
   "cell_type": "code",
   "execution_count": null,
   "metadata": {},
   "outputs": [],
   "source": [
    "#### Friday - Running Python on your system\n",
    "\n",
    "# 1. three ways to run python - shell, .py, jupyter\n",
    "# 2. input and output - io\n",
    "# 2. operating system and directories - os"
   ]
  },
  {
   "cell_type": "markdown",
   "metadata": {},
   "source": [
    "# 0.1 Basic Control Structures"
   ]
  },
  {
   "cell_type": "code",
   "execution_count": null,
   "metadata": {},
   "outputs": [],
   "source": [
    "# 1. selection statements - if\n",
    "# 2. repetition statements - for, while"
   ]
  },
  {
   "cell_type": "markdown",
   "metadata": {},
   "source": [
    "# 0.2 Define Functions"
   ]
  },
  {
   "cell_type": "code",
   "execution_count": null,
   "metadata": {},
   "outputs": [],
   "source": [
    "def produce_report(produce):\n",
    "     \n",
    "    print(\"Refreshing produce basket...\")\n",
    "    print(\"\\n\")\n",
    "    \n",
    "    # contents of produce basket\n",
    "    print(\"fruits:\\t\\t\",produce[\"fruits\"])\n",
    "    print(\"vegetables:\\t\",produce[\"vegetables\"])\n",
    "    print(\"\\n\")\n",
    "    print(\"produce:\")\n",
    "    print(produce)\n",
    "    print(\"\\n\")\n",
    "    \n",
    "    # number of fruits and veggies\n",
    "    print(\"# of fruits:\\t\",len(produce[\"fruits\"]))\n",
    "    print(\"# of veggies:\\t\",len(produce[\"vegetables\"]))"
   ]
  },
  {
   "cell_type": "code",
   "execution_count": null,
   "metadata": {},
   "outputs": [],
   "source": [
    "def refresh_produce():\n",
    "    \n",
    "    fruits = ['orange','pear', 'banana', 'kiwi', 'apple', 'banana']\n",
    "    vegetables = [\"cabbage\",\"carrots\",\"asparagus\"]\n",
    "    produce = {\"fruits\":fruits,\"vegetables\":vegetables}\n",
    "    produce_report(produce)\n",
    "    return produce"
   ]
  },
  {
   "cell_type": "code",
   "execution_count": null,
   "metadata": {},
   "outputs": [],
   "source": [
    "produce = refresh_produce()"
   ]
  },
  {
   "cell_type": "markdown",
   "metadata": {},
   "source": [
    "# 1. for loops"
   ]
  },
  {
   "cell_type": "markdown",
   "metadata": {},
   "source": [
    "#### relevant links"
   ]
  },
  {
   "cell_type": "code",
   "execution_count": null,
   "metadata": {},
   "outputs": [],
   "source": [
    "# https://www.w3schools.com/python/python_for_loops.asp"
   ]
  },
  {
   "cell_type": "markdown",
   "metadata": {},
   "source": [
    "#### for loops on lists and dictionaries"
   ]
  },
  {
   "cell_type": "code",
   "execution_count": null,
   "metadata": {},
   "outputs": [],
   "source": [
    "# refresh our produce\n",
    "produce = refresh_produce()"
   ]
  },
  {
   "cell_type": "code",
   "execution_count": null,
   "metadata": {},
   "outputs": [],
   "source": [
    "for item in produce:\n",
    "    print(item)"
   ]
  },
  {
   "cell_type": "code",
   "execution_count": null,
   "metadata": {},
   "outputs": [],
   "source": [
    "for item in produce[\"fruits\"]:\n",
    "    print(item)"
   ]
  },
  {
   "cell_type": "code",
   "execution_count": null,
   "metadata": {},
   "outputs": [],
   "source": [
    "fruit_list = \"Our fruit basket contains\"\n",
    "\n",
    "for item in produce[\"fruits\"]:\n",
    "    fruit_list+=\" \"+item+\",\"\n",
    "    \n",
    "print(fruit_list)"
   ]
  },
  {
   "cell_type": "code",
   "execution_count": null,
   "metadata": {},
   "outputs": [],
   "source": [
    "fruit_list[0:-1]"
   ]
  },
  {
   "cell_type": "code",
   "execution_count": null,
   "metadata": {},
   "outputs": [],
   "source": [
    "fruit_list[0:-1]+\".\""
   ]
  },
  {
   "cell_type": "code",
   "execution_count": null,
   "metadata": {
    "scrolled": true
   },
   "outputs": [],
   "source": [
    "# refresh our produce\n",
    "produce = refresh_produce()"
   ]
  },
  {
   "cell_type": "code",
   "execution_count": null,
   "metadata": {},
   "outputs": [],
   "source": [
    "# we can also use while, len() and pop() to solve this problem\n",
    "\n",
    "fruit_list = \"Our fruit basket contains\"\n",
    "\n",
    "while(len(produce[\"fruits\"])>1):\n",
    "    \n",
    "    fruit_list+=\" \"+produce[\"fruits\"].pop()+\",\"\n",
    "    \n",
    "fruit_list+=\" \"+produce[\"fruits\"].pop()+\".\"\n",
    "    \n",
    "print(fruit_list)"
   ]
  },
  {
   "cell_type": "markdown",
   "metadata": {},
   "source": [
    "#### for loops on strings"
   ]
  },
  {
   "cell_type": "code",
   "execution_count": null,
   "metadata": {},
   "outputs": [],
   "source": [
    "for x in \"apple\":\n",
    "    print(x)"
   ]
  },
  {
   "cell_type": "code",
   "execution_count": null,
   "metadata": {},
   "outputs": [],
   "source": [
    "t = \"I love \"\n",
    "\n",
    "for x in \"apple\":\n",
    "    t+=x\n",
    "    print(t)"
   ]
  },
  {
   "cell_type": "code",
   "execution_count": null,
   "metadata": {},
   "outputs": [],
   "source": [
    "print(t,\"s.\")"
   ]
  },
  {
   "cell_type": "code",
   "execution_count": null,
   "metadata": {},
   "outputs": [],
   "source": [
    "# print()\n",
    "# https://www.w3schools.com/python/ref_func_print.asp#:~:text=The%20print()%20function%20prints,before%20written%20to%20the%20screen."
   ]
  },
  {
   "cell_type": "code",
   "execution_count": null,
   "metadata": {},
   "outputs": [],
   "source": [
    "print(t,\"s.\",sep=\"\")"
   ]
  },
  {
   "cell_type": "markdown",
   "metadata": {},
   "source": [
    "#### range() - for loops with indexes"
   ]
  },
  {
   "cell_type": "code",
   "execution_count": null,
   "metadata": {},
   "outputs": [],
   "source": [
    "for i in range(0,5):\n",
    "    print(i)"
   ]
  },
  {
   "cell_type": "code",
   "execution_count": null,
   "metadata": {},
   "outputs": [],
   "source": [
    "fruits = produce[\"fruits\"]"
   ]
  },
  {
   "cell_type": "code",
   "execution_count": null,
   "metadata": {},
   "outputs": [],
   "source": [
    "len(fruits)"
   ]
  },
  {
   "cell_type": "code",
   "execution_count": null,
   "metadata": {},
   "outputs": [],
   "source": [
    "# this is the c++, java way - to loop through lists with manually indexing\n",
    "for x in range(0,len(fruits)):\n",
    "    print(fruits[x])"
   ]
  },
  {
   "cell_type": "code",
   "execution_count": null,
   "metadata": {},
   "outputs": [],
   "source": [
    "# this is the python way - to loop through lists without indexing\n",
    "for item in fruits:\n",
    "    print(item)"
   ]
  },
  {
   "cell_type": "code",
   "execution_count": null,
   "metadata": {},
   "outputs": [],
   "source": []
  },
  {
   "cell_type": "code",
   "execution_count": null,
   "metadata": {},
   "outputs": [],
   "source": [
    "#### exercises"
   ]
  },
  {
   "cell_type": "code",
   "execution_count": null,
   "metadata": {},
   "outputs": [],
   "source": [
    "# 1."
   ]
  },
  {
   "cell_type": "code",
   "execution_count": null,
   "metadata": {},
   "outputs": [],
   "source": [
    "# 2."
   ]
  },
  {
   "cell_type": "code",
   "execution_count": null,
   "metadata": {},
   "outputs": [],
   "source": [
    "# 3."
   ]
  },
  {
   "cell_type": "markdown",
   "metadata": {},
   "source": [
    "# 2. combining selection & repetition statements - if, for, while"
   ]
  },
  {
   "cell_type": "markdown",
   "metadata": {},
   "source": [
    "#### if in for loops"
   ]
  },
  {
   "cell_type": "code",
   "execution_count": null,
   "metadata": {},
   "outputs": [],
   "source": [
    "produce = refresh_produce()"
   ]
  },
  {
   "cell_type": "code",
   "execution_count": null,
   "metadata": {},
   "outputs": [],
   "source": [
    "for items in produce[\"fruits\"]:\n",
    "    print(items)"
   ]
  },
  {
   "cell_type": "code",
   "execution_count": null,
   "metadata": {},
   "outputs": [],
   "source": [
    "# print items with four or fewer letters\n",
    "\n",
    "for items in produce[\"fruits\"]:\n",
    "    \n",
    "    if(len(items)<5):\n",
    "        \n",
    "        print(items)"
   ]
  },
  {
   "cell_type": "code",
   "execution_count": null,
   "metadata": {},
   "outputs": [],
   "source": [
    "# would you like a fruit smoothie?\n",
    "\n",
    "for items in produce[\"fruits\"]:\n",
    "    print(\"Would you like a\",items,\"smoothie?\")"
   ]
  },
  {
   "cell_type": "code",
   "execution_count": null,
   "metadata": {},
   "outputs": [],
   "source": [
    "# How can we vary the article (a, an) depending on whether the first letter begins with a vowel?\n",
    "# Adapting the code above...\n",
    "\n",
    "for items in produce[\"fruits\"]:\n",
    "    print(\"Would you like a\",items,\"smoothie?\")"
   ]
  },
  {
   "cell_type": "code",
   "execution_count": null,
   "metadata": {},
   "outputs": [],
   "source": [
    "# exercise. smoothie options\n",
    "\n",
    "# ice cream is available with banana and kiwi\n",
    "# for these two fruits, let's output\n",
    "    # \"Would you like a banana smoothie with ice cream?\"\n",
    "    # \"Would you like a kiwi smoothie with ice cream?\"\n",
    "# but for the other fruits, just output \n",
    "    # \"Would you like an orange smoothie?\"\n",
    "    # etc.\n",
    "# Adapting the code above...\n",
    "\n",
    "vowels = [\"a\",\"e\",\"i\",\"o\",\"u\"]\n",
    "\n",
    "for items in produce[\"fruits\"]:\n",
    "    \n",
    "    article = \"a\"\n",
    "    \n",
    "    if(items[0] in vowels):\n",
    "        article = \"an\"\n",
    "        \n",
    "    print(\"Would you like\",article,items,\"smoothie?\")"
   ]
  },
  {
   "cell_type": "code",
   "execution_count": null,
   "metadata": {},
   "outputs": [],
   "source": [
    "# how many of each fruit do we have?\n",
    "\n",
    "produce = refresh_produce()"
   ]
  },
  {
   "cell_type": "code",
   "execution_count": null,
   "metadata": {},
   "outputs": [],
   "source": [
    "# exercise. fruit count\n",
    "\n",
    "# create an empty dictionary, fruit_count\n",
    "# whose key is a fruit and whose value is the number of that fruit\n",
    "# loop through produce[\"fruits\"], using for and if to update the fruit count\n",
    "\n",
    "fruit_count = {}\n",
    "\n",
    "for item in produce[\"fruits\"]:\n",
    "    \n",
    "    if(item not in fruit_count):\n",
    "        fruit_count[item]=1\n",
    "    else:\n",
    "        fruit_count[item]+=1\n",
    "        \n",
    "print(fruit_count)"
   ]
  },
  {
   "cell_type": "markdown",
   "metadata": {},
   "source": [
    "#### if in while loop"
   ]
  },
  {
   "cell_type": "code",
   "execution_count": null,
   "metadata": {},
   "outputs": [],
   "source": [
    "# similar exercise as above, but this time\n",
    "# empty items your fruit basket, and count them as you go\n",
    "\n",
    "produce = refresh_produce()"
   ]
  },
  {
   "cell_type": "code",
   "execution_count": null,
   "metadata": {},
   "outputs": [],
   "source": [
    "# pop() fruit from your list as you count it\n",
    "# use a while loop instead of a for loop\n",
    "\n",
    "fruit_count = {}\n",
    "\n",
    "while(len(produce[\"fruits\"])!=0):\n",
    "\n",
    "    item = produce[\"fruits\"].pop()\n",
    "    \n",
    "    if(item not in fruit_count):\n",
    "        fruit_count[item]=1\n",
    "    else:\n",
    "        fruit_count[item]+=1\n",
    "        \n",
    "print(fruit_count)"
   ]
  },
  {
   "cell_type": "code",
   "execution_count": null,
   "metadata": {},
   "outputs": [],
   "source": [
    "# the boolean value of an empty list if False\n",
    "am_i_empty=[]\n",
    "bool(am_i_empty)"
   ]
  },
  {
   "cell_type": "code",
   "execution_count": null,
   "metadata": {},
   "outputs": [],
   "source": [
    "# the boolean value of a non-empty list if True\n",
    "am_i_empty=[1]\n",
    "bool(am_i_empty)"
   ]
  },
  {
   "cell_type": "code",
   "execution_count": null,
   "metadata": {},
   "outputs": [],
   "source": [
    "# refresh our produce basket if necessary\n",
    "# produce = refresh_produce()"
   ]
  },
  {
   "cell_type": "code",
   "execution_count": null,
   "metadata": {},
   "outputs": [],
   "source": [
    "# remove len(), and it still works\n",
    "\n",
    "fruit_count = {}\n",
    "\n",
    "while(produce[\"fruits\"]):\n",
    "\n",
    "    item = produce[\"fruits\"].pop()\n",
    "    \n",
    "    if(item not in fruit_count):\n",
    "        fruit_count[item]=1\n",
    "    else:\n",
    "        fruit_count[item]+=1\n",
    "        \n",
    "print(fruit_count)"
   ]
  },
  {
   "cell_type": "code",
   "execution_count": null,
   "metadata": {},
   "outputs": [],
   "source": [
    "# double check out fruit basket afterwards\n",
    "produce_report(produce)"
   ]
  },
  {
   "cell_type": "markdown",
   "metadata": {},
   "source": [
    "#### break statement"
   ]
  },
  {
   "cell_type": "code",
   "execution_count": null,
   "metadata": {},
   "outputs": [],
   "source": [
    "# refresh our produce basket\n",
    "produce = refresh_produce()"
   ]
  },
  {
   "cell_type": "code",
   "execution_count": null,
   "metadata": {},
   "outputs": [],
   "source": [
    "for item in produce[\"fruits\"]:\n",
    "    \n",
    "    print(item)\n",
    "    \n",
    "    if item == \"kiwi\":\n",
    "        break"
   ]
  },
  {
   "cell_type": "code",
   "execution_count": null,
   "metadata": {},
   "outputs": [],
   "source": [
    "for item in produce[\"fruits\"]:\n",
    "    \n",
    "    if item == \"kiwi\":\n",
    "        break\n",
    "    \n",
    "    print(item)"
   ]
  },
  {
   "cell_type": "code",
   "execution_count": null,
   "metadata": {},
   "outputs": [],
   "source": [
    "#### exercise\n",
    "\n",
    "# pop() the first four fruits from our produce basket into fruit_count\n",
    "# report how many fruits are in fruit_count\n",
    "# and show which fruits are left in our market basket\n",
    "\n",
    "# use if and break\n",
    "\n"
   ]
  },
  {
   "cell_type": "code",
   "execution_count": null,
   "metadata": {},
   "outputs": [],
   "source": [
    "#### exercise\n",
    "\n",
    "# do the same exercise above using pop() and while, instead of if and break\n"
   ]
  },
  {
   "cell_type": "markdown",
   "metadata": {},
   "source": [
    "# 3. nested repetition statements - for, for, for..."
   ]
  },
  {
   "cell_type": "code",
   "execution_count": 1,
   "metadata": {},
   "outputs": [
    {
     "ename": "NameError",
     "evalue": "name 'refresh_produce' is not defined",
     "output_type": "error",
     "traceback": [
      "\u001b[1;31m---------------------------------------------------------------------------\u001b[0m",
      "\u001b[1;31mNameError\u001b[0m                                 Traceback (most recent call last)",
      "\u001b[1;32m<ipython-input-1-4cbd5e708992>\u001b[0m in \u001b[0;36m<module>\u001b[1;34m\u001b[0m\n\u001b[0;32m      1\u001b[0m \u001b[1;31m# refresh our produce\u001b[0m\u001b[1;33m\u001b[0m\u001b[1;33m\u001b[0m\u001b[1;33m\u001b[0m\u001b[0m\n\u001b[1;32m----> 2\u001b[1;33m \u001b[0mproduce\u001b[0m \u001b[1;33m=\u001b[0m \u001b[0mrefresh_produce\u001b[0m\u001b[1;33m(\u001b[0m\u001b[1;33m)\u001b[0m\u001b[1;33m\u001b[0m\u001b[1;33m\u001b[0m\u001b[0m\n\u001b[0m",
      "\u001b[1;31mNameError\u001b[0m: name 'refresh_produce' is not defined"
     ]
    }
   ],
   "source": [
    "# refresh our produce\n",
    "produce = refresh_produce()"
   ]
  },
  {
   "cell_type": "code",
   "execution_count": 2,
   "metadata": {},
   "outputs": [
    {
     "ename": "NameError",
     "evalue": "name 'produce' is not defined",
     "output_type": "error",
     "traceback": [
      "\u001b[1;31m---------------------------------------------------------------------------\u001b[0m",
      "\u001b[1;31mNameError\u001b[0m                                 Traceback (most recent call last)",
      "\u001b[1;32m<ipython-input-2-683b13c72270>\u001b[0m in \u001b[0;36m<module>\u001b[1;34m\u001b[0m\n\u001b[1;32m----> 1\u001b[1;33m \u001b[1;32mfor\u001b[0m \u001b[0mfruit\u001b[0m \u001b[1;32min\u001b[0m \u001b[0mproduce\u001b[0m\u001b[1;33m[\u001b[0m\u001b[1;34m\"fruits\"\u001b[0m\u001b[1;33m]\u001b[0m\u001b[1;33m:\u001b[0m\u001b[1;33m\u001b[0m\u001b[1;33m\u001b[0m\u001b[0m\n\u001b[0m\u001b[0;32m      2\u001b[0m     \u001b[1;32mfor\u001b[0m \u001b[0mveggie\u001b[0m \u001b[1;32min\u001b[0m \u001b[0mproduce\u001b[0m\u001b[1;33m[\u001b[0m\u001b[1;34m\"vegetables\"\u001b[0m\u001b[1;33m]\u001b[0m\u001b[1;33m:\u001b[0m\u001b[1;33m\u001b[0m\u001b[1;33m\u001b[0m\u001b[0m\n\u001b[0;32m      3\u001b[0m         \u001b[0mprint\u001b[0m\u001b[1;33m(\u001b[0m\u001b[0mfruit\u001b[0m\u001b[1;33m,\u001b[0m\u001b[0mveggie\u001b[0m\u001b[1;33m)\u001b[0m\u001b[1;33m\u001b[0m\u001b[1;33m\u001b[0m\u001b[0m\n",
      "\u001b[1;31mNameError\u001b[0m: name 'produce' is not defined"
     ]
    }
   ],
   "source": [
    "for fruit in produce[\"fruits\"]:\n",
    "    for veggie in produce[\"vegetables\"]:\n",
    "        print(fruit,veggie)"
   ]
  },
  {
   "cell_type": "code",
   "execution_count": null,
   "metadata": {},
   "outputs": [],
   "source": [
    "for fruit in produce[\"fruits\"]:\n",
    "    for veggie in produce[\"vegetables\"]:\n",
    "        print(\"Would a\",fruit,\"and\",veggie,\"smoothie be delicious?\")"
   ]
  },
  {
   "cell_type": "code",
   "execution_count": null,
   "metadata": {},
   "outputs": [],
   "source": [
    "for fruit1 in produce[\"fruits\"]:\n",
    "    for fruit2 in produce[\"fruits\"]:\n",
    "        print(\"Would a\",fruit1,\"and\",fruit2,\"smoothie be delicious?\")"
   ]
  },
  {
   "cell_type": "code",
   "execution_count": null,
   "metadata": {
    "scrolled": true
   },
   "outputs": [],
   "source": [
    "# exercise. avoiding identical pairings\n",
    "\n",
    "# how would we rewrite this to avoid identical pairings?\n",
    "\n",
    "# Adapt this code...\n",
    "\n",
    "for fruit1 in produce[\"fruits\"]:\n",
    "    for fruit2 in produce[\"fruits\"]:\n",
    "            print(\"Would a\",fruit1,\"and\",fruit2,\"smoothie be delicious?\")"
   ]
  },
  {
   "cell_type": "code",
   "execution_count": null,
   "metadata": {},
   "outputs": [],
   "source": [
    "# exercise. avoiding duplicate combinations\n",
    "\n",
    "# how would we rewrite this not to duplicate combinations?\n",
    "\n",
    "# Adapt this code...\n",
    "\n",
    "for fruit1 in produce[\"fruits\"]:\n",
    "    for fruit2 in produce[\"fruits\"]:\n",
    "        if fruit1 != fruit2:\n",
    "            print(\"Would a\",fruit1,\"and\",fruit2,\"smoothie be delicious?\")"
   ]
  },
  {
   "cell_type": "markdown",
   "metadata": {},
   "source": [
    "# 4. comprehensions"
   ]
  },
  {
   "cell_type": "markdown",
   "metadata": {},
   "source": [
    "#### What are comprehensions and why would we use them?"
   ]
  },
  {
   "cell_type": "code",
   "execution_count": null,
   "metadata": {},
   "outputs": [],
   "source": [
    "#### Definition\n",
    "\n",
    "# A comprehension is\n",
    "\n",
    "\n",
    "#### Utility\n",
    "\n",
    "# Comprehensions are a convenient and very \"python\" way* of dealing with repetition\n",
    "# Particularly with simple tasks.\n",
    "# * The \"python\" way means using lists and let python handle the indexing."
   ]
  },
  {
   "cell_type": "markdown",
   "metadata": {},
   "source": [
    "#### relevant links - what is a comprehension?"
   ]
  },
  {
   "cell_type": "code",
   "execution_count": null,
   "metadata": {},
   "outputs": [],
   "source": [
    "#### list comprehensions\n",
    "\n",
    "#### dictionary comphrensions\n",
    "\n",
    "# https://www.datacamp.com/tutorial/python-dictionary-comprehension"
   ]
  },
  {
   "cell_type": "markdown",
   "metadata": {},
   "source": [
    "#### list_variable = $[$statement for e in list_variable$]$"
   ]
  },
  {
   "cell_type": "code",
   "execution_count": 3,
   "metadata": {},
   "outputs": [],
   "source": [
    "fruit = [\"apple\",\"banana\",\"orange\"]"
   ]
  },
  {
   "cell_type": "code",
   "execution_count": 4,
   "metadata": {},
   "outputs": [],
   "source": [
    "fruits = [ f+\"s\" for f in fruit]"
   ]
  },
  {
   "cell_type": "code",
   "execution_count": 5,
   "metadata": {},
   "outputs": [
    {
     "data": {
      "text/plain": [
       "['apples', 'bananas', 'oranges']"
      ]
     },
     "execution_count": 5,
     "metadata": {},
     "output_type": "execute_result"
    }
   ],
   "source": [
    "fruits"
   ]
  },
  {
   "cell_type": "code",
   "execution_count": 8,
   "metadata": {},
   "outputs": [],
   "source": [
    "abc = [ f[0]+\" is for \"+f  for f in fruit]"
   ]
  },
  {
   "cell_type": "code",
   "execution_count": 9,
   "metadata": {},
   "outputs": [
    {
     "data": {
      "text/plain": [
       "['a is for apple', 'b is for banana', 'o is for orange']"
      ]
     },
     "execution_count": 9,
     "metadata": {},
     "output_type": "execute_result"
    }
   ],
   "source": [
    "abc"
   ]
  },
  {
   "cell_type": "markdown",
   "metadata": {},
   "source": [
    "#### list_variable = $[$statement for e in list_variable if condition$]$"
   ]
  },
  {
   "cell_type": "code",
   "execution_count": null,
   "metadata": {},
   "outputs": [],
   "source": [
    "# fruits I dislike\n",
    "fruits_dislike = [\"\"]"
   ]
  },
  {
   "cell_type": "code",
   "execution_count": null,
   "metadata": {},
   "outputs": [],
   "source": [
    "# create the list "
   ]
  },
  {
   "cell_type": "code",
   "execution_count": null,
   "metadata": {},
   "outputs": [],
   "source": [
    "# exercise"
   ]
  },
  {
   "cell_type": "markdown",
   "metadata": {},
   "source": [
    "#### dict_variable = {key:value for (key,value) in dictonary.items()}"
   ]
  },
  {
   "cell_type": "code",
   "execution_count": null,
   "metadata": {},
   "outputs": [],
   "source": []
  },
  {
   "cell_type": "code",
   "execution_count": null,
   "metadata": {},
   "outputs": [],
   "source": []
  },
  {
   "cell_type": "code",
   "execution_count": null,
   "metadata": {},
   "outputs": [],
   "source": []
  },
  {
   "cell_type": "markdown",
   "metadata": {},
   "source": [
    "#### dict_variable = {key:value for (key,value) in dictonary.items() if condition}"
   ]
  },
  {
   "cell_type": "code",
   "execution_count": null,
   "metadata": {},
   "outputs": [],
   "source": []
  },
  {
   "cell_type": "code",
   "execution_count": null,
   "metadata": {},
   "outputs": [],
   "source": []
  },
  {
   "cell_type": "code",
   "execution_count": null,
   "metadata": {},
   "outputs": [],
   "source": []
  },
  {
   "cell_type": "markdown",
   "metadata": {},
   "source": [
    "# After-class Workout"
   ]
  },
  {
   "cell_type": "code",
   "execution_count": null,
   "metadata": {},
   "outputs": [],
   "source": [
    "#### Exericse 1. Your fruit basket contains 2 bananas, 1 apple, 1 kiwi, 1 pear, and 1 orange.\n",
    "\n",
    "# Write code that could produce the above sentence, depending on what is in the fruit basket\n",
    "\n",
    "# Note:\n",
    "    # 1. add an \"s\" to items with a plural count.\n",
    "    # 2. add \"and\" before the final item of the count."
   ]
  },
  {
   "cell_type": "code",
   "execution_count": null,
   "metadata": {},
   "outputs": [],
   "source": [
    "#### Exericse 2. fruit market receipt\n",
    "\n",
    "fruit_prices = {\"orange\":.55,\"apple\":.40,\"kiwi\":.75,\"pear\":.80}\n",
    "sales_tax = .1\n",
    "\n",
    "# use the above fruit prices to print out a receipt showing\n",
    "    # 1. which fruit were purchased\n",
    "    # 2. how many of each fruit were purchased\n",
    "    # 3. what is the unit price of each fruit\n",
    "    # 4. what is the subtotal for each fruit\n",
    "    # 5. add a line beneath this showing that the sales tax is 10% and show the sales tax subtotal\n",
    "    # 6. add a line beneath this showing the total bill\n",
    "    # 7. if you like, you can add some formatting elements to the receipt, e.g., \"$\", \"---------\", \"========\",\n",
    "    # 8. be creative and have fun with it!"
   ]
  }
 ],
 "metadata": {
  "kernelspec": {
   "display_name": "Python 3",
   "language": "python",
   "name": "python3"
  },
  "language_info": {
   "codemirror_mode": {
    "name": "ipython",
    "version": 3
   },
   "file_extension": ".py",
   "mimetype": "text/x-python",
   "name": "python",
   "nbconvert_exporter": "python",
   "pygments_lexer": "ipython3",
   "version": "3.7.3"
  }
 },
 "nbformat": 4,
 "nbformat_minor": 4
}
