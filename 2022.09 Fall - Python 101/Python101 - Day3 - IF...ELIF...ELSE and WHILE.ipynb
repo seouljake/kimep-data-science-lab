{
 "cells": [
  {
   "cell_type": "markdown",
   "metadata": {},
   "source": [
    "# Python 101 - Data Types and Control Structures"
   ]
  },
  {
   "cell_type": "markdown",
   "metadata": {},
   "source": [
    "# Day 3 - Basic Control Structures - IF statements and WHILE loops"
   ]
  },
  {
   "cell_type": "markdown",
   "metadata": {},
   "source": [
    "### Video Recording of this Tutorial on YouTube"
   ]
  },
  {
   "cell_type": "code",
   "execution_count": 1,
   "metadata": {},
   "outputs": [],
   "source": [
    "# https://youtu.be/zfIKP0_U9mU"
   ]
  },
  {
   "cell_type": "markdown",
   "metadata": {},
   "source": [
    "### Python 101 Tutorial Outline"
   ]
  },
  {
   "cell_type": "code",
   "execution_count": null,
   "metadata": {},
   "outputs": [],
   "source": [
    "# Python 101 introduces basic python data types, control structures, and how to begin combining these to write code."
   ]
  },
  {
   "cell_type": "code",
   "execution_count": null,
   "metadata": {},
   "outputs": [],
   "source": [
    "#### Monday - Primitive Data Types\n",
    "\n",
    "# 1. numeric types - int, float\n",
    "# 2. boolean type - bool\n",
    "# 3. text type - str"
   ]
  },
  {
   "cell_type": "code",
   "execution_count": null,
   "metadata": {},
   "outputs": [],
   "source": [
    "#### Tuesday - Non-Primitive Data Types\n",
    "\n",
    "# 1. sequence types - list\n",
    "# 2. matching types - dict\n",
    "# 3. complex data structures"
   ]
  },
  {
   "cell_type": "code",
   "execution_count": null,
   "metadata": {},
   "outputs": [],
   "source": [
    "#### Wednesday - Basic Control Structures\n",
    "\n",
    "# 1. selection statements - if\n",
    "# 2. repetition statements - while, for"
   ]
  },
  {
   "cell_type": "code",
   "execution_count": 3,
   "metadata": {},
   "outputs": [],
   "source": [
    "#### Thursday - More Control Structures\n",
    "\n",
    "# 1. for loops\n",
    "# 2. nested repetition statements - for, for, for...\n",
    "# 3. combining selection & repetition statements\n",
    "# 4. list comprehensions"
   ]
  },
  {
   "cell_type": "code",
   "execution_count": null,
   "metadata": {},
   "outputs": [],
   "source": [
    "#### Friday - Running Python on your system\n",
    "\n",
    "# 1. three ways to run python - shell, .py, jupyter\n",
    "# 2. input and output - io\n",
    "# 2. operating system and directories - os"
   ]
  },
  {
   "cell_type": "code",
   "execution_count": null,
   "metadata": {},
   "outputs": [],
   "source": []
  },
  {
   "cell_type": "markdown",
   "metadata": {},
   "source": [
    "# 0. Basic Control Structures"
   ]
  },
  {
   "cell_type": "code",
   "execution_count": null,
   "metadata": {},
   "outputs": [],
   "source": [
    "# 1. selection statements - if\n",
    "# 2. repetition statements - for, while"
   ]
  },
  {
   "cell_type": "markdown",
   "metadata": {},
   "source": [
    "# 1. if statements"
   ]
  },
  {
   "cell_type": "markdown",
   "metadata": {},
   "source": [
    "#### relevant links"
   ]
  },
  {
   "cell_type": "code",
   "execution_count": null,
   "metadata": {},
   "outputs": [],
   "source": [
    "# https://www.w3schools.com/python/python_conditions.asp"
   ]
  },
  {
   "cell_type": "markdown",
   "metadata": {},
   "source": [
    "#### if with logical conditions"
   ]
  },
  {
   "cell_type": "code",
   "execution_count": null,
   "metadata": {},
   "outputs": [],
   "source": [
    "# Equals: a == b\n",
    "# Not Equals: a != b\n",
    "# Less than: a < b\n",
    "# Less than or equal to: a <= b\n",
    "# Greater than: a > b\n",
    "# Greater than or equal to: a >= b"
   ]
  },
  {
   "cell_type": "markdown",
   "metadata": {},
   "source": [
    "#### cabbage = carrots?"
   ]
  },
  {
   "cell_type": "code",
   "execution_count": 1,
   "metadata": {},
   "outputs": [],
   "source": [
    "fruits = ['orange','pear', 'banana', 'kiwi', 'apple', 'banana']"
   ]
  },
  {
   "cell_type": "code",
   "execution_count": 2,
   "metadata": {},
   "outputs": [],
   "source": [
    "vegetables = [\"cabbage\",\"carrots\",\"asparagus\"]"
   ]
  },
  {
   "cell_type": "code",
   "execution_count": 3,
   "metadata": {},
   "outputs": [],
   "source": [
    "produce = {\"fruits\":fruits,\"vegetables\":vegetables}"
   ]
  },
  {
   "cell_type": "code",
   "execution_count": 4,
   "metadata": {},
   "outputs": [
    {
     "data": {
      "text/plain": [
       "{'fruits': ['orange', 'pear', 'banana', 'kiwi', 'apple', 'banana'],\n",
       " 'vegetables': ['cabbage', 'carrots', 'asparagus']}"
      ]
     },
     "execution_count": 4,
     "metadata": {},
     "output_type": "execute_result"
    }
   ],
   "source": [
    "produce"
   ]
  },
  {
   "cell_type": "code",
   "execution_count": 5,
   "metadata": {},
   "outputs": [
    {
     "data": {
      "text/plain": [
       "['orange', 'pear', 'banana', 'kiwi', 'apple', 'banana']"
      ]
     },
     "execution_count": 5,
     "metadata": {},
     "output_type": "execute_result"
    }
   ],
   "source": [
    "# 1\n",
    "produce[\"fruits\"]"
   ]
  },
  {
   "cell_type": "code",
   "execution_count": 6,
   "metadata": {},
   "outputs": [
    {
     "data": {
      "text/plain": [
       "'cabbage'"
      ]
     },
     "execution_count": 6,
     "metadata": {},
     "output_type": "execute_result"
    }
   ],
   "source": [
    "# 2\n",
    "produce[\"vegetables\"][0]"
   ]
  },
  {
   "cell_type": "code",
   "execution_count": 7,
   "metadata": {},
   "outputs": [
    {
     "data": {
      "text/plain": [
       "['orange',\n",
       " 'pear',\n",
       " 'banana',\n",
       " 'kiwi',\n",
       " 'apple',\n",
       " 'banana',\n",
       " 'cabbage',\n",
       " 'carrots',\n",
       " 'asparagus']"
      ]
     },
     "execution_count": 7,
     "metadata": {},
     "output_type": "execute_result"
    }
   ],
   "source": [
    "# 3\n",
    "produce[\"fruits\"] + produce[\"vegetables\"]"
   ]
  },
  {
   "cell_type": "code",
   "execution_count": 9,
   "metadata": {},
   "outputs": [],
   "source": [
    "# 4\n",
    "produce_list = [produce[\"fruits\"], produce[\"vegetables\"]]"
   ]
  },
  {
   "cell_type": "code",
   "execution_count": 10,
   "metadata": {},
   "outputs": [
    {
     "data": {
      "text/plain": [
       "['orange', 'pear', 'banana', 'kiwi', 'apple', 'banana']"
      ]
     },
     "execution_count": 10,
     "metadata": {},
     "output_type": "execute_result"
    }
   ],
   "source": [
    "produce[\"fruits\"]"
   ]
  },
  {
   "cell_type": "code",
   "execution_count": 11,
   "metadata": {},
   "outputs": [
    {
     "data": {
      "text/plain": [
       "['cabbage', 'carrots', 'asparagus']"
      ]
     },
     "execution_count": 11,
     "metadata": {},
     "output_type": "execute_result"
    }
   ],
   "source": [
    "produce[\"vegetables\"]"
   ]
  },
  {
   "cell_type": "code",
   "execution_count": 14,
   "metadata": {},
   "outputs": [
    {
     "data": {
      "text/plain": [
       "'cabbage'"
      ]
     },
     "execution_count": 14,
     "metadata": {},
     "output_type": "execute_result"
    }
   ],
   "source": [
    "produce_list[1][0]"
   ]
  },
  {
   "cell_type": "code",
   "execution_count": 12,
   "metadata": {},
   "outputs": [
    {
     "data": {
      "text/plain": [
       "'kiwi'"
      ]
     },
     "execution_count": 12,
     "metadata": {},
     "output_type": "execute_result"
    }
   ],
   "source": [
    "produce_list[0][3]"
   ]
  },
  {
   "cell_type": "code",
   "execution_count": 15,
   "metadata": {},
   "outputs": [
    {
     "data": {
      "text/plain": [
       "'kiwi'"
      ]
     },
     "execution_count": 15,
     "metadata": {},
     "output_type": "execute_result"
    }
   ],
   "source": [
    "produce[\"fruits\"][3]"
   ]
  },
  {
   "cell_type": "code",
   "execution_count": 16,
   "metadata": {},
   "outputs": [],
   "source": [
    "cabbage_count = vegetables.count(\"cabbage\")\n",
    "carrot_count = vegetables.count(\"carrots\")"
   ]
  },
  {
   "cell_type": "code",
   "execution_count": 17,
   "metadata": {},
   "outputs": [
    {
     "data": {
      "text/plain": [
       "1"
      ]
     },
     "execution_count": 17,
     "metadata": {},
     "output_type": "execute_result"
    }
   ],
   "source": [
    "cabbage_count"
   ]
  },
  {
   "cell_type": "code",
   "execution_count": 18,
   "metadata": {},
   "outputs": [
    {
     "name": "stdout",
     "output_type": "stream",
     "text": [
      "cabbages:\t 1\n",
      "carrots:\t 1\n",
      "fruits:\t\t ['orange', 'pear', 'banana', 'kiwi', 'apple', 'banana']\n",
      "vegetables:\t ['cabbage', 'carrots', 'asparagus']\n",
      "produce:\t {'fruits': ['orange', 'pear', 'banana', 'kiwi', 'apple', 'banana'], 'vegetables': ['cabbage', 'carrots', 'asparagus']}\n"
     ]
    }
   ],
   "source": [
    "# use print() and \\t (tab) to output number of carrots and cabbages\n",
    "# other examples: \\n, \\t, \\r\n",
    "print(\"cabbages:\\t\",cabbage_count)\n",
    "print(\"carrots:\\t\",carrot_count)\n",
    "print(\"fruits:\\t\\t\",fruits)\n",
    "print(\"vegetables:\\t\",vegetables)\n",
    "print(\"produce:\\t\",produce)"
   ]
  },
  {
   "cell_type": "code",
   "execution_count": 19,
   "metadata": {},
   "outputs": [
    {
     "data": {
      "text/plain": [
       "True"
      ]
     },
     "execution_count": 19,
     "metadata": {},
     "output_type": "execute_result"
    }
   ],
   "source": [
    "# Equals: a == b\n",
    "\n",
    "cabbage_count == carrot_count    "
   ]
  },
  {
   "cell_type": "code",
   "execution_count": 20,
   "metadata": {},
   "outputs": [],
   "source": [
    "# if the number of cabbages = number of carrots, then add cabbage\n",
    "\n",
    "if(cabbage_count == carrot_count):\n",
    "    \n",
    "    vegetables.append(\"cabbage\")"
   ]
  },
  {
   "cell_type": "code",
   "execution_count": 21,
   "metadata": {},
   "outputs": [
    {
     "data": {
      "text/plain": [
       "['cabbage', 'carrots', 'asparagus', 'cabbage']"
      ]
     },
     "execution_count": 21,
     "metadata": {},
     "output_type": "execute_result"
    }
   ],
   "source": [
    "vegetables"
   ]
  },
  {
   "cell_type": "markdown",
   "metadata": {},
   "source": [
    "#### functions - a quick introduction"
   ]
  },
  {
   "cell_type": "code",
   "execution_count": 24,
   "metadata": {},
   "outputs": [],
   "source": [
    "# let's define a function to report produce\n",
    "\n",
    "def produce_report(produce):\n",
    "     \n",
    "    print(\"cabbage:\\t\",produce[\"vegetables\"].count(\"cabbage\"))\n",
    "    print(\"carrots:\\t\",produce[\"vegetables\"].count(\"carrots\"))\n",
    "    print(\"fruits:\\t\\t\",produce[\"fruits\"])\n",
    "    print(\"vegetables:\\t\",produce[\"vegetables\"])\n",
    "    print(\"produce:\\t\",produce)"
   ]
  },
  {
   "cell_type": "code",
   "execution_count": 25,
   "metadata": {},
   "outputs": [
    {
     "name": "stdout",
     "output_type": "stream",
     "text": [
      "cabbage:\t 2\n",
      "carrots:\t 1\n",
      "fruits:\t\t ['orange', 'pear', 'banana', 'kiwi', 'apple', 'banana']\n",
      "vegetables:\t ['cabbage', 'carrots', 'asparagus', 'cabbage']\n",
      "produce:\t {'fruits': ['orange', 'pear', 'banana', 'kiwi', 'apple', 'banana'], 'vegetables': ['cabbage', 'carrots', 'asparagus', 'cabbage']}\n"
     ]
    }
   ],
   "source": [
    "produce_report(produce)"
   ]
  },
  {
   "cell_type": "code",
   "execution_count": 26,
   "metadata": {},
   "outputs": [],
   "source": [
    "# let's remove a cabbage\n",
    "vegetables.remove(\"cabbage\")"
   ]
  },
  {
   "cell_type": "code",
   "execution_count": 27,
   "metadata": {},
   "outputs": [
    {
     "name": "stdout",
     "output_type": "stream",
     "text": [
      "cabbage_count: 1\n",
      "carrot_count: 1\n"
     ]
    }
   ],
   "source": [
    "# and update our counts\n",
    "cabbage_count = vegetables.count(\"cabbage\")\n",
    "carrot_count = vegetables.count(\"carrots\")\n",
    "\n",
    "print(\"cabbage_count:\",cabbage_count)\n",
    "print(\"carrot_count:\",carrot_count)"
   ]
  },
  {
   "cell_type": "code",
   "execution_count": 28,
   "metadata": {},
   "outputs": [],
   "source": [
    "# we either need to update our counts\n",
    "\n",
    "if(cabbage_count == carrot_count):\n",
    "    \n",
    "    # add cabbage\n",
    "    vegetables.append(\"cabbage\")\n",
    "    \n",
    "    # update cabbage count\n",
    "    cabbage_count = vegetables.count(\"cabbage\")"
   ]
  },
  {
   "cell_type": "code",
   "execution_count": 29,
   "metadata": {},
   "outputs": [
    {
     "name": "stdout",
     "output_type": "stream",
     "text": [
      "cabbage:\t 2\n",
      "carrots:\t 1\n",
      "fruits:\t\t ['orange', 'pear', 'banana', 'kiwi', 'apple', 'banana']\n",
      "vegetables:\t ['carrots', 'asparagus', 'cabbage', 'cabbage']\n",
      "produce:\t {'fruits': ['orange', 'pear', 'banana', 'kiwi', 'apple', 'banana'], 'vegetables': ['carrots', 'asparagus', 'cabbage', 'cabbage']}\n"
     ]
    }
   ],
   "source": [
    "# and verify...\n",
    "produce_report(produce)"
   ]
  },
  {
   "cell_type": "code",
   "execution_count": null,
   "metadata": {},
   "outputs": [],
   "source": [
    "cabbage_count"
   ]
  },
  {
   "cell_type": "code",
   "execution_count": 30,
   "metadata": {},
   "outputs": [
    {
     "name": "stdout",
     "output_type": "stream",
     "text": [
      "cabbage:\t 2\n",
      "carrots:\t 1\n",
      "fruits:\t\t ['orange', 'pear', 'banana', 'kiwi', 'apple', 'banana']\n",
      "vegetables:\t ['carrots', 'asparagus', 'cabbage', 'cabbage']\n",
      "produce:\t {'fruits': ['orange', 'pear', 'banana', 'kiwi', 'apple', 'banana'], 'vegetables': ['carrots', 'asparagus', 'cabbage', 'cabbage']}\n"
     ]
    }
   ],
   "source": [
    "# or eliminate count variables altogether\n",
    "\n",
    "if(vegetables.count(\"cabbage\") == vegetables.count(\"carrots\")):\n",
    "    \n",
    "    # add cabbage\n",
    "    vegetables.append(\"cabbage\")\n",
    "    \n",
    "# and verify...\n",
    "produce_report(produce)"
   ]
  },
  {
   "cell_type": "markdown",
   "metadata": {},
   "source": [
    "#### vegetables <= fruits ?"
   ]
  },
  {
   "cell_type": "code",
   "execution_count": 31,
   "metadata": {},
   "outputs": [
    {
     "name": "stdout",
     "output_type": "stream",
     "text": [
      "cabbage:\t 1\n",
      "carrots:\t 1\n",
      "fruits:\t\t ['orange', 'pear', 'banana', 'kiwi', 'apple', 'banana']\n",
      "vegetables:\t ['cabbage', 'carrots', 'asparagus']\n",
      "produce:\t {'fruits': ['orange', 'pear', 'banana', 'kiwi', 'apple', 'banana'], 'vegetables': ['cabbage', 'carrots', 'asparagus']}\n"
     ]
    }
   ],
   "source": [
    "# let's refresh our produce basket\n",
    "fruits = ['orange','pear', 'banana', 'kiwi', 'apple', 'banana']\n",
    "vegetables = [\"cabbage\",\"carrots\",\"asparagus\"]\n",
    "produce = {\"fruits\":fruits,\"vegetables\":vegetables}\n",
    "produce_report(produce)"
   ]
  },
  {
   "cell_type": "code",
   "execution_count": 32,
   "metadata": {},
   "outputs": [
    {
     "data": {
      "text/plain": [
       "True"
      ]
     },
     "execution_count": 32,
     "metadata": {},
     "output_type": "execute_result"
    }
   ],
   "source": [
    "# Less than: a <= b\n",
    "\n",
    "len(vegetables) <= len(fruits)"
   ]
  },
  {
   "cell_type": "code",
   "execution_count": 33,
   "metadata": {},
   "outputs": [
    {
     "data": {
      "text/plain": [
       "True"
      ]
     },
     "execution_count": 33,
     "metadata": {},
     "output_type": "execute_result"
    }
   ],
   "source": [
    "# let's do the same thing, using produce\n",
    "\n",
    "len(produce[\"vegetables\"]) <= len(produce[\"fruits\"])"
   ]
  },
  {
   "cell_type": "code",
   "execution_count": 34,
   "metadata": {},
   "outputs": [
    {
     "name": "stdout",
     "output_type": "stream",
     "text": [
      "cabbage:\t 1\n",
      "carrots:\t 1\n",
      "fruits:\t\t ['orange', 'pear', 'banana', 'kiwi', 'apple', 'banana']\n",
      "vegetables:\t ['cabbage', 'carrots', 'asparagus']\n",
      "produce:\t {'fruits': ['orange', 'pear', 'banana', 'kiwi', 'apple', 'banana'], 'vegetables': ['cabbage', 'carrots', 'asparagus']}\n"
     ]
    }
   ],
   "source": [
    "# and verify...\n",
    "produce_report(produce)"
   ]
  },
  {
   "cell_type": "code",
   "execution_count": 35,
   "metadata": {},
   "outputs": [],
   "source": [
    "# exercise - let's update our produce report function to report # of fruit and # of veggies\n",
    "\n",
    "def produce_report(produce):\n",
    "     \n",
    "    # number of fruits and veggies\n",
    "    print(\"# of fruits:\\t\",len(produce[\"fruits\"]))\n",
    "    print(\"# of veggies:\\t\",len(produce[\"vegetables\"]))\n",
    "\n",
    "    # produce basket\n",
    "    print(\"fruits:\\t\\t\",produce[\"fruits\"])\n",
    "    print(\"vegetables:\\t\",produce[\"vegetables\"])\n",
    "    print(\"produce:\\t\",produce)"
   ]
  },
  {
   "cell_type": "code",
   "execution_count": 36,
   "metadata": {},
   "outputs": [
    {
     "name": "stdout",
     "output_type": "stream",
     "text": [
      "# of fruits:\t 6\n",
      "# of veggies:\t 3\n",
      "fruits:\t\t ['orange', 'pear', 'banana', 'kiwi', 'apple', 'banana']\n",
      "vegetables:\t ['cabbage', 'carrots', 'asparagus']\n",
      "produce:\t {'fruits': ['orange', 'pear', 'banana', 'kiwi', 'apple', 'banana'], 'vegetables': ['cabbage', 'carrots', 'asparagus']}\n"
     ]
    }
   ],
   "source": [
    "produce_report(produce)"
   ]
  },
  {
   "cell_type": "code",
   "execution_count": 37,
   "metadata": {},
   "outputs": [],
   "source": [
    "# we can pre-define extra veggies\n",
    "extra_veggies = [\"kale\",\"sweet potatoes\",\"cauliflower\",\"green beans\"]"
   ]
  },
  {
   "cell_type": "code",
   "execution_count": 38,
   "metadata": {},
   "outputs": [
    {
     "data": {
      "text/plain": [
       "True"
      ]
     },
     "execution_count": 38,
     "metadata": {},
     "output_type": "execute_result"
    }
   ],
   "source": [
    "len(produce[\"vegetables\"]) <= len(produce[\"fruits\"])"
   ]
  },
  {
   "cell_type": "code",
   "execution_count": 39,
   "metadata": {},
   "outputs": [],
   "source": [
    "# if # veggies <= # fruits, then let's add some extra veggies\n",
    "\n",
    "if(len(produce[\"vegetables\"]) <= len(produce[\"fruits\"])):\n",
    "    \n",
    "    # add some vegetables\n",
    "    vegetables += extra_veggies    # same as: vegetables = vegetables + extra_veggies"
   ]
  },
  {
   "cell_type": "code",
   "execution_count": 40,
   "metadata": {},
   "outputs": [
    {
     "name": "stdout",
     "output_type": "stream",
     "text": [
      "# of fruits:\t 6\n",
      "# of veggies:\t 7\n",
      "fruits:\t\t ['orange', 'pear', 'banana', 'kiwi', 'apple', 'banana']\n",
      "vegetables:\t ['cabbage', 'carrots', 'asparagus', 'kale', 'sweet potatoes', 'cauliflower', 'green beans']\n",
      "produce:\t {'fruits': ['orange', 'pear', 'banana', 'kiwi', 'apple', 'banana'], 'vegetables': ['cabbage', 'carrots', 'asparagus', 'kale', 'sweet potatoes', 'cauliflower', 'green beans']}\n"
     ]
    }
   ],
   "source": [
    "# and verify...\n",
    "produce_report(produce)"
   ]
  },
  {
   "cell_type": "markdown",
   "metadata": {},
   "source": [
    "#### else statement"
   ]
  },
  {
   "cell_type": "code",
   "execution_count": 45,
   "metadata": {},
   "outputs": [
    {
     "name": "stdout",
     "output_type": "stream",
     "text": [
      "# of fruits:\t 6\n",
      "# of veggies:\t 3\n",
      "fruits:\t\t ['orange', 'pear', 'banana', 'kiwi', 'apple', 'banana']\n",
      "vegetables:\t ['cabbage', 'carrots', 'asparagus']\n",
      "produce:\t {'fruits': ['orange', 'pear', 'banana', 'kiwi', 'apple', 'banana'], 'vegetables': ['cabbage', 'carrots', 'asparagus']}\n"
     ]
    }
   ],
   "source": [
    "# let's refresh our produce basket\n",
    "fruits = ['orange','pear', 'banana', 'kiwi', 'apple', 'banana']\n",
    "vegetables = [\"cabbage\",\"carrots\",\"asparagus\"]\n",
    "produce = {\"fruits\":fruits,\"vegetables\":vegetables}\n",
    "produce_report(produce)"
   ]
  },
  {
   "cell_type": "code",
   "execution_count": 46,
   "metadata": {},
   "outputs": [
    {
     "data": {
      "text/plain": [
       "True"
      ]
     },
     "execution_count": 46,
     "metadata": {},
     "output_type": "execute_result"
    }
   ],
   "source": [
    "len(produce[\"vegetables\"]) <= len(produce[\"fruits\"])"
   ]
  },
  {
   "cell_type": "code",
   "execution_count": 48,
   "metadata": {},
   "outputs": [
    {
     "name": "stdout",
     "output_type": "stream",
     "text": [
      "No veggies were added!\n",
      "\n",
      "# of fruits:\t 6\n",
      "# of veggies:\t 7\n",
      "fruits:\t\t ['orange', 'pear', 'banana', 'kiwi', 'apple', 'banana']\n",
      "vegetables:\t ['cabbage', 'carrots', 'asparagus', 'kale', 'sweet potatoes', 'cauliflower', 'green beans']\n",
      "produce:\t {'fruits': ['orange', 'pear', 'banana', 'kiwi', 'apple', 'banana'], 'vegetables': ['cabbage', 'carrots', 'asparagus', 'kale', 'sweet potatoes', 'cauliflower', 'green beans']}\n"
     ]
    }
   ],
   "source": [
    "# if veggies <= fruits, then let's add extra veggies\n",
    "\n",
    "# let's use if...else... to report what we've done\n",
    "if(len(produce[\"vegetables\"]) <= len(produce[\"fruits\"])):\n",
    "        \n",
    "    # add extra vegetables\n",
    "    vegetables += extra_veggies\n",
    "        \n",
    "    # confirm adding extra veggies\n",
    "    print(\"We added some extra veggies:\",extra_veggies,\"\\n\")\n",
    " \n",
    "else:\n",
    "    \n",
    "    # report no changes\n",
    "    print(\"No veggies were added!\\n\")\n",
    "\n",
    "produce_report(produce)"
   ]
  },
  {
   "cell_type": "code",
   "execution_count": null,
   "metadata": {},
   "outputs": [],
   "source": [
    "# and verify...\n",
    "produce_report(produce)"
   ]
  },
  {
   "cell_type": "markdown",
   "metadata": {},
   "source": [
    "#### if() with in operator"
   ]
  },
  {
   "cell_type": "code",
   "execution_count": 49,
   "metadata": {},
   "outputs": [
    {
     "name": "stdout",
     "output_type": "stream",
     "text": [
      "# of fruits:\t 6\n",
      "# of veggies:\t 7\n",
      "fruits:\t\t ['orange', 'pear', 'banana', 'kiwi', 'apple', 'banana']\n",
      "vegetables:\t ['cabbage', 'carrots', 'asparagus', 'kale', 'sweet potatoes', 'cauliflower', 'green beans']\n",
      "produce:\t {'fruits': ['orange', 'pear', 'banana', 'kiwi', 'apple', 'banana'], 'vegetables': ['cabbage', 'carrots', 'asparagus', 'kale', 'sweet potatoes', 'cauliflower', 'green beans']}\n"
     ]
    }
   ],
   "source": [
    "produce_report(produce)"
   ]
  },
  {
   "cell_type": "code",
   "execution_count": 50,
   "metadata": {},
   "outputs": [
    {
     "data": {
      "text/plain": [
       "True"
      ]
     },
     "execution_count": 50,
     "metadata": {},
     "output_type": "execute_result"
    }
   ],
   "source": [
    "\"asparagus\" in produce[\"vegetables\"]"
   ]
  },
  {
   "cell_type": "code",
   "execution_count": 51,
   "metadata": {},
   "outputs": [
    {
     "data": {
      "text/plain": [
       "False"
      ]
     },
     "execution_count": 51,
     "metadata": {},
     "output_type": "execute_result"
    }
   ],
   "source": [
    "\"watermelon\" in produce[\"fruits\"]"
   ]
  },
  {
   "cell_type": "code",
   "execution_count": 52,
   "metadata": {},
   "outputs": [
    {
     "data": {
      "text/plain": [
       "True"
      ]
     },
     "execution_count": 52,
     "metadata": {},
     "output_type": "execute_result"
    }
   ],
   "source": [
    "\"watermelon\" not in produce[\"fruits\"]"
   ]
  },
  {
   "cell_type": "code",
   "execution_count": 53,
   "metadata": {},
   "outputs": [
    {
     "data": {
      "text/plain": [
       "True"
      ]
     },
     "execution_count": 53,
     "metadata": {},
     "output_type": "execute_result"
    }
   ],
   "source": [
    "not \"watermelon\" in produce[\"fruits\"]"
   ]
  },
  {
   "cell_type": "code",
   "execution_count": 54,
   "metadata": {},
   "outputs": [
    {
     "ename": "ValueError",
     "evalue": "list.remove(x): x not in list",
     "output_type": "error",
     "traceback": [
      "\u001b[1;31m---------------------------------------------------------------------------\u001b[0m",
      "\u001b[1;31mValueError\u001b[0m                                Traceback (most recent call last)",
      "\u001b[1;32m<ipython-input-54-12e57ac07658>\u001b[0m in \u001b[0;36m<module>\u001b[1;34m\u001b[0m\n\u001b[1;32m----> 1\u001b[1;33m \u001b[0mfruits\u001b[0m\u001b[1;33m.\u001b[0m\u001b[0mremove\u001b[0m\u001b[1;33m(\u001b[0m\u001b[1;34m\"watermelon\"\u001b[0m\u001b[1;33m)\u001b[0m\u001b[1;33m\u001b[0m\u001b[1;33m\u001b[0m\u001b[0m\n\u001b[0m",
      "\u001b[1;31mValueError\u001b[0m: list.remove(x): x not in list"
     ]
    }
   ],
   "source": [
    "fruits.remove(\"watermelon\")"
   ]
  },
  {
   "cell_type": "markdown",
   "metadata": {},
   "source": [
    "#### exercise - remove aspargus, if it's in our veggie basket"
   ]
  },
  {
   "cell_type": "code",
   "execution_count": 55,
   "metadata": {},
   "outputs": [],
   "source": [
    "# let's remove the asparagus if it's in the veggie basket\n",
    "\n",
    "if \"asparagus\" in vegetables:\n",
    "    \n",
    "    vegetables.remove(\"asparagus\")"
   ]
  },
  {
   "cell_type": "code",
   "execution_count": 56,
   "metadata": {},
   "outputs": [
    {
     "name": "stdout",
     "output_type": "stream",
     "text": [
      "# of fruits:\t 6\n",
      "# of veggies:\t 6\n",
      "fruits:\t\t ['orange', 'pear', 'banana', 'kiwi', 'apple', 'banana']\n",
      "vegetables:\t ['cabbage', 'carrots', 'kale', 'sweet potatoes', 'cauliflower', 'green beans']\n",
      "produce:\t {'fruits': ['orange', 'pear', 'banana', 'kiwi', 'apple', 'banana'], 'vegetables': ['cabbage', 'carrots', 'kale', 'sweet potatoes', 'cauliflower', 'green beans']}\n"
     ]
    }
   ],
   "source": [
    "produce_report(produce)"
   ]
  },
  {
   "cell_type": "code",
   "execution_count": 57,
   "metadata": {},
   "outputs": [
    {
     "name": "stdout",
     "output_type": "stream",
     "text": [
      "no asparagus to remove\n"
     ]
    }
   ],
   "source": [
    "# another example, using the produce dictionary\n",
    "\n",
    "if \"asparagus\" in produce[\"vegetables\"]:\n",
    "    \n",
    "    produce[\"vegetables\"].remove(\"asparagus\")\n",
    "    print(\"removed asparagus\")\n",
    "    \n",
    "else:\n",
    "    \n",
    "    print(\"no asparagus to remove\")"
   ]
  },
  {
   "cell_type": "code",
   "execution_count": 58,
   "metadata": {},
   "outputs": [
    {
     "ename": "ValueError",
     "evalue": "list.remove(x): x not in list",
     "output_type": "error",
     "traceback": [
      "\u001b[1;31m---------------------------------------------------------------------------\u001b[0m",
      "\u001b[1;31mValueError\u001b[0m                                Traceback (most recent call last)",
      "\u001b[1;32m<ipython-input-58-67fd6c8b7078>\u001b[0m in \u001b[0;36m<module>\u001b[1;34m\u001b[0m\n\u001b[0;32m      1\u001b[0m \u001b[1;31m# and why do we need if() to do this?\u001b[0m\u001b[1;33m\u001b[0m\u001b[1;33m\u001b[0m\u001b[1;33m\u001b[0m\u001b[0m\n\u001b[0;32m      2\u001b[0m \u001b[1;33m\u001b[0m\u001b[0m\n\u001b[1;32m----> 3\u001b[1;33m \u001b[0mproduce\u001b[0m\u001b[1;33m[\u001b[0m\u001b[1;34m\"vegetables\"\u001b[0m\u001b[1;33m]\u001b[0m\u001b[1;33m.\u001b[0m\u001b[0mremove\u001b[0m\u001b[1;33m(\u001b[0m\u001b[1;34m\"asparagus\"\u001b[0m\u001b[1;33m)\u001b[0m\u001b[1;33m\u001b[0m\u001b[1;33m\u001b[0m\u001b[0m\n\u001b[0m",
      "\u001b[1;31mValueError\u001b[0m: list.remove(x): x not in list"
     ]
    }
   ],
   "source": [
    "# and why do we need if() to do this?\n",
    "\n",
    "produce[\"vegetables\"].remove(\"asparagus\")"
   ]
  },
  {
   "cell_type": "markdown",
   "metadata": {},
   "source": [
    "#### exercise - add watermelon, if it's not in our fruit basket"
   ]
  },
  {
   "cell_type": "code",
   "execution_count": 59,
   "metadata": {},
   "outputs": [
    {
     "name": "stdout",
     "output_type": "stream",
     "text": [
      "added watermelon\n",
      "\n",
      "# of fruits:\t 7\n",
      "# of veggies:\t 6\n",
      "fruits:\t\t ['orange', 'pear', 'banana', 'kiwi', 'apple', 'banana', 'watermelon']\n",
      "vegetables:\t ['cabbage', 'carrots', 'kale', 'sweet potatoes', 'cauliflower', 'green beans']\n",
      "produce:\t {'fruits': ['orange', 'pear', 'banana', 'kiwi', 'apple', 'banana', 'watermelon'], 'vegetables': ['cabbage', 'carrots', 'kale', 'sweet potatoes', 'cauliflower', 'green beans']}\n"
     ]
    }
   ],
   "source": [
    "# let's add watermelon if it's not in the fruit basket. use if()...else to report our actions.\n",
    "\n",
    "if not \"watermelon\" in produce[\"fruits\"]: \n",
    "    \n",
    "    produce[\"fruits\"].append(\"watermelon\")\n",
    "    print(\"added watermelon\\n\")\n",
    "    \n",
    "else:\n",
    "    \n",
    "    print(\"we already have\",produce[\"fruits\"].count(\"watermelon\"),\"watermelon\\n\")\n",
    "    \n",
    "produce_report(produce)"
   ]
  },
  {
   "cell_type": "markdown",
   "metadata": {},
   "source": [
    "#### elif statement - else if"
   ]
  },
  {
   "cell_type": "code",
   "execution_count": 60,
   "metadata": {},
   "outputs": [],
   "source": [
    "a = 5\n",
    "b = 6"
   ]
  },
  {
   "cell_type": "code",
   "execution_count": 61,
   "metadata": {},
   "outputs": [
    {
     "name": "stdout",
     "output_type": "stream",
     "text": [
      "a: 5\n",
      "b: 6\n"
     ]
    }
   ],
   "source": [
    "print(\"a:\",a)\n",
    "print(\"b:\",b)"
   ]
  },
  {
   "cell_type": "code",
   "execution_count": 65,
   "metadata": {},
   "outputs": [],
   "source": [
    "if(a > b):\n",
    "    print(\"a is greater than b\")\n",
    "elif(b > a):\n",
    "    print(\"b is greater than a\")"
   ]
  },
  {
   "cell_type": "code",
   "execution_count": 66,
   "metadata": {},
   "outputs": [],
   "source": [
    "a = 6\n",
    "b = 6"
   ]
  },
  {
   "cell_type": "code",
   "execution_count": 67,
   "metadata": {},
   "outputs": [
    {
     "name": "stdout",
     "output_type": "stream",
     "text": [
      "a: 6\n",
      "b: 6\n",
      "a is equal to b\n"
     ]
    }
   ],
   "source": [
    "# we can add an else statement\n",
    "\n",
    "print(\"a:\",a)\n",
    "print(\"b:\",b)\n",
    "\n",
    "if(a > b):\n",
    "    \n",
    "    print(\"a is greater than b\")\n",
    "    \n",
    "elif(a < b):\n",
    "    \n",
    "    print(\"a is less than b\")\n",
    "    \n",
    "else:\n",
    "    \n",
    "    print(\"a is equal to b\")"
   ]
  },
  {
   "cell_type": "code",
   "execution_count": 68,
   "metadata": {},
   "outputs": [
    {
     "name": "stdout",
     "output_type": "stream",
     "text": [
      "# of fruits:\t 6\n",
      "# of veggies:\t 3\n",
      "fruits:\t\t ['orange', 'pear', 'banana', 'kiwi', 'apple', 'banana']\n",
      "vegetables:\t ['cabbage', 'carrots', 'asparagus']\n",
      "produce:\t {'fruits': ['orange', 'pear', 'banana', 'kiwi', 'apple', 'banana'], 'vegetables': ['cabbage', 'carrots', 'asparagus']}\n"
     ]
    }
   ],
   "source": [
    "# let's refresh our produce basket\n",
    "fruits = ['orange','pear', 'banana', 'kiwi', 'apple', 'banana']\n",
    "vegetables = [\"cabbage\",\"carrots\",\"asparagus\"]\n",
    "produce = {\"fruits\":fruits,\"vegetables\":vegetables}\n",
    "produce_report(produce)"
   ]
  },
  {
   "cell_type": "code",
   "execution_count": 69,
   "metadata": {},
   "outputs": [
    {
     "name": "stdout",
     "output_type": "stream",
     "text": [
      "more vegetables were added!\n",
      "\n"
     ]
    }
   ],
   "source": [
    "# and use if()...elif()...elif() to code this\n",
    "\n",
    "# veggies < fruits? - then add more veggies\n",
    "# veggies == fruits? - then add one of each\n",
    "# veggies > fruits? - then add a fruit\n",
    "\n",
    "\n",
    "if len(produce[\"vegetables\"]) < len(produce[\"fruits\"]):\n",
    "    \n",
    "    produce[\"vegetables\"].append(\"carrots\")\n",
    "    produce[\"vegetables\"].append(\"cucumbers\")\n",
    "    \n",
    "    print(\"more vegetables were added!\\n\")\n",
    "    \n",
    "elif len(produce[\"vegetables\"]) == len(produce[\"fruits\"]):\n",
    "    \n",
    "    produce[\"vegetables\"].append(\"eggplant\")\n",
    "    produce[\"fruits\"].append(\"dragonfruit\")\n",
    "    \n",
    "    print(\"more of each were added!\\n\")\n",
    "\n",
    "else:\n",
    "    \n",
    "    produce[\"fruits\"].append(\"dragonfruit\")\n",
    "    \n",
    "    print(\"more fruit was added!\\n\")"
   ]
  },
  {
   "cell_type": "code",
   "execution_count": 70,
   "metadata": {},
   "outputs": [
    {
     "name": "stdout",
     "output_type": "stream",
     "text": [
      "# of fruits:\t 6\n",
      "# of veggies:\t 5\n",
      "fruits:\t\t ['orange', 'pear', 'banana', 'kiwi', 'apple', 'banana']\n",
      "vegetables:\t ['cabbage', 'carrots', 'asparagus', 'carrots', 'cucumbers']\n",
      "produce:\t {'fruits': ['orange', 'pear', 'banana', 'kiwi', 'apple', 'banana'], 'vegetables': ['cabbage', 'carrots', 'asparagus', 'carrots', 'cucumbers']}\n"
     ]
    }
   ],
   "source": [
    "produce_report(produce)"
   ]
  },
  {
   "cell_type": "code",
   "execution_count": null,
   "metadata": {},
   "outputs": [],
   "source": [
    "# and use if()...elif()...elif() to code this\n",
    "\n",
    "# veggies < fruits? - then add more veggies\n",
    "# veggies == fruits? - then add one of each\n",
    "# veggies > fruits? - then add a fruit\n",
    "\n",
    "\n",
    "if len(produce[\"vegetables\"]) < len(produce[\"fruits\"]):\n",
    "    \n",
    "    produce[\"vegetables\"].append(\"cucumber\")\n",
    "    print(\"more veggies were added\")\n",
    "\n",
    "elif len(vegetables) == len(fruits):\n",
    "    produce[\"vegetables\"].append(\"cucumber\")\n",
    "    produce[\"fruits\"].append(\"dragonfruit\")\n",
    "    print('more of each were added')\n",
    "    \n",
    "else:\n",
    "    produce[\"fruits\"].append(\"dragonfruit\")\n",
    "    print(\"more fruits were added\")\n",
    "\n",
    "produce_report(produce)"
   ]
  },
  {
   "cell_type": "code",
   "execution_count": null,
   "metadata": {},
   "outputs": [],
   "source": []
  },
  {
   "cell_type": "code",
   "execution_count": null,
   "metadata": {},
   "outputs": [],
   "source": [
    "# original logic\n",
    "\n",
    "# veggies < fruits? - then add more veggies\n",
    "# veggies > fruits? - then add a fruit\n",
    "# veggies == fruits? - then add one of each\n",
    "\n",
    "\n",
    "# case 1: 5 veggies, 6 fruits  --> 6 veggies, 6 fruits\n",
    "\n",
    "# case 2: 6 veggies, 5 fruits --> 6 veggies, 6 fruits\n",
    "\n",
    "# case 3: 5 veggies, 5 fruits --> 6 veggies, 6 fruits"
   ]
  },
  {
   "cell_type": "code",
   "execution_count": null,
   "metadata": {},
   "outputs": [],
   "source": [
    "# optional - we can replace the last elif() statement with else\n"
   ]
  },
  {
   "cell_type": "code",
   "execution_count": null,
   "metadata": {},
   "outputs": [],
   "source": []
  },
  {
   "cell_type": "markdown",
   "metadata": {},
   "source": [
    "# 2. while loops"
   ]
  },
  {
   "cell_type": "markdown",
   "metadata": {},
   "source": [
    "#### relevant links"
   ]
  },
  {
   "cell_type": "code",
   "execution_count": null,
   "metadata": {},
   "outputs": [],
   "source": [
    "# https://www.w3schools.com/python/python_while_loops.asp"
   ]
  },
  {
   "cell_type": "markdown",
   "metadata": {},
   "source": [
    "#### introducing while loops"
   ]
  },
  {
   "cell_type": "code",
   "execution_count": 71,
   "metadata": {},
   "outputs": [],
   "source": [
    "a = 3\n",
    "b = 6"
   ]
  },
  {
   "cell_type": "code",
   "execution_count": 72,
   "metadata": {},
   "outputs": [],
   "source": [
    "while(a < b):\n",
    "    \n",
    "    a = a + 1"
   ]
  },
  {
   "cell_type": "code",
   "execution_count": 73,
   "metadata": {},
   "outputs": [
    {
     "data": {
      "text/plain": [
       "(6, 6)"
      ]
     },
     "execution_count": 73,
     "metadata": {},
     "output_type": "execute_result"
    }
   ],
   "source": [
    "a,b"
   ]
  },
  {
   "cell_type": "code",
   "execution_count": 74,
   "metadata": {},
   "outputs": [],
   "source": [
    "a = 3\n",
    "b = 6"
   ]
  },
  {
   "cell_type": "code",
   "execution_count": 75,
   "metadata": {},
   "outputs": [
    {
     "name": "stdout",
     "output_type": "stream",
     "text": [
      "4 6\n",
      "5 6\n",
      "6 6\n"
     ]
    }
   ],
   "source": [
    "while(a < b):\n",
    "    \n",
    "    a = a + 1\n",
    "    print(a,b)"
   ]
  },
  {
   "cell_type": "code",
   "execution_count": 82,
   "metadata": {},
   "outputs": [],
   "source": [
    "a = 3\n",
    "b = 6"
   ]
  },
  {
   "cell_type": "code",
   "execution_count": 83,
   "metadata": {},
   "outputs": [
    {
     "name": "stdout",
     "output_type": "stream",
     "text": [
      "4 7\n",
      "5 8\n",
      "6 9\n",
      "7 10\n",
      "8 11\n",
      "9 12\n",
      "10 13\n",
      "11 14\n",
      "12 15\n",
      "13 16\n",
      "14 17\n",
      "15 18\n",
      "16 19\n",
      "17 20\n",
      "18 21\n",
      "19 22\n",
      "20 23\n",
      "21 24\n",
      "22 25\n",
      "23 26\n",
      "24 27\n",
      "25 28\n",
      "26 29\n",
      "27 30\n",
      "28 31\n",
      "29 32\n",
      "30 33\n",
      "31 34\n",
      "32 35\n",
      "33 36\n",
      "34 37\n",
      "35 38\n",
      "36 39\n",
      "37 40\n",
      "38 41\n",
      "39 42\n",
      "40 43\n",
      "41 44\n",
      "42 45\n",
      "43 46\n",
      "44 47\n",
      "45 48\n",
      "46 49\n",
      "47 50\n",
      "48 51\n",
      "49 52\n",
      "50 53\n",
      "51 54\n",
      "52 55\n",
      "53 56\n",
      "54 57\n",
      "55 58\n",
      "56 59\n",
      "57 60\n",
      "58 61\n",
      "59 62\n",
      "60 63\n",
      "61 64\n",
      "62 65\n",
      "63 66\n",
      "64 67\n",
      "65 68\n",
      "66 69\n",
      "67 70\n",
      "68 71\n",
      "69 72\n",
      "70 73\n",
      "71 74\n",
      "72 75\n",
      "73 76\n",
      "74 77\n",
      "75 78\n",
      "76 79\n",
      "77 80\n",
      "78 81\n",
      "79 82\n",
      "80 83\n",
      "81 84\n",
      "82 85\n",
      "83 86\n",
      "84 87\n",
      "85 88\n",
      "86 89\n",
      "87 90\n",
      "88 91\n",
      "89 92\n",
      "90 93\n",
      "91 94\n",
      "92 95\n",
      "93 96\n",
      "94 97\n",
      "95 98\n",
      "96 99\n",
      "97 100\n",
      "98 101\n",
      "99 102\n",
      "100 103\n",
      "101 104\n",
      "102 105\n",
      "103 106\n",
      "104 107\n",
      "105 108\n",
      "106 109\n",
      "107 110\n",
      "108 111\n",
      "109 112\n",
      "110 113\n",
      "111 114\n",
      "112 115\n",
      "113 116\n",
      "114 117\n",
      "115 118\n",
      "116 119\n",
      "117 120\n",
      "118 121\n",
      "119 122\n",
      "120 123\n",
      "121 124\n",
      "122 125\n",
      "123 126\n",
      "124 127\n",
      "125 128\n",
      "126 129\n",
      "127 130\n",
      "128 131\n",
      "129 132\n",
      "130 133\n",
      "131 134\n",
      "132 135\n",
      "133 136\n",
      "134 137\n",
      "135 138\n",
      "136 139\n",
      "137 140\n",
      "138 141\n",
      "139 142\n",
      "140 143\n",
      "141 144\n",
      "142 145\n",
      "143 146\n",
      "144 147\n",
      "145 148\n",
      "146 149\n",
      "147 150\n",
      "148 151\n",
      "149 152\n",
      "150 153\n",
      "151 154\n",
      "152 155\n",
      "153 156\n",
      "154 157\n",
      "155 158\n",
      "156 159\n",
      "157 160\n",
      "158 161\n",
      "159 162\n",
      "160 163\n",
      "161 164\n",
      "162 165\n",
      "163 166\n",
      "164 167\n",
      "165 168\n",
      "166 169\n",
      "167 170\n",
      "168 171\n",
      "169 172\n",
      "170 173\n",
      "171 174\n",
      "172 175\n",
      "173 176\n",
      "174 177\n",
      "175 178\n",
      "176 179\n",
      "177 180\n",
      "178 181\n",
      "179 182\n",
      "180 183\n",
      "181 184\n",
      "182 185\n",
      "183 186\n",
      "184 187\n",
      "185 188\n",
      "186 189\n",
      "187 190\n",
      "188 191\n",
      "189 192\n",
      "190 193\n",
      "191 194\n",
      "192 195\n",
      "193 196\n",
      "194 197\n",
      "195 198\n",
      "196 199\n",
      "197 200\n",
      "198 201\n",
      "199 202\n",
      "200 203\n",
      "201 204\n",
      "202 205\n",
      "203 206\n",
      "204 207\n",
      "205 208\n",
      "206 209\n",
      "207 210\n",
      "208 211\n",
      "209 212\n",
      "210 213\n",
      "211 214\n",
      "212 215\n",
      "213 216\n",
      "214 217\n",
      "215 218\n",
      "216 219\n",
      "217 220\n",
      "218 221\n",
      "219 222\n",
      "220 223\n",
      "221 224\n",
      "222 225\n",
      "223 226\n",
      "224 227\n",
      "225 228\n",
      "226 229\n",
      "227 230\n",
      "228 231\n",
      "229 232\n",
      "230 233\n",
      "231 234\n",
      "232 235\n",
      "233 236\n",
      "234 237\n",
      "235 238\n",
      "236 239\n",
      "237 240\n",
      "238 241\n",
      "239 242\n",
      "240 243\n",
      "241 244\n",
      "242 245\n",
      "243 246\n",
      "244 247\n",
      "245 248\n",
      "246 249\n",
      "247 250\n",
      "248 251\n",
      "249 252\n",
      "250 253\n",
      "251 254\n",
      "252 255\n",
      "253 256\n",
      "254 257\n",
      "255 258\n",
      "256 259\n",
      "257 260\n",
      "258 261\n",
      "259 262\n",
      "260 263\n",
      "261 264\n",
      "262 265\n",
      "263 266\n",
      "264 267\n",
      "265 268\n",
      "266 269\n",
      "267 270\n",
      "268 271\n",
      "269 272\n",
      "270 273\n",
      "271 274\n",
      "272 275\n",
      "273 276\n",
      "274 277\n",
      "275 278\n",
      "276 279\n",
      "277 280\n",
      "278 281\n",
      "279 282\n",
      "280 283\n",
      "281 284\n",
      "282 285\n",
      "283 286\n",
      "284 287\n",
      "285 288\n",
      "286 289\n",
      "287 290\n",
      "288 291\n",
      "289 292\n",
      "290 293\n",
      "291 294\n",
      "292 295\n",
      "293 296\n",
      "294 297\n",
      "295 298\n",
      "296 299\n",
      "297 300\n",
      "298 301\n",
      "299 302\n",
      "300 303\n",
      "301 304\n",
      "302 305\n",
      "303 306\n",
      "304 307\n",
      "305 308\n",
      "306 309\n",
      "307 310\n",
      "308 311\n",
      "309 312\n",
      "310 313\n",
      "311 314\n",
      "312 315\n",
      "313 316\n",
      "314 317\n",
      "315 318\n",
      "316 319\n",
      "317 320\n",
      "318 321\n",
      "319 322\n",
      "320 323\n",
      "321 324\n",
      "322 325\n",
      "323 326\n",
      "324 327\n",
      "325 328\n",
      "326 329\n",
      "327 330\n",
      "328 331\n",
      "329 332\n",
      "330 333\n",
      "331 334\n",
      "332 335\n",
      "333 336\n",
      "334 337\n",
      "335 338\n",
      "336 339\n",
      "337 340\n",
      "338 341\n",
      "339 342\n",
      "340 343\n",
      "341 344\n",
      "342 345\n",
      "343 346\n",
      "344 347\n",
      "345 348\n",
      "346 349\n",
      "347 350\n",
      "348 351\n",
      "349 352\n",
      "350 353\n",
      "351 354\n",
      "352 355\n",
      "353 356\n",
      "354 357\n",
      "355 358\n",
      "356 359\n",
      "357 360\n",
      "358 361\n",
      "359 362\n",
      "360 363\n",
      "361 364\n",
      "362 365\n",
      "363 366\n",
      "364 367\n",
      "365 368\n",
      "366 369\n",
      "367 370\n",
      "368 371\n",
      "369 372\n",
      "370 373\n",
      "371 374\n",
      "372 375\n",
      "373 376\n",
      "374 377\n",
      "375 378\n",
      "376 379\n",
      "377 380\n",
      "378 381\n",
      "379 382\n",
      "380 383\n",
      "381 384\n",
      "382 385\n",
      "383 386\n",
      "384 387\n",
      "385 388\n",
      "386 389\n",
      "387 390\n",
      "388 391\n",
      "389 392\n",
      "390 393\n",
      "391 394\n",
      "392 395\n",
      "393 396\n",
      "394 397\n",
      "395 398\n",
      "396 399\n",
      "397 400\n",
      "398 401\n",
      "399 402\n",
      "400 403\n",
      "401 404\n",
      "402 405\n",
      "403 406\n",
      "404 407\n",
      "405 408\n",
      "406 409\n",
      "407 410\n",
      "408 411\n",
      "409 412\n",
      "410 413\n",
      "411 414\n",
      "412 415\n",
      "413 416\n",
      "414 417\n",
      "415 418\n",
      "416 419\n",
      "417 420\n",
      "418 421\n",
      "419 422\n",
      "420 423\n",
      "421 424\n",
      "422 425\n",
      "423 426\n",
      "424 427\n",
      "425 428\n",
      "426 429\n",
      "427 430\n",
      "428 431\n",
      "429 432\n",
      "430 433\n",
      "431 434\n",
      "432 435\n",
      "433 436\n",
      "434 437\n",
      "435 438\n",
      "436 439\n",
      "437 440\n",
      "438 441\n",
      "439 442\n",
      "440 443\n",
      "441 444\n",
      "442 445\n",
      "443 446\n",
      "444 447\n",
      "445 448\n",
      "446 449\n",
      "447 450\n",
      "448 451\n",
      "449 452\n",
      "450 453\n",
      "451 454\n",
      "452 455\n",
      "453 456\n",
      "454 457\n",
      "455 458\n",
      "456 459\n",
      "457 460\n",
      "458 461\n",
      "459 462\n",
      "460 463\n",
      "461 464\n",
      "462 465\n",
      "463 466\n",
      "464 467\n",
      "465 468\n",
      "466 469\n",
      "467 470\n",
      "468 471\n",
      "469 472\n",
      "470 473\n",
      "471 474\n",
      "472 475\n",
      "473 476\n",
      "474 477\n",
      "475 478\n",
      "476 479\n",
      "477 480\n",
      "478 481\n",
      "479 482\n",
      "480 483\n",
      "481 484\n",
      "482 485\n",
      "483 486\n",
      "484 487\n",
      "485 488\n",
      "486 489\n",
      "487 490\n",
      "488 491\n",
      "489 492\n",
      "490 493\n",
      "491 494\n",
      "492 495\n",
      "493 496\n",
      "494 497\n",
      "495 498\n",
      "496 499\n",
      "497 500\n",
      "498 501\n",
      "499 502\n",
      "500 503\n",
      "501 504\n",
      "502 505\n",
      "503 506\n",
      "504 507\n",
      "505 508\n",
      "506 509\n",
      "507 510\n",
      "508 511\n",
      "509 512\n",
      "510 513\n",
      "511 514\n",
      "512 515\n",
      "513 516\n",
      "514 517\n",
      "515 518\n",
      "516 519\n",
      "517 520\n",
      "518 521\n",
      "519 522\n",
      "520 523\n",
      "521 524\n",
      "522 525\n",
      "523 526\n",
      "524 527\n",
      "525 528\n",
      "526 529\n",
      "527 530\n",
      "528 531\n",
      "529 532\n",
      "530 533\n",
      "531 534\n",
      "532 535\n",
      "533 536\n",
      "534 537\n",
      "535 538\n",
      "536 539\n",
      "537 540\n",
      "538 541\n",
      "539 542\n",
      "540 543\n",
      "541 544\n",
      "542 545\n",
      "543 546\n",
      "544 547\n",
      "545 548\n",
      "546 549\n",
      "547 550\n",
      "548 551\n",
      "549 552\n",
      "550 553\n",
      "551 554\n",
      "552 555\n",
      "553 556\n",
      "554 557\n",
      "555 558\n",
      "556 559\n",
      "557 560\n",
      "558 561\n",
      "559 562\n",
      "560 563\n",
      "561 564\n",
      "562 565\n",
      "563 566\n",
      "564 567\n",
      "565 568\n",
      "566 569\n",
      "567 570\n",
      "568 571\n",
      "569 572\n",
      "570 573\n",
      "571 574\n",
      "572 575\n",
      "573 576\n",
      "574 577\n",
      "575 578\n",
      "576 579\n",
      "577 580\n",
      "578 581\n",
      "579 582\n",
      "580 583\n",
      "581 584\n",
      "582 585\n",
      "583 586\n",
      "584 587\n",
      "585 588\n",
      "586 589\n",
      "587 590\n",
      "588 591\n",
      "589 592\n",
      "590 593\n",
      "591 594\n",
      "592 595\n",
      "593 596\n",
      "594 597\n",
      "595 598\n",
      "596 599\n",
      "597 600\n",
      "598 601\n",
      "599 602\n",
      "600 603\n",
      "601 604\n",
      "602 605\n",
      "603 606\n",
      "604 607\n",
      "605 608\n",
      "606 609\n",
      "607 610\n",
      "608 611\n",
      "609 612\n",
      "610 613\n",
      "611 614\n",
      "612 615\n",
      "613 616\n",
      "614 617\n",
      "615 618\n",
      "616 619\n",
      "617 620\n",
      "618 621\n",
      "619 622\n",
      "620 623\n",
      "621 624\n",
      "622 625\n",
      "623 626\n",
      "624 627\n",
      "625 628\n",
      "626 629\n",
      "627 630\n",
      "628 631\n",
      "629 632\n",
      "630 633\n",
      "631 634\n",
      "632 635\n",
      "633 636\n",
      "634 637\n",
      "635 638\n",
      "636 639\n",
      "637 640\n",
      "638 641\n",
      "639 642\n",
      "640 643\n",
      "641 644\n",
      "642 645\n",
      "643 646\n",
      "644 647\n",
      "645 648\n",
      "646 649\n",
      "647 650\n",
      "648 651\n",
      "649 652\n",
      "650 653\n",
      "651 654\n",
      "652 655\n",
      "653 656\n",
      "654 657\n",
      "655 658\n",
      "656 659\n",
      "657 660\n",
      "658 661\n",
      "659 662\n",
      "660 663\n",
      "661 664\n",
      "662 665\n",
      "663 666\n",
      "664 667\n",
      "665 668\n",
      "666 669\n",
      "667 670\n",
      "668 671\n",
      "669 672\n",
      "670 673\n",
      "671 674\n",
      "672 675\n",
      "673 676\n",
      "674 677\n",
      "675 678\n",
      "676 679\n",
      "677 680\n",
      "678 681\n",
      "679 682\n",
      "680 683\n",
      "681 684\n",
      "682 685\n",
      "683 686\n",
      "684 687\n",
      "685 688\n",
      "686 689\n",
      "687 690\n",
      "688 691\n",
      "689 692\n",
      "690 693\n",
      "691 694\n",
      "692 695\n",
      "693 696\n",
      "694 697\n",
      "695 698\n",
      "696 699\n",
      "697 700\n",
      "698 701\n",
      "699 702\n",
      "700 703\n",
      "701 704\n",
      "702 705\n",
      "703 706\n",
      "704 707\n",
      "705 708\n",
      "706 709\n",
      "707 710\n",
      "708 711\n",
      "709 712\n",
      "710 713\n",
      "711 714\n",
      "712 715\n",
      "713 716\n",
      "714 717\n",
      "715 718\n",
      "716 719\n",
      "717 720\n",
      "718 721\n",
      "719 722\n",
      "720 723\n",
      "721 724\n",
      "722 725\n",
      "723 726\n",
      "724 727\n",
      "725 728\n",
      "726 729\n",
      "727 730\n",
      "728 731\n",
      "729 732\n",
      "730 733\n",
      "731 734\n",
      "732 735\n",
      "733 736\n",
      "734 737\n",
      "735 738\n",
      "736 739\n",
      "737 740\n",
      "738 741\n",
      "739 742\n",
      "740 743\n",
      "741 744\n",
      "742 745\n",
      "743 746\n",
      "744 747\n",
      "745 748\n",
      "746 749\n",
      "747 750\n",
      "748 751\n",
      "749 752\n",
      "750 753\n",
      "751 754\n",
      "752 755\n",
      "753 756\n",
      "754 757\n",
      "755 758\n",
      "756 759\n",
      "757 760\n",
      "758 761\n",
      "759 762\n",
      "760 763\n",
      "761 764\n",
      "762 765\n",
      "763 766\n",
      "764 767\n",
      "765 768\n",
      "766 769\n",
      "767 770\n",
      "768 771\n",
      "769 772\n",
      "770 773\n",
      "771 774\n",
      "772 775\n",
      "773 776\n",
      "774 777\n",
      "775 778\n",
      "776 779\n",
      "777 780\n",
      "778 781\n",
      "779 782\n",
      "780 783\n",
      "781 784\n",
      "782 785\n",
      "783 786\n",
      "784 787\n",
      "785 788\n",
      "786 789\n",
      "787 790\n",
      "788 791\n",
      "789 792\n",
      "790 793\n",
      "791 794\n",
      "792 795\n",
      "793 796\n",
      "794 797\n",
      "795 798\n",
      "796 799\n",
      "797 800\n",
      "798 801\n",
      "799 802\n",
      "800 803\n",
      "801 804\n",
      "802 805\n",
      "803 806\n",
      "804 807\n",
      "805 808\n",
      "806 809\n",
      "807 810\n",
      "808 811\n",
      "809 812\n",
      "810 813\n",
      "811 814\n",
      "812 815\n",
      "813 816\n",
      "814 817\n",
      "815 818\n",
      "816 819\n",
      "817 820\n",
      "818 821\n",
      "819 822\n",
      "820 823\n",
      "821 824\n",
      "822 825\n",
      "823 826\n",
      "824 827\n",
      "825 828\n",
      "826 829\n",
      "827 830\n",
      "828 831\n",
      "829 832\n",
      "830 833\n",
      "831 834\n",
      "832 835\n",
      "833 836\n",
      "834 837\n",
      "835 838\n",
      "836 839\n",
      "837 840\n",
      "838 841\n",
      "839 842\n",
      "840 843\n",
      "841 844\n",
      "842 845\n",
      "843 846\n",
      "844 847\n",
      "845 848\n",
      "846 849\n",
      "847 850\n",
      "848 851\n",
      "849 852\n",
      "850 853\n",
      "851 854\n",
      "852 855\n",
      "853 856\n",
      "854 857\n",
      "855 858\n",
      "856 859\n",
      "857 860\n",
      "858 861\n",
      "859 862\n",
      "860 863\n",
      "861 864\n",
      "862 865\n",
      "863 866\n",
      "864 867\n",
      "865 868\n",
      "866 869\n",
      "867 870\n",
      "868 871\n",
      "869 872\n",
      "870 873\n",
      "871 874\n",
      "872 875\n",
      "873 876\n",
      "874 877\n",
      "875 878\n",
      "876 879\n",
      "877 880\n",
      "878 881\n",
      "879 882\n",
      "880 883\n",
      "881 884\n",
      "882 885\n",
      "883 886\n",
      "884 887\n",
      "885 888\n",
      "886 889\n",
      "887 890\n",
      "888 891\n",
      "889 892\n",
      "890 893\n",
      "891 894\n",
      "892 895\n",
      "893 896\n",
      "894 897\n",
      "895 898\n",
      "896 899\n",
      "897 900\n",
      "898 901\n",
      "899 902\n",
      "900 903\n",
      "901 904\n",
      "902 905\n",
      "903 906\n",
      "904 907\n",
      "905 908\n",
      "906 909\n",
      "907 910\n",
      "908 911\n",
      "909 912\n",
      "910 913\n",
      "911 914\n",
      "912 915\n",
      "913 916\n",
      "914 917\n",
      "915 918\n",
      "916 919\n",
      "917 920\n",
      "918 921\n",
      "919 922\n",
      "920 923\n",
      "921 924\n",
      "922 925\n",
      "923 926\n",
      "924 927\n",
      "925 928\n",
      "926 929\n",
      "927 930\n",
      "928 931\n",
      "929 932\n",
      "930 933\n",
      "931 934\n",
      "932 935\n",
      "933 936\n",
      "934 937\n",
      "935 938\n",
      "936 939\n",
      "937 940\n",
      "938 941\n",
      "939 942\n",
      "940 943\n",
      "941 944\n",
      "942 945\n",
      "943 946\n",
      "944 947\n",
      "945 948\n",
      "946 949\n",
      "947 950\n",
      "948 951\n",
      "949 952\n",
      "950 953\n",
      "951 954\n",
      "952 955\n",
      "953 956\n",
      "954 957\n",
      "955 958\n",
      "956 959\n",
      "957 960\n",
      "958 961\n",
      "959 962\n",
      "960 963\n",
      "961 964\n",
      "962 965\n",
      "963 966\n",
      "964 967\n",
      "965 968\n",
      "966 969\n",
      "967 970\n",
      "968 971\n",
      "969 972\n",
      "970 973\n",
      "971 974\n",
      "972 975\n",
      "973 976\n",
      "974 977\n",
      "975 978\n",
      "976 979\n",
      "977 980\n",
      "978 981\n",
      "979 982\n",
      "980 983\n",
      "981 984\n",
      "982 985\n",
      "983 986\n",
      "984 987\n",
      "985 988\n",
      "986 989\n",
      "987 990\n",
      "988 991\n",
      "989 992\n",
      "990 993\n",
      "991 994\n",
      "992 995\n",
      "993 996\n",
      "994 997\n",
      "995 998\n",
      "996 999\n",
      "997 1000\n"
     ]
    }
   ],
   "source": [
    "# push square button \"stop\" to interrupt the kernel\n",
    "while(b < 1000):\n",
    "\n",
    "    a = a + 1\n",
    "    b = b + 1\n",
    "    print(a,b)"
   ]
  },
  {
   "cell_type": "markdown",
   "metadata": {},
   "source": [
    "#### vegetables < fruits?"
   ]
  },
  {
   "cell_type": "code",
   "execution_count": 87,
   "metadata": {},
   "outputs": [
    {
     "name": "stdout",
     "output_type": "stream",
     "text": [
      "# of fruits:\t 6\n",
      "# of veggies:\t 3\n",
      "fruits:\t\t ['orange', 'pear', 'banana', 'kiwi', 'apple', 'banana']\n",
      "vegetables:\t ['cabbage', 'carrots', 'asparagus']\n",
      "produce:\t {'fruits': ['orange', 'pear', 'banana', 'kiwi', 'apple', 'banana'], 'vegetables': ['cabbage', 'carrots', 'asparagus']}\n"
     ]
    }
   ],
   "source": [
    "# let's refresh our produce basket\n",
    "fruits = ['orange','pear', 'banana', 'kiwi', 'apple', 'banana']\n",
    "vegetables = [\"cabbage\",\"carrots\",\"asparagus\"]\n",
    "produce = {\"fruits\":fruits,\"vegetables\":vegetables}\n",
    "produce_report(produce)"
   ]
  },
  {
   "cell_type": "code",
   "execution_count": 88,
   "metadata": {},
   "outputs": [
    {
     "name": "stdout",
     "output_type": "stream",
     "text": [
      "['cabbage', 'carrots', 'asparagus', 'tomato']\n",
      "['cabbage', 'carrots', 'asparagus', 'tomato', 'tomato']\n",
      "['cabbage', 'carrots', 'asparagus', 'tomato', 'tomato', 'tomato']\n"
     ]
    }
   ],
   "source": [
    "# add veggies until we have an equal number of veggies & fruits\n",
    "\n",
    "while(len(produce[\"vegetables\"]) < len(produce[\"fruits\"])):\n",
    "\n",
    "    produce[\"vegetables\"].append(\"tomato\")\n",
    "    print(produce[\"vegetables\"])\n"
   ]
  },
  {
   "cell_type": "code",
   "execution_count": 86,
   "metadata": {},
   "outputs": [
    {
     "name": "stdout",
     "output_type": "stream",
     "text": [
      "# of fruits:\t 6\n",
      "# of veggies:\t 6\n",
      "fruits:\t\t ['orange', 'pear', 'banana', 'kiwi', 'apple', 'banana']\n",
      "vegetables:\t ['cabbage', 'carrots', 'asparagus', 'tomato', 'tomato', 'tomato']\n",
      "produce:\t {'fruits': ['orange', 'pear', 'banana', 'kiwi', 'apple', 'banana'], 'vegetables': ['cabbage', 'carrots', 'asparagus', 'tomato', 'tomato', 'tomato']}\n"
     ]
    }
   ],
   "source": [
    "produce_report(produce)"
   ]
  },
  {
   "cell_type": "markdown",
   "metadata": {},
   "source": [
    "#### remove bananas"
   ]
  },
  {
   "cell_type": "code",
   "execution_count": null,
   "metadata": {},
   "outputs": [],
   "source": [
    "# let's refresh our produce basket\n",
    "fruits = ['orange','pear', 'banana', 'kiwi', 'apple', 'banana']\n",
    "vegetables = [\"cabbage\",\"carrots\",\"asparagus\"]\n",
    "produce = {\"fruits\":fruits,\"vegetables\":vegetables}\n",
    "produce_report(produce)"
   ]
  },
  {
   "cell_type": "code",
   "execution_count": 89,
   "metadata": {},
   "outputs": [],
   "source": [
    "# remove all the bananas using while(), in operator and remove() function\n",
    "\n",
    "while(\"banana\" in produce[\"fruits\"]):\n",
    "    \n",
    "    produce[\"fruits\"].remove(\"banana\")\n"
   ]
  },
  {
   "cell_type": "code",
   "execution_count": 90,
   "metadata": {},
   "outputs": [
    {
     "name": "stdout",
     "output_type": "stream",
     "text": [
      "# of fruits:\t 4\n",
      "# of veggies:\t 6\n",
      "fruits:\t\t ['orange', 'pear', 'kiwi', 'apple']\n",
      "vegetables:\t ['cabbage', 'carrots', 'asparagus', 'tomato', 'tomato', 'tomato']\n",
      "produce:\t {'fruits': ['orange', 'pear', 'kiwi', 'apple'], 'vegetables': ['cabbage', 'carrots', 'asparagus', 'tomato', 'tomato', 'tomato']}\n"
     ]
    }
   ],
   "source": [
    "produce_report(produce)"
   ]
  },
  {
   "cell_type": "markdown",
   "metadata": {},
   "source": [
    "# Tomorrow"
   ]
  },
  {
   "cell_type": "code",
   "execution_count": 2,
   "metadata": {},
   "outputs": [],
   "source": [
    "#### Thursday - More Control Structures\n",
    "\n",
    "# 1. for loops\n",
    "# 2. nested repetition statements - for, for, for...\n",
    "# 3. combining selection & repetition statements\n",
    "# 4. list comprehensions"
   ]
  },
  {
   "cell_type": "markdown",
   "metadata": {},
   "source": [
    "# After-class Workout"
   ]
  },
  {
   "cell_type": "markdown",
   "metadata": {},
   "source": [
    "#### Exercise 1. # vegetables != # fruits? - use while() to add veggies or fruits one at a time until they are equal"
   ]
  },
  {
   "cell_type": "code",
   "execution_count": 98,
   "metadata": {},
   "outputs": [
    {
     "name": "stdout",
     "output_type": "stream",
     "text": [
      "# of fruits:\t 6\n",
      "# of veggies:\t 3\n",
      "fruits:\t\t ['orange', 'pear', 'banana', 'kiwi', 'apple', 'banana']\n",
      "vegetables:\t ['cabbage', 'carrots', 'asparagus']\n",
      "produce:\t {'fruits': ['orange', 'pear', 'banana', 'kiwi', 'apple', 'banana'], 'vegetables': ['cabbage', 'carrots', 'asparagus']}\n"
     ]
    }
   ],
   "source": [
    "fruits = ['orange','pear', 'banana', 'kiwi', 'apple', 'banana']\n",
    "vegetables = [\"cabbage\",\"carrots\",\"asparagus\"]\n",
    "produce = {\"fruits\":fruits,\"vegetables\":vegetables}\n",
    "produce_report(produce)"
   ]
  },
  {
   "cell_type": "code",
   "execution_count": 99,
   "metadata": {},
   "outputs": [],
   "source": [
    "#### use while() and if() to add veggies or fruits one at a time"
   ]
  },
  {
   "cell_type": "code",
   "execution_count": 100,
   "metadata": {},
   "outputs": [
    {
     "name": "stdout",
     "output_type": "stream",
     "text": [
      "added a vegetable!\n",
      "\n",
      "added a vegetable!\n",
      "\n",
      "added a vegetable!\n",
      "\n",
      "# of fruits:\t 6\n",
      "# of veggies:\t 6\n",
      "fruits:\t\t ['orange', 'pear', 'banana', 'kiwi', 'apple', 'banana']\n",
      "vegetables:\t ['cabbage', 'carrots', 'asparagus', 'eggplant', 'eggplant', 'eggplant']\n",
      "produce:\t {'fruits': ['orange', 'pear', 'banana', 'kiwi', 'apple', 'banana'], 'vegetables': ['cabbage', 'carrots', 'asparagus', 'eggplant', 'eggplant', 'eggplant']}\n"
     ]
    }
   ],
   "source": [
    "\n",
    "while( len(produce[\"vegetables\"]) != len(produce[\"fruits\"]) ):\n",
    "    \n",
    "    if( len(produce[\"vegetables\"]) < len(produce[\"fruits\"])):\n",
    "        \n",
    "        produce[\"vegetables\"].append(\"eggplant\")\n",
    "        \n",
    "        print(\"added a vegetable!\\n\")\n",
    "        \n",
    "    else:\n",
    "        \n",
    "        produce[\"fruits\"].append(\"papaya\")\n",
    "\n",
    "        print(\"added a fruit!\\n\")\n",
    "\n",
    "produce_report(produce)"
   ]
  },
  {
   "cell_type": "code",
   "execution_count": 12,
   "metadata": {},
   "outputs": [
    {
     "name": "stdout",
     "output_type": "stream",
     "text": [
      "there are more fruits than vegetables\n",
      "so we added an onion to vegetables\n",
      "there are more fruits than vegetables\n",
      "so we added an onion to vegetables\n",
      "there are more fruits than vegetables\n",
      "so we added an onion to vegetables\n",
      "['orange', 'pear', 'banana', 'kiwi', 'apple', 'banana']\n",
      "['cabbage', 'carrots', 'asparagus', 'onion', 'onion', 'onion']\n"
     ]
    }
   ],
   "source": [
    "# Daniyar's solution\n",
    "\n",
    "# fruits_amount = len(fruits)\n",
    "# vegetables_amount = len(vegetables)\n",
    "\n",
    "while len(fruits) != len(vegetables):\n",
    "    \n",
    "    if len(vegetables) == len(fruits):\n",
    "        print(\"# of vegetables and fruits is equal\")\n",
    "    elif len(vegetables) > len(fruits):\n",
    "        print(\"there are more vegetables than fruits\")\n",
    "    else:\n",
    "        print(\"there are more fruits than vegetables\")\n",
    "    \n",
    "    if len(fruits) < len(vegetables):\n",
    "        fruits.append(\"mango\")\n",
    "        print(\"so we added a mango to fruits\")\n",
    "    elif len(vegetables) < len(fruits):\n",
    "        vegetables.append(\"onion\")\n",
    "        print(\"so we added an onion to vegetables\")\n",
    "\n",
    "        \n",
    "print(fruits)\n",
    "print(vegetables)"
   ]
  },
  {
   "cell_type": "code",
   "execution_count": null,
   "metadata": {},
   "outputs": [],
   "source": []
  },
  {
   "cell_type": "code",
   "execution_count": null,
   "metadata": {},
   "outputs": [],
   "source": []
  },
  {
   "cell_type": "code",
   "execution_count": null,
   "metadata": {},
   "outputs": [],
   "source": [
    "#### use a boolean flag and if() to report when we are done"
   ]
  },
  {
   "cell_type": "code",
   "execution_count": null,
   "metadata": {},
   "outputs": [],
   "source": []
  },
  {
   "cell_type": "code",
   "execution_count": null,
   "metadata": {},
   "outputs": [],
   "source": []
  },
  {
   "cell_type": "code",
   "execution_count": null,
   "metadata": {},
   "outputs": [],
   "source": []
  },
  {
   "cell_type": "markdown",
   "metadata": {},
   "source": [
    "#### Exercise 2. vegetables != fruits? - use if()...elif()...else to add the difference all at once"
   ]
  },
  {
   "cell_type": "code",
   "execution_count": 16,
   "metadata": {},
   "outputs": [],
   "source": [
    "fruits = ['orange','pear', 'banana', 'kiwi', 'apple', 'banana']\n",
    "vegetables = [\"cabbage\",\"carrots\",\"asparagus\"]"
   ]
  },
  {
   "cell_type": "code",
   "execution_count": null,
   "metadata": {},
   "outputs": [],
   "source": [
    "\n",
    "\n",
    "\n"
   ]
  },
  {
   "cell_type": "code",
   "execution_count": 18,
   "metadata": {},
   "outputs": [
    {
     "name": "stdout",
     "output_type": "stream",
     "text": [
      "We have an equal number of fruits and vegetables\n",
      "['orange', 'pear', 'banana', 'kiwi', 'apple', 'banana'] ['cabbage', 'carrots', 'asparagus', 'tomato', 'tomato', 'tomato']\n"
     ]
    }
   ],
   "source": [
    "# Gulnur's solution\n",
    "\n",
    "diff_1 = len(vegetables) - len(fruits)\n",
    "\n",
    "if diff_1 > 0:  # more veggies than fruits, then we need to add diff_1 fruits\n",
    "    fruits += diff_1 * [\"pineaplle\"]\n",
    "\n",
    "elif diff_1 < 0: # more fruits than vegetables, then we need to add -diff_1 vegetables\n",
    "    vegetables += -diff_1 * [\"tomato\"]\n",
    "    \n",
    "else:\n",
    "    print(\"We have an equal number of fruits and vegetables\")\n",
    "\n",
    "print(fruits, vegetables)\n"
   ]
  }
 ],
 "metadata": {
  "kernelspec": {
   "display_name": "Python 3",
   "language": "python",
   "name": "python3"
  },
  "language_info": {
   "codemirror_mode": {
    "name": "ipython",
    "version": 3
   },
   "file_extension": ".py",
   "mimetype": "text/x-python",
   "name": "python",
   "nbconvert_exporter": "python",
   "pygments_lexer": "ipython3",
   "version": "3.7.3"
  }
 },
 "nbformat": 4,
 "nbformat_minor": 4
}
