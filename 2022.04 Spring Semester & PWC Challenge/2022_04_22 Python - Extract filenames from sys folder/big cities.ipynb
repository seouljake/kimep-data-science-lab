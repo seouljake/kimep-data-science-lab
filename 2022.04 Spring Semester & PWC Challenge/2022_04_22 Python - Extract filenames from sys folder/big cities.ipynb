{
 "cells": [
  {
   "cell_type": "code",
   "execution_count": 19,
   "metadata": {},
   "outputs": [],
   "source": [
    "# step 1: read file from system folder\n",
    "\n",
    "import os"
   ]
  },
  {
   "cell_type": "code",
   "execution_count": 20,
   "metadata": {},
   "outputs": [
    {
     "data": {
      "text/plain": [
       "['.ipynb_checkpoints', 'big cities.ipynb', 'data1']"
      ]
     },
     "execution_count": 20,
     "metadata": {},
     "output_type": "execute_result"
    }
   ],
   "source": [
    "filenames = os.listdir()\n",
    "filenames"
   ]
  },
  {
   "cell_type": "code",
   "execution_count": 21,
   "metadata": {
    "scrolled": true
   },
   "outputs": [
    {
     "data": {
      "text/plain": [
       "['Bangalore.csv',\n",
       " 'Bangkok.csv',\n",
       " 'Baoding.csv',\n",
       " 'Beijing.csv',\n",
       " 'Buenos Aires.csv',\n",
       " 'Cairo.csv',\n",
       " 'Chengdu.csv',\n",
       " 'Chennai.csv',\n",
       " 'Delhi.csv',\n",
       " 'Dhaka.csv',\n",
       " 'Guangzhou.csv',\n",
       " 'Ho Chi Minh City.csv',\n",
       " 'Istanbul.csv',\n",
       " 'Jakarta.csv',\n",
       " 'Karachi.csv',\n",
       " 'Kinshasa.csv',\n",
       " 'Kolkata.csv',\n",
       " 'Lagos.csv',\n",
       " 'Lahore.csv',\n",
       " 'Linyi.csv',\n",
       " 'London.csv',\n",
       " 'Los Angeles.csv',\n",
       " 'Manila.csv',\n",
       " 'Mexico City.csv',\n",
       " 'Moscow.csv',\n",
       " 'Mumbai.csv',\n",
       " 'Nanyang.csv',\n",
       " 'New York.csv',\n",
       " 'Osaka.csv',\n",
       " 'Paris.csv',\n",
       " 'Rio de Janeiro.csv',\n",
       " 'Sao Paulo.csv',\n",
       " 'Seoul.csv',\n",
       " 'Shanghai.csv',\n",
       " 'Shenzhen.csv',\n",
       " 'Shijiazhuang.csv',\n",
       " 'Tehran.csv',\n",
       " 'Tianjin.csv',\n",
       " 'Tokyo.csv',\n",
       " 'Zhengzhou.csv']"
      ]
     },
     "execution_count": 21,
     "metadata": {},
     "output_type": "execute_result"
    }
   ],
   "source": [
    "filenames = os.listdir(\"data1\")\n",
    "filenames"
   ]
  },
  {
   "cell_type": "code",
   "execution_count": 22,
   "metadata": {},
   "outputs": [
    {
     "data": {
      "text/html": [
       "<div>\n",
       "<style scoped>\n",
       "    .dataframe tbody tr th:only-of-type {\n",
       "        vertical-align: middle;\n",
       "    }\n",
       "\n",
       "    .dataframe tbody tr th {\n",
       "        vertical-align: top;\n",
       "    }\n",
       "\n",
       "    .dataframe thead th {\n",
       "        text-align: right;\n",
       "    }\n",
       "</style>\n",
       "<table border=\"1\" class=\"dataframe\">\n",
       "  <thead>\n",
       "    <tr style=\"text-align: right;\">\n",
       "      <th></th>\n",
       "      <th>city</th>\n",
       "      <th>city_ascii</th>\n",
       "      <th>lat</th>\n",
       "      <th>lng</th>\n",
       "      <th>country</th>\n",
       "      <th>iso2</th>\n",
       "      <th>iso3</th>\n",
       "      <th>admin_name</th>\n",
       "      <th>capital</th>\n",
       "      <th>population</th>\n",
       "      <th>id</th>\n",
       "    </tr>\n",
       "  </thead>\n",
       "  <tbody>\n",
       "  </tbody>\n",
       "</table>\n",
       "</div>"
      ],
      "text/plain": [
       "Empty DataFrame\n",
       "Columns: [city, city_ascii, lat, lng, country, iso2, iso3, admin_name, capital, population, id]\n",
       "Index: []"
      ]
     },
     "execution_count": 22,
     "metadata": {},
     "output_type": "execute_result"
    }
   ],
   "source": [
    "import pandas as pd\n",
    "column_names = [\"city\",\"city_ascii\",\"lat\",\"lng\",\"country\",\"iso2\",\"iso3\",\"admin_name\",\"capital\",\"population\",\"id\"]\n",
    "bigdat = pd.DataFrame(columns = column_names)\n",
    "bigdat"
   ]
  },
  {
   "cell_type": "code",
   "execution_count": 24,
   "metadata": {},
   "outputs": [
    {
     "name": "stdout",
     "output_type": "stream",
     "text": [
      "Bangalore,Bangalore,12.9791,77.5913,India,IN,IND,Karnātaka,admin,13999000.0,1356410365\n",
      "Bangkok,Bangkok,13.75,100.5167,Thailand,TH,THA,Krung Thep Maha Nakhon,primary,17573000.0,1764068610\n",
      "Baoding,Baoding,38.8671,115.4845,China,CN,CHN,Hebei,nan,11860000.0,1156256829\n",
      "Beijing,Beijing,39.904,116.4075,China,CN,CHN,Beijing,primary,19437000.0,1156228865\n",
      "Buenos Aires,Buenos Aires,-34.5997,-58.3819,Argentina,AR,ARG,Buenos Aires, Ciudad Autónoma de,primary,16216000.0,1032717330\n"
     ]
    },
    {
     "ename": "ValueError",
     "evalue": "Length of passed values is 12, index implies 11.",
     "output_type": "error",
     "traceback": [
      "\u001b[1;31m---------------------------------------------------------------------------\u001b[0m",
      "\u001b[1;31mValueError\u001b[0m                                Traceback (most recent call last)",
      "\u001b[1;32m<ipython-input-24-6fa792940733>\u001b[0m in \u001b[0;36m<module>\u001b[1;34m\u001b[0m\n\u001b[0;32m     10\u001b[0m     \u001b[1;31m# convert string to a list, and then to a Series\u001b[0m\u001b[1;33m\u001b[0m\u001b[1;33m\u001b[0m\u001b[1;33m\u001b[0m\u001b[0m\n\u001b[0;32m     11\u001b[0m     \u001b[0mto_list\u001b[0m \u001b[1;33m=\u001b[0m \u001b[0mdat\u001b[0m\u001b[1;33m.\u001b[0m\u001b[0msplit\u001b[0m\u001b[1;33m(\u001b[0m\u001b[1;34m\",\"\u001b[0m\u001b[1;33m)\u001b[0m\u001b[1;33m\u001b[0m\u001b[1;33m\u001b[0m\u001b[0m\n\u001b[1;32m---> 12\u001b[1;33m     \u001b[0mto_series\u001b[0m \u001b[1;33m=\u001b[0m \u001b[0mpd\u001b[0m\u001b[1;33m.\u001b[0m\u001b[0mSeries\u001b[0m\u001b[1;33m(\u001b[0m\u001b[0mto_list\u001b[0m\u001b[1;33m,\u001b[0m \u001b[0mindex\u001b[0m \u001b[1;33m=\u001b[0m \u001b[0mbigdat\u001b[0m\u001b[1;33m.\u001b[0m\u001b[0mcolumns\u001b[0m\u001b[1;33m)\u001b[0m\u001b[1;33m\u001b[0m\u001b[1;33m\u001b[0m\u001b[0m\n\u001b[0m\u001b[0;32m     13\u001b[0m \u001b[1;33m\u001b[0m\u001b[0m\n\u001b[0;32m     14\u001b[0m     \u001b[1;31m# ERROR # of list items = 12, # column items = 11\u001b[0m\u001b[1;33m\u001b[0m\u001b[1;33m\u001b[0m\u001b[1;33m\u001b[0m\u001b[0m\n",
      "\u001b[1;32mc:\\users\\seoul\\appdata\\local\\programs\\python\\python37\\lib\\site-packages\\pandas\\core\\series.py\u001b[0m in \u001b[0;36m__init__\u001b[1;34m(self, data, index, dtype, name, copy, fastpath)\u001b[0m\n\u001b[0;32m    320\u001b[0m                     \u001b[1;32mif\u001b[0m \u001b[0mlen\u001b[0m\u001b[1;33m(\u001b[0m\u001b[0mindex\u001b[0m\u001b[1;33m)\u001b[0m \u001b[1;33m!=\u001b[0m \u001b[0mlen\u001b[0m\u001b[1;33m(\u001b[0m\u001b[0mdata\u001b[0m\u001b[1;33m)\u001b[0m\u001b[1;33m:\u001b[0m\u001b[1;33m\u001b[0m\u001b[1;33m\u001b[0m\u001b[0m\n\u001b[0;32m    321\u001b[0m                         raise ValueError(\n\u001b[1;32m--> 322\u001b[1;33m                             \u001b[1;34mf\"Length of passed values is {len(data)}, \"\u001b[0m\u001b[1;33m\u001b[0m\u001b[1;33m\u001b[0m\u001b[0m\n\u001b[0m\u001b[0;32m    323\u001b[0m                             \u001b[1;34mf\"index implies {len(index)}.\"\u001b[0m\u001b[1;33m\u001b[0m\u001b[1;33m\u001b[0m\u001b[0m\n\u001b[0;32m    324\u001b[0m                         )\n",
      "\u001b[1;31mValueError\u001b[0m: Length of passed values is 12, index implies 11."
     ]
    }
   ],
   "source": [
    "for city in filenames:\n",
    "    \n",
    "    # open each file\n",
    "    f = open(\"data1/\"+city,encoding=\"utf-8\")\n",
    "    \n",
    "    # read the first line of data as a string\n",
    "    dat = f.readline()\n",
    "    print(dat)\n",
    "    \n",
    "    # convert string to a list, and then to a Series\n",
    "    to_list = dat.split(\",\")\n",
    "    to_series = pd.Series(to_list, index = bigdat.columns)\n",
    "    \n",
    "    # ERROR # of list items = 12, # column items = 11\n",
    "    \n",
    "    # append series to dataframe\n",
    "    bigdat = bigdat.append(to_series, ignore_index=True)\n",
    "    "
   ]
  },
  {
   "cell_type": "code",
   "execution_count": 16,
   "metadata": {},
   "outputs": [
    {
     "name": "stdout",
     "output_type": "stream",
     "text": [
      "Bangalore,Bangalore,12.9791,77.5913,India,IN,IND,Karnātaka,admin,13999000.0,1356410365\n",
      "['Bangalore', 'Bangalore', '12.9791', '77.5913', 'India', 'IN', 'IND', 'Karnātaka', 'admin', '13999000.0', '1356410365']\n",
      "city           Bangalore\n",
      "city_ascii     Bangalore\n",
      "lat              12.9791\n",
      "lng              77.5913\n",
      "country            India\n",
      "iso2                  IN\n",
      "iso3                 IND\n",
      "admin_name     Karnātaka\n",
      "capital            admin\n",
      "population    13999000.0\n",
      "id            1356410365\n",
      "dtype: object\n",
      "Bangkok,Bangkok,13.75,100.5167,Thailand,TH,THA,Krung Thep Maha Nakhon,primary,17573000.0,1764068610\n",
      "['Bangkok', 'Bangkok', '13.75', '100.5167', 'Thailand', 'TH', 'THA', 'Krung Thep Maha Nakhon', 'primary', '17573000.0', '1764068610']\n",
      "city                         Bangkok\n",
      "city_ascii                   Bangkok\n",
      "lat                            13.75\n",
      "lng                         100.5167\n",
      "country                     Thailand\n",
      "iso2                              TH\n",
      "iso3                             THA\n",
      "admin_name    Krung Thep Maha Nakhon\n",
      "capital                      primary\n",
      "population                17573000.0\n",
      "id                        1764068610\n",
      "dtype: object\n",
      "Baoding,Baoding,38.8671,115.4845,China,CN,CHN,Hebei,nan,11860000.0,1156256829\n",
      "['Baoding', 'Baoding', '38.8671', '115.4845', 'China', 'CN', 'CHN', 'Hebei', 'nan', '11860000.0', '1156256829']\n",
      "city             Baoding\n",
      "city_ascii       Baoding\n",
      "lat              38.8671\n",
      "lng             115.4845\n",
      "country            China\n",
      "iso2                  CN\n",
      "iso3                 CHN\n",
      "admin_name         Hebei\n",
      "capital              nan\n",
      "population    11860000.0\n",
      "id            1156256829\n",
      "dtype: object\n",
      "Beijing,Beijing,39.904,116.4075,China,CN,CHN,Beijing,primary,19437000.0,1156228865\n",
      "['Beijing', 'Beijing', '39.904', '116.4075', 'China', 'CN', 'CHN', 'Beijing', 'primary', '19437000.0', '1156228865']\n",
      "city             Beijing\n",
      "city_ascii       Beijing\n",
      "lat               39.904\n",
      "lng             116.4075\n",
      "country            China\n",
      "iso2                  CN\n",
      "iso3                 CHN\n",
      "admin_name       Beijing\n",
      "capital          primary\n",
      "population    19437000.0\n",
      "id            1156228865\n",
      "dtype: object\n",
      "Buenos Aires,Buenos Aires,-34.5997,-58.3819,Argentina,AR,ARG,Buenos Aires, Ciudad Autónoma de,primary,16216000.0,1032717330\n",
      "['Buenos Aires', 'Buenos Aires', '-34.5997', '-58.3819', 'Argentina', 'AR', 'ARG', 'Buenos Aires', ' Ciudad Autónoma de', 'primary', '16216000.0', '1032717330']\n"
     ]
    },
    {
     "ename": "ValueError",
     "evalue": "Length of passed values is 12, index implies 11.",
     "output_type": "error",
     "traceback": [
      "\u001b[1;31m---------------------------------------------------------------------------\u001b[0m",
      "\u001b[1;31mValueError\u001b[0m                                Traceback (most recent call last)",
      "\u001b[1;32m<ipython-input-16-b88f99746f27>\u001b[0m in \u001b[0;36m<module>\u001b[1;34m\u001b[0m\n\u001b[0;32m      5\u001b[0m     \u001b[0mto_list\u001b[0m \u001b[1;33m=\u001b[0m \u001b[0mdat\u001b[0m\u001b[1;33m.\u001b[0m\u001b[0msplit\u001b[0m\u001b[1;33m(\u001b[0m\u001b[1;34m\",\"\u001b[0m\u001b[1;33m)\u001b[0m\u001b[1;33m\u001b[0m\u001b[1;33m\u001b[0m\u001b[0m\n\u001b[0;32m      6\u001b[0m     \u001b[0mprint\u001b[0m\u001b[1;33m(\u001b[0m\u001b[0mto_list\u001b[0m\u001b[1;33m)\u001b[0m\u001b[1;33m\u001b[0m\u001b[1;33m\u001b[0m\u001b[0m\n\u001b[1;32m----> 7\u001b[1;33m     \u001b[0mto_series\u001b[0m \u001b[1;33m=\u001b[0m \u001b[0mpd\u001b[0m\u001b[1;33m.\u001b[0m\u001b[0mSeries\u001b[0m\u001b[1;33m(\u001b[0m\u001b[0mto_list\u001b[0m\u001b[1;33m,\u001b[0m \u001b[0mindex\u001b[0m \u001b[1;33m=\u001b[0m \u001b[0mbigdat\u001b[0m\u001b[1;33m.\u001b[0m\u001b[0mcolumns\u001b[0m\u001b[1;33m)\u001b[0m\u001b[1;33m\u001b[0m\u001b[1;33m\u001b[0m\u001b[0m\n\u001b[0m\u001b[0;32m      8\u001b[0m     \u001b[0mprint\u001b[0m\u001b[1;33m(\u001b[0m\u001b[0mto_series\u001b[0m\u001b[1;33m)\u001b[0m\u001b[1;33m\u001b[0m\u001b[1;33m\u001b[0m\u001b[0m\n\u001b[0;32m      9\u001b[0m     \u001b[1;31m#df = df.append(a_series, ignore_index=True)\u001b[0m\u001b[1;33m\u001b[0m\u001b[1;33m\u001b[0m\u001b[1;33m\u001b[0m\u001b[0m\n",
      "\u001b[1;32mc:\\users\\seoul\\appdata\\local\\programs\\python\\python37\\lib\\site-packages\\pandas\\core\\series.py\u001b[0m in \u001b[0;36m__init__\u001b[1;34m(self, data, index, dtype, name, copy, fastpath)\u001b[0m\n\u001b[0;32m    320\u001b[0m                     \u001b[1;32mif\u001b[0m \u001b[0mlen\u001b[0m\u001b[1;33m(\u001b[0m\u001b[0mindex\u001b[0m\u001b[1;33m)\u001b[0m \u001b[1;33m!=\u001b[0m \u001b[0mlen\u001b[0m\u001b[1;33m(\u001b[0m\u001b[0mdata\u001b[0m\u001b[1;33m)\u001b[0m\u001b[1;33m:\u001b[0m\u001b[1;33m\u001b[0m\u001b[1;33m\u001b[0m\u001b[0m\n\u001b[0;32m    321\u001b[0m                         raise ValueError(\n\u001b[1;32m--> 322\u001b[1;33m                             \u001b[1;34mf\"Length of passed values is {len(data)}, \"\u001b[0m\u001b[1;33m\u001b[0m\u001b[1;33m\u001b[0m\u001b[0m\n\u001b[0m\u001b[0;32m    323\u001b[0m                             \u001b[1;34mf\"index implies {len(index)}.\"\u001b[0m\u001b[1;33m\u001b[0m\u001b[1;33m\u001b[0m\u001b[0m\n\u001b[0;32m    324\u001b[0m                         )\n",
      "\u001b[1;31mValueError\u001b[0m: Length of passed values is 12, index implies 11."
     ]
    }
   ],
   "source": [
    "for city in filenames:\n",
    "    f = open(\"data1/\"+city,encoding=\"utf-8\")\n",
    "    dat = f.readline()\n",
    "    print(dat)\n",
    "    to_list = dat.split(\",\")\n",
    "    print(to_list)\n",
    "    to_series = pd.Series(to_list, index = bigdat.columns)\n",
    "    print(to_series)\n",
    "    #df = df.append(a_series, ignore_index=True)"
   ]
  },
  {
   "cell_type": "code",
   "execution_count": null,
   "metadata": {},
   "outputs": [],
   "source": []
  }
 ],
 "metadata": {
  "kernelspec": {
   "display_name": "Python 3",
   "language": "python",
   "name": "python3"
  },
  "language_info": {
   "codemirror_mode": {
    "name": "ipython",
    "version": 3
   },
   "file_extension": ".py",
   "mimetype": "text/x-python",
   "name": "python",
   "nbconvert_exporter": "python",
   "pygments_lexer": "ipython3",
   "version": "3.7.3"
  }
 },
 "nbformat": 4,
 "nbformat_minor": 4
}
