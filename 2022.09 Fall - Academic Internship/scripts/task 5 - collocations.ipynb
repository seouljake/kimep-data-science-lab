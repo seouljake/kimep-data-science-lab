{
 "cells": [
  {
   "cell_type": "markdown",
   "metadata": {},
   "source": [
    "# Advanced Task #5 - Collocations"
   ]
  },
  {
   "cell_type": "markdown",
   "metadata": {},
   "source": [
    "# Step 1. Import tokens from both documents"
   ]
  },
  {
   "cell_type": "code",
   "execution_count": 395,
   "metadata": {},
   "outputs": [],
   "source": [
    "import io"
   ]
  },
  {
   "cell_type": "code",
   "execution_count": 396,
   "metadata": {},
   "outputs": [],
   "source": [
    "# doc name - import \n",
    "doc1name = \"hamlet\"\n",
    "doc2name = \"macbeth\""
   ]
  },
  {
   "cell_type": "code",
   "execution_count": 397,
   "metadata": {},
   "outputs": [],
   "source": [
    "f1name = doc1name+\"_tokens_processed.txt\"\n",
    "f2name = doc2name+\"_tokens_processed.txt\""
   ]
  },
  {
   "cell_type": "code",
   "execution_count": 398,
   "metadata": {},
   "outputs": [
    {
     "data": {
      "text/plain": [
       "15457"
      ]
     },
     "execution_count": 398,
     "metadata": {},
     "output_type": "execute_result"
    }
   ],
   "source": [
    "f1in = open(\"../data/\"+f1name)\n",
    "tokens1 = f1in.readlines()\n",
    "tokens1 = [t.strip() for t in tokens1]\n",
    "len(tokens1)"
   ]
  },
  {
   "cell_type": "code",
   "execution_count": 399,
   "metadata": {},
   "outputs": [
    {
     "data": {
      "text/plain": [
       "['tragedie',\n",
       " 'hamlet',\n",
       " 'william',\n",
       " 'shakespeare',\n",
       " '1599',\n",
       " 'actus',\n",
       " 'primus',\n",
       " 'scoena',\n",
       " 'prima',\n",
       " 'enter']"
      ]
     },
     "execution_count": 399,
     "metadata": {},
     "output_type": "execute_result"
    }
   ],
   "source": [
    "tokens1[0:10]"
   ]
  },
  {
   "cell_type": "code",
   "execution_count": 400,
   "metadata": {},
   "outputs": [
    {
     "data": {
      "text/plain": [
       "10087"
      ]
     },
     "execution_count": 400,
     "metadata": {},
     "output_type": "execute_result"
    }
   ],
   "source": [
    "f2in = open(\"../data/\"+f2name)\n",
    "tokens2 = f2in.readlines()\n",
    "tokens2 = [t.strip() for t in tokens2]\n",
    "len(tokens2)"
   ]
  },
  {
   "cell_type": "code",
   "execution_count": 401,
   "metadata": {},
   "outputs": [
    {
     "data": {
      "text/plain": [
       "['tragedie',\n",
       " 'macbeth',\n",
       " 'william',\n",
       " 'shakespeare',\n",
       " '1603',\n",
       " 'actus',\n",
       " 'primus',\n",
       " 'scoena',\n",
       " 'prima',\n",
       " 'thunder']"
      ]
     },
     "execution_count": 401,
     "metadata": {},
     "output_type": "execute_result"
    }
   ],
   "source": [
    "tokens2[0:10]"
   ]
  },
  {
   "cell_type": "markdown",
   "metadata": {},
   "source": [
    "# Step 2. Collocations - Simple Fxn"
   ]
  },
  {
   "cell_type": "code",
   "execution_count": 57,
   "metadata": {},
   "outputs": [],
   "source": [
    "from nltk.collocations import *"
   ]
  },
  {
   "cell_type": "code",
   "execution_count": 402,
   "metadata": {},
   "outputs": [
    {
     "name": "stdout",
     "output_type": "stream",
     "text": [
      "good lord; rosincrance guildensterne; haue seene; exeunt enter; haue\n",
      "heard; set downe; enter polonius; enter king; dost thou; thou hast;\n",
      "sit downe; behinde arras; father death; thou art; good friend; horatio\n",
      "marcellus; command ment; close consequence; christian buriall; mine\n",
      "owne\n"
     ]
    }
   ],
   "source": [
    "# simple collocation fxn: highest frequency collocations for doc1\n",
    "text1 = nltk.Text(tokens1)\n",
    "text1.collocations()"
   ]
  },
  {
   "cell_type": "code",
   "execution_count": 404,
   "metadata": {},
   "outputs": [
    {
     "name": "stdout",
     "output_type": "stream",
     "text": [
      "exeunt scena; thane cawdor; knock knock; enter macbeth; scena secunda;\n",
      "ten thousand; thou art; three witch; mine eye; malcolme donalbaine;\n",
      "scena prima; good lord; burne cauldron; weyward sister; fire burne;\n",
      "cauldron bubble; drum colour; mine owne; lord macb; worthy thane\n"
     ]
    }
   ],
   "source": [
    "# simple collocation fxn: highest frequency collocations for doc1\n",
    "text2 = nltk.Text(tokens2)\n",
    "text2.collocations()"
   ]
  },
  {
   "cell_type": "markdown",
   "metadata": {},
   "source": [
    "# Step 3. Collocations - Bigrams"
   ]
  },
  {
   "cell_type": "markdown",
   "metadata": {},
   "source": [
    "- https://realpython.com/nltk-nlp-python/#finding-collocations\n",
    "- https://www.nltk.org/howto/collocations.html"
   ]
  },
  {
   "cell_type": "code",
   "execution_count": 418,
   "metadata": {},
   "outputs": [],
   "source": [
    "# choose frequency of collocations to filter\n",
    "filter_freq = 4"
   ]
  },
  {
   "cell_type": "code",
   "execution_count": 419,
   "metadata": {},
   "outputs": [],
   "source": [
    "# advanced collocations\n",
    "bigram_measures = nltk.collocations.BigramAssocMeasures()\n",
    "# trigram_measures = nltk.collocations.TrigramAssocMeasures()"
   ]
  },
  {
   "cell_type": "markdown",
   "metadata": {},
   "source": [
    "### Calcuate bigrams for doc1"
   ]
  },
  {
   "cell_type": "code",
   "execution_count": 420,
   "metadata": {},
   "outputs": [
    {
     "data": {
      "text/plain": [
       "<nltk.collocations.BigramCollocationFinder at 0x1bdd8a07e50>"
      ]
     },
     "execution_count": 420,
     "metadata": {},
     "output_type": "execute_result"
    }
   ],
   "source": [
    "finder1 = BigramCollocationFinder.from_words(text1)\n",
    "finder1"
   ]
  },
  {
   "cell_type": "code",
   "execution_count": 421,
   "metadata": {},
   "outputs": [],
   "source": [
    "# filter for collocations occurring n+ times\n",
    "finder1.apply_freq_filter(filter_freq)"
   ]
  },
  {
   "cell_type": "code",
   "execution_count": 422,
   "metadata": {},
   "outputs": [
    {
     "data": {
      "text/plain": [
       "[('good', 'lord'),\n",
       " ('enter', 'king'),\n",
       " ('wee', 'l'),\n",
       " ('haue', 'seene'),\n",
       " ('lord', 'hamlet'),\n",
       " ('enter', 'hamlet'),\n",
       " ('exeunt', 'enter'),\n",
       " ('hor', 'lord'),\n",
       " ('haue', 'heard'),\n",
       " ('lord', 'haue'),\n",
       " ('ophe', 'lord'),\n",
       " ('st', 'thou'),\n",
       " ('thou', 'hast'),\n",
       " ('enter', 'polonius'),\n",
       " ('father', 'death'),\n",
       " ('good', 'friend'),\n",
       " ('king', 'queene'),\n",
       " ('lord', 'polon'),\n",
       " ('come', 'againe'),\n",
       " ('dost', 'thou'),\n",
       " ('ile', 'haue'),\n",
       " ('let', 'see'),\n",
       " ('rosincrance', 'guildensterne'),\n",
       " ('set', 'downe'),\n",
       " ('thou', 'art'),\n",
       " ('would', 'haue'),\n",
       " ('king', 'haue'),\n",
       " ('king', 'oh'),\n",
       " ('let', 'come'),\n",
       " ('let', 'know'),\n",
       " ('mine', 'owne'),\n",
       " ('well', 'lord'),\n",
       " ('come', 'come'),\n",
       " ('e', 'ene'),\n",
       " ('enter', 'ghost'),\n",
       " ('enter', 'horatio'),\n",
       " ('hamlet', 'hamlet'),\n",
       " ('heauen', 'earth'),\n",
       " ('horatio', 'marcellus'),\n",
       " ('let', 'go'),\n",
       " ('lord', 'exeunt'),\n",
       " ('lord', 'king'),\n",
       " ('reynol', 'lord'),\n",
       " ('rosin', 'lord'),\n",
       " ('shall', 'heare'),\n",
       " ('sit', 'downe'),\n",
       " ('thy', 'selfe'),\n",
       " ('ti', 'true'),\n",
       " ('wilt', 'thou'),\n",
       " ('come', 'hither'),\n",
       " ('come', 'sir'),\n",
       " ('dead', 'body'),\n",
       " ('enter', 'enter'),\n",
       " ('enter', 'queene'),\n",
       " ('fare', 'well'),\n",
       " ('father', 'lost'),\n",
       " ('get', 'thee'),\n",
       " ('giue', 'leaue'),\n",
       " ('good', 'horatio'),\n",
       " ('good', 'night'),\n",
       " ('guild', 'lord'),\n",
       " ('hamlet', 'come'),\n",
       " ('hast', 'thou'),\n",
       " ('hath', 'made'),\n",
       " ('haue', 'done'),\n",
       " ('king', 'hamlet'),\n",
       " ('king', 'king'),\n",
       " ('king', 'laertes'),\n",
       " ('king', 'shall'),\n",
       " ('laertes', 'laer'),\n",
       " ('laertes', 'shall'),\n",
       " ('let', 'follow'),\n",
       " ('lord', 'attendant'),\n",
       " ('lord', 'would'),\n",
       " ('mar', 'lord'),\n",
       " ('marcellus', 'mar'),\n",
       " ('noble', 'father'),\n",
       " ('pol', 'lord'),\n",
       " ('polon', 'marry'),\n",
       " ('polonius', 'pol'),\n",
       " ('shall', 'liue'),\n",
       " ('sir', 'guild'),\n",
       " ('take', 'thy'),\n",
       " ('thou', 'shalt'),\n",
       " ('thy', 'father'),\n",
       " ('thy', 'mother'),\n",
       " ('thy', 'soule'),\n",
       " ('well', 'well'),\n",
       " ('would', 'st')]"
      ]
     },
     "execution_count": 422,
     "metadata": {},
     "output_type": "execute_result"
    }
   ],
   "source": [
    "# finder1_nbest = finder1.nbest(bigram_measures.pmi, 1000)\n",
    "finder1_nbest = finder1.nbest(bigram_measures.raw_freq, 1000)\n",
    "finder1_nbest"
   ]
  },
  {
   "cell_type": "code",
   "execution_count": 423,
   "metadata": {},
   "outputs": [
    {
     "data": {
      "text/plain": [
       "89"
      ]
     },
     "execution_count": 423,
     "metadata": {},
     "output_type": "execute_result"
    }
   ],
   "source": [
    "len(finder1_nbest)"
   ]
  },
  {
   "cell_type": "code",
   "execution_count": 435,
   "metadata": {},
   "outputs": [
    {
     "data": {
      "text/plain": [
       "[(('good', 'lord'), 23),\n",
       " (('enter', 'king'), 15),\n",
       " (('wee', 'l'), 13),\n",
       " (('haue', 'seene'), 12),\n",
       " (('lord', 'hamlet'), 11),\n",
       " (('enter', 'hamlet'), 10),\n",
       " (('exeunt', 'enter'), 10),\n",
       " (('hor', 'lord'), 10),\n",
       " (('haue', 'heard'), 9),\n",
       " (('lord', 'haue'), 9)]"
      ]
     },
     "execution_count": 435,
     "metadata": {},
     "output_type": "execute_result"
    }
   ],
   "source": [
    "# frequency distribution of ngrams in doc1\n",
    "finder1_fd = sorted(finder1.ngram_fd.items(), key=lambda t: (-t[1], t[0]))\n",
    "finder1_fd[0:10]"
   ]
  },
  {
   "cell_type": "markdown",
   "metadata": {},
   "source": [
    "### Repeat these steps for doc2"
   ]
  },
  {
   "cell_type": "code",
   "execution_count": 425,
   "metadata": {},
   "outputs": [
    {
     "data": {
      "text/plain": [
       "[('enter', 'macbeth'),\n",
       " ('exeunt', 'scena'),\n",
       " ('thane', 'cawdor'),\n",
       " ('knock', 'knock'),\n",
       " ('lord', 'macb'),\n",
       " ('st', 'thou'),\n",
       " ('thou', 'art'),\n",
       " ('good', 'lord'),\n",
       " ('haue', 'done'),\n",
       " ('macb', 'haue'),\n",
       " ('enter', 'lady'),\n",
       " ('wee', 'l'),\n",
       " ('macb', 'thou'),\n",
       " ('macbeth', 'macb'),\n",
       " ('mine', 'eye'),\n",
       " ('would', 'st'),\n",
       " ('enter', 'malcolme'),\n",
       " ('enter', 'three'),\n",
       " ('euery', 'one'),\n",
       " ('macb', 'ile'),\n",
       " ('mine', 'owne'),\n",
       " ('scena', 'secunda'),\n",
       " ('three', 'witch'),\n",
       " ('thy', 'selfe'),\n",
       " ('worthy', 'thane'),\n",
       " ('would', 'haue'),\n",
       " ('1', 'murth'),\n",
       " ('alarum', 'enter'),\n",
       " ('borne', 'woman'),\n",
       " ('come', 'come'),\n",
       " ('dy', 'de'),\n",
       " ('enter', 'banquo'),\n",
       " ('enter', 'king'),\n",
       " ('enter', 'macduffe'),\n",
       " ('enter', 'rosse'),\n",
       " ('haile', 'king'),\n",
       " ('haile', 'macbeth'),\n",
       " ('hath', 'made'),\n",
       " ('haue', 'seene'),\n",
       " ('macb', 'bring'),\n",
       " ('macbeth', 'macbeth'),\n",
       " ('malcolme', 'donalbaine'),\n",
       " ('old', 'man'),\n",
       " ('rosse', 'angus'),\n",
       " ('scena', 'prima'),\n",
       " ('see', 'thee'),\n",
       " ('sir', 'macb'),\n",
       " ('ten', 'thousand'),\n",
       " ('tertia', 'enter'),\n",
       " ('thy', 'face'),\n",
       " ('woman', 'borne'),\n",
       " ('would', 'make'),\n",
       " ('yet', 'would')]"
      ]
     },
     "execution_count": 425,
     "metadata": {},
     "output_type": "execute_result"
    }
   ],
   "source": [
    "# repeat for doc2\n",
    "finder2 = BigramCollocationFinder.from_words(text2)\n",
    "finder2.apply_freq_filter(filter_freq)\n",
    "# finder2_nbest = finder2.nbest(bigram_measures.pmi, 1000)\n",
    "finder2_nbest = finder2.nbest(bigram_measures.raw_freq, 1000)\n",
    "finder2_nbest"
   ]
  },
  {
   "cell_type": "code",
   "execution_count": 426,
   "metadata": {},
   "outputs": [
    {
     "data": {
      "text/plain": [
       "53"
      ]
     },
     "execution_count": 426,
     "metadata": {},
     "output_type": "execute_result"
    }
   ],
   "source": [
    "len(finder2_nbest)"
   ]
  },
  {
   "cell_type": "code",
   "execution_count": 434,
   "metadata": {
    "scrolled": true
   },
   "outputs": [
    {
     "data": {
      "text/plain": [
       "[(('enter', 'macbeth'), 18),\n",
       " (('exeunt', 'scena'), 15),\n",
       " (('thane', 'cawdor'), 13),\n",
       " (('knock', 'knock'), 10),\n",
       " (('lord', 'macb'), 10),\n",
       " (('st', 'thou'), 9),\n",
       " (('thou', 'art'), 9),\n",
       " (('good', 'lord'), 8),\n",
       " (('haue', 'done'), 8),\n",
       " (('macb', 'haue'), 8),\n",
       " (('enter', 'lady'), 7),\n",
       " (('wee', 'l'), 7),\n",
       " (('macb', 'thou'), 6),\n",
       " (('macbeth', 'macb'), 6),\n",
       " (('mine', 'eye'), 6),\n",
       " (('would', 'st'), 6),\n",
       " (('enter', 'malcolme'), 5),\n",
       " (('enter', 'three'), 5),\n",
       " (('euery', 'one'), 5),\n",
       " (('macb', 'ile'), 5),\n",
       " (('mine', 'owne'), 5),\n",
       " (('scena', 'secunda'), 5),\n",
       " (('three', 'witch'), 5),\n",
       " (('thy', 'selfe'), 5),\n",
       " (('worthy', 'thane'), 5),\n",
       " (('would', 'haue'), 5),\n",
       " (('1', 'murth'), 4),\n",
       " (('alarum', 'enter'), 4),\n",
       " (('borne', 'woman'), 4),\n",
       " (('come', 'come'), 4),\n",
       " (('dy', 'de'), 4),\n",
       " (('enter', 'banquo'), 4),\n",
       " (('enter', 'king'), 4),\n",
       " (('enter', 'macduffe'), 4),\n",
       " (('enter', 'rosse'), 4),\n",
       " (('haile', 'king'), 4),\n",
       " (('haile', 'macbeth'), 4),\n",
       " (('hath', 'made'), 4),\n",
       " (('haue', 'seene'), 4),\n",
       " (('macb', 'bring'), 4),\n",
       " (('macbeth', 'macbeth'), 4),\n",
       " (('malcolme', 'donalbaine'), 4),\n",
       " (('old', 'man'), 4),\n",
       " (('rosse', 'angus'), 4),\n",
       " (('scena', 'prima'), 4),\n",
       " (('see', 'thee'), 4),\n",
       " (('sir', 'macb'), 4),\n",
       " (('ten', 'thousand'), 4),\n",
       " (('tertia', 'enter'), 4),\n",
       " (('thy', 'face'), 4),\n",
       " (('woman', 'borne'), 4),\n",
       " (('would', 'make'), 4),\n",
       " (('yet', 'would'), 4)]"
      ]
     },
     "execution_count": 434,
     "metadata": {},
     "output_type": "execute_result"
    }
   ],
   "source": [
    "# frequencies of ngrams in doc1\n",
    "finder2_fd = sorted(finder2.ngram_fd.items(), key=lambda t: (-t[1], t[0]))\n",
    "finder2_fd[0:10]"
   ]
  },
  {
   "cell_type": "markdown",
   "metadata": {},
   "source": [
    "### Calculate shared bigrams in the two docs. "
   ]
  },
  {
   "cell_type": "code",
   "execution_count": 428,
   "metadata": {},
   "outputs": [
    {
     "data": {
      "text/plain": [
       "[('good', 'lord'),\n",
       " ('enter', 'king'),\n",
       " ('wee', 'l'),\n",
       " ('haue', 'seene'),\n",
       " ('st', 'thou'),\n",
       " ('thou', 'art'),\n",
       " ('would', 'haue'),\n",
       " ('mine', 'owne'),\n",
       " ('come', 'come'),\n",
       " ('thy', 'selfe'),\n",
       " ('hath', 'made'),\n",
       " ('haue', 'done'),\n",
       " ('would', 'st')]"
      ]
     },
     "execution_count": 428,
     "metadata": {},
     "output_type": "execute_result"
    }
   ],
   "source": [
    "# find overlapping collocations in the two docs\n",
    "overlapping_bigrams = [ngram for ngram in finder1_nbest if ngram in finder2_nbest]\n",
    "\n",
    "# overlapping collocations between the two docs!\n",
    "\n",
    "# if this list is empty, go back up to the line...\n",
    "# filter_freq = 4\n",
    "# and choose a smaller number, such as 2 or 3\n",
    "\n",
    "overlapping_bigrams"
   ]
  },
  {
   "cell_type": "markdown",
   "metadata": {},
   "source": [
    "### Note that the frequency of shared bigrams is not necessarily the same in the two docs. "
   ]
  },
  {
   "cell_type": "code",
   "execution_count": 429,
   "metadata": {},
   "outputs": [],
   "source": [
    "# find doc1 collocations also appearing in doc2\n",
    "doc1_bigrams_overlap = [ngram for ngram in finder1_fd if ngram[0] in finder2_nbest]"
   ]
  },
  {
   "cell_type": "code",
   "execution_count": 430,
   "metadata": {
    "scrolled": true
   },
   "outputs": [
    {
     "data": {
      "text/plain": [
       "[(('good', 'lord'), 23),\n",
       " (('enter', 'king'), 15),\n",
       " (('wee', 'l'), 13),\n",
       " (('haue', 'seene'), 12),\n",
       " (('st', 'thou'), 9),\n",
       " (('thou', 'art'), 7),\n",
       " (('would', 'haue'), 7),\n",
       " (('mine', 'owne'), 6),\n",
       " (('come', 'come'), 5),\n",
       " (('thy', 'selfe'), 5),\n",
       " (('hath', 'made'), 4),\n",
       " (('haue', 'done'), 4),\n",
       " (('would', 'st'), 4)]"
      ]
     },
     "execution_count": 430,
     "metadata": {},
     "output_type": "execute_result"
    }
   ],
   "source": [
    "# overlapping collocations between the two docs - with freq dist from doc1\n",
    "\n",
    "# if this list is empty, go back up to the code: filter_freq = 4\n",
    "# and choose a smaller number, such as 3 or 2\n",
    "\n",
    "doc1_bigrams_overlap"
   ]
  },
  {
   "cell_type": "code",
   "execution_count": 431,
   "metadata": {},
   "outputs": [],
   "source": [
    "# find doc2 collocations also appearing in doc1\n",
    "doc2_bigrams_overlap = [ngram for ngram in finder2_fd if ngram[0] in finder1_nbest]"
   ]
  },
  {
   "cell_type": "code",
   "execution_count": 432,
   "metadata": {
    "scrolled": true
   },
   "outputs": [
    {
     "data": {
      "text/plain": [
       "[(('st', 'thou'), 9),\n",
       " (('thou', 'art'), 9),\n",
       " (('good', 'lord'), 8),\n",
       " (('haue', 'done'), 8),\n",
       " (('wee', 'l'), 7),\n",
       " (('would', 'st'), 6),\n",
       " (('mine', 'owne'), 5),\n",
       " (('thy', 'selfe'), 5),\n",
       " (('would', 'haue'), 5),\n",
       " (('come', 'come'), 4),\n",
       " (('enter', 'king'), 4),\n",
       " (('hath', 'made'), 4),\n",
       " (('haue', 'seene'), 4)]"
      ]
     },
     "execution_count": 432,
     "metadata": {},
     "output_type": "execute_result"
    }
   ],
   "source": [
    "# overlapping collocations between the two docs - with freq dist from doc2\n",
    "doc2_bigrams_overlap"
   ]
  },
  {
   "cell_type": "markdown",
   "metadata": {},
   "source": [
    "# Step 4. Collocations - Trigrams"
   ]
  },
  {
   "cell_type": "markdown",
   "metadata": {},
   "source": [
    "- https://realpython.com/nltk-nlp-python/#finding-collocations\n",
    "- https://www.nltk.org/howto/collocations.html"
   ]
  },
  {
   "cell_type": "code",
   "execution_count": 436,
   "metadata": {},
   "outputs": [],
   "source": [
    "# choose frequency of collocations to filter\n",
    "filter_freq = 2"
   ]
  },
  {
   "cell_type": "code",
   "execution_count": 437,
   "metadata": {},
   "outputs": [],
   "source": [
    "# trigrams\n",
    "trigram_measures = nltk.collocations.TrigramAssocMeasures()"
   ]
  },
  {
   "cell_type": "code",
   "execution_count": 438,
   "metadata": {},
   "outputs": [
    {
     "data": {
      "text/plain": [
       "<nltk.collocations.TrigramCollocationFinder at 0x1bdd892c3d0>"
      ]
     },
     "execution_count": 438,
     "metadata": {},
     "output_type": "execute_result"
    }
   ],
   "source": [
    "finder1 = TrigramCollocationFinder.from_words(text1)\n",
    "finder1"
   ]
  },
  {
   "cell_type": "code",
   "execution_count": 439,
   "metadata": {},
   "outputs": [],
   "source": [
    "# filter for collocations occurring n+ times\n",
    "finder1.apply_freq_filter(filter_freq)"
   ]
  },
  {
   "cell_type": "code",
   "execution_count": 440,
   "metadata": {},
   "outputs": [
    {
     "data": {
      "text/plain": [
       "[('enter', 'king', 'queene'),\n",
       " ('exeunt', 'enter', 'hamlet'),\n",
       " ('would', 'st', 'thou'),\n",
       " ('enter', 'hamlet', 'horatio'),\n",
       " ('enter', 'polonius', 'pol'),\n",
       " ('exeunt', 'manet', 'hamlet'),\n",
       " ('good', 'lord', 'polon'),\n",
       " ('hor', 'good', 'lord'),\n",
       " ('lord', 'exeunt', 'enter'),\n",
       " ('reynol', 'good', 'lord'),\n",
       " ('sit', 'downe', 'let'),\n",
       " ('(', 'say', ')'),\n",
       " ('buried', 'christian', 'buriall'),\n",
       " ('charge', 'thee', 'speake'),\n",
       " ('christian', 'buriall', 'clo'),\n",
       " ('clay', 'made', 'guest'),\n",
       " ('comicall', 'historicall', 'pastorall'),\n",
       " ('deere', 'brother', 'death'),\n",
       " ('dost', 'thou', 'heare'),\n",
       " ('dye', 'sleepe', 'sleepe'),\n",
       " ('enter', 'enter', 'queene'),\n",
       " ('enter', 'horatio', 'marcellus'),\n",
       " ('enter', 'king', 'king'),\n",
       " ('ere', 'go', 'bed'),\n",
       " ('exeunt', 'enter', 'horatio'),\n",
       " ('exeunt', 'scena', 'secunda'),\n",
       " ('father', 'much', 'offended'),\n",
       " ('follow', 'exeunt', 'enter'),\n",
       " ('giue', 'cup', 'let'),\n",
       " ('go', 'exeunt', 'enter'),\n",
       " ('god', 'blesse', 'sir'),\n",
       " ('god', 'buy', 'ye'),\n",
       " ('goe', 'ile', 'follow'),\n",
       " ('good', 'friend', 'ile'),\n",
       " ('guild', 'good', 'lord'),\n",
       " ('hamlet', 'thou', 'hast'),\n",
       " ('hath', 'made', 'mad'),\n",
       " ('haue', 'newes', 'tell'),\n",
       " ('haue', 'seene', 'night'),\n",
       " ('heauen', 'earth', 'must'),\n",
       " ('hor', 'e', 'ene'),\n",
       " ('hora', 'verie', 'well'),\n",
       " ('horatio', 'marcellus', 'mar'),\n",
       " ('ile', 'follow', 'thee'),\n",
       " ('king', 'body', 'king'),\n",
       " ('king', 'haue', 'letter'),\n",
       " ('king', 'laertes', 'king'),\n",
       " ('king', 'queene', 'laertes'),\n",
       " ('king', 'queene', 'polonius'),\n",
       " ('laer', 'cerimony', 'else'),\n",
       " ('laertes', 'shall', 'king'),\n",
       " ('lap', 'ophe', 'lord'),\n",
       " ('let', 'follow', 'exeunt'),\n",
       " ('let', 'go', 'gertrude'),\n",
       " ('let', 'goe', 'together'),\n",
       " ('lord', 'dost', 'thou'),\n",
       " ('lord', 'haue', 'newes'),\n",
       " ('made', 'guest', 'meete'),\n",
       " ('mar', 'ti', 'gone'),\n",
       " ('mason', 'shipwright', 'carpenter'),\n",
       " ('nay', 'good', 'lord'),\n",
       " ('neuer', 'speake', 'haue'),\n",
       " ('noise', 'within', 'enter'),\n",
       " ('oh', 'good', 'horatio'),\n",
       " ('ophe', 'good', 'lord'),\n",
       " ('pit', 'clay', 'made'),\n",
       " ('pol', 'haue', 'lord'),\n",
       " ('polon', 'marry', 'well'),\n",
       " ('polonius', 'ophelia', 'rosincrance'),\n",
       " ('queene', 'polonius', 'ophelia'),\n",
       " ('reynol', 'lord', 'would'),\n",
       " ('reynol', 'well', 'lord'),\n",
       " ('rosin', 'good', 'lord'),\n",
       " ('rosin', 'thinke', 'lord'),\n",
       " ('rosincrance', 'guildensterne', 'lord'),\n",
       " ('scena', 'secunda', 'enter'),\n",
       " ('see', 'wee', 'l'),\n",
       " ('shall', 'see', 'anon'),\n",
       " ('sir', 'guild', 'lord'),\n",
       " ('sweare', 'sword', 'gho'),\n",
       " ('sword', 'gho', 'sweare'),\n",
       " ('thou', 'know', 'st'),\n",
       " ('thus', 'set', 'downe'),\n",
       " ('ti', 'true', 'ti'),\n",
       " ('verie', 'well', 'lord'),\n",
       " ('vse', 'art', 'mad'),\n",
       " ('wee', 'l', 'put'),\n",
       " ('well', 'well', 'well')]"
      ]
     },
     "execution_count": 440,
     "metadata": {},
     "output_type": "execute_result"
    }
   ],
   "source": [
    "# finder1_nbest = finder1.nbest(trigram_measures.pmi, 1000)\n",
    "finder1_nbest = finder1.nbest(trigram_measures.raw_freq, 1000)\n",
    "finder1_nbest"
   ]
  },
  {
   "cell_type": "code",
   "execution_count": 441,
   "metadata": {},
   "outputs": [
    {
     "data": {
      "text/plain": [
       "88"
      ]
     },
     "execution_count": 441,
     "metadata": {},
     "output_type": "execute_result"
    }
   ],
   "source": [
    "len(finder1_nbest)"
   ]
  },
  {
   "cell_type": "code",
   "execution_count": 443,
   "metadata": {},
   "outputs": [
    {
     "data": {
      "text/plain": [
       "[(('enter', 'king', 'queene'), 7),\n",
       " (('exeunt', 'enter', 'hamlet'), 5),\n",
       " (('would', 'st', 'thou'), 4),\n",
       " (('enter', 'hamlet', 'horatio'), 3),\n",
       " (('enter', 'polonius', 'pol'), 3),\n",
       " (('exeunt', 'manet', 'hamlet'), 3),\n",
       " (('good', 'lord', 'polon'), 3),\n",
       " (('hor', 'good', 'lord'), 3),\n",
       " (('lord', 'exeunt', 'enter'), 3),\n",
       " (('reynol', 'good', 'lord'), 3)]"
      ]
     },
     "execution_count": 443,
     "metadata": {},
     "output_type": "execute_result"
    }
   ],
   "source": [
    "# frequencies of ngrams in doc1\n",
    "finder1_fd = sorted(finder1.ngram_fd.items(), key=lambda t: (-t[1], t[0]))\n",
    "finder1_fd[0:10]"
   ]
  },
  {
   "cell_type": "code",
   "execution_count": 444,
   "metadata": {},
   "outputs": [
    {
     "data": {
      "text/plain": [
       "[('knock', 'knock', 'knock'),\n",
       " ('enter', 'macbeth', 'macb'),\n",
       " ('enter', 'three', 'witch'),\n",
       " ('exeunt', 'scena', 'secunda'),\n",
       " ('good', 'lord', 'macb'),\n",
       " ('burne', 'cauldron', 'bubble'),\n",
       " ('enter', 'malcolme', 'seyward'),\n",
       " ('exeunt', 'scena', 'quarta'),\n",
       " ('exeunt', 'scena', 'tertia'),\n",
       " ('fire', 'burne', 'cauldron'),\n",
       " ('lord', 'macb', 'haue'),\n",
       " ('scena', 'prima', 'enter'),\n",
       " ('scena', 'secunda', 'enter'),\n",
       " ('thou', 'speak', 'st'),\n",
       " ('three', 'witch', '1'),\n",
       " ('thunder', 'enter', 'three'),\n",
       " ('trouble', 'fire', 'burne'),\n",
       " ('appar', 'macbeth', 'macbeth'),\n",
       " ('ban', 'good', 'lord'),\n",
       " ('byrnane', 'wood', 'come'),\n",
       " ('cauldron', 'bubble', '2'),\n",
       " ('child', 'shall', 'king'),\n",
       " ('colour', 'enter', 'malcolme'),\n",
       " ('come', 'come', 'come'),\n",
       " ('come', 'night', 'lady'),\n",
       " ('doe', 'ile', 'doe'),\n",
       " ('double', 'double', 'toyle'),\n",
       " ('double', 'toyle', 'trouble'),\n",
       " ('drum', 'colour', 'enter'),\n",
       " ('enter', 'lady', 'lady'),\n",
       " ('enter', 'macbeth', 'banquo'),\n",
       " ('enter', 'macbeth', 'lady'),\n",
       " ('enter', 'macduffe', 'macd'),\n",
       " ('enter', 'rosse', 'angus'),\n",
       " ('exeunt', 'scena', 'quinta'),\n",
       " ('exeunt', 'scena', 'sexta'),\n",
       " ('haile', 'king', 'scotland'),\n",
       " ('haile', 'macbeth', 'haile'),\n",
       " ('haile', 'thee', 'thane'),\n",
       " ('haue', 'done', 'harme'),\n",
       " ('hoboyes', 'torch', 'enter'),\n",
       " ('ile', 'doe', 'ile'),\n",
       " ('king', 'thane', 'cawdor'),\n",
       " ('lord', 'attendant', 'macb'),\n",
       " ('macb', 'haue', 'done'),\n",
       " ('macb', 'thane', 'cawdor'),\n",
       " ('macbeth', 'haile', 'thee'),\n",
       " ('macbeth', 'macbeth', 'macbeth'),\n",
       " ('malcolme', 'seyward', 'macduffe'),\n",
       " ('menteth', 'cathnes', 'angus'),\n",
       " ('old', 'man', 'ti'),\n",
       " ('prima', 'enter', 'banquo'),\n",
       " ('quinta', 'enter', 'macbeth'),\n",
       " ('ring', 'alarum', 'bell'),\n",
       " ('rosse', 'well', 'macd'),\n",
       " ('scaena', 'tertia', 'enter'),\n",
       " ('scena', 'quinta', 'enter'),\n",
       " ('scena', 'tertia', 'enter'),\n",
       " ('see', 'thee', 'still'),\n",
       " ('seyward', 'ten', 'thousand'),\n",
       " ('son', 'must', 'hang'),\n",
       " ('son', 'traitor', 'wife'),\n",
       " ('thane', 'cawdor', 'liues'),\n",
       " ('thee', 'thane', 'cawdor'),\n",
       " ('thou', 'could', 'st'),\n",
       " ('thou', 'father', 'son'),\n",
       " ('thou', 'may', 'st'),\n",
       " ('thou', 'would', 'st'),\n",
       " ('till', 'byrnane', 'wood'),\n",
       " ('toyle', 'trouble', 'fire'),\n",
       " ('vpon', 'enter', 'macduffe'),\n",
       " ('wife', 'euery', 'one'),\n",
       " ('wilt', 'thou', 'father'),\n",
       " ('wood', 'come', 'dunsinane'),\n",
       " ('worthy', 'thane', 'rosse'),\n",
       " ('would', 'st', 'thou')]"
      ]
     },
     "execution_count": 444,
     "metadata": {},
     "output_type": "execute_result"
    }
   ],
   "source": [
    "# repeat for doc2\n",
    "finder2 = TrigramCollocationFinder.from_words(text2)\n",
    "finder2.apply_freq_filter(filter_freq)\n",
    "finder2_nbest = finder2.nbest(trigram_measures.raw_freq, 1000)\n",
    "finder2_nbest"
   ]
  },
  {
   "cell_type": "code",
   "execution_count": 445,
   "metadata": {},
   "outputs": [
    {
     "data": {
      "text/plain": [
       "76"
      ]
     },
     "execution_count": 445,
     "metadata": {},
     "output_type": "execute_result"
    }
   ],
   "source": [
    "len(finder2_nbest)"
   ]
  },
  {
   "cell_type": "code",
   "execution_count": 447,
   "metadata": {},
   "outputs": [
    {
     "data": {
      "text/plain": [
       "[(('knock', 'knock', 'knock'), 6),\n",
       " (('enter', 'macbeth', 'macb'), 5),\n",
       " (('enter', 'three', 'witch'), 4),\n",
       " (('exeunt', 'scena', 'secunda'), 4),\n",
       " (('good', 'lord', 'macb'), 4),\n",
       " (('burne', 'cauldron', 'bubble'), 3),\n",
       " (('enter', 'malcolme', 'seyward'), 3),\n",
       " (('exeunt', 'scena', 'quarta'), 3),\n",
       " (('exeunt', 'scena', 'tertia'), 3),\n",
       " (('fire', 'burne', 'cauldron'), 3)]"
      ]
     },
     "execution_count": 447,
     "metadata": {},
     "output_type": "execute_result"
    }
   ],
   "source": [
    "# frequencies of ngrams in doc2\n",
    "finder2_fd = sorted(finder2.ngram_fd.items(), key=lambda t: (-t[1], t[0]))\n",
    "finder2_fd[0:10]"
   ]
  },
  {
   "cell_type": "markdown",
   "metadata": {},
   "source": [
    "### Calculated shared trigrams in the two docs. "
   ]
  },
  {
   "cell_type": "code",
   "execution_count": 448,
   "metadata": {},
   "outputs": [],
   "source": [
    "# find overlapping collocations in the two docs\n",
    "overlapping_trigrams = [ngram for ngram in finder1_nbest if ngram in finder2_nbest]"
   ]
  },
  {
   "cell_type": "code",
   "execution_count": 449,
   "metadata": {
    "scrolled": true
   },
   "outputs": [
    {
     "data": {
      "text/plain": [
       "[('would', 'st', 'thou'),\n",
       " ('exeunt', 'scena', 'secunda'),\n",
       " ('scena', 'secunda', 'enter')]"
      ]
     },
     "execution_count": 449,
     "metadata": {},
     "output_type": "execute_result"
    }
   ],
   "source": [
    "# overlapping collocations between the two docs!\n",
    "\n",
    "# if this list is null, go back up to the line...\n",
    "# filter_freq = 2\n",
    "# and choose a smaller number, such as 2 or 3\n",
    "\n",
    "overlapping_trigrams"
   ]
  },
  {
   "cell_type": "markdown",
   "metadata": {},
   "source": [
    "### Note that the frequency of overlapping trigrams is not the same for each document "
   ]
  },
  {
   "cell_type": "code",
   "execution_count": 264,
   "metadata": {},
   "outputs": [],
   "source": [
    "# find doc1 collocations also appearing in doc2\n",
    "doc1_trigrams_overlap = [ngram for ngram in finder1_fd if ngram[0] in finder2_nbest]"
   ]
  },
  {
   "cell_type": "code",
   "execution_count": 265,
   "metadata": {
    "scrolled": true
   },
   "outputs": [
    {
     "data": {
      "text/plain": [
       "[(('would', 'st', 'thou'), 4),\n",
       " (('exeunt', 'scena', 'secunda'), 2),\n",
       " (('scena', 'secunda', 'enter'), 2)]"
      ]
     },
     "execution_count": 265,
     "metadata": {},
     "output_type": "execute_result"
    }
   ],
   "source": [
    "# overlapping collocations between the two docs - with freq dist from doc1\n",
    "\n",
    "# if this list is empty, go back up to the code: filter_freq = 4\n",
    "# and choose a smaller number, such as 3 or 2\n",
    "\n",
    "doc1_trigrams_overlap"
   ]
  },
  {
   "cell_type": "code",
   "execution_count": 266,
   "metadata": {},
   "outputs": [],
   "source": [
    "# find doc2 collocations also appearing in doc1\n",
    "doc2_bigrams_overlap = [ngram for ngram in finder2_fd if ngram[0] in finder1_nbest]"
   ]
  },
  {
   "cell_type": "code",
   "execution_count": 267,
   "metadata": {
    "scrolled": true
   },
   "outputs": [
    {
     "data": {
      "text/plain": [
       "[(('exeunt', 'scena', 'secunda'), 4),\n",
       " (('scena', 'secunda', 'enter'), 3),\n",
       " (('would', 'st', 'thou'), 2)]"
      ]
     },
     "execution_count": 267,
     "metadata": {},
     "output_type": "execute_result"
    }
   ],
   "source": [
    "# overlapping collocations between the two docs - with freq dist from doc2\n",
    "doc2_bigrams_overlap"
   ]
  },
  {
   "cell_type": "markdown",
   "metadata": {},
   "source": [
    "# Step 5. Collocations containing a keyword"
   ]
  },
  {
   "cell_type": "code",
   "execution_count": 473,
   "metadata": {},
   "outputs": [],
   "source": [
    "# choose a keyword relevant to your documents\n",
    "\n",
    "### in both documents\n",
    "# keyword = \"king\"\n",
    "# keyword = \"lord\"\n",
    "# keyword = \"thou\"\n",
    "\n",
    "### in doc1\n",
    "keyword = \"hamlet\"\n",
    "# keyword = \"father\"\n",
    "\n",
    "### in doc2\n",
    "# keyword = \"macb\"\n",
    "# keyword = \"macbeth\"\n",
    "# keyword = \"lady\""
   ]
  },
  {
   "cell_type": "code",
   "execution_count": 474,
   "metadata": {},
   "outputs": [],
   "source": [
    "# set the minimum ngram frequency\n",
    "freq_min = 1"
   ]
  },
  {
   "cell_type": "markdown",
   "metadata": {},
   "source": [
    "### Bigrams containing a keyword"
   ]
  },
  {
   "cell_type": "code",
   "execution_count": 475,
   "metadata": {},
   "outputs": [
    {
     "data": {
      "text/plain": [
       "[('lord', 'hamlet'),\n",
       " ('enter', 'hamlet'),\n",
       " ('hamlet', 'hamlet'),\n",
       " ('hamlet', 'come'),\n",
       " ('king', 'hamlet'),\n",
       " ('hamlet', 'hor'),\n",
       " ('hamlet', 'horatio'),\n",
       " ('hamlet', 'oh'),\n",
       " ('hamlet', 'thou'),\n",
       " ('manet', 'hamlet'),\n",
       " ('cause', 'hamlet'),\n",
       " ('cosin', 'hamlet'),\n",
       " ('drinke', 'hamlet'),\n",
       " ('exit', 'hamlet'),\n",
       " ('good', 'hamlet'),\n",
       " ('hamlet', 'giue'),\n",
       " ('hamlet', 'good'),\n",
       " ('hamlet', 'mother'),\n",
       " ('hamlet', 'polonius'),\n",
       " ('hamlet', 'prince'),\n",
       " ('madnesse', 'hamlet'),\n",
       " ('oh', 'hamlet'),\n",
       " ('tragedie', 'hamlet'),\n",
       " ('&', 'hamlet'),\n",
       " ('accord', 'hamlet'),\n",
       " ('adue', 'hamlet')]"
      ]
     },
     "execution_count": 475,
     "metadata": {},
     "output_type": "execute_result"
    }
   ],
   "source": [
    "# bigrams in doc1\n",
    "finder1 = BigramCollocationFinder.from_words(text1)\n",
    "finder1.apply_freq_filter(freq_min)\n",
    "finder1_nbest = finder1.nbest(bigram_measures.raw_freq, 1000)\n",
    "finder1_keyword = [ngram for ngram in finder1_nbest if keyword in ngram]\n",
    "finder1_keyword"
   ]
  },
  {
   "cell_type": "code",
   "execution_count": 470,
   "metadata": {},
   "outputs": [
    {
     "data": {
      "text/plain": [
       "[('enter', 'macbeth'),\n",
       " ('macbeth', 'macb'),\n",
       " ('haile', 'macbeth'),\n",
       " ('macbeth', 'macbeth'),\n",
       " ('macbeth', 'banquo'),\n",
       " ('macbeth', 'haile'),\n",
       " ('macbeth', 'shall'),\n",
       " ('appar', 'macbeth'),\n",
       " ('macbeth', 'hath'),\n",
       " ('macbeth', 'lady'),\n",
       " ('macbeth', 'lenox'),\n",
       " ('macbeth', 'macd'),\n",
       " ('tragedie', 'macbeth'),\n",
       " ('3', 'macbeth'),\n",
       " ('banquo', 'macbeth')]"
      ]
     },
     "execution_count": 470,
     "metadata": {},
     "output_type": "execute_result"
    }
   ],
   "source": [
    "# bigrams in doc2\n",
    "finder2 = BigramCollocationFinder.from_words(text2)\n",
    "finder2.apply_freq_filter(freq_min)\n",
    "finder2_nbest = finder2.nbest(bigram_measures.raw_freq, 1000)\n",
    "finder2_keyword = [ngram for ngram in finder2_nbest if keyword in ngram]\n",
    "finder2_keyword"
   ]
  },
  {
   "cell_type": "code",
   "execution_count": 463,
   "metadata": {},
   "outputs": [
    {
     "data": {
      "text/plain": [
       "[]"
      ]
     },
     "execution_count": 463,
     "metadata": {},
     "output_type": "execute_result"
    }
   ],
   "source": [
    "ngrams_overlapping_keyword = [ngram for ngram in finder1_keyword if ngram in finder2_keyword]\n",
    "ngrams_overlapping_keyword"
   ]
  },
  {
   "cell_type": "markdown",
   "metadata": {},
   "source": [
    "### Trigrams containing a keyword"
   ]
  },
  {
   "cell_type": "code",
   "execution_count": 471,
   "metadata": {},
   "outputs": [
    {
     "data": {
      "text/plain": [
       "[]"
      ]
     },
     "execution_count": 471,
     "metadata": {},
     "output_type": "execute_result"
    }
   ],
   "source": [
    "# trigrams in doc1\n",
    "finder1 = TrigramCollocationFinder.from_words(text1)\n",
    "finder1.apply_freq_filter(freq_min)\n",
    "finder1_nbest = finder1.nbest(trigram_measures.raw_freq, 1000)\n",
    "finder1_keyword = [ngram for ngram in finder1_nbest if keyword in ngram]\n",
    "finder1_keyword"
   ]
  },
  {
   "cell_type": "code",
   "execution_count": 472,
   "metadata": {},
   "outputs": [
    {
     "data": {
      "text/plain": [
       "[('enter', 'macbeth', 'macb'),\n",
       " ('appar', 'macbeth', 'macbeth'),\n",
       " ('enter', 'macbeth', 'banquo'),\n",
       " ('enter', 'macbeth', 'lady'),\n",
       " ('haile', 'macbeth', 'haile'),\n",
       " ('macbeth', 'haile', 'thee'),\n",
       " ('macbeth', 'macbeth', 'macbeth'),\n",
       " ('quinta', 'enter', 'macbeth'),\n",
       " ('1', 'appar', 'macbeth'),\n",
       " ('1', 'banquo', 'macbeth'),\n",
       " ('1', 'haile', 'macbeth'),\n",
       " ('1', 'lesser', 'macbeth'),\n",
       " ('2', 'appar', 'macbeth'),\n",
       " ('2', 'haile', 'macbeth'),\n",
       " ('3', 'haile', 'macbeth'),\n",
       " ('3', 'macbeth', '2'),\n",
       " ('3', 'meet', 'macbeth'),\n",
       " ('alarum', 'enter', 'macbeth'),\n",
       " ('awake', 'exeunt', 'macbeth'),\n",
       " ('banq', 'worthy', 'macbeth'),\n",
       " ('banquo', 'macbeth', 'haile'),\n",
       " ('banquo', 'sits', 'macbeth'),\n",
       " ('better', 'macbeth', 'one'),\n",
       " ('blacke', 'macbeth', 'seeme')]"
      ]
     },
     "execution_count": 472,
     "metadata": {},
     "output_type": "execute_result"
    }
   ],
   "source": [
    "# trigrams in doc2\n",
    "finder2 = TrigramCollocationFinder.from_words(text2)\n",
    "finder2.apply_freq_filter(freq_min)\n",
    "finder2_nbest = finder2.nbest(trigram_measures.raw_freq, 1000)\n",
    "finder2_keyword = [ngram for ngram in finder2_nbest if keyword in ngram]\n",
    "finder2_keyword"
   ]
  },
  {
   "cell_type": "code",
   "execution_count": 458,
   "metadata": {},
   "outputs": [
    {
     "data": {
      "text/plain": [
       "[]"
      ]
     },
     "execution_count": 458,
     "metadata": {},
     "output_type": "execute_result"
    }
   ],
   "source": [
    "ngrams_overlapping_keyword = [ngram for ngram in finder1_keyword if ngram in finder2_keyword]\n",
    "ngrams_overlapping_keyword"
   ]
  },
  {
   "cell_type": "markdown",
   "metadata": {},
   "source": [
    "# Step 6. Report Results in a Word Document"
   ]
  },
  {
   "cell_type": "markdown",
   "metadata": {},
   "source": [
    "- ### top bigrams in doc1 and doc2\n",
    "\n",
    "    1. Top 10 (highest frequency) bigrams in doc1\n",
    "    2. Top 10 (highest frequency) bigrams in doc2\n",
    "    3. Overlapping bigrams in doc1 and doc2\n",
    "    \n",
    "- ### top trigrams in doc1 and doc2\n",
    "    \n",
    "    4. Top 10 (highest frequency) trigrams in doc1\n",
    "    5. Top 10 (highest frequency) trigrams in doc2\n",
    "    6. Overlapping trigrams in doc1 and doc2\n",
    "    \n",
    "- ### shared keyword\n",
    "    7. Overlapping bigrams in doc1 and doc2 containing a shared keyword\n",
    "    8. Overlapping trigrams in doc1 and doc2 containing a shared keyword\n",
    "    \n",
    "- ### keyword unique to doc1\n",
    "    9. Bigrams in doc1 containing a keyword unique to doc1\n",
    "    10. Trigrams in doc1 containing a keyword unique to doc1\n",
    "    \n",
    "- ### keyword unique to doc2\n",
    "    11. Bigrams in doc2 containing a keyword unique to doc2\n",
    "    12. Trigrams in doc2 containing a keyword unique to doc2\n"
   ]
  },
  {
   "cell_type": "code",
   "execution_count": null,
   "metadata": {},
   "outputs": [],
   "source": []
  }
 ],
 "metadata": {
  "kernelspec": {
   "display_name": "Python 3 (ipykernel)",
   "language": "python",
   "name": "python3"
  },
  "language_info": {
   "codemirror_mode": {
    "name": "ipython",
    "version": 3
   },
   "file_extension": ".py",
   "mimetype": "text/x-python",
   "name": "python",
   "nbconvert_exporter": "python",
   "pygments_lexer": "ipython3",
   "version": "3.11.0"
  }
 },
 "nbformat": 4,
 "nbformat_minor": 4
}
