{
 "cells": [
  {
   "cell_type": "markdown",
   "id": "5abc2516",
   "metadata": {},
   "source": [
    "# Task 4.1 - Process Tokens"
   ]
  },
  {
   "cell_type": "markdown",
   "id": "a787b81c",
   "metadata": {},
   "source": [
    "### Steps\n",
    "\n",
    "0. Preliminary Steps: Construct & Import Corpus\n",
    "1. Process Tokens\n",
    "2. Keyword Analysis\n",
    "3. **Latent Topic Analysis"
   ]
  },
  {
   "cell_type": "markdown",
   "id": "4620f1c5",
   "metadata": {},
   "source": [
    "# 0. Construct Corpus"
   ]
  },
  {
   "cell_type": "code",
   "execution_count": null,
   "id": "ed080e36",
   "metadata": {},
   "outputs": [],
   "source": []
  },
  {
   "cell_type": "code",
   "execution_count": null,
   "id": "6e793b47",
   "metadata": {},
   "outputs": [],
   "source": []
  },
  {
   "cell_type": "markdown",
   "id": "83cfed3d",
   "metadata": {},
   "source": [
    "# 0. Import Corpus"
   ]
  },
  {
   "cell_type": "code",
   "execution_count": 1,
   "id": "ad9a85f7",
   "metadata": {},
   "outputs": [],
   "source": [
    "# pip install pandas"
   ]
  },
  {
   "cell_type": "code",
   "execution_count": 2,
   "id": "a8f81787",
   "metadata": {},
   "outputs": [],
   "source": [
    "# pip install os"
   ]
  },
  {
   "cell_type": "code",
   "execution_count": 3,
   "id": "f1c8c700",
   "metadata": {},
   "outputs": [],
   "source": [
    "import pandas as pd\n",
    "import os"
   ]
  },
  {
   "cell_type": "code",
   "execution_count": 4,
   "id": "e21ed104",
   "metadata": {},
   "outputs": [],
   "source": [
    "# corpus path\n",
    "corpus_path = \"corpus/\""
   ]
  },
  {
   "cell_type": "code",
   "execution_count": 5,
   "id": "304370ba",
   "metadata": {},
   "outputs": [],
   "source": [
    "# corpus index file name\n",
    "corpus_index_filename = \"corpus index.xlsx\""
   ]
  },
  {
   "cell_type": "code",
   "execution_count": 6,
   "id": "e72233cd",
   "metadata": {},
   "outputs": [
    {
     "data": {
      "text/plain": [
       "(33, 3)"
      ]
     },
     "execution_count": 6,
     "metadata": {},
     "output_type": "execute_result"
    }
   ],
   "source": [
    "# import corpus index\n",
    "corpus_index = pd.read_excel(corpus_index_filename, header=0)\n",
    "corpus_index.shape"
   ]
  },
  {
   "cell_type": "code",
   "execution_count": 7,
   "id": "81fef585",
   "metadata": {},
   "outputs": [
    {
     "data": {
      "text/html": [
       "<div>\n",
       "<style scoped>\n",
       "    .dataframe tbody tr th:only-of-type {\n",
       "        vertical-align: middle;\n",
       "    }\n",
       "\n",
       "    .dataframe tbody tr th {\n",
       "        vertical-align: top;\n",
       "    }\n",
       "\n",
       "    .dataframe thead th {\n",
       "        text-align: right;\n",
       "    }\n",
       "</style>\n",
       "<table border=\"1\" class=\"dataframe\">\n",
       "  <thead>\n",
       "    <tr style=\"text-align: right;\">\n",
       "      <th></th>\n",
       "      <th>Filename</th>\n",
       "      <th>Date</th>\n",
       "      <th>Description</th>\n",
       "    </tr>\n",
       "  </thead>\n",
       "  <tbody>\n",
       "    <tr>\n",
       "      <th>0</th>\n",
       "      <td>20130504</td>\n",
       "      <td>2013.05.04</td>\n",
       "      <td>“Harmony Lessons” Honoured at Tribeca Film Fes...</td>\n",
       "    </tr>\n",
       "    <tr>\n",
       "      <th>1</th>\n",
       "      <td>20140609</td>\n",
       "      <td>2014.06.09</td>\n",
       "      <td>Spiritual and Religious Harmony to be Developed</td>\n",
       "    </tr>\n",
       "    <tr>\n",
       "      <th>2</th>\n",
       "      <td>20141219</td>\n",
       "      <td>2014.12.19</td>\n",
       "      <td>National News in Brief</td>\n",
       "    </tr>\n",
       "    <tr>\n",
       "      <th>3</th>\n",
       "      <td>20150128</td>\n",
       "      <td>2015.01.28</td>\n",
       "      <td>Why Celebrate 550 Years of Kazakh Statehood?</td>\n",
       "    </tr>\n",
       "    <tr>\n",
       "      <th>4</th>\n",
       "      <td>20150630</td>\n",
       "      <td>2015.06.30</td>\n",
       "      <td>Regional Conference Against Violent Extremism ...</td>\n",
       "    </tr>\n",
       "    <tr>\n",
       "      <th>5</th>\n",
       "      <td>20150702</td>\n",
       "      <td>2015.07.02</td>\n",
       "      <td>Calls for Broader Cooperation Define Astana An...</td>\n",
       "    </tr>\n",
       "    <tr>\n",
       "      <th>6</th>\n",
       "      <td>20160407</td>\n",
       "      <td>2016.04.07</td>\n",
       "      <td>New EU Project Aims to Enhance Criminal Justic...</td>\n",
       "    </tr>\n",
       "    <tr>\n",
       "      <th>7</th>\n",
       "      <td>20160408</td>\n",
       "      <td>2016.04.08</td>\n",
       "      <td>100 Concrete Steps Programme has Yielded Posit...</td>\n",
       "    </tr>\n",
       "    <tr>\n",
       "      <th>8</th>\n",
       "      <td>20161103</td>\n",
       "      <td>2016.11.03</td>\n",
       "      <td>Kazakhstan Significantly Reduces Prison Popula...</td>\n",
       "    </tr>\n",
       "    <tr>\n",
       "      <th>9</th>\n",
       "      <td>20161115</td>\n",
       "      <td>2016.11.15</td>\n",
       "      <td>Prosecutor General Offers New Methods to Fight...</td>\n",
       "    </tr>\n",
       "    <tr>\n",
       "      <th>10</th>\n",
       "      <td>20161210</td>\n",
       "      <td>2016.12.10</td>\n",
       "      <td>Public Safety Has Steadily Improved since Inde...</td>\n",
       "    </tr>\n",
       "    <tr>\n",
       "      <th>11</th>\n",
       "      <td>20170603</td>\n",
       "      <td>2017.06.03</td>\n",
       "      <td>Expert presents book about Central Asian milit...</td>\n",
       "    </tr>\n",
       "    <tr>\n",
       "      <th>12</th>\n",
       "      <td>20170903</td>\n",
       "      <td>2017.09.03</td>\n",
       "      <td>UK, Kazakhstan to train Kazakh prison officers...</td>\n",
       "    </tr>\n",
       "    <tr>\n",
       "      <th>13</th>\n",
       "      <td>20170916</td>\n",
       "      <td>2017.09.16</td>\n",
       "      <td>Final de-escalation zone established as Syrian...</td>\n",
       "    </tr>\n",
       "    <tr>\n",
       "      <th>14</th>\n",
       "      <td>20171005</td>\n",
       "      <td>2017.10.05</td>\n",
       "      <td>New prisons will burden Kazakh budget, officia...</td>\n",
       "    </tr>\n",
       "    <tr>\n",
       "      <th>15</th>\n",
       "      <td>20171030</td>\n",
       "      <td>2017.10.30</td>\n",
       "      <td>Rule of Law in Kazakhstan</td>\n",
       "    </tr>\n",
       "    <tr>\n",
       "      <th>16</th>\n",
       "      <td>20180130</td>\n",
       "      <td>2018.01.30</td>\n",
       "      <td>Changes in Kazakhstan life for 2018</td>\n",
       "    </tr>\n",
       "    <tr>\n",
       "      <th>17</th>\n",
       "      <td>20180217</td>\n",
       "      <td>2018.02.17</td>\n",
       "      <td>Kazakhstan’s prison population drops dramatica...</td>\n",
       "    </tr>\n",
       "    <tr>\n",
       "      <th>18</th>\n",
       "      <td>20180316</td>\n",
       "      <td>2018.03.16</td>\n",
       "      <td>Kazakhstan announces conference on Afghan gend...</td>\n",
       "    </tr>\n",
       "    <tr>\n",
       "      <th>19</th>\n",
       "      <td>20180719</td>\n",
       "      <td>2018.07.19</td>\n",
       "      <td>Kazakhstan to upgrade prisons to international...</td>\n",
       "    </tr>\n",
       "    <tr>\n",
       "      <th>20</th>\n",
       "      <td>20190605</td>\n",
       "      <td>2019.06.05</td>\n",
       "      <td>Kazakhstan remembers Karlag horrors</td>\n",
       "    </tr>\n",
       "    <tr>\n",
       "      <th>21</th>\n",
       "      <td>20190606</td>\n",
       "      <td>2019.06.06</td>\n",
       "      <td>Kazakhstan marks Day of Remembrance of Victims...</td>\n",
       "    </tr>\n",
       "    <tr>\n",
       "      <th>22</th>\n",
       "      <td>20190614</td>\n",
       "      <td>2019.06.14</td>\n",
       "      <td>PRI seeks to help Kazakhstan reform criminal j...</td>\n",
       "    </tr>\n",
       "    <tr>\n",
       "      <th>23</th>\n",
       "      <td>20190904</td>\n",
       "      <td>2019.09.04</td>\n",
       "      <td>Kazakhstan appoints Elvira Azimova new Human R...</td>\n",
       "    </tr>\n",
       "    <tr>\n",
       "      <th>24</th>\n",
       "      <td>20191022</td>\n",
       "      <td>2019.10.22</td>\n",
       "      <td>Kazakh MIA introduces distance learning, onlin...</td>\n",
       "    </tr>\n",
       "    <tr>\n",
       "      <th>25</th>\n",
       "      <td>20191104</td>\n",
       "      <td>2019.11.04</td>\n",
       "      <td>UNODC launches programme to support management...</td>\n",
       "    </tr>\n",
       "    <tr>\n",
       "      <th>26</th>\n",
       "      <td>20210305</td>\n",
       "      <td>2021.03.05</td>\n",
       "      <td>Alikhan Bokeikhanov: A Life Devoted to His Cou...</td>\n",
       "    </tr>\n",
       "    <tr>\n",
       "      <th>27</th>\n",
       "      <td>20210323</td>\n",
       "      <td>2021.03.23</td>\n",
       "      <td>Kazakhstan: A Nation that Treats People with K...</td>\n",
       "    </tr>\n",
       "    <tr>\n",
       "      <th>28</th>\n",
       "      <td>20210615</td>\n",
       "      <td>2021.06.15</td>\n",
       "      <td>Kazakh Commissioner for Human Rights Briefs Di...</td>\n",
       "    </tr>\n",
       "    <tr>\n",
       "      <th>29</th>\n",
       "      <td>20211223</td>\n",
       "      <td>2021.12.23</td>\n",
       "      <td>Seventeenth Round of Talks on Syria in Nur-Sul...</td>\n",
       "    </tr>\n",
       "    <tr>\n",
       "      <th>30</th>\n",
       "      <td>20220411</td>\n",
       "      <td>2022.04.11</td>\n",
       "      <td>US Ready to Partner With Kazakh Government on ...</td>\n",
       "    </tr>\n",
       "    <tr>\n",
       "      <th>31</th>\n",
       "      <td>20220715</td>\n",
       "      <td>2022.07.15</td>\n",
       "      <td>Kazakh National Security Committee Celebrates ...</td>\n",
       "    </tr>\n",
       "    <tr>\n",
       "      <th>32</th>\n",
       "      <td>20220720</td>\n",
       "      <td>2022.07.20</td>\n",
       "      <td>Public Officials Visit Remand Prisons to Culti...</td>\n",
       "    </tr>\n",
       "  </tbody>\n",
       "</table>\n",
       "</div>"
      ],
      "text/plain": [
       "    Filename        Date                                        Description\n",
       "0   20130504  2013.05.04  “Harmony Lessons” Honoured at Tribeca Film Fes...\n",
       "1   20140609  2014.06.09    Spiritual and Religious Harmony to be Developed\n",
       "2   20141219  2014.12.19                             National News in Brief\n",
       "3   20150128  2015.01.28       Why Celebrate 550 Years of Kazakh Statehood?\n",
       "4   20150630  2015.06.30  Regional Conference Against Violent Extremism ...\n",
       "5   20150702  2015.07.02  Calls for Broader Cooperation Define Astana An...\n",
       "6   20160407  2016.04.07  New EU Project Aims to Enhance Criminal Justic...\n",
       "7   20160408  2016.04.08  100 Concrete Steps Programme has Yielded Posit...\n",
       "8   20161103  2016.11.03  Kazakhstan Significantly Reduces Prison Popula...\n",
       "9   20161115  2016.11.15  Prosecutor General Offers New Methods to Fight...\n",
       "10  20161210  2016.12.10  Public Safety Has Steadily Improved since Inde...\n",
       "11  20170603  2017.06.03  Expert presents book about Central Asian milit...\n",
       "12  20170903  2017.09.03  UK, Kazakhstan to train Kazakh prison officers...\n",
       "13  20170916  2017.09.16  Final de-escalation zone established as Syrian...\n",
       "14  20171005  2017.10.05  New prisons will burden Kazakh budget, officia...\n",
       "15  20171030  2017.10.30                          Rule of Law in Kazakhstan\n",
       "16  20180130  2018.01.30                Changes in Kazakhstan life for 2018\n",
       "17  20180217  2018.02.17  Kazakhstan’s prison population drops dramatica...\n",
       "18  20180316  2018.03.16  Kazakhstan announces conference on Afghan gend...\n",
       "19  20180719  2018.07.19  Kazakhstan to upgrade prisons to international...\n",
       "20  20190605  2019.06.05                Kazakhstan remembers Karlag horrors\n",
       "21  20190606  2019.06.06  Kazakhstan marks Day of Remembrance of Victims...\n",
       "22  20190614  2019.06.14  PRI seeks to help Kazakhstan reform criminal j...\n",
       "23  20190904  2019.09.04  Kazakhstan appoints Elvira Azimova new Human R...\n",
       "24  20191022  2019.10.22  Kazakh MIA introduces distance learning, onlin...\n",
       "25  20191104  2019.11.04  UNODC launches programme to support management...\n",
       "26  20210305  2021.03.05  Alikhan Bokeikhanov: A Life Devoted to His Cou...\n",
       "27  20210323  2021.03.23  Kazakhstan: A Nation that Treats People with K...\n",
       "28  20210615  2021.06.15  Kazakh Commissioner for Human Rights Briefs Di...\n",
       "29  20211223  2021.12.23  Seventeenth Round of Talks on Syria in Nur-Sul...\n",
       "30  20220411  2022.04.11  US Ready to Partner With Kazakh Government on ...\n",
       "31  20220715  2022.07.15  Kazakh National Security Committee Celebrates ...\n",
       "32  20220720  2022.07.20  Public Officials Visit Remand Prisons to Culti..."
      ]
     },
     "execution_count": 7,
     "metadata": {},
     "output_type": "execute_result"
    }
   ],
   "source": [
    "corpus_index"
   ]
  },
  {
   "cell_type": "code",
   "execution_count": 10,
   "id": "37a56aed",
   "metadata": {},
   "outputs": [
    {
     "data": {
      "text/plain": [
       "33"
      ]
     },
     "execution_count": 10,
     "metadata": {},
     "output_type": "execute_result"
    }
   ],
   "source": [
    "# grab file names in corpus/\n",
    "corpus_filenames = os.listdir(corpus_path)\n",
    "len(corpus_filenames)"
   ]
  },
  {
   "cell_type": "code",
   "execution_count": 11,
   "id": "c6d3a099",
   "metadata": {},
   "outputs": [
    {
     "data": {
      "text/plain": [
       "['20130504.txt',\n",
       " '20140609.txt',\n",
       " '20141219.txt',\n",
       " '20150128.txt',\n",
       " '20150630.txt',\n",
       " '20150702.txt',\n",
       " '20160407.txt',\n",
       " '20160408.txt',\n",
       " '20161103.txt',\n",
       " '20161115.txt',\n",
       " '20161210.txt',\n",
       " '20170603.txt',\n",
       " '20170903.txt',\n",
       " '20170916.txt',\n",
       " '20171005.txt',\n",
       " '20171030.txt',\n",
       " '20180130.txt',\n",
       " '20180217.txt',\n",
       " '20180316.txt',\n",
       " '20180719.txt',\n",
       " '20190605.txt',\n",
       " '20190606.txt',\n",
       " '20190614.txt',\n",
       " '20190904.txt',\n",
       " '20191022.txt',\n",
       " '20191104.txt',\n",
       " '20210305.txt',\n",
       " '20210323.txt',\n",
       " '20210615.txt',\n",
       " '20211223.txt',\n",
       " '20220411.txt',\n",
       " '20220715.txt',\n",
       " '20220720.txt']"
      ]
     },
     "execution_count": 11,
     "metadata": {},
     "output_type": "execute_result"
    }
   ],
   "source": [
    "corpus_filenames"
   ]
  },
  {
   "cell_type": "code",
   "execution_count": 12,
   "id": "262c4787",
   "metadata": {},
   "outputs": [
    {
     "data": {
      "text/plain": [
       "33"
      ]
     },
     "execution_count": 12,
     "metadata": {},
     "output_type": "execute_result"
    }
   ],
   "source": [
    "doc_ids = []\n",
    "doc_text = []\n",
    "\n",
    "for filename in corpus_filenames:\n",
    "    doc_file = open(corpus_path+filename,encoding=\"utf-8\")\n",
    "    doc_lines = doc_file.readlines()\n",
    "    doc_lines = [line.strip() for line in doc_lines]\n",
    "    doc_lines = \"\".join(doc_lines)\n",
    "    doc_file.close()\n",
    "    \n",
    "    doc_id = filename.split(\".\")[0]\n",
    "    \n",
    "    doc_ids.append(doc_id)\n",
    "    doc_text.append(doc_lines)\n",
    "    \n",
    "len(doc_ids)"
   ]
  },
  {
   "cell_type": "code",
   "execution_count": 13,
   "id": "eb56ce5a",
   "metadata": {},
   "outputs": [
    {
     "data": {
      "text/plain": [
       "['20130504',\n",
       " '20140609',\n",
       " '20141219',\n",
       " '20150128',\n",
       " '20150630',\n",
       " '20150702',\n",
       " '20160407',\n",
       " '20160408',\n",
       " '20161103',\n",
       " '20161115',\n",
       " '20161210',\n",
       " '20170603',\n",
       " '20170903',\n",
       " '20170916',\n",
       " '20171005',\n",
       " '20171030',\n",
       " '20180130',\n",
       " '20180217',\n",
       " '20180316',\n",
       " '20180719',\n",
       " '20190605',\n",
       " '20190606',\n",
       " '20190614',\n",
       " '20190904',\n",
       " '20191022',\n",
       " '20191104',\n",
       " '20210305',\n",
       " '20210323',\n",
       " '20210615',\n",
       " '20211223',\n",
       " '20220411',\n",
       " '20220715',\n",
       " '20220720']"
      ]
     },
     "execution_count": 13,
     "metadata": {},
     "output_type": "execute_result"
    }
   ],
   "source": [
    "doc_ids"
   ]
  },
  {
   "cell_type": "code",
   "execution_count": 14,
   "id": "770509b0",
   "metadata": {},
   "outputs": [
    {
     "data": {
      "text/plain": [
       "'Public Safety Has Steadily Improved since Independence, Says Prosecutor GeneralPublic safety has steadily improved since independence, Prosecutor General Zhakip Asanov told a Dec. 9 roundtable of the Commission on Human Rights under the President of Kazakhstan.Murders have decreased three and a half times, violent crime three times and robberies five times since independence, he said. The nation’s prison population has also dropped from 105,000 in 1991 to 36,000 today and the country has closed eight prisons. The changes have improved the country’s position on the world prison ranking by 59 places to 62nd.Kazakhstan also ranks 75th on the 2016 Global Peace Index, the highest among Commonwealth of Independent States (CIS). The index gauges global peace based on a country’s level of societal safety and security, its extent of domestic and international conflict and degree of militarisation.The Prosecutor General also said 70 percent of torture cases are investigated and 146 government employees have been prosecuted for torture over the last five years. He also noted Kazakhstan has ratified the UN Convention on torture and introduced punishments of up to 12 years for torture-related crimes.Asanov said his office will introduce at the Jan. 17 Fourth Prison Forum a 33-step plan, “Towards a society of effective complaints,” to improve the public’s ability to report torture.Asanov also addressed economic crimes, noting that Article 26 of the Kazakh Constitution guarantees freedom of business and that his office introduced in June a 110-point roadmap to better prosecute economic crime. He said economic crimes dropped by 300 percent in the second half of 2016 compared to the first.“We are obliged to respond to potential threats in the name of rights, freedoms and interests of our citizens,” he said.The roundtable at the Kazakh Foreign Ministry was devoted to the 25th anniversary of Kazakhstan’s independence and International Human Rights Day. Including the Prosecutor General, the event was attended by Kazakhstan’s Secretary of State Gulshara Abdykalikova, Chairman of the Commission on Human Rights Kuanysh Sultanov, Permanent Representative of the UN Development Programme in Kazakhstan Norimasa Shimomura, head of the EU Delegation to Kazakhstan Traian Hristea and others.Abdykalikova said President Nazarbayev attaches great importance to relationships with human rights civil society institutions and that the development of democratic institutions, the media and citizens’ freedoms are the most important conditions for Kazakhstan’s development.Participants pointed out the importance of the President’s five institutional reforms, as well as international human rights treaties ratified by Kazakhstan to improve human rights protections.'"
      ]
     },
     "execution_count": 14,
     "metadata": {},
     "output_type": "execute_result"
    }
   ],
   "source": [
    "doc_text[10]"
   ]
  },
  {
   "cell_type": "markdown",
   "id": "a476c98e",
   "metadata": {},
   "source": [
    "# 1. Process Tokens"
   ]
  },
  {
   "cell_type": "markdown",
   "id": "5a8ebc75",
   "metadata": {},
   "source": [
    "Steps of processing text into tokens \n",
    "- Step 1 - tokenize\n",
    "- Step 2 - lower case\n",
    "- Step 3 - lemmatize\n",
    "- Step 4 - remove stop words\n",
    "\n",
    "Additional processing steps not required in this task\n",
    "- Step 5 - tagging parts-of-speech\n",
    "- Step 6 - chunking"
   ]
  },
  {
   "cell_type": "markdown",
   "id": "e0e46af1",
   "metadata": {},
   "source": [
    "NLTK references\n",
    "\n",
    "- API - https://www.nltk.org/\n",
    "- Tutorial - https://realpython.com/nltk-nlp-python/"
   ]
  },
  {
   "cell_type": "code",
   "execution_count": 15,
   "id": "390125fd",
   "metadata": {},
   "outputs": [],
   "source": [
    "# install nltk - run in command prompt (PC) or terminal (Mac)\n",
    "### python -m pip install nltk==3.6\n",
    "### python -m pip install numpy matplotlib\n",
    "### python -m pip install pytest"
   ]
  },
  {
   "cell_type": "code",
   "execution_count": 16,
   "id": "242c73fe",
   "metadata": {},
   "outputs": [],
   "source": [
    "# pip install -U nltk"
   ]
  },
  {
   "cell_type": "code",
   "execution_count": 17,
   "id": "b7d140ad",
   "metadata": {},
   "outputs": [],
   "source": [
    "# import nltk.data"
   ]
  },
  {
   "cell_type": "code",
   "execution_count": 18,
   "id": "e006216c",
   "metadata": {},
   "outputs": [],
   "source": [
    "import nltk"
   ]
  },
  {
   "cell_type": "markdown",
   "id": "1efd7cb6",
   "metadata": {},
   "source": [
    "### Step 1.1 - tokenize"
   ]
  },
  {
   "cell_type": "code",
   "execution_count": 19,
   "id": "c395f268",
   "metadata": {},
   "outputs": [],
   "source": [
    "from nltk.tokenize import sent_tokenize, word_tokenize\n",
    "import io"
   ]
  },
  {
   "cell_type": "code",
   "execution_count": 20,
   "id": "1c4ff0d8",
   "metadata": {},
   "outputs": [],
   "source": [
    "example_string = \"Muad'Dib learned rapidly because his first training was in how to learn. And the first lesson of all was the basic trust that he could learn. It's shocking to find how many people do not believe they can learn, and how many more believe learning to be difficult\""
   ]
  },
  {
   "cell_type": "code",
   "execution_count": 21,
   "id": "b6bb51af",
   "metadata": {},
   "outputs": [
    {
     "data": {
      "text/plain": [
       "\"Muad'Dib learned rapidly because his first training was in how to learn. And the first lesson of all was the basic trust that he could learn. It's shocking to find how many people do not believe they can learn, and how many more believe learning to be difficult\""
      ]
     },
     "execution_count": 21,
     "metadata": {},
     "output_type": "execute_result"
    }
   ],
   "source": [
    "example_string"
   ]
  },
  {
   "cell_type": "code",
   "execution_count": 22,
   "id": "8098a7dd",
   "metadata": {},
   "outputs": [
    {
     "data": {
      "text/plain": [
       "[\"Muad'Dib learned rapidly because his first training was in how to learn.\",\n",
       " 'And the first lesson of all was the basic trust that he could learn.',\n",
       " \"It's shocking to find how many people do not believe they can learn, and how many more believe learning to be difficult\"]"
      ]
     },
     "execution_count": 22,
     "metadata": {},
     "output_type": "execute_result"
    }
   ],
   "source": [
    "sent_tokenize(example_string)"
   ]
  },
  {
   "cell_type": "code",
   "execution_count": 23,
   "id": "5ca6308b",
   "metadata": {},
   "outputs": [
    {
     "data": {
      "text/plain": [
       "[\"Muad'Dib\",\n",
       " 'learned',\n",
       " 'rapidly',\n",
       " 'because',\n",
       " 'his',\n",
       " 'first',\n",
       " 'training',\n",
       " 'was',\n",
       " 'in',\n",
       " 'how',\n",
       " 'to',\n",
       " 'learn',\n",
       " '.',\n",
       " 'And',\n",
       " 'the',\n",
       " 'first',\n",
       " 'lesson',\n",
       " 'of',\n",
       " 'all',\n",
       " 'was',\n",
       " 'the',\n",
       " 'basic',\n",
       " 'trust',\n",
       " 'that',\n",
       " 'he',\n",
       " 'could',\n",
       " 'learn',\n",
       " '.',\n",
       " 'It',\n",
       " \"'s\",\n",
       " 'shocking',\n",
       " 'to',\n",
       " 'find',\n",
       " 'how',\n",
       " 'many',\n",
       " 'people',\n",
       " 'do',\n",
       " 'not',\n",
       " 'believe',\n",
       " 'they',\n",
       " 'can',\n",
       " 'learn',\n",
       " ',',\n",
       " 'and',\n",
       " 'how',\n",
       " 'many',\n",
       " 'more',\n",
       " 'believe',\n",
       " 'learning',\n",
       " 'to',\n",
       " 'be',\n",
       " 'difficult']"
      ]
     },
     "execution_count": 23,
     "metadata": {},
     "output_type": "execute_result"
    }
   ],
   "source": [
    "word_tokenize(example_string)"
   ]
  },
  {
   "cell_type": "code",
   "execution_count": 24,
   "id": "e6c8c899",
   "metadata": {},
   "outputs": [
    {
     "data": {
      "text/plain": [
       "'“Harmony Lessons” Honoured at Tribeca Film Festival“Harmony Lessons” continues its triumphal tour around the globe, winning the Special Jury Diploma for best directorial debut at the Tribeca Film Festival, which was held from April 17-29 in New York City.Emir Baygazin (l) was warmly welcomed at the Tribeca festival by viewers and movie celebrities including Robert De Niro.Before the opening of the festival, The Village Voice included the film in its list of the ten festival must-sees. In total, 89 films were shown during the Tribeca Festival this year. A review on the American website Twitch calls “Harmony Lessons” “deceptively humorous,” comments on the director’s ability to get remarkable performances from his nonprofessional actors, and declares the director, Emir Baygazin, one to watch.“We are very pleased that the American premiere will take place at the Tribeca Film Festival in New York, which is by far the most prestigious in America. In this year’s jury are such well-known filmmakers as Whoopi Goldberg and Paul Haggis,” the film’s producer, Anna Kachko, told reporters ahead of the event.She noted that the successful performance of the movie in the main competition of the Berlinale Festival, where it got Silver Bear for camera work, garnered it more than 40 invitations to international festivals.“A special screening was organised on the eve of the premiere for U.S. and international media who praised the great picture and the director. New York Magazine published a short list of must-see movies at the festival and included ‘Harmony Lessons’,” she stated.The film depicts a Kazakh province where the protagonist, Aslan, lives and struggles unsuccessfully for contact with his peers. Timur Aidarbekov, a student at an orphanage, plays Aslan.The story is a dark one of isolation and murder.“For me it was important to build the drama in a way that didn’t draw attention to the murders committed by the protagonist. The picture says more about how the idea is born to get rid of another person. As in the first murder, my protagonist tries to survive. We need to understand that we live in such a world, and in such conditions, and we are forced to survive,” says the film’s director.“Harmony Lessons” also depicts prison abuses; however, at a press conference Baygazin stressed that those scenes were not made in order to condemn violence in prisons, but rather the opposite.“I shot this movie in a difficult time for myself… It was so important for me to be spiritual, to express their thoughts, so I did not show the murder of a person, but rather demonstrated realistically the murder of a sheep. But that’s why people always talk about the murdered ram, and do not remember, for example, the cockroaches, which were also killed—we are all killers,” the director said.In an interview, cinematographer Aziz Zhambakiyev said that he had a good rapport with Baygazin. Zhambakiev was awarded the Silver Bear for an outstanding achievement in cinematography.“Emir clearly explains what he wants to see. If not for the taste and sense of harmony of Emir, the movie would not be the way it is now,” Zhambakiev said.“Harmony Lessons” is the first film from Kazakhstan to have been accepted into the Berlinale Festival and is considered a great achievement for the nation’s young film industry. Few people expected that the jury, headed by Hong Kong director Wong Kar-Wai, would award a prize to a beginner. When the name of the Kazakh cinematographer was announced on the stage of the Palace of Festivals, the hall with 1,600 guests exploded with shouts of delight and applause.Emir Baygazin is Kazakh actor and film director. He was born in Alga, Aktobe region. From 2002 to 2004 he studied at the acting school at the Akhtanov Aktobe Drama Theatre.In 2004, he entered the Zhurgenov Kazakh National Academy of Arts and specialised in Direction and Cinema. In September 2007, Baygazin participated in the Busan International Film Festival of the Asian Film Academy (AFA). In February 2008, he was a member of the Berlin camp of young talent at the 58th Berlin International Film Festival, Germany.'"
      ]
     },
     "execution_count": 24,
     "metadata": {},
     "output_type": "execute_result"
    }
   ],
   "source": [
    "doc_text[0]"
   ]
  },
  {
   "cell_type": "code",
   "execution_count": 25,
   "id": "99813821",
   "metadata": {},
   "outputs": [
    {
     "data": {
      "text/plain": [
       "33"
      ]
     },
     "execution_count": 25,
     "metadata": {},
     "output_type": "execute_result"
    }
   ],
   "source": [
    "doc_tokens = []\n",
    "\n",
    "for doc in doc_text:\n",
    "    doc_tokens.append(word_tokenize(doc))\n",
    "    \n",
    "len(doc_tokens)"
   ]
  },
  {
   "cell_type": "code",
   "execution_count": 26,
   "id": "917abed4",
   "metadata": {},
   "outputs": [
    {
     "data": {
      "text/plain": [
       "786"
      ]
     },
     "execution_count": 26,
     "metadata": {},
     "output_type": "execute_result"
    }
   ],
   "source": [
    "len(doc_tokens[0])"
   ]
  },
  {
   "cell_type": "code",
   "execution_count": 27,
   "id": "3ca88a32",
   "metadata": {},
   "outputs": [
    {
     "data": {
      "text/plain": [
       "['“',\n",
       " 'Harmony',\n",
       " 'Lessons',\n",
       " '”',\n",
       " 'Honoured',\n",
       " 'at',\n",
       " 'Tribeca',\n",
       " 'Film',\n",
       " 'Festival',\n",
       " '“',\n",
       " 'Harmony',\n",
       " 'Lessons',\n",
       " '”',\n",
       " 'continues',\n",
       " 'its',\n",
       " 'triumphal',\n",
       " 'tour',\n",
       " 'around',\n",
       " 'the',\n",
       " 'globe']"
      ]
     },
     "execution_count": 27,
     "metadata": {},
     "output_type": "execute_result"
    }
   ],
   "source": [
    "doc_tokens[0][0:20]"
   ]
  },
  {
   "cell_type": "markdown",
   "id": "e2accc16",
   "metadata": {},
   "source": [
    "### Step 1.2 - lower case"
   ]
  },
  {
   "cell_type": "code",
   "execution_count": 28,
   "id": "108e1696",
   "metadata": {},
   "outputs": [],
   "source": [
    "# for every list of tokens in doc_tokens, convert all tokens to lowercase\n",
    "doc_tokens_lower = [[token.casefold() for token in doc] for doc in doc_tokens]"
   ]
  },
  {
   "cell_type": "code",
   "execution_count": 29,
   "id": "c934c364",
   "metadata": {},
   "outputs": [
    {
     "data": {
      "text/plain": [
       "['“',\n",
       " 'harmony',\n",
       " 'lessons',\n",
       " '”',\n",
       " 'honoured',\n",
       " 'at',\n",
       " 'tribeca',\n",
       " 'film',\n",
       " 'festival',\n",
       " '“',\n",
       " 'harmony',\n",
       " 'lessons',\n",
       " '”',\n",
       " 'continues',\n",
       " 'its',\n",
       " 'triumphal',\n",
       " 'tour',\n",
       " 'around',\n",
       " 'the',\n",
       " 'globe']"
      ]
     },
     "execution_count": 29,
     "metadata": {},
     "output_type": "execute_result"
    }
   ],
   "source": [
    "doc_tokens_lower[0][0:20]"
   ]
  },
  {
   "cell_type": "markdown",
   "id": "313d68a1",
   "metadata": {},
   "source": [
    "### Step 1.3 - lemmatize tokens"
   ]
  },
  {
   "cell_type": "code",
   "execution_count": 30,
   "id": "20de17a8",
   "metadata": {
    "scrolled": true
   },
   "outputs": [
    {
     "name": "stderr",
     "output_type": "stream",
     "text": [
      "[nltk_data] Downloading package omw-1.4 to\n",
      "[nltk_data]     C:\\Users\\seoul\\AppData\\Roaming\\nltk_data...\n",
      "[nltk_data]   Package omw-1.4 is already up-to-date!\n"
     ]
    },
    {
     "data": {
      "text/plain": [
       "True"
      ]
     },
     "execution_count": 30,
     "metadata": {},
     "output_type": "execute_result"
    }
   ],
   "source": [
    "import nltk\n",
    "from nltk.corpus import wordnet\n",
    "nltk.download('omw-1.4')"
   ]
  },
  {
   "cell_type": "code",
   "execution_count": 31,
   "id": "6ae6e682",
   "metadata": {},
   "outputs": [],
   "source": [
    "lmtzr = nltk.WordNetLemmatizer()"
   ]
  },
  {
   "cell_type": "code",
   "execution_count": 32,
   "id": "52244fab",
   "metadata": {},
   "outputs": [
    {
     "data": {
      "text/plain": [
       "['Here', 'are', 'words', 'and', 'cars']"
      ]
     },
     "execution_count": 32,
     "metadata": {},
     "output_type": "execute_result"
    }
   ],
   "source": [
    "# short example\n",
    "word = \"Here are words and cars\"\n",
    "tokens = nltk.word_tokenize(word)\n",
    "tokens"
   ]
  },
  {
   "cell_type": "code",
   "execution_count": 33,
   "id": "70d7d422",
   "metadata": {},
   "outputs": [
    {
     "data": {
      "text/plain": [
       "['Here', 'are', 'word', 'and', 'car']"
      ]
     },
     "execution_count": 33,
     "metadata": {},
     "output_type": "execute_result"
    }
   ],
   "source": [
    "token_lemma = [lmtzr.lemmatize(token) for token in tokens]\n",
    "token_lemma"
   ]
  },
  {
   "cell_type": "code",
   "execution_count": 34,
   "id": "d19b8ea0",
   "metadata": {},
   "outputs": [
    {
     "data": {
      "text/plain": [
       "33"
      ]
     },
     "execution_count": 34,
     "metadata": {},
     "output_type": "execute_result"
    }
   ],
   "source": [
    "# number of documents\n",
    "len(doc_tokens_lower)"
   ]
  },
  {
   "cell_type": "code",
   "execution_count": 35,
   "id": "343af3b5",
   "metadata": {},
   "outputs": [],
   "source": [
    "# for each doc in doc_tokens_no_stopwords, lemmatize all tokens in that doc\n",
    "doc_tokens_lemma = [[lmtzr.lemmatize(token) for token in doc] for doc in doc_tokens_lower]"
   ]
  },
  {
   "cell_type": "code",
   "execution_count": 36,
   "id": "669206e7",
   "metadata": {},
   "outputs": [
    {
     "data": {
      "text/plain": [
       "['“',\n",
       " 'harmony',\n",
       " 'lessons',\n",
       " '”',\n",
       " 'honoured',\n",
       " 'at',\n",
       " 'tribeca',\n",
       " 'film',\n",
       " 'festival',\n",
       " '“']"
      ]
     },
     "execution_count": 36,
     "metadata": {},
     "output_type": "execute_result"
    }
   ],
   "source": [
    "# first few tokens in first doc, before lemmatizing tokens\n",
    "doc_tokens_lower[0][0:10]"
   ]
  },
  {
   "cell_type": "code",
   "execution_count": 37,
   "id": "b80d98e2",
   "metadata": {},
   "outputs": [
    {
     "data": {
      "text/plain": [
       "['“',\n",
       " 'harmony',\n",
       " 'lesson',\n",
       " '”',\n",
       " 'honoured',\n",
       " 'at',\n",
       " 'tribeca',\n",
       " 'film',\n",
       " 'festival',\n",
       " '“']"
      ]
     },
     "execution_count": 37,
     "metadata": {},
     "output_type": "execute_result"
    }
   ],
   "source": [
    "# first few tokens in first doc, after lemmatizing tokens\n",
    "doc_tokens_lemma[0][0:10]"
   ]
  },
  {
   "cell_type": "markdown",
   "id": "92526a51",
   "metadata": {},
   "source": [
    "### Step 1.4 - remove stop words"
   ]
  },
  {
   "cell_type": "code",
   "execution_count": 38,
   "id": "0386d176",
   "metadata": {
    "scrolled": true
   },
   "outputs": [
    {
     "name": "stderr",
     "output_type": "stream",
     "text": [
      "[nltk_data] Downloading package stopwords to\n",
      "[nltk_data]     C:\\Users\\seoul\\AppData\\Roaming\\nltk_data...\n",
      "[nltk_data]   Package stopwords is already up-to-date!\n"
     ]
    }
   ],
   "source": [
    "import nltk\n",
    "nltk.download(\"stopwords\")\n",
    "from nltk.corpus import stopwords\n",
    "from nltk.tokenize import word_tokenize"
   ]
  },
  {
   "cell_type": "code",
   "execution_count": 39,
   "id": "f9aaa10b",
   "metadata": {},
   "outputs": [],
   "source": [
    "stop_words = list(set(stopwords.words(\"english\")))"
   ]
  },
  {
   "cell_type": "code",
   "execution_count": 40,
   "id": "e8382425",
   "metadata": {},
   "outputs": [
    {
     "data": {
      "text/plain": [
       "['itself',\n",
       " 's',\n",
       " 'herself',\n",
       " 'all',\n",
       " 'couldn',\n",
       " 'between',\n",
       " 'y',\n",
       " \"needn't\",\n",
       " 'themselves',\n",
       " \"that'll\",\n",
       " 'for',\n",
       " 'haven',\n",
       " \"mightn't\",\n",
       " 'didn',\n",
       " 'very',\n",
       " 'their',\n",
       " 'those',\n",
       " 'more',\n",
       " 'with',\n",
       " 'after']"
      ]
     },
     "execution_count": 40,
     "metadata": {},
     "output_type": "execute_result"
    }
   ],
   "source": [
    "stop_words[0:20]"
   ]
  },
  {
   "cell_type": "code",
   "execution_count": 41,
   "id": "05ddc4f8",
   "metadata": {},
   "outputs": [],
   "source": [
    "# example of removing stop words from a quote\n",
    "worf_quote = \"Sir, I protest. I am not a merry man!\""
   ]
  },
  {
   "cell_type": "code",
   "execution_count": 42,
   "id": "7df0b18b",
   "metadata": {},
   "outputs": [],
   "source": [
    "quote_tokens  = word_tokenize(worf_quote)"
   ]
  },
  {
   "cell_type": "code",
   "execution_count": 43,
   "id": "f717ec2b",
   "metadata": {},
   "outputs": [
    {
     "data": {
      "text/plain": [
       "['Sir', ',', 'I', 'protest', '.', 'I', 'am', 'not', 'a', 'merry', 'man', '!']"
      ]
     },
     "execution_count": 43,
     "metadata": {},
     "output_type": "execute_result"
    }
   ],
   "source": [
    "quote_tokens"
   ]
  },
  {
   "cell_type": "code",
   "execution_count": 44,
   "id": "42390343",
   "metadata": {},
   "outputs": [],
   "source": [
    "quote_tokens_no_stopwords = []\n",
    "\n",
    "for token in quote_tokens:\n",
    "    if token.casefold() not in stop_words:\n",
    "        quote_tokens_no_stopwords.append(token)"
   ]
  },
  {
   "cell_type": "code",
   "execution_count": 45,
   "id": "be655c0d",
   "metadata": {},
   "outputs": [
    {
     "data": {
      "text/plain": [
       "['Sir', ',', 'protest', '.', 'merry', 'man', '!']"
      ]
     },
     "execution_count": 45,
     "metadata": {},
     "output_type": "execute_result"
    }
   ],
   "source": [
    "quote_tokens_no_stopwords"
   ]
  },
  {
   "cell_type": "code",
   "execution_count": 46,
   "id": "303a6b31",
   "metadata": {},
   "outputs": [
    {
     "data": {
      "text/plain": [
       "[',\\n',\n",
       " '.\\n',\n",
       " '?\\n',\n",
       " '!\\n',\n",
       " '[\\n',\n",
       " ']\\n',\n",
       " \"'\\n\",\n",
       " ':\\n',\n",
       " ';\\n',\n",
       " '-\\n',\n",
       " 'ham\\n',\n",
       " 'v\\n',\n",
       " 'th\\n',\n",
       " 'qu\\n']"
      ]
     },
     "execution_count": 46,
     "metadata": {},
     "output_type": "execute_result"
    }
   ],
   "source": [
    "# append list of stop words\n",
    "filename_extra_stopwords = \"extra stopwords.txt\"\n",
    "file_extra_stopwords = open(filename_extra_stopwords)\n",
    "extra_stopwords = file_extra_stopwords.readlines()\n",
    "file_extra_stopwords.close()\n",
    "extra_stopwords"
   ]
  },
  {
   "cell_type": "code",
   "execution_count": 47,
   "id": "2b665bde",
   "metadata": {},
   "outputs": [
    {
     "data": {
      "text/plain": [
       "[',', '.', '?', '!', '[', ']', \"'\", ':', ';', '-', 'ham', 'v', 'th', 'qu']"
      ]
     },
     "execution_count": 47,
     "metadata": {},
     "output_type": "execute_result"
    }
   ],
   "source": [
    "extra_stopwords = [word.strip() for word in extra_stopwords]\n",
    "extra_stopwords"
   ]
  },
  {
   "cell_type": "code",
   "execution_count": 48,
   "id": "6c5c8559",
   "metadata": {},
   "outputs": [
    {
     "data": {
      "text/plain": [
       "179"
      ]
     },
     "execution_count": 48,
     "metadata": {},
     "output_type": "execute_result"
    }
   ],
   "source": [
    "len(stop_words)"
   ]
  },
  {
   "cell_type": "code",
   "execution_count": 49,
   "id": "db0a8358",
   "metadata": {},
   "outputs": [
    {
     "data": {
      "text/plain": [
       "193"
      ]
     },
     "execution_count": 49,
     "metadata": {},
     "output_type": "execute_result"
    }
   ],
   "source": [
    "stop_words += extra_stopwords\n",
    "stop_words = list(set(stop_words))\n",
    "len(stop_words)"
   ]
  },
  {
   "cell_type": "code",
   "execution_count": 50,
   "id": "0e24d03e",
   "metadata": {},
   "outputs": [],
   "source": [
    "doc_tokens_processed = []\n",
    "\n",
    "for doc in doc_tokens_lemma:\n",
    "    \n",
    "    temp_token_list = []\n",
    "    \n",
    "    for token in doc:\n",
    "        \n",
    "        if (token not in stop_words) and (len(token) > 1):\n",
    "            \n",
    "            temp_token_list.append(token)\n",
    "    \n",
    "    doc_tokens_processed.append(temp_token_list)"
   ]
  },
  {
   "cell_type": "code",
   "execution_count": 51,
   "id": "bd1ff206",
   "metadata": {},
   "outputs": [
    {
     "data": {
      "text/plain": [
       "33"
      ]
     },
     "execution_count": 51,
     "metadata": {},
     "output_type": "execute_result"
    }
   ],
   "source": [
    "len(doc_tokens_processed)"
   ]
  },
  {
   "cell_type": "code",
   "execution_count": 52,
   "id": "c983097c",
   "metadata": {},
   "outputs": [
    {
     "data": {
      "text/plain": [
       "1"
      ]
     },
     "execution_count": 52,
     "metadata": {},
     "output_type": "execute_result"
    }
   ],
   "source": [
    "len(doc_tokens_lemma[0][0])"
   ]
  },
  {
   "cell_type": "code",
   "execution_count": 53,
   "id": "c204d4a1",
   "metadata": {},
   "outputs": [
    {
     "data": {
      "text/plain": [
       "['“',\n",
       " 'harmony',\n",
       " 'lesson',\n",
       " '”',\n",
       " 'honoured',\n",
       " 'at',\n",
       " 'tribeca',\n",
       " 'film',\n",
       " 'festival',\n",
       " '“']"
      ]
     },
     "execution_count": 53,
     "metadata": {},
     "output_type": "execute_result"
    }
   ],
   "source": [
    "# first few tokens in first doc, before removing stopwords\n",
    "doc_tokens_lemma[0][0:10]"
   ]
  },
  {
   "cell_type": "code",
   "execution_count": 54,
   "id": "903f6a86",
   "metadata": {},
   "outputs": [
    {
     "data": {
      "text/plain": [
       "['harmony',\n",
       " 'lesson',\n",
       " 'honoured',\n",
       " 'tribeca',\n",
       " 'film',\n",
       " 'festival',\n",
       " 'harmony',\n",
       " 'lesson',\n",
       " 'continues',\n",
       " 'triumphal']"
      ]
     },
     "execution_count": 54,
     "metadata": {},
     "output_type": "execute_result"
    }
   ],
   "source": [
    "# first few tokens in first doc, after removing stopwords\n",
    "doc_tokens_processed[0][0:10]"
   ]
  },
  {
   "cell_type": "code",
   "execution_count": 55,
   "id": "552daaa1",
   "metadata": {},
   "outputs": [
    {
     "data": {
      "text/plain": [
       "786"
      ]
     },
     "execution_count": 55,
     "metadata": {},
     "output_type": "execute_result"
    }
   ],
   "source": [
    "# number of tokens in first doc, before removing stopwords\n",
    "len(doc_tokens_lemma[0])"
   ]
  },
  {
   "cell_type": "code",
   "execution_count": 56,
   "id": "2d1a7ba9",
   "metadata": {},
   "outputs": [
    {
     "data": {
      "text/plain": [
       "389"
      ]
     },
     "execution_count": 56,
     "metadata": {},
     "output_type": "execute_result"
    }
   ],
   "source": [
    "# number of tokens in first doc, after removing stopwords\n",
    "len(doc_tokens_processed[0])"
   ]
  },
  {
   "cell_type": "code",
   "execution_count": 57,
   "id": "b864f916",
   "metadata": {
    "scrolled": false
   },
   "outputs": [
    {
     "data": {
      "text/plain": [
       "['harmony',\n",
       " 'lesson',\n",
       " 'honoured',\n",
       " 'tribeca',\n",
       " 'film',\n",
       " 'festival',\n",
       " 'harmony',\n",
       " 'lesson',\n",
       " 'continues',\n",
       " 'triumphal',\n",
       " 'tour',\n",
       " 'around',\n",
       " 'globe',\n",
       " 'winning',\n",
       " 'special',\n",
       " 'jury',\n",
       " 'diploma',\n",
       " 'best',\n",
       " 'directorial',\n",
       " 'debut',\n",
       " 'tribeca',\n",
       " 'film',\n",
       " 'festival',\n",
       " 'wa',\n",
       " 'held',\n",
       " 'april',\n",
       " '17-29',\n",
       " 'new',\n",
       " 'york',\n",
       " 'city.emir',\n",
       " 'baygazin',\n",
       " 'wa',\n",
       " 'warmly',\n",
       " 'welcomed',\n",
       " 'tribeca',\n",
       " 'festival',\n",
       " 'viewer',\n",
       " 'movie',\n",
       " 'celebrity',\n",
       " 'including',\n",
       " 'robert',\n",
       " 'de',\n",
       " 'niro.before',\n",
       " 'opening',\n",
       " 'festival',\n",
       " 'village',\n",
       " 'voice',\n",
       " 'included',\n",
       " 'film',\n",
       " 'list',\n",
       " 'ten',\n",
       " 'festival',\n",
       " 'must-sees',\n",
       " 'total',\n",
       " '89',\n",
       " 'film',\n",
       " 'shown',\n",
       " 'tribeca',\n",
       " 'festival',\n",
       " 'year',\n",
       " 'review',\n",
       " 'american',\n",
       " 'website',\n",
       " 'twitch',\n",
       " 'call',\n",
       " 'harmony',\n",
       " 'lesson',\n",
       " 'deceptively',\n",
       " 'humorous',\n",
       " 'comment',\n",
       " 'director',\n",
       " 'ability',\n",
       " 'get',\n",
       " 'remarkable',\n",
       " 'performance',\n",
       " 'nonprofessional',\n",
       " 'actor',\n",
       " 'declares',\n",
       " 'director',\n",
       " 'emir',\n",
       " 'baygazin',\n",
       " 'one',\n",
       " 'watch.',\n",
       " 'pleased',\n",
       " 'american',\n",
       " 'premiere',\n",
       " 'take',\n",
       " 'place',\n",
       " 'tribeca',\n",
       " 'film',\n",
       " 'festival',\n",
       " 'new',\n",
       " 'york',\n",
       " 'far',\n",
       " 'prestigious',\n",
       " 'america',\n",
       " 'year',\n",
       " 'jury',\n",
       " 'well-known',\n",
       " 'filmmaker',\n",
       " 'whoopi',\n",
       " 'goldberg',\n",
       " 'paul',\n",
       " 'haggis',\n",
       " 'film',\n",
       " 'producer',\n",
       " 'anna',\n",
       " 'kachko',\n",
       " 'told',\n",
       " 'reporter',\n",
       " 'ahead',\n",
       " 'event.she',\n",
       " 'noted',\n",
       " 'successful',\n",
       " 'performance',\n",
       " 'movie',\n",
       " 'main',\n",
       " 'competition',\n",
       " 'berlinale',\n",
       " 'festival',\n",
       " 'got',\n",
       " 'silver',\n",
       " 'bear',\n",
       " 'camera',\n",
       " 'work',\n",
       " 'garnered',\n",
       " '40',\n",
       " 'invitation',\n",
       " 'international',\n",
       " 'festivals.',\n",
       " 'special',\n",
       " 'screening',\n",
       " 'wa',\n",
       " 'organised',\n",
       " 'eve',\n",
       " 'premiere',\n",
       " 'u.s.',\n",
       " 'international',\n",
       " 'medium',\n",
       " 'praised',\n",
       " 'great',\n",
       " 'picture',\n",
       " 'director',\n",
       " 'new',\n",
       " 'york',\n",
       " 'magazine',\n",
       " 'published',\n",
       " 'short',\n",
       " 'list',\n",
       " 'must-see',\n",
       " 'movie',\n",
       " 'festival',\n",
       " 'included',\n",
       " 'harmony',\n",
       " 'lesson',\n",
       " 'stated.the',\n",
       " 'film',\n",
       " 'depicts',\n",
       " 'kazakh',\n",
       " 'province',\n",
       " 'protagonist',\n",
       " 'aslan',\n",
       " 'life',\n",
       " 'struggle',\n",
       " 'unsuccessfully',\n",
       " 'contact',\n",
       " 'peer',\n",
       " 'timur',\n",
       " 'aidarbekov',\n",
       " 'student',\n",
       " 'orphanage',\n",
       " 'play',\n",
       " 'aslan.the',\n",
       " 'story',\n",
       " 'dark',\n",
       " 'one',\n",
       " 'isolation',\n",
       " 'murder.',\n",
       " 'wa',\n",
       " 'important',\n",
       " 'build',\n",
       " 'drama',\n",
       " 'way',\n",
       " 'draw',\n",
       " 'attention',\n",
       " 'murder',\n",
       " 'committed',\n",
       " 'protagonist',\n",
       " 'picture',\n",
       " 'say',\n",
       " 'idea',\n",
       " 'born',\n",
       " 'get',\n",
       " 'rid',\n",
       " 'another',\n",
       " 'person',\n",
       " 'first',\n",
       " 'murder',\n",
       " 'protagonist',\n",
       " 'try',\n",
       " 'survive',\n",
       " 'need',\n",
       " 'understand',\n",
       " 'live',\n",
       " 'world',\n",
       " 'condition',\n",
       " 'forced',\n",
       " 'survive',\n",
       " 'say',\n",
       " 'film',\n",
       " 'director.',\n",
       " 'harmony',\n",
       " 'lesson',\n",
       " 'also',\n",
       " 'depicts',\n",
       " 'prison',\n",
       " 'abuse',\n",
       " 'however',\n",
       " 'press',\n",
       " 'conference',\n",
       " 'baygazin',\n",
       " 'stressed',\n",
       " 'scene',\n",
       " 'made',\n",
       " 'order',\n",
       " 'condemn',\n",
       " 'violence',\n",
       " 'prison',\n",
       " 'rather',\n",
       " 'opposite.',\n",
       " 'shot',\n",
       " 'movie',\n",
       " 'difficult',\n",
       " 'time',\n",
       " 'myself…',\n",
       " 'wa',\n",
       " 'important',\n",
       " 'spiritual',\n",
       " 'express',\n",
       " 'thought',\n",
       " 'show',\n",
       " 'murder',\n",
       " 'person',\n",
       " 'rather',\n",
       " 'demonstrated',\n",
       " 'realistically',\n",
       " 'murder',\n",
       " 'sheep',\n",
       " 'people',\n",
       " 'always',\n",
       " 'talk',\n",
       " 'murdered',\n",
       " 'ram',\n",
       " 'remember',\n",
       " 'example',\n",
       " 'cockroach',\n",
       " 'also',\n",
       " 'killed—we',\n",
       " 'killer',\n",
       " 'director',\n",
       " 'said.in',\n",
       " 'interview',\n",
       " 'cinematographer',\n",
       " 'aziz',\n",
       " 'zhambakiyev',\n",
       " 'said',\n",
       " 'good',\n",
       " 'rapport',\n",
       " 'baygazin',\n",
       " 'zhambakiev',\n",
       " 'wa',\n",
       " 'awarded',\n",
       " 'silver',\n",
       " 'bear',\n",
       " 'outstanding',\n",
       " 'achievement',\n",
       " 'cinematography.',\n",
       " 'emir',\n",
       " 'clearly',\n",
       " 'explains',\n",
       " 'want',\n",
       " 'see',\n",
       " 'taste',\n",
       " 'sense',\n",
       " 'harmony',\n",
       " 'emir',\n",
       " 'movie',\n",
       " 'would',\n",
       " 'way',\n",
       " 'zhambakiev',\n",
       " 'said.',\n",
       " 'harmony',\n",
       " 'lesson',\n",
       " 'first',\n",
       " 'film',\n",
       " 'kazakhstan',\n",
       " 'accepted',\n",
       " 'berlinale',\n",
       " 'festival',\n",
       " 'considered',\n",
       " 'great',\n",
       " 'achievement',\n",
       " 'nation',\n",
       " 'young',\n",
       " 'film',\n",
       " 'industry',\n",
       " 'people',\n",
       " 'expected',\n",
       " 'jury',\n",
       " 'headed',\n",
       " 'hong',\n",
       " 'kong',\n",
       " 'director',\n",
       " 'wong',\n",
       " 'kar-wai',\n",
       " 'would',\n",
       " 'award',\n",
       " 'prize',\n",
       " 'beginner',\n",
       " 'name',\n",
       " 'kazakh',\n",
       " 'cinematographer',\n",
       " 'wa',\n",
       " 'announced',\n",
       " 'stage',\n",
       " 'palace',\n",
       " 'festival',\n",
       " 'hall',\n",
       " '1,600',\n",
       " 'guest',\n",
       " 'exploded',\n",
       " 'shout',\n",
       " 'delight',\n",
       " 'applause.emir',\n",
       " 'baygazin',\n",
       " 'kazakh',\n",
       " 'actor',\n",
       " 'film',\n",
       " 'director',\n",
       " 'wa',\n",
       " 'born',\n",
       " 'alga',\n",
       " 'aktobe',\n",
       " 'region',\n",
       " '2002',\n",
       " '2004',\n",
       " 'studied',\n",
       " 'acting',\n",
       " 'school',\n",
       " 'akhtanov',\n",
       " 'aktobe',\n",
       " 'drama',\n",
       " 'theatre.in',\n",
       " '2004',\n",
       " 'entered',\n",
       " 'zhurgenov',\n",
       " 'kazakh',\n",
       " 'national',\n",
       " 'academy',\n",
       " 'art',\n",
       " 'specialised',\n",
       " 'direction',\n",
       " 'cinema',\n",
       " 'september',\n",
       " '2007',\n",
       " 'baygazin',\n",
       " 'participated',\n",
       " 'busan',\n",
       " 'international',\n",
       " 'film',\n",
       " 'festival',\n",
       " 'asian',\n",
       " 'film',\n",
       " 'academy',\n",
       " 'afa',\n",
       " 'february',\n",
       " '2008',\n",
       " 'wa',\n",
       " 'member',\n",
       " 'berlin',\n",
       " 'camp',\n",
       " 'young',\n",
       " 'talent',\n",
       " '58th',\n",
       " 'berlin',\n",
       " 'international',\n",
       " 'film',\n",
       " 'festival',\n",
       " 'germany']"
      ]
     },
     "execution_count": 57,
     "metadata": {},
     "output_type": "execute_result"
    }
   ],
   "source": [
    "doc_tokens_processed[0]"
   ]
  },
  {
   "cell_type": "code",
   "execution_count": 58,
   "id": "9e2740af",
   "metadata": {},
   "outputs": [],
   "source": [
    "# add stopwords to \"extra stopwords.txt\" and run Step 2.4 again"
   ]
  },
  {
   "cell_type": "code",
   "execution_count": 59,
   "id": "5f1c8e76",
   "metadata": {},
   "outputs": [],
   "source": [
    "import pickle"
   ]
  },
  {
   "cell_type": "code",
   "execution_count": 60,
   "id": "ef460ed6",
   "metadata": {},
   "outputs": [],
   "source": [
    "# pickle doc_tokens_processed\n",
    "fileout = open(\"doc_tokens_processed.pkl\",'wb')\n",
    "stuff_to_pickle = [doc_ids,doc_text,doc_tokens_processed]\n",
    "pickle.dump(stuff_to_pickle,fileout)"
   ]
  },
  {
   "cell_type": "code",
   "execution_count": null,
   "id": "342be2f5",
   "metadata": {},
   "outputs": [],
   "source": []
  },
  {
   "cell_type": "markdown",
   "id": "0b843121",
   "metadata": {},
   "source": [
    "# 2. Keyword Analysis"
   ]
  },
  {
   "cell_type": "code",
   "execution_count": null,
   "id": "0a3bbe41",
   "metadata": {},
   "outputs": [],
   "source": [
    "# tf-idf"
   ]
  },
  {
   "cell_type": "code",
   "execution_count": null,
   "id": "edef4e08",
   "metadata": {},
   "outputs": [],
   "source": []
  },
  {
   "cell_type": "markdown",
   "id": "9b9f2b25",
   "metadata": {},
   "source": [
    "# 3. Latent Topic Analysis"
   ]
  },
  {
   "cell_type": "code",
   "execution_count": null,
   "id": "dec10bc6",
   "metadata": {},
   "outputs": [],
   "source": []
  },
  {
   "cell_type": "code",
   "execution_count": null,
   "id": "a96c6465",
   "metadata": {},
   "outputs": [],
   "source": []
  }
 ],
 "metadata": {
  "kernelspec": {
   "display_name": "Python 3 (ipykernel)",
   "language": "python",
   "name": "python3"
  },
  "language_info": {
   "codemirror_mode": {
    "name": "ipython",
    "version": 3
   },
   "file_extension": ".py",
   "mimetype": "text/x-python",
   "name": "python",
   "nbconvert_exporter": "python",
   "pygments_lexer": "ipython3",
   "version": "3.11.0"
  }
 },
 "nbformat": 4,
 "nbformat_minor": 5
}
