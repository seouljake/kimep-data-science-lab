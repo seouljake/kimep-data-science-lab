{
 "cells": [
  {
   "cell_type": "markdown",
   "id": "5abc2516",
   "metadata": {},
   "source": [
    "# Task 4.1 - Process Tokens"
   ]
  },
  {
   "cell_type": "markdown",
   "id": "3866d940",
   "metadata": {},
   "source": [
    "### Steps\n",
    "\n",
    "0. Preliminary Steps: Construct & Import Corpus\n",
    "1. Process Tokens\n",
    "2. Keyword Analysis\n",
    "3. Latent Topic Analysis"
   ]
  },
  {
   "cell_type": "markdown",
   "id": "4620f1c5",
   "metadata": {},
   "source": [
    "# 0. Construct Corpus"
   ]
  },
  {
   "cell_type": "code",
   "execution_count": null,
   "id": "ed080e36",
   "metadata": {},
   "outputs": [],
   "source": []
  },
  {
   "cell_type": "code",
   "execution_count": null,
   "id": "6e793b47",
   "metadata": {},
   "outputs": [],
   "source": []
  },
  {
   "cell_type": "markdown",
   "id": "83cfed3d",
   "metadata": {},
   "source": [
    "# 0. Import Corpus"
   ]
  },
  {
   "cell_type": "code",
   "execution_count": 10,
   "id": "f1c8c700",
   "metadata": {},
   "outputs": [],
   "source": [
    "import pandas as pd\n",
    "import os"
   ]
  },
  {
   "cell_type": "code",
   "execution_count": 6,
   "id": "e21ed104",
   "metadata": {},
   "outputs": [],
   "source": [
    "# corpus path\n",
    "corpus_path = \"corpus/\""
   ]
  },
  {
   "cell_type": "code",
   "execution_count": 5,
   "id": "304370ba",
   "metadata": {},
   "outputs": [],
   "source": [
    "# corpus index file name\n",
    "corpus_index_filename = \"corpus index.xlsx\""
   ]
  },
  {
   "cell_type": "code",
   "execution_count": 8,
   "id": "e72233cd",
   "metadata": {},
   "outputs": [
    {
     "data": {
      "text/plain": [
       "(3, 3)"
      ]
     },
     "execution_count": 8,
     "metadata": {},
     "output_type": "execute_result"
    }
   ],
   "source": [
    "# import corpus index\n",
    "corpus_index = pd.read_excel(corpus_index_filename, header=0)\n",
    "corpus_index.shape"
   ]
  },
  {
   "cell_type": "code",
   "execution_count": 9,
   "id": "81fef585",
   "metadata": {},
   "outputs": [
    {
     "data": {
      "text/html": [
       "<div>\n",
       "<style scoped>\n",
       "    .dataframe tbody tr th:only-of-type {\n",
       "        vertical-align: middle;\n",
       "    }\n",
       "\n",
       "    .dataframe tbody tr th {\n",
       "        vertical-align: top;\n",
       "    }\n",
       "\n",
       "    .dataframe thead th {\n",
       "        text-align: right;\n",
       "    }\n",
       "</style>\n",
       "<table border=\"1\" class=\"dataframe\">\n",
       "  <thead>\n",
       "    <tr style=\"text-align: right;\">\n",
       "      <th></th>\n",
       "      <th>Filename</th>\n",
       "      <th>Date</th>\n",
       "      <th>Description</th>\n",
       "    </tr>\n",
       "  </thead>\n",
       "  <tbody>\n",
       "    <tr>\n",
       "      <th>0</th>\n",
       "      <td>20220720</td>\n",
       "      <td>2022.07.20</td>\n",
       "      <td>Public Officials Visit Remand Prisons to Culti...</td>\n",
       "    </tr>\n",
       "    <tr>\n",
       "      <th>1</th>\n",
       "      <td>20220715</td>\n",
       "      <td>2022.07.15</td>\n",
       "      <td>Kazakh National Security Committee Celebrates ...</td>\n",
       "    </tr>\n",
       "  </tbody>\n",
       "</table>\n",
       "</div>"
      ],
      "text/plain": [
       "   Filename        Date                                        Description\n",
       "0  20220720  2022.07.20  Public Officials Visit Remand Prisons to Culti...\n",
       "1  20220715  2022.07.15  Kazakh National Security Committee Celebrates ..."
      ]
     },
     "execution_count": 9,
     "metadata": {},
     "output_type": "execute_result"
    }
   ],
   "source": [
    "corpus_index[0:2]"
   ]
  },
  {
   "cell_type": "code",
   "execution_count": 11,
   "id": "37a56aed",
   "metadata": {},
   "outputs": [
    {
     "data": {
      "text/plain": [
       "['20220411.txt', '20220715.txt', '20220720.txt']"
      ]
     },
     "execution_count": 11,
     "metadata": {},
     "output_type": "execute_result"
    }
   ],
   "source": [
    "# grab file names in corpus\n",
    "corpus_filenames = os.listdir(corpus_path)\n",
    "corpus_filenames"
   ]
  },
  {
   "cell_type": "code",
   "execution_count": 141,
   "id": "262c4787",
   "metadata": {},
   "outputs": [
    {
     "data": {
      "text/plain": [
       "3"
      ]
     },
     "execution_count": 141,
     "metadata": {},
     "output_type": "execute_result"
    }
   ],
   "source": [
    "doc_ids = []\n",
    "doc_text = []\n",
    "\n",
    "for filename in corpus_filenames:\n",
    "    doc_file = open(corpus_path+filename,encoding=\"utf-8\")\n",
    "    doc_lines = doc_file.readlines()\n",
    "    doc_lines = [line.strip() for line in doc_lines]\n",
    "    doc_lines = \"\".join(doc_lines)\n",
    "    doc_file.close()\n",
    "    \n",
    "    doc_id = filename.split(\".\")[0]\n",
    "    \n",
    "    doc_ids.append(doc_id)\n",
    "    doc_text.append(doc_lines)\n",
    "    \n",
    "len(doc_ids)"
   ]
  },
  {
   "cell_type": "code",
   "execution_count": 142,
   "id": "eb56ce5a",
   "metadata": {},
   "outputs": [
    {
     "data": {
      "text/plain": [
       "['20220411', '20220715', '20220720']"
      ]
     },
     "execution_count": 142,
     "metadata": {},
     "output_type": "execute_result"
    }
   ],
   "source": [
    "doc_ids"
   ]
  },
  {
   "cell_type": "code",
   "execution_count": 143,
   "id": "770509b0",
   "metadata": {},
   "outputs": [
    {
     "data": {
      "text/plain": [
       "'US Ready to Partner With Kazakh Government on Implementation of Political Reforms, Senior Diplomat Says on Visit to KazakhstanThe United States supports President Tokayev’s political reforms agenda, said Uzra Zeya, Under-Secretary for Civilian Security, Democracy, and Human Rights, at the press meeting at the Kazakh Ministry of Foreign Affairs on April 11.Uzra Zeya meeting with Minister of Foreign Affairs – Mukhtar Tileuberdi. Photo credit: gov.kzDuring her visit to Kazakhstan, the sides discussed a wide range of issues, including the aftermath of the January unrest, combating human trafficking, empowerment of women, the rights of people with disabilities, and cooperation in security, law enforcement and anti-corruption.Zeya said that the U.S. government welcomed  President Kassym-Jomart Tokayev’s political reforms that he announced during his address to the nation on March 16, including those designed to strengthen the legislative branch of authority and political parties, and enhance the electoral system to promote political competition and transparency.“We look forward to tangible progress and full implementation of these reforms, which would significantly advance Kazakhstan’s stability and future development,” said Zeya.She added that the U.S. encourages the initiatives on ending torture in Kazakhstan’s jails and prisons, empowering the Parliament, enhancing the independence of the judiciary, and addressing the problem of domestic violence.“The United States stands ready to partner with Kazakhstan on the full implementation of these and other reforms,” she said.Answering questions from the media, Zeya touched upon the impact of sanctions against Russia on Kazakhstan’s economy. According to her, the sanctions are specifically designed to minimize negative impacts on allies and partners, including Kazakhstan.“The United States government has also taken many steps such as issuing licenses to help minimize the impact of these sanctions on the U.S. and partner economies,” she added.Regarding the Kazakh government’s response to the January unrest and allegations of excessive use of force by the authorities, Zeya said that, “We are encouraging a transparent response on the part of the government and one that results in full accountability,” adding that the U.S. is ready to partner with Kazakhstan in supporting the advancements of human rights.Zeya added that the United States also looks forward to working with Kazakhstan during its second term on the UN Human Rights Council. “It’s more important than ever that the council fulfills its mandate to promote respect for human rights and fundamental freedoms, and that it is willing to shine a spotlight on countries and issues of concern,” she said.'"
      ]
     },
     "execution_count": 143,
     "metadata": {},
     "output_type": "execute_result"
    }
   ],
   "source": [
    "doc_text[0]"
   ]
  },
  {
   "cell_type": "markdown",
   "id": "a476c98e",
   "metadata": {},
   "source": [
    "# 1. Process Tokens"
   ]
  },
  {
   "cell_type": "markdown",
   "id": "5a8ebc75",
   "metadata": {},
   "source": [
    "Steps of processing text into tokens \n",
    "- Step 1 - tokenize\n",
    "- Step 2 - lower case\n",
    "- Step 3 - lemmatize\n",
    "- Step 4 - remove stop words\n",
    "\n",
    "Additional processing steps not required in this task\n",
    "- Step 5 - tagging parts-of-speech\n",
    "- Step 6 - chunking"
   ]
  },
  {
   "cell_type": "markdown",
   "id": "e0e46af1",
   "metadata": {},
   "source": [
    "NLTK references\n",
    "\n",
    "- API - https://www.nltk.org/\n",
    "- Tutorial - https://realpython.com/nltk-nlp-python/"
   ]
  },
  {
   "cell_type": "code",
   "execution_count": 39,
   "id": "390125fd",
   "metadata": {},
   "outputs": [],
   "source": [
    "# install nltk - run in command prompt (PC) or terminal (Mac)\n",
    "### python -m pip install nltk==3.6\n",
    "### python -m pip install numpy matplotlib\n",
    "### python -m pip install pytest"
   ]
  },
  {
   "cell_type": "code",
   "execution_count": 40,
   "id": "242c73fe",
   "metadata": {},
   "outputs": [],
   "source": [
    "# pip install -U nltk"
   ]
  },
  {
   "cell_type": "code",
   "execution_count": 41,
   "id": "b7d140ad",
   "metadata": {},
   "outputs": [],
   "source": [
    "# import nltk.data"
   ]
  },
  {
   "cell_type": "code",
   "execution_count": 42,
   "id": "e006216c",
   "metadata": {},
   "outputs": [],
   "source": [
    "import nltk"
   ]
  },
  {
   "cell_type": "markdown",
   "id": "1efd7cb6",
   "metadata": {},
   "source": [
    "### Step 1.1 - tokenize"
   ]
  },
  {
   "cell_type": "code",
   "execution_count": 43,
   "id": "c395f268",
   "metadata": {},
   "outputs": [],
   "source": [
    "from nltk.tokenize import sent_tokenize, word_tokenize\n",
    "import io"
   ]
  },
  {
   "cell_type": "code",
   "execution_count": 44,
   "id": "1c4ff0d8",
   "metadata": {},
   "outputs": [],
   "source": [
    "example_string = \"Muad'Dib learned rapidly because his first training was in how to learn. And the first lesson of all was the basic trust that he could learn. It's shocking to find how many people do not believe they can learn, and how many more believe learning to be difficult\""
   ]
  },
  {
   "cell_type": "code",
   "execution_count": 45,
   "id": "b6bb51af",
   "metadata": {},
   "outputs": [
    {
     "data": {
      "text/plain": [
       "\"Muad'Dib learned rapidly because his first training was in how to learn. And the first lesson of all was the basic trust that he could learn. It's shocking to find how many people do not believe they can learn, and how many more believe learning to be difficult\""
      ]
     },
     "execution_count": 45,
     "metadata": {},
     "output_type": "execute_result"
    }
   ],
   "source": [
    "example_string"
   ]
  },
  {
   "cell_type": "code",
   "execution_count": 46,
   "id": "8098a7dd",
   "metadata": {},
   "outputs": [
    {
     "data": {
      "text/plain": [
       "[\"Muad'Dib learned rapidly because his first training was in how to learn.\",\n",
       " 'And the first lesson of all was the basic trust that he could learn.',\n",
       " \"It's shocking to find how many people do not believe they can learn, and how many more believe learning to be difficult\"]"
      ]
     },
     "execution_count": 46,
     "metadata": {},
     "output_type": "execute_result"
    }
   ],
   "source": [
    "sent_tokenize(example_string)"
   ]
  },
  {
   "cell_type": "code",
   "execution_count": 47,
   "id": "5ca6308b",
   "metadata": {},
   "outputs": [
    {
     "data": {
      "text/plain": [
       "[\"Muad'Dib\",\n",
       " 'learned',\n",
       " 'rapidly',\n",
       " 'because',\n",
       " 'his',\n",
       " 'first',\n",
       " 'training',\n",
       " 'was',\n",
       " 'in',\n",
       " 'how',\n",
       " 'to',\n",
       " 'learn',\n",
       " '.',\n",
       " 'And',\n",
       " 'the',\n",
       " 'first',\n",
       " 'lesson',\n",
       " 'of',\n",
       " 'all',\n",
       " 'was',\n",
       " 'the',\n",
       " 'basic',\n",
       " 'trust',\n",
       " 'that',\n",
       " 'he',\n",
       " 'could',\n",
       " 'learn',\n",
       " '.',\n",
       " 'It',\n",
       " \"'s\",\n",
       " 'shocking',\n",
       " 'to',\n",
       " 'find',\n",
       " 'how',\n",
       " 'many',\n",
       " 'people',\n",
       " 'do',\n",
       " 'not',\n",
       " 'believe',\n",
       " 'they',\n",
       " 'can',\n",
       " 'learn',\n",
       " ',',\n",
       " 'and',\n",
       " 'how',\n",
       " 'many',\n",
       " 'more',\n",
       " 'believe',\n",
       " 'learning',\n",
       " 'to',\n",
       " 'be',\n",
       " 'difficult']"
      ]
     },
     "execution_count": 47,
     "metadata": {},
     "output_type": "execute_result"
    }
   ],
   "source": [
    "word_tokenize(example_string)"
   ]
  },
  {
   "cell_type": "code",
   "execution_count": 144,
   "id": "e6c8c899",
   "metadata": {},
   "outputs": [
    {
     "data": {
      "text/plain": [
       "'US Ready to Partner With Kazakh Government on Implementation of Political Reforms, Senior Diplomat Says on Visit to KazakhstanThe United States supports President Tokayev’s political reforms agenda, said Uzra Zeya, Under-Secretary for Civilian Security, Democracy, and Human Rights, at the press meeting at the Kazakh Ministry of Foreign Affairs on April 11.Uzra Zeya meeting with Minister of Foreign Affairs – Mukhtar Tileuberdi. Photo credit: gov.kzDuring her visit to Kazakhstan, the sides discussed a wide range of issues, including the aftermath of the January unrest, combating human trafficking, empowerment of women, the rights of people with disabilities, and cooperation in security, law enforcement and anti-corruption.Zeya said that the U.S. government welcomed  President Kassym-Jomart Tokayev’s political reforms that he announced during his address to the nation on March 16, including those designed to strengthen the legislative branch of authority and political parties, and enhance the electoral system to promote political competition and transparency.“We look forward to tangible progress and full implementation of these reforms, which would significantly advance Kazakhstan’s stability and future development,” said Zeya.She added that the U.S. encourages the initiatives on ending torture in Kazakhstan’s jails and prisons, empowering the Parliament, enhancing the independence of the judiciary, and addressing the problem of domestic violence.“The United States stands ready to partner with Kazakhstan on the full implementation of these and other reforms,” she said.Answering questions from the media, Zeya touched upon the impact of sanctions against Russia on Kazakhstan’s economy. According to her, the sanctions are specifically designed to minimize negative impacts on allies and partners, including Kazakhstan.“The United States government has also taken many steps such as issuing licenses to help minimize the impact of these sanctions on the U.S. and partner economies,” she added.Regarding the Kazakh government’s response to the January unrest and allegations of excessive use of force by the authorities, Zeya said that, “We are encouraging a transparent response on the part of the government and one that results in full accountability,” adding that the U.S. is ready to partner with Kazakhstan in supporting the advancements of human rights.Zeya added that the United States also looks forward to working with Kazakhstan during its second term on the UN Human Rights Council. “It’s more important than ever that the council fulfills its mandate to promote respect for human rights and fundamental freedoms, and that it is willing to shine a spotlight on countries and issues of concern,” she said.'"
      ]
     },
     "execution_count": 144,
     "metadata": {},
     "output_type": "execute_result"
    }
   ],
   "source": [
    "doc_text[0]"
   ]
  },
  {
   "cell_type": "code",
   "execution_count": 145,
   "id": "99813821",
   "metadata": {},
   "outputs": [
    {
     "data": {
      "text/plain": [
       "3"
      ]
     },
     "execution_count": 145,
     "metadata": {},
     "output_type": "execute_result"
    }
   ],
   "source": [
    "doc_tokens = []\n",
    "\n",
    "for doc in doc_text:\n",
    "    doc_tokens.append(word_tokenize(doc))\n",
    "    \n",
    "len(doc_tokens)"
   ]
  },
  {
   "cell_type": "code",
   "execution_count": 146,
   "id": "917abed4",
   "metadata": {},
   "outputs": [
    {
     "data": {
      "text/plain": [
       "463"
      ]
     },
     "execution_count": 146,
     "metadata": {},
     "output_type": "execute_result"
    }
   ],
   "source": [
    "len(doc_tokens[0])"
   ]
  },
  {
   "cell_type": "code",
   "execution_count": 147,
   "id": "3ca88a32",
   "metadata": {},
   "outputs": [
    {
     "data": {
      "text/plain": [
       "['US',\n",
       " 'Ready',\n",
       " 'to',\n",
       " 'Partner',\n",
       " 'With',\n",
       " 'Kazakh',\n",
       " 'Government',\n",
       " 'on',\n",
       " 'Implementation',\n",
       " 'of',\n",
       " 'Political',\n",
       " 'Reforms',\n",
       " ',',\n",
       " 'Senior',\n",
       " 'Diplomat',\n",
       " 'Says',\n",
       " 'on',\n",
       " 'Visit',\n",
       " 'to',\n",
       " 'KazakhstanThe']"
      ]
     },
     "execution_count": 147,
     "metadata": {},
     "output_type": "execute_result"
    }
   ],
   "source": [
    "doc_tokens[0][0:20]"
   ]
  },
  {
   "cell_type": "markdown",
   "id": "e2accc16",
   "metadata": {},
   "source": [
    "### Step 1.2 - lower case"
   ]
  },
  {
   "cell_type": "code",
   "execution_count": 148,
   "id": "108e1696",
   "metadata": {},
   "outputs": [],
   "source": [
    "# for every list of tokens in doc_tokens, convert all tokens to lowercase\n",
    "doc_tokens_lower = [[token.casefold() for token in doc] for doc in doc_tokens]"
   ]
  },
  {
   "cell_type": "code",
   "execution_count": 149,
   "id": "c934c364",
   "metadata": {},
   "outputs": [
    {
     "data": {
      "text/plain": [
       "['us',\n",
       " 'ready',\n",
       " 'to',\n",
       " 'partner',\n",
       " 'with',\n",
       " 'kazakh',\n",
       " 'government',\n",
       " 'on',\n",
       " 'implementation',\n",
       " 'of',\n",
       " 'political',\n",
       " 'reforms',\n",
       " ',',\n",
       " 'senior',\n",
       " 'diplomat',\n",
       " 'says',\n",
       " 'on',\n",
       " 'visit',\n",
       " 'to',\n",
       " 'kazakhstanthe']"
      ]
     },
     "execution_count": 149,
     "metadata": {},
     "output_type": "execute_result"
    }
   ],
   "source": [
    "doc_tokens_lower[0][0:20]"
   ]
  },
  {
   "cell_type": "markdown",
   "id": "313d68a1",
   "metadata": {},
   "source": [
    "### Step 1.3 - lemmatize tokens"
   ]
  },
  {
   "cell_type": "code",
   "execution_count": 150,
   "id": "20de17a8",
   "metadata": {
    "scrolled": true
   },
   "outputs": [
    {
     "name": "stderr",
     "output_type": "stream",
     "text": [
      "[nltk_data] Downloading package omw-1.4 to\n",
      "[nltk_data]     C:\\Users\\seoul\\AppData\\Roaming\\nltk_data...\n",
      "[nltk_data]   Package omw-1.4 is already up-to-date!\n"
     ]
    },
    {
     "data": {
      "text/plain": [
       "True"
      ]
     },
     "execution_count": 150,
     "metadata": {},
     "output_type": "execute_result"
    }
   ],
   "source": [
    "import nltk\n",
    "from nltk.corpus import wordnet\n",
    "nltk.download('omw-1.4')"
   ]
  },
  {
   "cell_type": "code",
   "execution_count": 151,
   "id": "6ae6e682",
   "metadata": {},
   "outputs": [],
   "source": [
    "lmtzr = nltk.WordNetLemmatizer()"
   ]
  },
  {
   "cell_type": "code",
   "execution_count": 152,
   "id": "52244fab",
   "metadata": {},
   "outputs": [
    {
     "data": {
      "text/plain": [
       "['Here', 'are', 'words', 'and', 'cars']"
      ]
     },
     "execution_count": 152,
     "metadata": {},
     "output_type": "execute_result"
    }
   ],
   "source": [
    "# short example\n",
    "word = \"Here are words and cars\"\n",
    "tokens = nltk.word_tokenize(word)\n",
    "tokens"
   ]
  },
  {
   "cell_type": "code",
   "execution_count": 153,
   "id": "70d7d422",
   "metadata": {},
   "outputs": [
    {
     "data": {
      "text/plain": [
       "['Here', 'are', 'word', 'and', 'car']"
      ]
     },
     "execution_count": 153,
     "metadata": {},
     "output_type": "execute_result"
    }
   ],
   "source": [
    "token_lemma = [lmtzr.lemmatize(token) for token in tokens]\n",
    "token_lemma"
   ]
  },
  {
   "cell_type": "code",
   "execution_count": 154,
   "id": "d19b8ea0",
   "metadata": {},
   "outputs": [
    {
     "data": {
      "text/plain": [
       "3"
      ]
     },
     "execution_count": 154,
     "metadata": {},
     "output_type": "execute_result"
    }
   ],
   "source": [
    "# number of documents\n",
    "len(doc_tokens_lower)"
   ]
  },
  {
   "cell_type": "code",
   "execution_count": 155,
   "id": "343af3b5",
   "metadata": {},
   "outputs": [],
   "source": [
    "# for each doc in doc_tokens_no_stopwords, lemmatize all tokens in that doc\n",
    "doc_tokens_lemma = [[lmtzr.lemmatize(token) for token in doc] for doc in doc_tokens_lower]"
   ]
  },
  {
   "cell_type": "code",
   "execution_count": 156,
   "id": "669206e7",
   "metadata": {},
   "outputs": [
    {
     "data": {
      "text/plain": [
       "['us',\n",
       " 'ready',\n",
       " 'to',\n",
       " 'partner',\n",
       " 'with',\n",
       " 'kazakh',\n",
       " 'government',\n",
       " 'on',\n",
       " 'implementation',\n",
       " 'of']"
      ]
     },
     "execution_count": 156,
     "metadata": {},
     "output_type": "execute_result"
    }
   ],
   "source": [
    "# first few tokens in first doc, before lemmatizing tokens\n",
    "doc_tokens_lower[0][0:10]"
   ]
  },
  {
   "cell_type": "code",
   "execution_count": 157,
   "id": "b80d98e2",
   "metadata": {},
   "outputs": [
    {
     "data": {
      "text/plain": [
       "['u',\n",
       " 'ready',\n",
       " 'to',\n",
       " 'partner',\n",
       " 'with',\n",
       " 'kazakh',\n",
       " 'government',\n",
       " 'on',\n",
       " 'implementation',\n",
       " 'of']"
      ]
     },
     "execution_count": 157,
     "metadata": {},
     "output_type": "execute_result"
    }
   ],
   "source": [
    "# first few tokens in first doc, after lemmatizing tokens\n",
    "doc_tokens_lemma[0][0:10]"
   ]
  },
  {
   "cell_type": "markdown",
   "id": "92526a51",
   "metadata": {},
   "source": [
    "### Step 1.4 - remove stop words"
   ]
  },
  {
   "cell_type": "code",
   "execution_count": 158,
   "id": "0386d176",
   "metadata": {
    "scrolled": true
   },
   "outputs": [
    {
     "name": "stderr",
     "output_type": "stream",
     "text": [
      "[nltk_data] Downloading package stopwords to\n",
      "[nltk_data]     C:\\Users\\seoul\\AppData\\Roaming\\nltk_data...\n",
      "[nltk_data]   Package stopwords is already up-to-date!\n"
     ]
    }
   ],
   "source": [
    "import nltk\n",
    "nltk.download(\"stopwords\")\n",
    "from nltk.corpus import stopwords\n",
    "from nltk.tokenize import word_tokenize"
   ]
  },
  {
   "cell_type": "code",
   "execution_count": 159,
   "id": "f9aaa10b",
   "metadata": {},
   "outputs": [],
   "source": [
    "stop_words = list(set(stopwords.words(\"english\")))"
   ]
  },
  {
   "cell_type": "code",
   "execution_count": 160,
   "id": "e8382425",
   "metadata": {},
   "outputs": [
    {
     "data": {
      "text/plain": [
       "['is',\n",
       " \"wouldn't\",\n",
       " 'out',\n",
       " 'about',\n",
       " 'hasn',\n",
       " 'by',\n",
       " 'further',\n",
       " 'myself',\n",
       " \"wasn't\",\n",
       " \"you'll\",\n",
       " 'should',\n",
       " 'm',\n",
       " 'from',\n",
       " \"you're\",\n",
       " 'yourselves',\n",
       " 'ma',\n",
       " \"won't\",\n",
       " 'some',\n",
       " \"don't\",\n",
       " 'needn']"
      ]
     },
     "execution_count": 160,
     "metadata": {},
     "output_type": "execute_result"
    }
   ],
   "source": [
    "stop_words[0:20]"
   ]
  },
  {
   "cell_type": "code",
   "execution_count": 161,
   "id": "05ddc4f8",
   "metadata": {},
   "outputs": [],
   "source": [
    "# example of removing stop words from a quote\n",
    "worf_quote = \"Sir, I protest. I am not a merry man!\""
   ]
  },
  {
   "cell_type": "code",
   "execution_count": 162,
   "id": "7df0b18b",
   "metadata": {},
   "outputs": [],
   "source": [
    "quote_tokens  = word_tokenize(worf_quote)"
   ]
  },
  {
   "cell_type": "code",
   "execution_count": 163,
   "id": "f717ec2b",
   "metadata": {},
   "outputs": [
    {
     "data": {
      "text/plain": [
       "['Sir', ',', 'I', 'protest', '.', 'I', 'am', 'not', 'a', 'merry', 'man', '!']"
      ]
     },
     "execution_count": 163,
     "metadata": {},
     "output_type": "execute_result"
    }
   ],
   "source": [
    "quote_tokens"
   ]
  },
  {
   "cell_type": "code",
   "execution_count": 164,
   "id": "42390343",
   "metadata": {},
   "outputs": [],
   "source": [
    "quote_tokens_no_stopwords = []\n",
    "\n",
    "for token in quote_tokens:\n",
    "    if token.casefold() not in stop_words:\n",
    "        quote_tokens_no_stopwords.append(token)"
   ]
  },
  {
   "cell_type": "code",
   "execution_count": 165,
   "id": "be655c0d",
   "metadata": {},
   "outputs": [
    {
     "data": {
      "text/plain": [
       "['Sir', ',', 'protest', '.', 'merry', 'man', '!']"
      ]
     },
     "execution_count": 165,
     "metadata": {},
     "output_type": "execute_result"
    }
   ],
   "source": [
    "quote_tokens_no_stopwords"
   ]
  },
  {
   "cell_type": "code",
   "execution_count": 166,
   "id": "303a6b31",
   "metadata": {},
   "outputs": [
    {
     "data": {
      "text/plain": [
       "[',\\n',\n",
       " '.\\n',\n",
       " '?\\n',\n",
       " '!\\n',\n",
       " '[\\n',\n",
       " ']\\n',\n",
       " \"'\\n\",\n",
       " ':\\n',\n",
       " ';\\n',\n",
       " '-\\n',\n",
       " 'ham\\n',\n",
       " 'v\\n',\n",
       " 'th\\n',\n",
       " 'qu\\n']"
      ]
     },
     "execution_count": 166,
     "metadata": {},
     "output_type": "execute_result"
    }
   ],
   "source": [
    "# append list of stop words\n",
    "filename_extra_stopwords = \"extra stopwords.txt\"\n",
    "file_extra_stopwords = open(filename_extra_stopwords)\n",
    "extra_stopwords = file_extra_stopwords.readlines()\n",
    "file_extra_stopwords.close()\n",
    "extra_stopwords"
   ]
  },
  {
   "cell_type": "code",
   "execution_count": 167,
   "id": "2b665bde",
   "metadata": {},
   "outputs": [
    {
     "data": {
      "text/plain": [
       "[',', '.', '?', '!', '[', ']', \"'\", ':', ';', '-', 'ham', 'v', 'th', 'qu']"
      ]
     },
     "execution_count": 167,
     "metadata": {},
     "output_type": "execute_result"
    }
   ],
   "source": [
    "extra_stopwords = [word.strip() for word in extra_stopwords]\n",
    "extra_stopwords"
   ]
  },
  {
   "cell_type": "code",
   "execution_count": 168,
   "id": "6c5c8559",
   "metadata": {},
   "outputs": [
    {
     "data": {
      "text/plain": [
       "179"
      ]
     },
     "execution_count": 168,
     "metadata": {},
     "output_type": "execute_result"
    }
   ],
   "source": [
    "len(stop_words)"
   ]
  },
  {
   "cell_type": "code",
   "execution_count": 169,
   "id": "db0a8358",
   "metadata": {},
   "outputs": [
    {
     "data": {
      "text/plain": [
       "193"
      ]
     },
     "execution_count": 169,
     "metadata": {},
     "output_type": "execute_result"
    }
   ],
   "source": [
    "stop_words += extra_stopwords\n",
    "stop_words = list(set(stop_words))\n",
    "len(stop_words)"
   ]
  },
  {
   "cell_type": "code",
   "execution_count": 187,
   "id": "0e24d03e",
   "metadata": {},
   "outputs": [],
   "source": [
    "doc_tokens_processed = []\n",
    "\n",
    "for doc in doc_tokens_lemma:\n",
    "    \n",
    "    temp_token_list = []\n",
    "    \n",
    "    for token in doc:\n",
    "        \n",
    "        if (token not in stop_words) and (len(token) > 1):\n",
    "            \n",
    "            temp_token_list.append(token)\n",
    "    \n",
    "    doc_tokens_processed.append(temp_token_list)"
   ]
  },
  {
   "cell_type": "code",
   "execution_count": 188,
   "id": "bd1ff206",
   "metadata": {},
   "outputs": [
    {
     "data": {
      "text/plain": [
       "3"
      ]
     },
     "execution_count": 188,
     "metadata": {},
     "output_type": "execute_result"
    }
   ],
   "source": [
    "len(doc_tokens_processed)"
   ]
  },
  {
   "cell_type": "code",
   "execution_count": 189,
   "id": "c999c61e",
   "metadata": {},
   "outputs": [
    {
     "data": {
      "text/plain": [
       "1"
      ]
     },
     "execution_count": 189,
     "metadata": {},
     "output_type": "execute_result"
    }
   ],
   "source": [
    "len(doc_tokens_lemma[0][0])"
   ]
  },
  {
   "cell_type": "code",
   "execution_count": 190,
   "id": "c204d4a1",
   "metadata": {},
   "outputs": [
    {
     "data": {
      "text/plain": [
       "['u',\n",
       " 'ready',\n",
       " 'to',\n",
       " 'partner',\n",
       " 'with',\n",
       " 'kazakh',\n",
       " 'government',\n",
       " 'on',\n",
       " 'implementation',\n",
       " 'of']"
      ]
     },
     "execution_count": 190,
     "metadata": {},
     "output_type": "execute_result"
    }
   ],
   "source": [
    "# first few tokens in first doc, before removing stopwords\n",
    "doc_tokens_lemma[0][0:10]"
   ]
  },
  {
   "cell_type": "code",
   "execution_count": 191,
   "id": "903f6a86",
   "metadata": {},
   "outputs": [
    {
     "data": {
      "text/plain": [
       "['ready',\n",
       " 'partner',\n",
       " 'kazakh',\n",
       " 'government',\n",
       " 'implementation',\n",
       " 'political',\n",
       " 'reform',\n",
       " 'senior',\n",
       " 'diplomat',\n",
       " 'say']"
      ]
     },
     "execution_count": 191,
     "metadata": {},
     "output_type": "execute_result"
    }
   ],
   "source": [
    "# first few tokens in first doc, after removing stopwords\n",
    "doc_tokens_processed[0][0:10]"
   ]
  },
  {
   "cell_type": "code",
   "execution_count": 192,
   "id": "552daaa1",
   "metadata": {},
   "outputs": [
    {
     "data": {
      "text/plain": [
       "463"
      ]
     },
     "execution_count": 192,
     "metadata": {},
     "output_type": "execute_result"
    }
   ],
   "source": [
    "# number of tokens in first doc, before removing stopwords\n",
    "len(doc_tokens_lemma[0])"
   ]
  },
  {
   "cell_type": "code",
   "execution_count": 193,
   "id": "2d1a7ba9",
   "metadata": {},
   "outputs": [
    {
     "data": {
      "text/plain": [
       "245"
      ]
     },
     "execution_count": 193,
     "metadata": {},
     "output_type": "execute_result"
    }
   ],
   "source": [
    "# number of tokens in first doc, after removing stopwords\n",
    "len(doc_tokens_processed[0])"
   ]
  },
  {
   "cell_type": "code",
   "execution_count": 194,
   "id": "b864f916",
   "metadata": {
    "scrolled": false
   },
   "outputs": [
    {
     "data": {
      "text/plain": [
       "['ready',\n",
       " 'partner',\n",
       " 'kazakh',\n",
       " 'government',\n",
       " 'implementation',\n",
       " 'political',\n",
       " 'reform',\n",
       " 'senior',\n",
       " 'diplomat',\n",
       " 'say',\n",
       " 'visit',\n",
       " 'kazakhstanthe',\n",
       " 'united',\n",
       " 'state',\n",
       " 'support',\n",
       " 'president',\n",
       " 'tokayev',\n",
       " 'political',\n",
       " 'reform',\n",
       " 'agenda',\n",
       " 'said',\n",
       " 'uzra',\n",
       " 'zeya',\n",
       " 'under-secretary',\n",
       " 'civilian',\n",
       " 'security',\n",
       " 'democracy',\n",
       " 'human',\n",
       " 'right',\n",
       " 'press',\n",
       " 'meeting',\n",
       " 'kazakh',\n",
       " 'ministry',\n",
       " 'foreign',\n",
       " 'affair',\n",
       " 'april',\n",
       " '11.uzra',\n",
       " 'zeya',\n",
       " 'meeting',\n",
       " 'minister',\n",
       " 'foreign',\n",
       " 'affair',\n",
       " 'mukhtar',\n",
       " 'tileuberdi',\n",
       " 'photo',\n",
       " 'credit',\n",
       " 'gov.kzduring',\n",
       " 'visit',\n",
       " 'kazakhstan',\n",
       " 'side',\n",
       " 'discussed',\n",
       " 'wide',\n",
       " 'range',\n",
       " 'issue',\n",
       " 'including',\n",
       " 'aftermath',\n",
       " 'january',\n",
       " 'unrest',\n",
       " 'combating',\n",
       " 'human',\n",
       " 'trafficking',\n",
       " 'empowerment',\n",
       " 'woman',\n",
       " 'right',\n",
       " 'people',\n",
       " 'disability',\n",
       " 'cooperation',\n",
       " 'security',\n",
       " 'law',\n",
       " 'enforcement',\n",
       " 'anti-corruption.zeya',\n",
       " 'said',\n",
       " 'u.s.',\n",
       " 'government',\n",
       " 'welcomed',\n",
       " 'president',\n",
       " 'kassym-jomart',\n",
       " 'tokayev',\n",
       " 'political',\n",
       " 'reform',\n",
       " 'announced',\n",
       " 'address',\n",
       " 'nation',\n",
       " 'march',\n",
       " '16',\n",
       " 'including',\n",
       " 'designed',\n",
       " 'strengthen',\n",
       " 'legislative',\n",
       " 'branch',\n",
       " 'authority',\n",
       " 'political',\n",
       " 'party',\n",
       " 'enhance',\n",
       " 'electoral',\n",
       " 'system',\n",
       " 'promote',\n",
       " 'political',\n",
       " 'competition',\n",
       " 'transparency.',\n",
       " 'look',\n",
       " 'forward',\n",
       " 'tangible',\n",
       " 'progress',\n",
       " 'full',\n",
       " 'implementation',\n",
       " 'reform',\n",
       " 'would',\n",
       " 'significantly',\n",
       " 'advance',\n",
       " 'kazakhstan',\n",
       " 'stability',\n",
       " 'future',\n",
       " 'development',\n",
       " 'said',\n",
       " 'zeya.she',\n",
       " 'added',\n",
       " 'u.s.',\n",
       " 'encourages',\n",
       " 'initiative',\n",
       " 'ending',\n",
       " 'torture',\n",
       " 'kazakhstan',\n",
       " 'jail',\n",
       " 'prison',\n",
       " 'empowering',\n",
       " 'parliament',\n",
       " 'enhancing',\n",
       " 'independence',\n",
       " 'judiciary',\n",
       " 'addressing',\n",
       " 'problem',\n",
       " 'domestic',\n",
       " 'violence.',\n",
       " 'united',\n",
       " 'state',\n",
       " 'stand',\n",
       " 'ready',\n",
       " 'partner',\n",
       " 'kazakhstan',\n",
       " 'full',\n",
       " 'implementation',\n",
       " 'reform',\n",
       " 'said.answering',\n",
       " 'question',\n",
       " 'medium',\n",
       " 'zeya',\n",
       " 'touched',\n",
       " 'upon',\n",
       " 'impact',\n",
       " 'sanction',\n",
       " 'russia',\n",
       " 'kazakhstan',\n",
       " 'economy',\n",
       " 'according',\n",
       " 'sanction',\n",
       " 'specifically',\n",
       " 'designed',\n",
       " 'minimize',\n",
       " 'negative',\n",
       " 'impact',\n",
       " 'ally',\n",
       " 'partner',\n",
       " 'including',\n",
       " 'kazakhstan.',\n",
       " 'united',\n",
       " 'state',\n",
       " 'government',\n",
       " 'ha',\n",
       " 'also',\n",
       " 'taken',\n",
       " 'many',\n",
       " 'step',\n",
       " 'issuing',\n",
       " 'license',\n",
       " 'help',\n",
       " 'minimize',\n",
       " 'impact',\n",
       " 'sanction',\n",
       " 'u.s.',\n",
       " 'partner',\n",
       " 'economy',\n",
       " 'added.regarding',\n",
       " 'kazakh',\n",
       " 'government',\n",
       " 'response',\n",
       " 'january',\n",
       " 'unrest',\n",
       " 'allegation',\n",
       " 'excessive',\n",
       " 'use',\n",
       " 'force',\n",
       " 'authority',\n",
       " 'zeya',\n",
       " 'said',\n",
       " 'encouraging',\n",
       " 'transparent',\n",
       " 'response',\n",
       " 'part',\n",
       " 'government',\n",
       " 'one',\n",
       " 'result',\n",
       " 'full',\n",
       " 'accountability',\n",
       " 'adding',\n",
       " 'u.s.',\n",
       " 'ready',\n",
       " 'partner',\n",
       " 'kazakhstan',\n",
       " 'supporting',\n",
       " 'advancement',\n",
       " 'human',\n",
       " 'rights.zeya',\n",
       " 'added',\n",
       " 'united',\n",
       " 'state',\n",
       " 'also',\n",
       " 'look',\n",
       " 'forward',\n",
       " 'working',\n",
       " 'kazakhstan',\n",
       " 'second',\n",
       " 'term',\n",
       " 'un',\n",
       " 'human',\n",
       " 'right',\n",
       " 'council',\n",
       " 'important',\n",
       " 'ever',\n",
       " 'council',\n",
       " 'fulfills',\n",
       " 'mandate',\n",
       " 'promote',\n",
       " 'respect',\n",
       " 'human',\n",
       " 'right',\n",
       " 'fundamental',\n",
       " 'freedom',\n",
       " 'willing',\n",
       " 'shine',\n",
       " 'spotlight',\n",
       " 'country',\n",
       " 'issue',\n",
       " 'concern',\n",
       " 'said']"
      ]
     },
     "execution_count": 194,
     "metadata": {},
     "output_type": "execute_result"
    }
   ],
   "source": [
    "doc_tokens_processed[0]"
   ]
  },
  {
   "cell_type": "code",
   "execution_count": 195,
   "id": "9e2740af",
   "metadata": {},
   "outputs": [],
   "source": [
    "# add stopwords to \"extra stopwords.txt\" and run Step 2.4 again"
   ]
  },
  {
   "cell_type": "code",
   "execution_count": 196,
   "id": "80cbbc0e",
   "metadata": {},
   "outputs": [],
   "source": [
    "import pickle"
   ]
  },
  {
   "cell_type": "code",
   "execution_count": 199,
   "id": "ef460ed6",
   "metadata": {},
   "outputs": [],
   "source": [
    "# pickle doc_tokens_processed\n",
    "fileout = open(\"doc_tokens_processed.pkl\",'wb')\n",
    "pickle.dump(doc_ids,fileout)\n",
    "pickle.dump(doc_text,fileout)\n",
    "pickle.dump(doc_tokens_processed,fileout)"
   ]
  },
  {
   "cell_type": "code",
   "execution_count": null,
   "id": "342be2f5",
   "metadata": {},
   "outputs": [],
   "source": []
  },
  {
   "cell_type": "markdown",
   "id": "0b843121",
   "metadata": {},
   "source": [
    "# 2. Keyword Analysis"
   ]
  },
  {
   "cell_type": "code",
   "execution_count": null,
   "id": "0a3bbe41",
   "metadata": {},
   "outputs": [],
   "source": []
  },
  {
   "cell_type": "code",
   "execution_count": null,
   "id": "edef4e08",
   "metadata": {},
   "outputs": [],
   "source": []
  },
  {
   "cell_type": "markdown",
   "id": "9b9f2b25",
   "metadata": {},
   "source": [
    "# 3. Latent Topic Analysis"
   ]
  },
  {
   "cell_type": "code",
   "execution_count": null,
   "id": "dec10bc6",
   "metadata": {},
   "outputs": [],
   "source": []
  },
  {
   "cell_type": "code",
   "execution_count": null,
   "id": "a96c6465",
   "metadata": {},
   "outputs": [],
   "source": []
  }
 ],
 "metadata": {
  "kernelspec": {
   "display_name": "Python 3 (ipykernel)",
   "language": "python",
   "name": "python3"
  },
  "language_info": {
   "codemirror_mode": {
    "name": "ipython",
    "version": 3
   },
   "file_extension": ".py",
   "mimetype": "text/x-python",
   "name": "python",
   "nbconvert_exporter": "python",
   "pygments_lexer": "ipython3",
   "version": "3.11.0"
  }
 },
 "nbformat": 4,
 "nbformat_minor": 5
}
