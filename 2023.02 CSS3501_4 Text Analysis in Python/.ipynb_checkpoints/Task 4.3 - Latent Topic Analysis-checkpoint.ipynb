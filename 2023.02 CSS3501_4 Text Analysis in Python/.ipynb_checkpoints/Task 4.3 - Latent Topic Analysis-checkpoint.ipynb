{
 "cells": [
  {
   "cell_type": "markdown",
   "id": "5abc2516",
   "metadata": {},
   "source": [
    "# Task 4.3 - Latent Topic Analysis"
   ]
  },
  {
   "cell_type": "markdown",
   "id": "984feb3b",
   "metadata": {},
   "source": [
    "### Steps\n",
    "\n",
    "0. Preliminary Steps: Construct & Import Corpus\n",
    "1. Process Tokens\n",
    "2. Keyword Analysis\n",
    "3. Latent Topic Analysis"
   ]
  },
  {
   "cell_type": "code",
   "execution_count": null,
   "id": "6e793b47",
   "metadata": {},
   "outputs": [],
   "source": []
  },
  {
   "cell_type": "markdown",
   "id": "83cfed3d",
   "metadata": {},
   "source": [
    "# Import libraries & corpus"
   ]
  },
  {
   "cell_type": "code",
   "execution_count": 2,
   "id": "f1c8c700",
   "metadata": {},
   "outputs": [],
   "source": [
    "import pandas as pd\n",
    "import os\n",
    "import pickle"
   ]
  },
  {
   "cell_type": "code",
   "execution_count": 3,
   "id": "e21ed104",
   "metadata": {},
   "outputs": [],
   "source": [
    "# corpus path\n",
    "corpus_path = \"corpus/\""
   ]
  },
  {
   "cell_type": "code",
   "execution_count": 4,
   "id": "304370ba",
   "metadata": {},
   "outputs": [],
   "source": [
    "# corpus index file name\n",
    "corpus_index_filename = \"corpus index.xlsx\""
   ]
  },
  {
   "cell_type": "code",
   "execution_count": 7,
   "id": "98dc34ce",
   "metadata": {},
   "outputs": [],
   "source": [
    "# pickled tokens file name\n",
    "pickled_tokens_filename = \"doc_tokens_processed.pkl\""
   ]
  },
  {
   "cell_type": "code",
   "execution_count": 8,
   "id": "e72233cd",
   "metadata": {},
   "outputs": [
    {
     "data": {
      "text/plain": [
       "(3, 3)"
      ]
     },
     "execution_count": 8,
     "metadata": {},
     "output_type": "execute_result"
    }
   ],
   "source": [
    "# import corpus index\n",
    "corpus_index = pd.read_excel(corpus_index_filename, header=0)\n",
    "corpus_index.shape"
   ]
  },
  {
   "cell_type": "code",
   "execution_count": 9,
   "id": "81fef585",
   "metadata": {},
   "outputs": [
    {
     "data": {
      "text/html": [
       "<div>\n",
       "<style scoped>\n",
       "    .dataframe tbody tr th:only-of-type {\n",
       "        vertical-align: middle;\n",
       "    }\n",
       "\n",
       "    .dataframe tbody tr th {\n",
       "        vertical-align: top;\n",
       "    }\n",
       "\n",
       "    .dataframe thead th {\n",
       "        text-align: right;\n",
       "    }\n",
       "</style>\n",
       "<table border=\"1\" class=\"dataframe\">\n",
       "  <thead>\n",
       "    <tr style=\"text-align: right;\">\n",
       "      <th></th>\n",
       "      <th>Filename</th>\n",
       "      <th>Date</th>\n",
       "      <th>Description</th>\n",
       "    </tr>\n",
       "  </thead>\n",
       "  <tbody>\n",
       "    <tr>\n",
       "      <th>0</th>\n",
       "      <td>20220720</td>\n",
       "      <td>2022.07.20</td>\n",
       "      <td>Public Officials Visit Remand Prisons to Culti...</td>\n",
       "    </tr>\n",
       "    <tr>\n",
       "      <th>1</th>\n",
       "      <td>20220715</td>\n",
       "      <td>2022.07.15</td>\n",
       "      <td>Kazakh National Security Committee Celebrates ...</td>\n",
       "    </tr>\n",
       "  </tbody>\n",
       "</table>\n",
       "</div>"
      ],
      "text/plain": [
       "   Filename        Date                                        Description\n",
       "0  20220720  2022.07.20  Public Officials Visit Remand Prisons to Culti...\n",
       "1  20220715  2022.07.15  Kazakh National Security Committee Celebrates ..."
      ]
     },
     "execution_count": 9,
     "metadata": {},
     "output_type": "execute_result"
    }
   ],
   "source": [
    "corpus_index[0:2]"
   ]
  },
  {
   "cell_type": "code",
   "execution_count": 15,
   "id": "37a56aed",
   "metadata": {},
   "outputs": [],
   "source": [
    "# import pickled doc_tokens_processed\n",
    "pickled_file = open(pickled_tokens_filename,'rb')\n",
    "pickled_stuff = pickle.load(pickled_file)\n",
    "\n",
    "# recall stuff_to_pickle = [doc_ids,doc_text,doc_tokens_processed]\n",
    "doc_ids = pickled_stuff[0]\n",
    "doc_text = pickled_stuff[1]\n",
    "doc_tokens_processed = pickled_stuff[2]"
   ]
  },
  {
   "cell_type": "code",
   "execution_count": 16,
   "id": "eb56ce5a",
   "metadata": {},
   "outputs": [
    {
     "data": {
      "text/plain": [
       "['20220411', '20220715', '20220720']"
      ]
     },
     "execution_count": 16,
     "metadata": {},
     "output_type": "execute_result"
    }
   ],
   "source": [
    "doc_ids"
   ]
  },
  {
   "cell_type": "code",
   "execution_count": 17,
   "id": "770509b0",
   "metadata": {},
   "outputs": [
    {
     "data": {
      "text/plain": [
       "'US Ready to Partner With Kazakh Government on Implementation of Political Reforms, Senior Diplomat Says on Visit to KazakhstanThe United States supports President Tokayev’s political reforms agenda, said Uzra Zeya, Under-Secretary for Civilian Security, Democracy, and Human Rights, at the press meeting at the Kazakh Ministry of Foreign Affairs on April 11.Uzra Zeya meeting with Minister of Foreign Affairs – Mukhtar Tileuberdi. Photo credit: gov.kzDuring her visit to Kazakhstan, the sides discussed a wide range of issues, including the aftermath of the January unrest, combating human trafficking, empowerment of women, the rights of people with disabilities, and cooperation in security, law enforcement and anti-corruption.Zeya said that the U.S. government welcomed  President Kassym-Jomart Tokayev’s political reforms that he announced during his address to the nation on March 16, including those designed to strengthen the legislative branch of authority and political parties, and enhance the electoral system to promote political competition and transparency.“We look forward to tangible progress and full implementation of these reforms, which would significantly advance Kazakhstan’s stability and future development,” said Zeya.She added that the U.S. encourages the initiatives on ending torture in Kazakhstan’s jails and prisons, empowering the Parliament, enhancing the independence of the judiciary, and addressing the problem of domestic violence.“The United States stands ready to partner with Kazakhstan on the full implementation of these and other reforms,” she said.Answering questions from the media, Zeya touched upon the impact of sanctions against Russia on Kazakhstan’s economy. According to her, the sanctions are specifically designed to minimize negative impacts on allies and partners, including Kazakhstan.“The United States government has also taken many steps such as issuing licenses to help minimize the impact of these sanctions on the U.S. and partner economies,” she added.Regarding the Kazakh government’s response to the January unrest and allegations of excessive use of force by the authorities, Zeya said that, “We are encouraging a transparent response on the part of the government and one that results in full accountability,” adding that the U.S. is ready to partner with Kazakhstan in supporting the advancements of human rights.Zeya added that the United States also looks forward to working with Kazakhstan during its second term on the UN Human Rights Council. “It’s more important than ever that the council fulfills its mandate to promote respect for human rights and fundamental freedoms, and that it is willing to shine a spotlight on countries and issues of concern,” she said.'"
      ]
     },
     "execution_count": 17,
     "metadata": {},
     "output_type": "execute_result"
    }
   ],
   "source": [
    "doc_text[0]"
   ]
  },
  {
   "cell_type": "code",
   "execution_count": 19,
   "id": "9b1e127a",
   "metadata": {},
   "outputs": [
    {
     "data": {
      "text/plain": [
       "245"
      ]
     },
     "execution_count": 19,
     "metadata": {},
     "output_type": "execute_result"
    }
   ],
   "source": [
    "len(doc_tokens_processed[0])"
   ]
  },
  {
   "cell_type": "markdown",
   "id": "4fdee713",
   "metadata": {},
   "source": [
    "# 3. Latent Topic Analysis"
   ]
  },
  {
   "cell_type": "code",
   "execution_count": null,
   "id": "edef4e08",
   "metadata": {},
   "outputs": [],
   "source": []
  },
  {
   "cell_type": "code",
   "execution_count": null,
   "id": "dec10bc6",
   "metadata": {},
   "outputs": [],
   "source": []
  },
  {
   "cell_type": "code",
   "execution_count": null,
   "id": "a96c6465",
   "metadata": {},
   "outputs": [],
   "source": []
  }
 ],
 "metadata": {
  "kernelspec": {
   "display_name": "Python 3 (ipykernel)",
   "language": "python",
   "name": "python3"
  },
  "language_info": {
   "codemirror_mode": {
    "name": "ipython",
    "version": 3
   },
   "file_extension": ".py",
   "mimetype": "text/x-python",
   "name": "python",
   "nbconvert_exporter": "python",
   "pygments_lexer": "ipython3",
   "version": "3.11.0"
  }
 },
 "nbformat": 4,
 "nbformat_minor": 5
}
