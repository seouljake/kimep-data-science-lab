{
 "cells": [
  {
   "cell_type": "markdown",
   "metadata": {},
   "source": [
    "# Python 101 - Data Types and Control Structures"
   ]
  },
  {
   "cell_type": "markdown",
   "metadata": {},
   "source": [
    "# Day 4 - Basic Control Structures - FOR loops"
   ]
  },
  {
   "cell_type": "markdown",
   "metadata": {},
   "source": [
    "### Video Recording of this Tutorial on YouTube"
   ]
  },
  {
   "cell_type": "code",
   "execution_count": null,
   "metadata": {},
   "outputs": [],
   "source": [
    "# https://www.youtube.com/watch?v=bgH3312EvmI"
   ]
  },
  {
   "cell_type": "markdown",
   "metadata": {},
   "source": [
    "### Python 101 Tutorial Outline"
   ]
  },
  {
   "cell_type": "code",
   "execution_count": null,
   "metadata": {},
   "outputs": [],
   "source": [
    "# Python 101 introduces basic python data types, control structures, and how to begin combining these to write code."
   ]
  },
  {
   "cell_type": "code",
   "execution_count": null,
   "metadata": {},
   "outputs": [],
   "source": [
    "#### Monday - Primitive Data Types\n",
    "\n",
    "# 1. numeric types - int, float\n",
    "# 2. boolean type - bool\n",
    "# 3. text type - str"
   ]
  },
  {
   "cell_type": "code",
   "execution_count": null,
   "metadata": {},
   "outputs": [],
   "source": [
    "#### Tuesday - Non-Primitive Data Types\n",
    "\n",
    "# 1. sequence types - list\n",
    "# 2. matching types - dict\n",
    "# 3. complex data structures"
   ]
  },
  {
   "cell_type": "code",
   "execution_count": null,
   "metadata": {},
   "outputs": [],
   "source": [
    "#### Wednesday - Basic Control Structures\n",
    "\n",
    "# 1. selection statements - if\n",
    "# 2. repetition statements - while, for"
   ]
  },
  {
   "cell_type": "code",
   "execution_count": null,
   "metadata": {},
   "outputs": [],
   "source": [
    "#### Thursday - More Control Structures\n",
    "\n",
    "# 1. for loops\n",
    "# 2. combining selection & repetition statements\n",
    "# 3. nested repetition statements - for, for, for...\n",
    "# 4. list comprehensions"
   ]
  },
  {
   "cell_type": "code",
   "execution_count": null,
   "metadata": {},
   "outputs": [],
   "source": [
    "#### Friday - Running Python on your system\n",
    "\n",
    "# 1. three ways to run python - shell, .py, jupyter\n",
    "# 2. input and output - io\n",
    "# 2. operating system and directories - os"
   ]
  },
  {
   "cell_type": "markdown",
   "metadata": {},
   "source": [
    "# 0.1 Basic Control Structures"
   ]
  },
  {
   "cell_type": "code",
   "execution_count": null,
   "metadata": {},
   "outputs": [],
   "source": [
    "# 1. selection statements - if\n",
    "# 2. repetition statements - for, while"
   ]
  },
  {
   "cell_type": "markdown",
   "metadata": {},
   "source": [
    "# 0.2 Define Functions"
   ]
  },
  {
   "cell_type": "code",
   "execution_count": 1,
   "metadata": {},
   "outputs": [],
   "source": [
    "def produce_report(produce):\n",
    "     \n",
    "    print(\"Refreshing produce basket...\")\n",
    "    print(\"\\n\")\n",
    "    \n",
    "    # contents of produce basket\n",
    "    print(\"fruits:\\t\\t\",produce[\"fruits\"])\n",
    "    print(\"vegetables:\\t\",produce[\"vegetables\"])\n",
    "    print(\"\\n\")\n",
    "    print(\"produce:\")\n",
    "    print(produce)\n",
    "    print(\"\\n\")\n",
    "    \n",
    "    # number of fruits and veggies\n",
    "    print(\"# of fruits:\\t\",len(produce[\"fruits\"]))\n",
    "    print(\"# of veggies:\\t\",len(produce[\"vegetables\"]))"
   ]
  },
  {
   "cell_type": "code",
   "execution_count": 2,
   "metadata": {},
   "outputs": [],
   "source": [
    "def refresh_produce():\n",
    "    \n",
    "    fruits = ['orange','pear', 'banana', 'kiwi', 'apple', 'banana']\n",
    "    vegetables = [\"cabbage\",\"carrots\",\"asparagus\"]\n",
    "    produce = {\"fruits\":fruits,\"vegetables\":vegetables}\n",
    "    produce_report(produce)\n",
    "    return produce"
   ]
  },
  {
   "cell_type": "code",
   "execution_count": 3,
   "metadata": {},
   "outputs": [
    {
     "name": "stdout",
     "output_type": "stream",
     "text": [
      "Refreshing produce basket...\n",
      "\n",
      "\n",
      "fruits:\t\t ['orange', 'pear', 'banana', 'kiwi', 'apple', 'banana']\n",
      "vegetables:\t ['cabbage', 'carrots', 'asparagus']\n",
      "\n",
      "\n",
      "produce:\n",
      "{'fruits': ['orange', 'pear', 'banana', 'kiwi', 'apple', 'banana'], 'vegetables': ['cabbage', 'carrots', 'asparagus']}\n",
      "\n",
      "\n",
      "# of fruits:\t 6\n",
      "# of veggies:\t 3\n"
     ]
    }
   ],
   "source": [
    "produce = refresh_produce()"
   ]
  },
  {
   "cell_type": "code",
   "execution_count": null,
   "metadata": {},
   "outputs": [],
   "source": [
    "produce"
   ]
  },
  {
   "cell_type": "markdown",
   "metadata": {},
   "source": [
    "# 1. for loops"
   ]
  },
  {
   "cell_type": "markdown",
   "metadata": {},
   "source": [
    "#### relevant links"
   ]
  },
  {
   "cell_type": "code",
   "execution_count": null,
   "metadata": {},
   "outputs": [],
   "source": [
    "# https://www.w3schools.com/python/python_for_loops.asp"
   ]
  },
  {
   "cell_type": "markdown",
   "metadata": {},
   "source": [
    "#### for loops on lists and dictionaries"
   ]
  },
  {
   "cell_type": "code",
   "execution_count": null,
   "metadata": {},
   "outputs": [],
   "source": [
    "# refresh our produce\n",
    "produce = refresh_produce()"
   ]
  },
  {
   "cell_type": "code",
   "execution_count": null,
   "metadata": {},
   "outputs": [],
   "source": [
    "for item in produce:\n",
    "    print(item)"
   ]
  },
  {
   "cell_type": "code",
   "execution_count": null,
   "metadata": {},
   "outputs": [],
   "source": [
    "for item in produce.keys():\n",
    "    print(item)"
   ]
  },
  {
   "cell_type": "code",
   "execution_count": null,
   "metadata": {},
   "outputs": [],
   "source": [
    "for item in produce.values():\n",
    "    print(item)"
   ]
  },
  {
   "cell_type": "code",
   "execution_count": null,
   "metadata": {},
   "outputs": [],
   "source": [
    "for item in produce[\"fruits\"]:\n",
    "    print(item)"
   ]
  },
  {
   "cell_type": "code",
   "execution_count": null,
   "metadata": {},
   "outputs": [],
   "source": [
    "fruit_list = \"Our fruit basket contains\"\n",
    "\n",
    "for item in produce[\"fruits\"]:\n",
    "    \n",
    "    fruit_list += \" \" + item + \",\"\n",
    "    print(produce[\"fruits\"],fruit_list)\n",
    "    \n",
    "print(fruit_list)"
   ]
  },
  {
   "cell_type": "code",
   "execution_count": null,
   "metadata": {},
   "outputs": [],
   "source": [
    "fruit_list[0:-1]"
   ]
  },
  {
   "cell_type": "code",
   "execution_count": null,
   "metadata": {},
   "outputs": [],
   "source": [
    "fruit_list[0:-1]+\".\""
   ]
  },
  {
   "cell_type": "code",
   "execution_count": null,
   "metadata": {
    "scrolled": true
   },
   "outputs": [],
   "source": [
    "# refresh our produce\n",
    "produce = refresh_produce()"
   ]
  },
  {
   "cell_type": "code",
   "execution_count": null,
   "metadata": {},
   "outputs": [],
   "source": [
    "# we can also use while, len() and pop() to solve this problem\n",
    "\n",
    "fruit_list = \"Our fruit basket contains\"\n",
    "\n",
    "while(len(produce[\"fruits\"])>1):\n",
    "    \n",
    "    fruit_list+=\" \"+produce[\"fruits\"].pop()+\",\"\n",
    "    print(fruit_list,produce[\"fruits\"])\n",
    "    \n",
    "fruit_list+=\" \"+produce[\"fruits\"].pop()+\".\"\n",
    "    \n",
    "print(fruit_list)"
   ]
  },
  {
   "cell_type": "markdown",
   "metadata": {},
   "source": [
    "#### for loops on strings"
   ]
  },
  {
   "cell_type": "code",
   "execution_count": null,
   "metadata": {},
   "outputs": [],
   "source": [
    "for x in \"apple\":\n",
    "    print(x)"
   ]
  },
  {
   "cell_type": "code",
   "execution_count": null,
   "metadata": {},
   "outputs": [],
   "source": [
    "t = \"I love \"\n",
    "\n",
    "for x in \"apple\":\n",
    "    t+=x\n",
    "    print(t)"
   ]
  },
  {
   "cell_type": "code",
   "execution_count": null,
   "metadata": {},
   "outputs": [],
   "source": [
    "print(t,\"s.\")"
   ]
  },
  {
   "cell_type": "code",
   "execution_count": null,
   "metadata": {},
   "outputs": [],
   "source": [
    "# print()\n",
    "# https://www.w3schools.com/python/ref_func_print.asp#:~:text=The%20print()%20function%20prints,before%20written%20to%20the%20screen."
   ]
  },
  {
   "cell_type": "code",
   "execution_count": null,
   "metadata": {},
   "outputs": [],
   "source": [
    "print(t,\"s.\",sep=\"\")"
   ]
  },
  {
   "cell_type": "markdown",
   "metadata": {},
   "source": [
    "#### range() - for loops with indexes"
   ]
  },
  {
   "cell_type": "code",
   "execution_count": null,
   "metadata": {},
   "outputs": [],
   "source": [
    "# includes 0, excludes 5\n",
    "\n",
    "for i in range(0,5):\n",
    "    print(i)"
   ]
  },
  {
   "cell_type": "code",
   "execution_count": null,
   "metadata": {},
   "outputs": [],
   "source": [
    "# refresh our produce\n",
    "produce = refresh_produce()"
   ]
  },
  {
   "cell_type": "code",
   "execution_count": null,
   "metadata": {},
   "outputs": [],
   "source": [
    "fruits = produce[\"fruits\"]"
   ]
  },
  {
   "cell_type": "code",
   "execution_count": null,
   "metadata": {},
   "outputs": [],
   "source": [
    "fruits"
   ]
  },
  {
   "cell_type": "code",
   "execution_count": null,
   "metadata": {},
   "outputs": [],
   "source": [
    "len(fruits)"
   ]
  },
  {
   "cell_type": "code",
   "execution_count": null,
   "metadata": {},
   "outputs": [],
   "source": [
    "# this is the c++, java way - to loop through lists with manually indexing\n",
    "\n",
    "for x in range(0,len(fruits)):\n",
    "    print(x,fruits[x])"
   ]
  },
  {
   "cell_type": "code",
   "execution_count": null,
   "metadata": {},
   "outputs": [],
   "source": [
    "# this is the python way - to loop through lists without indexing\n",
    "for item in fruits:\n",
    "    print(item)"
   ]
  },
  {
   "cell_type": "markdown",
   "metadata": {},
   "source": [
    "# 2. combining selection & repetition statements - if, for, while"
   ]
  },
  {
   "cell_type": "markdown",
   "metadata": {},
   "source": [
    "#### if in for loops"
   ]
  },
  {
   "cell_type": "code",
   "execution_count": null,
   "metadata": {},
   "outputs": [],
   "source": [
    "produce = refresh_produce()"
   ]
  },
  {
   "cell_type": "code",
   "execution_count": null,
   "metadata": {},
   "outputs": [],
   "source": [
    "for item in produce[\"fruits\"]:\n",
    "    print(item,\"has\",len(item),\"letters.\")"
   ]
  },
  {
   "cell_type": "code",
   "execution_count": null,
   "metadata": {},
   "outputs": [],
   "source": [
    "# print items with four or fewer letters\n",
    "\n",
    "for item in produce[\"fruits\"]:\n",
    "    \n",
    "    if(len(item)<5):\n",
    "        \n",
    "        print(item)"
   ]
  },
  {
   "cell_type": "code",
   "execution_count": null,
   "metadata": {},
   "outputs": [],
   "source": [
    "# would you like a fruit smoothie?\n",
    "\n",
    "for item in produce[\"fruits\"]:\n",
    "    print(\"Would you like a\",item,\"smoothie?\")"
   ]
  },
  {
   "cell_type": "code",
   "execution_count": null,
   "metadata": {},
   "outputs": [],
   "source": [
    "item = \"apple\""
   ]
  },
  {
   "cell_type": "code",
   "execution_count": null,
   "metadata": {},
   "outputs": [],
   "source": [
    "item[0]"
   ]
  },
  {
   "cell_type": "code",
   "execution_count": null,
   "metadata": {},
   "outputs": [],
   "source": [
    "vowel = [\"a\",\"e\",\"i\",\"o\",\"u\"]"
   ]
  },
  {
   "cell_type": "code",
   "execution_count": null,
   "metadata": {},
   "outputs": [],
   "source": [
    "item[4] in vowel"
   ]
  },
  {
   "cell_type": "code",
   "execution_count": null,
   "metadata": {},
   "outputs": [],
   "source": [
    "produce = refresh_produce()"
   ]
  },
  {
   "cell_type": "code",
   "execution_count": null,
   "metadata": {},
   "outputs": [],
   "source": [
    "# How can we vary the article (a, an) depending on whether the first letter begins with a vowel?\n",
    "# Adapting the code above...\n",
    "\n",
    "vowel = [\"a\",\"e\",\"i\",\"o\",\"u\"]\n",
    "\n",
    "for item in produce[\"fruits\"]:\n",
    "        \n",
    "    # if the first letter of the fruit is a vowel, then insert \"an\"\n",
    "    # else, insert \"a\"\n",
    "    \n",
    "    if(item[0] in vowel):\n",
    "        print(\"Would you like an\",item,\"smoothie?\")\n",
    "    else:\n",
    "        print(\"Would you like a\",item,\"smoothie?\")"
   ]
  },
  {
   "cell_type": "code",
   "execution_count": null,
   "metadata": {},
   "outputs": [],
   "source": [
    "# exercise. smoothie options\n",
    "\n",
    "# ice cream is available with banana and kiwi\n",
    "# for these two fruits, let's output\n",
    "    # \"Would you like a banana smoothie with ice cream?\"\n",
    "    # \"Would you like a kiwi smoothie with ice cream?\"\n",
    "# but for the other fruits, just output \n",
    "    # \"Would you like an orange smoothie?\"\n",
    "    # etc.\n",
    "# Adapting the code above...\n",
    "\n",
    "vowels = [\"a\",\"e\",\"i\",\"o\",\"u\"]\n",
    "fruits_with_icecream = [\"banana\",\"kiwi\"]\n",
    "\n",
    "for item in produce[\"fruits\"]:\n",
    "    \n",
    "    article = \"a\"\n",
    "    sentence_end = \"smoothie?\"\n",
    "    \n",
    "    if(item[0] in vowels):\n",
    "        article = \"an\"\n",
    "        \n",
    "    if(item in fruits_with_icecream):\n",
    "        sentence_end = \"smoothie with ice cream?\"\n",
    "        \n",
    "    print(\"Would you like\",article,item,sentence_end)"
   ]
  },
  {
   "cell_type": "code",
   "execution_count": null,
   "metadata": {},
   "outputs": [],
   "source": [
    "# how many of each fruit do we have?\n",
    "produce = refresh_produce()"
   ]
  },
  {
   "cell_type": "code",
   "execution_count": null,
   "metadata": {},
   "outputs": [],
   "source": [
    "# exercise. fruit count\n",
    "\n",
    "# create an empty dictionary, fruit_count\n",
    "# whose key is a fruit and whose value is the number of that fruit\n",
    "# loop through produce[\"fruits\"], using for and if to update the fruit count\n",
    "\n",
    "fruit_count = {}\n",
    "\n",
    "for item in produce[\"fruits\"]:\n",
    "    \n",
    "    if(item in fruit_count):\n",
    "        fruit_count[item] = fruit_count[item] + 1\n",
    "    else:\n",
    "        fruit_count[item]=1\n",
    "        \n",
    "    print(item,produce[\"fruits\"])\n",
    "        \n",
    "print(fruit_count)"
   ]
  },
  {
   "cell_type": "markdown",
   "metadata": {},
   "source": [
    "#### if in while loop"
   ]
  },
  {
   "cell_type": "code",
   "execution_count": null,
   "metadata": {},
   "outputs": [],
   "source": [
    "# similar exercise as above, but this time\n",
    "# empty items your fruit basket, and count them as you go\n",
    "\n",
    "produce = refresh_produce()"
   ]
  },
  {
   "cell_type": "code",
   "execution_count": null,
   "metadata": {},
   "outputs": [],
   "source": [
    "# pop() fruit from your list as you count it\n",
    "# use a while loop instead of a for loop\n",
    "\n",
    "fruit_count = {}\n",
    "\n",
    "while(len(produce[\"fruits\"])>0):\n",
    "\n",
    "    item = produce[\"fruits\"].pop()\n",
    "    \n",
    "    if(item not in fruit_count):\n",
    "        fruit_count[item]=1\n",
    "    else:\n",
    "        fruit_count[item]+=1\n",
    "        \n",
    "print(fruit_count)"
   ]
  },
  {
   "cell_type": "code",
   "execution_count": null,
   "metadata": {},
   "outputs": [],
   "source": [
    "# the boolean value of an empty list if False\n",
    "am_i_empty=[]\n",
    "bool(am_i_empty)"
   ]
  },
  {
   "cell_type": "code",
   "execution_count": null,
   "metadata": {},
   "outputs": [],
   "source": [
    "# the boolean value of a non-empty list if True\n",
    "am_i_empty=[1]\n",
    "bool(am_i_empty)"
   ]
  },
  {
   "cell_type": "code",
   "execution_count": null,
   "metadata": {},
   "outputs": [],
   "source": [
    "# refresh our produce basket\n",
    "produce = refresh_produce()"
   ]
  },
  {
   "cell_type": "code",
   "execution_count": null,
   "metadata": {},
   "outputs": [],
   "source": [
    "# remove len(), and it still works\n",
    "\n",
    "fruit_count = {}\n",
    "\n",
    "while(produce[\"fruits\"]):\n",
    "\n",
    "    item = produce[\"fruits\"].pop()\n",
    "    \n",
    "    if(item not in fruit_count):\n",
    "        fruit_count[item]=1\n",
    "    else:\n",
    "        fruit_count[item]+=1\n",
    "        \n",
    "    print(item,produce[\"fruits\"])\n",
    "        \n",
    "print(fruit_count)"
   ]
  },
  {
   "cell_type": "markdown",
   "metadata": {},
   "source": [
    "#### break statement"
   ]
  },
  {
   "cell_type": "code",
   "execution_count": null,
   "metadata": {},
   "outputs": [],
   "source": [
    "# refresh our produce basket\n",
    "produce = refresh_produce()"
   ]
  },
  {
   "cell_type": "code",
   "execution_count": null,
   "metadata": {},
   "outputs": [],
   "source": [
    "for item in produce[\"fruits\"]:\n",
    "    \n",
    "    print(item)\n",
    "    \n",
    "    if item == \"kiwi\":\n",
    "        break"
   ]
  },
  {
   "cell_type": "code",
   "execution_count": null,
   "metadata": {},
   "outputs": [],
   "source": [
    "for item in produce[\"fruits\"]:\n",
    "    \n",
    "    if item == \"kiwi\":\n",
    "        break\n",
    "    \n",
    "    print(item)"
   ]
  },
  {
   "cell_type": "code",
   "execution_count": null,
   "metadata": {},
   "outputs": [],
   "source": [
    "# refresh our produce basket\n",
    "produce = refresh_produce()"
   ]
  },
  {
   "cell_type": "code",
   "execution_count": null,
   "metadata": {},
   "outputs": [],
   "source": [
    "#### exercise\n",
    "\n",
    "# pop() the first four fruits from our produce basket into fruit_count\n",
    "# report how many fruits are in fruit_count\n",
    "# and show which fruits are left in our market basket\n",
    "\n",
    "# use pop() and while\n",
    "\n",
    "fruit_count = {}\n",
    "length = len(produce[\"fruits\"])\n",
    "\n",
    "while(length-len(produce[\"fruits\"])<4):\n",
    "\n",
    "    item = produce[\"fruits\"].pop()\n",
    "    \n",
    "    if(item not in fruit_count):\n",
    "        fruit_count[item]=1\n",
    "    else:\n",
    "        fruit_count[item]+=1\n",
    "                \n",
    "print(fruit_count)"
   ]
  },
  {
   "cell_type": "markdown",
   "metadata": {},
   "source": [
    "# 3. nested repetition statements - for, for, for..."
   ]
  },
  {
   "cell_type": "code",
   "execution_count": null,
   "metadata": {},
   "outputs": [],
   "source": [
    "# refresh our produce\n",
    "produce = refresh_produce()"
   ]
  },
  {
   "cell_type": "code",
   "execution_count": null,
   "metadata": {},
   "outputs": [],
   "source": [
    "for fruit in produce[\"fruits\"]:\n",
    "    for veggie in produce[\"vegetables\"]:\n",
    "        print(fruit,veggie)"
   ]
  },
  {
   "cell_type": "code",
   "execution_count": null,
   "metadata": {},
   "outputs": [],
   "source": [
    "for fruit in produce[\"fruits\"]:\n",
    "    for veggie in produce[\"vegetables\"]:\n",
    "        print(\"Would a\",fruit,\"and\",veggie,\"smoothie be delicious?\")"
   ]
  },
  {
   "cell_type": "code",
   "execution_count": null,
   "metadata": {},
   "outputs": [],
   "source": [
    "for fruit1 in produce[\"fruits\"]:\n",
    "    for fruit2 in produce[\"fruits\"]:\n",
    "        print(\"Would a\",fruit1,\"and\",fruit2,\"smoothie be delicious?\")"
   ]
  },
  {
   "cell_type": "code",
   "execution_count": null,
   "metadata": {
    "scrolled": true
   },
   "outputs": [],
   "source": [
    "# exercise. avoiding identical pairings\n",
    "\n",
    "# how would we rewrite this to avoid identical pairings?\n",
    "\n",
    "# Adapt this code...\n",
    "\n",
    "for fruit1 in produce[\"fruits\"]:\n",
    "    for fruit2 in produce[\"fruits\"]:\n",
    "        if fruit1 != fruit2:\n",
    "            print(\"Would a\",fruit1,\"and\",fruit2,\"smoothie be delicious?\")"
   ]
  },
  {
   "cell_type": "code",
   "execution_count": null,
   "metadata": {},
   "outputs": [],
   "source": [
    "# exercise. index each output statement\n",
    "\n",
    "# Adapt this code...\n",
    "\n",
    "index = 0\n",
    "\n",
    "for fruit1 in produce[\"fruits\"]:\n",
    "    for fruit2 in produce[\"fruits\"]:\n",
    "        if fruit1 != fruit2:\n",
    "            print(index,\"\\tWould a\",fruit1,\"and\",fruit2,\"smoothie be delicious?\")\n",
    "            index+=1"
   ]
  },
  {
   "cell_type": "code",
   "execution_count": null,
   "metadata": {},
   "outputs": [],
   "source": [
    "# exercise. avoiding identical pairings and duplicate combinations in reverse order\n",
    "\n",
    "# Adapt this code...\n",
    "\n",
    "index = 1\n",
    "\n",
    "for fruit1 in produce[\"fruits\"]:\n",
    "    for fruit2 in produce[\"fruits\"]:\n",
    "        if fruit1 < fruit2:\n",
    "            print(index,\"Would a\",fruit1,\"and\",fruit2,\"smoothie be delicious?\")\n",
    "            index+=1"
   ]
  },
  {
   "cell_type": "markdown",
   "metadata": {},
   "source": [
    "# 4. comprehensions"
   ]
  },
  {
   "cell_type": "markdown",
   "metadata": {},
   "source": [
    "#### What are comprehensions and why would we use them?"
   ]
  },
  {
   "cell_type": "code",
   "execution_count": null,
   "metadata": {},
   "outputs": [],
   "source": [
    "#### Definition\n",
    "\n",
    "# A comprehension is a way to construct a list from another list, or dict from another dict\n",
    "\n",
    "\n",
    "#### Utility\n",
    "\n",
    "# Comprehensions are a convenient and very \"python\" way* of dealing with repetition\n",
    "# Particularly with simple tasks.\n",
    "# * The \"python\" way means using lists and let python handle the indexing.\n",
    "# Use them instead of for loops and lambda statements"
   ]
  },
  {
   "cell_type": "markdown",
   "metadata": {},
   "source": [
    "#### relevant links - what is a comprehension?"
   ]
  },
  {
   "cell_type": "code",
   "execution_count": null,
   "metadata": {},
   "outputs": [],
   "source": [
    "#### list comprehensions\n",
    "\n",
    "#### dictionary comphrensions\n",
    "\n",
    "# https://www.datacamp.com/tutorial/python-dictionary-comprehension"
   ]
  },
  {
   "cell_type": "markdown",
   "metadata": {},
   "source": [
    "#### list_variable = $[$statement for e in list_variable$]$"
   ]
  },
  {
   "cell_type": "code",
   "execution_count": 4,
   "metadata": {},
   "outputs": [
    {
     "name": "stdout",
     "output_type": "stream",
     "text": [
      "Refreshing produce basket...\n",
      "\n",
      "\n",
      "fruits:\t\t ['orange', 'pear', 'banana', 'kiwi', 'apple', 'banana']\n",
      "vegetables:\t ['cabbage', 'carrots', 'asparagus']\n",
      "\n",
      "\n",
      "produce:\n",
      "{'fruits': ['orange', 'pear', 'banana', 'kiwi', 'apple', 'banana'], 'vegetables': ['cabbage', 'carrots', 'asparagus']}\n",
      "\n",
      "\n",
      "# of fruits:\t 6\n",
      "# of veggies:\t 3\n"
     ]
    }
   ],
   "source": [
    "# refresh our produce basket\n",
    "produce = refresh_produce()"
   ]
  },
  {
   "cell_type": "code",
   "execution_count": 5,
   "metadata": {},
   "outputs": [],
   "source": [
    "fruits = produce[\"fruits\"]"
   ]
  },
  {
   "cell_type": "code",
   "execution_count": 6,
   "metadata": {},
   "outputs": [
    {
     "data": {
      "text/plain": [
       "['orange', 'pear', 'banana', 'kiwi', 'apple', 'banana']"
      ]
     },
     "execution_count": 6,
     "metadata": {},
     "output_type": "execute_result"
    }
   ],
   "source": [
    "fruits"
   ]
  },
  {
   "cell_type": "code",
   "execution_count": 7,
   "metadata": {},
   "outputs": [],
   "source": [
    "fruit_smoothies = [e+\" smoothie\" for e in fruits]"
   ]
  },
  {
   "cell_type": "code",
   "execution_count": 8,
   "metadata": {},
   "outputs": [
    {
     "data": {
      "text/plain": [
       "['orange smoothie',\n",
       " 'pear smoothie',\n",
       " 'banana smoothie',\n",
       " 'kiwi smoothie',\n",
       " 'apple smoothie',\n",
       " 'banana smoothie']"
      ]
     },
     "execution_count": 8,
     "metadata": {},
     "output_type": "execute_result"
    }
   ],
   "source": [
    "fruit_smoothies"
   ]
  },
  {
   "cell_type": "markdown",
   "metadata": {},
   "source": [
    "#### list_variable = $[$statement for e in list_variable if condition$]$"
   ]
  },
  {
   "cell_type": "code",
   "execution_count": 9,
   "metadata": {},
   "outputs": [],
   "source": [
    "# fruits I dislike\n",
    "fruits_i_dislike = [\"kiwi\",\"apple\"]"
   ]
  },
  {
   "cell_type": "code",
   "execution_count": 10,
   "metadata": {},
   "outputs": [],
   "source": [
    "# reproduce my list, minus the fruits I don't like\n",
    "fruits_i_like = [e for e in fruits if e not in fruits_i_dislike]"
   ]
  },
  {
   "cell_type": "code",
   "execution_count": 11,
   "metadata": {},
   "outputs": [
    {
     "data": {
      "text/plain": [
       "['orange', 'pear', 'banana', 'banana']"
      ]
     },
     "execution_count": 11,
     "metadata": {},
     "output_type": "execute_result"
    }
   ],
   "source": [
    "fruits_i_like"
   ]
  },
  {
   "cell_type": "code",
   "execution_count": 12,
   "metadata": {},
   "outputs": [],
   "source": [
    "# exercise. make a list fruit_smoothies_i_like\n",
    "fruit_smoothies_i_like = [e+\" smoothie\" for e in fruits if e not in fruits_i_dislike]"
   ]
  },
  {
   "cell_type": "code",
   "execution_count": 13,
   "metadata": {},
   "outputs": [
    {
     "data": {
      "text/plain": [
       "['orange smoothie', 'pear smoothie', 'banana smoothie', 'banana smoothie']"
      ]
     },
     "execution_count": 13,
     "metadata": {},
     "output_type": "execute_result"
    }
   ],
   "source": [
    "fruit_smoothies_i_like"
   ]
  },
  {
   "cell_type": "markdown",
   "metadata": {},
   "source": [
    "#### dict_variable = {key:value for (key,value) in dictonary.items()}"
   ]
  },
  {
   "cell_type": "code",
   "execution_count": null,
   "metadata": {},
   "outputs": [],
   "source": []
  },
  {
   "cell_type": "code",
   "execution_count": null,
   "metadata": {},
   "outputs": [],
   "source": []
  },
  {
   "cell_type": "code",
   "execution_count": null,
   "metadata": {},
   "outputs": [],
   "source": []
  },
  {
   "cell_type": "markdown",
   "metadata": {},
   "source": [
    "#### dict_variable = {key:value for (key,value) in dictonary.items() if condition}"
   ]
  },
  {
   "cell_type": "code",
   "execution_count": null,
   "metadata": {},
   "outputs": [],
   "source": []
  },
  {
   "cell_type": "code",
   "execution_count": null,
   "metadata": {},
   "outputs": [],
   "source": []
  },
  {
   "cell_type": "code",
   "execution_count": null,
   "metadata": {},
   "outputs": [],
   "source": []
  },
  {
   "cell_type": "markdown",
   "metadata": {},
   "source": [
    "# After-class Workout"
   ]
  },
  {
   "cell_type": "code",
   "execution_count": 14,
   "metadata": {},
   "outputs": [],
   "source": [
    "#### Exercise 0. instead of a list comprehension, use for and if to create fruit_smoothies_i_like\n",
    "\n",
    "# adapt this code\n",
    "\n",
    "fruits_i_dislike = [\"kiwi\",\"apple\"]\n",
    "fruit_smoothies_i_like = [e+\" smoothie\" for e in fruits if e not in fruits_i_dislike]"
   ]
  },
  {
   "cell_type": "code",
   "execution_count": 15,
   "metadata": {},
   "outputs": [
    {
     "data": {
      "text/plain": [
       "['orange smoothie', 'pear smoothie', 'banana smoothie', 'banana smoothie']"
      ]
     },
     "execution_count": 15,
     "metadata": {},
     "output_type": "execute_result"
    }
   ],
   "source": [
    "fruit_smoothies_i_like"
   ]
  },
  {
   "cell_type": "code",
   "execution_count": 17,
   "metadata": {},
   "outputs": [
    {
     "name": "stdout",
     "output_type": "stream",
     "text": [
      "orange smoothie\n",
      "pear smoothie\n",
      "banana smoothie\n",
      "banana smoothie\n"
     ]
    }
   ],
   "source": [
    "fruit_smoothies_i_like = []\n",
    "\n",
    "for e in fruits:\n",
    "    if e not in fruits_i_dislike:        \n",
    "        print(e,\"smoothie\")\n",
    "        fruit_smoothies_i_like.append(e+\" smoothie\")"
   ]
  },
  {
   "cell_type": "code",
   "execution_count": 18,
   "metadata": {},
   "outputs": [
    {
     "data": {
      "text/plain": [
       "['orange smoothie', 'pear smoothie', 'banana smoothie', 'banana smoothie']"
      ]
     },
     "execution_count": 18,
     "metadata": {},
     "output_type": "execute_result"
    }
   ],
   "source": [
    "fruit_smoothies_i_like"
   ]
  },
  {
   "cell_type": "code",
   "execution_count": null,
   "metadata": {},
   "outputs": [],
   "source": [
    "#### Exericse 1. Your fruit basket contains 2 bananas, 1 apple, 1 kiwi, 1 pear, and 1 orange.\n",
    "\n",
    "# Write code that could produce the above sentence, depending on what is in the fruit basket\n",
    "\n",
    "# Note:\n",
    "    # 1. add an \"s\" to items with a plural count.\n",
    "    # 2. add \"and\" before the final item of the count."
   ]
  },
  {
   "cell_type": "code",
   "execution_count": 20,
   "metadata": {},
   "outputs": [
    {
     "name": "stdout",
     "output_type": "stream",
     "text": [
      "Your fruit basket contains 2 bananas, 1 apple, 1 kiwi, 1 pear, and 1 orange.\n"
     ]
    }
   ],
   "source": [
    "# Daniyar's solution\n",
    "\n",
    "fruits = ['banana', 'apple', 'kiwi', 'pear', 'banana', 'orange']   \n",
    "fruits_length = len(fruits)\n",
    "fruit_list = \"Your fruit basket contains\"\n",
    "\n",
    "for i in range(0,fruits_length):\n",
    "    \n",
    "    \n",
    "    apostrophe = \"\"\n",
    "\n",
    "    item = fruits[i]\n",
    "    fruits_amount = fruits.count(item)\n",
    "    \n",
    "    if fruits_amount > 1:\n",
    "        apostrophe = \"s\"\n",
    "    \n",
    "    if item not in fruit_list:\n",
    "        if i < fruits_length-2:\n",
    "            fruit_list += \" \" + str(fruits_amount) + \" \" + item+apostrophe + \",\"\n",
    "        else:\n",
    "            fruit_list += \" and \" + str(fruits_amount) + \" \" + item+apostrophe + \".\"\n",
    "\n",
    "            \n",
    "print(fruit_list)"
   ]
  },
  {
   "cell_type": "code",
   "execution_count": null,
   "metadata": {},
   "outputs": [],
   "source": [
    "#### Exericse 2. fruit market receipt\n",
    "\n",
    "fruit_prices = {\"orange\":.55,\"apple\":.40,\"kiwi\":.75,\"pear\":.80,\"banana\":.25}\n",
    "sales_tax = .1\n",
    "\n",
    "# use the above fruit prices to print out a receipt showing\n",
    "    # 1. which fruit were purchased\n",
    "    # 2. how many of each fruit were purchased\n",
    "    # 3. what is the unit price of each fruit\n",
    "    # 4. what is the subtotal for each fruit\n",
    "    # 5. what is the subtotal for all fruit\n",
    "    # 6. add a line beneath this showing that the sales tax is 10% and show the sales tax subtotal\n",
    "    # 7. add a line beneath this showing the total bill\n",
    "    # 8. if you like, you can add some formatting elements to the receipt, e.g., \"$\", \"---------\", \"========\",\n",
    "    # 9. be creative and have fun with it!\n",
    "\n",
    "# bonus\n",
    "    # 10. wrap all of this in a function, print_receipt(fruit_prices,fruit_basket,sales_tax)"
   ]
  },
  {
   "cell_type": "code",
   "execution_count": 31,
   "metadata": {},
   "outputs": [
    {
     "name": "stdout",
     "output_type": "stream",
     "text": [
      "{'orange': 0.55, 'apple': 0.4, 'kiwi': 0.75, 'pear': 0.8}\n",
      "sales_tax=0.1\n",
      "orange \tQ=3 \tprice=0.55 \tsubtotal 1.65\n",
      "kiwi \tQ=5 \tprice=0.75 \tsubtotal 3.75\n",
      "subtotal \t\t$5.4\n",
      "sales tax \t\t0.54%\n",
      "total net of tax \t$5.94\n"
     ]
    }
   ],
   "source": [
    "# Saule's solution\n",
    "\n",
    "fruit_prices = {\"orange\":.55,\"apple\":.40,\"kiwi\":.75,\"pear\":.80}\n",
    "\n",
    "print (fruit_prices)\n",
    "\n",
    "sales_tax = .1\n",
    "\n",
    "print(\"sales_tax=\"+str(sales_tax))\n",
    "\n",
    "purchase={\"orange\":3,\"kiwi\":5}\n",
    "\n",
    "# receipt = {\"orange\": [.55, 3]}\n",
    "total = 0\n",
    "\n",
    "for item in purchase:\n",
    "    \n",
    "    subtotal= round(fruit_prices[item]*purchase[item],2)\n",
    "    \n",
    "    print(item+\" \"+\"\\tQ=\"+str(purchase[item])+\" \"+\"\\tprice=\"+str(fruit_prices[item])+\" \"+\"\\tsubtotal \"+str(subtotal))\n",
    "    \n",
    "    total = total + subtotal\n",
    "    \n",
    "#net_of_tax=total*(1-sales_tax)\n",
    "\n",
    "print(\"subtotal \"+\"\\t\\t$\"+str(total))\n",
    "print(\"sales tax \\t\\t\"+str(sales_tax*total)+\"%\")\n",
    "print(\"total net of tax \"+\"\\t$\"+str(round(total*1.1,2)))"
   ]
  },
  {
   "cell_type": "code",
   "execution_count": null,
   "metadata": {},
   "outputs": [],
   "source": [
    "#### Exercise 3. find a more elegant solution to this in-class exercise\n",
    "\n",
    "\n",
    "# pop() the first four fruits from our produce basket into fruit_count\n",
    "# report how many fruits are in fruit_count\n",
    "# and show which fruits are left in our market basket\n",
    "\n",
    "# use pop() and while\n",
    "\n",
    "fruit_count = {}\n",
    "length = len(produce[\"fruits\"])\n",
    "\n",
    "while(length-len(produce[\"fruits\"])<4):\n",
    "\n",
    "    item = produce[\"fruits\"].pop()\n",
    "    \n",
    "    if(item not in fruit_count):\n",
    "        fruit_count[item]=1\n",
    "    else:\n",
    "        fruit_count[item]+=1\n",
    "                \n",
    "print(fruit_count)"
   ]
  },
  {
   "cell_type": "code",
   "execution_count": null,
   "metadata": {},
   "outputs": [],
   "source": []
  }
 ],
 "metadata": {
  "kernelspec": {
   "display_name": "Python 3",
   "language": "python",
   "name": "python3"
  },
  "language_info": {
   "codemirror_mode": {
    "name": "ipython",
    "version": 3
   },
   "file_extension": ".py",
   "mimetype": "text/x-python",
   "name": "python",
   "nbconvert_exporter": "python",
   "pygments_lexer": "ipython3",
   "version": "3.7.3"
  }
 },
 "nbformat": 4,
 "nbformat_minor": 4
}
