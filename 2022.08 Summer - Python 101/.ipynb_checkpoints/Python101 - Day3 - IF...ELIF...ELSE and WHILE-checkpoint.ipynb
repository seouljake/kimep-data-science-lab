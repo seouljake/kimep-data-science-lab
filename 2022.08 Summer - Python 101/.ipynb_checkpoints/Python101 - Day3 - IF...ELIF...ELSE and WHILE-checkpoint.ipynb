{
 "cells": [
  {
   "cell_type": "markdown",
   "metadata": {},
   "source": [
    "# Python 101 - Data Types and Control Structures"
   ]
  },
  {
   "cell_type": "markdown",
   "metadata": {},
   "source": [
    "# Day 3 - Basic Control Structures - IF statements and WHILE loops"
   ]
  },
  {
   "cell_type": "markdown",
   "metadata": {},
   "source": [
    "### Video Recording of this Tutorial on YouTube"
   ]
  },
  {
   "cell_type": "code",
   "execution_count": 1,
   "metadata": {},
   "outputs": [],
   "source": [
    "# https://youtu.be/zfIKP0_U9mU"
   ]
  },
  {
   "cell_type": "markdown",
   "metadata": {},
   "source": [
    "### Python 101 Tutorial Outline"
   ]
  },
  {
   "cell_type": "code",
   "execution_count": null,
   "metadata": {},
   "outputs": [],
   "source": [
    "# Python 101 introduces basic python data types, control structures, and how to begin combining these to write code."
   ]
  },
  {
   "cell_type": "code",
   "execution_count": null,
   "metadata": {},
   "outputs": [],
   "source": [
    "#### Monday - Primitive Data Types\n",
    "\n",
    "# 1. numeric types - int, float\n",
    "# 2. boolean type - bool\n",
    "# 3. text type - str"
   ]
  },
  {
   "cell_type": "code",
   "execution_count": null,
   "metadata": {},
   "outputs": [],
   "source": [
    "#### Tuesday - Non-Primitive Data Types\n",
    "\n",
    "# 1. sequence types - list\n",
    "# 2. matching types - dict\n",
    "# 3. complex data structures"
   ]
  },
  {
   "cell_type": "code",
   "execution_count": null,
   "metadata": {},
   "outputs": [],
   "source": [
    "#### Wednesday - Basic Control Structures\n",
    "\n",
    "# 1. selection statements - if\n",
    "# 2. repetition statements - while, for"
   ]
  },
  {
   "cell_type": "code",
   "execution_count": 3,
   "metadata": {},
   "outputs": [],
   "source": [
    "#### Thursday - More Control Structures\n",
    "\n",
    "# 1. for loops\n",
    "# 2. nested repetition statements - for, for, for...\n",
    "# 3. combining selection & repetition statements\n",
    "# 4. list comprehensions"
   ]
  },
  {
   "cell_type": "code",
   "execution_count": null,
   "metadata": {},
   "outputs": [],
   "source": [
    "#### Friday - Running Python on your system\n",
    "\n",
    "# 1. three ways to run python - shell, .py, jupyter\n",
    "# 2. input and output - io\n",
    "# 2. operating system and directories - os"
   ]
  },
  {
   "cell_type": "code",
   "execution_count": null,
   "metadata": {},
   "outputs": [],
   "source": []
  },
  {
   "cell_type": "markdown",
   "metadata": {},
   "source": [
    "# 0. Basic Control Structures"
   ]
  },
  {
   "cell_type": "code",
   "execution_count": null,
   "metadata": {},
   "outputs": [],
   "source": [
    "# 1. selection statements - if\n",
    "# 2. repetition statements - for, while"
   ]
  },
  {
   "cell_type": "markdown",
   "metadata": {},
   "source": [
    "# 1. if statements"
   ]
  },
  {
   "cell_type": "markdown",
   "metadata": {},
   "source": [
    "#### relevant links"
   ]
  },
  {
   "cell_type": "code",
   "execution_count": null,
   "metadata": {},
   "outputs": [],
   "source": [
    "# https://www.w3schools.com/python/python_conditions.asp"
   ]
  },
  {
   "cell_type": "markdown",
   "metadata": {},
   "source": [
    "#### if with logical conditions"
   ]
  },
  {
   "cell_type": "code",
   "execution_count": null,
   "metadata": {},
   "outputs": [],
   "source": [
    "# Equals: a == b\n",
    "# Not Equals: a != b\n",
    "# Less than: a < b\n",
    "# Less than or equal to: a <= b\n",
    "# Greater than: a > b\n",
    "# Greater than or equal to: a >= b"
   ]
  },
  {
   "cell_type": "markdown",
   "metadata": {},
   "source": [
    "#### cabbage = carrots?"
   ]
  },
  {
   "cell_type": "code",
   "execution_count": null,
   "metadata": {},
   "outputs": [],
   "source": [
    "fruits = ['orange','pear', 'banana', 'kiwi', 'apple', 'banana']"
   ]
  },
  {
   "cell_type": "code",
   "execution_count": null,
   "metadata": {},
   "outputs": [],
   "source": [
    "vegetables = [\"cabbage\",\"carrots\",\"asparagus\"]"
   ]
  },
  {
   "cell_type": "code",
   "execution_count": null,
   "metadata": {},
   "outputs": [],
   "source": [
    "produce = {\"fruits\":fruits,\"vegetables\":vegetables}"
   ]
  },
  {
   "cell_type": "code",
   "execution_count": null,
   "metadata": {},
   "outputs": [],
   "source": [
    "produce"
   ]
  },
  {
   "cell_type": "code",
   "execution_count": null,
   "metadata": {},
   "outputs": [],
   "source": [
    "cabbage_count = vegetables.count(\"cabbage\")\n",
    "carrot_count = vegetables.count(\"carrots\")"
   ]
  },
  {
   "cell_type": "code",
   "execution_count": null,
   "metadata": {},
   "outputs": [],
   "source": [
    "# use print() and \\t (tab) to output number of carrots and cabbages\n",
    "# other examples: \\n, \\t, \\r\n",
    "print(\"cabbages:\\t\",cabbage_count)\n",
    "print(\"carrots:\\t\",carrot_count)\n",
    "print(\"fruits:\\t\\t\",fruits)\n",
    "print(\"vegetables:\\t\",vegetables)\n",
    "print(\"produce:\\t\",produce)"
   ]
  },
  {
   "cell_type": "code",
   "execution_count": null,
   "metadata": {},
   "outputs": [],
   "source": [
    "# Equals: a == b\n",
    "\n",
    "cabbage_count == carrot_count    "
   ]
  },
  {
   "cell_type": "code",
   "execution_count": null,
   "metadata": {},
   "outputs": [],
   "source": [
    "# if the number of cabbages = number of carrots, then add cabbage\n",
    "\n",
    "if(cabbage_count == carrot_count):\n",
    "    \n",
    "    vegetables.append(\"cabbage\")"
   ]
  },
  {
   "cell_type": "code",
   "execution_count": null,
   "metadata": {},
   "outputs": [],
   "source": [
    "vegetables"
   ]
  },
  {
   "cell_type": "markdown",
   "metadata": {},
   "source": [
    "#### functions - a quick introduction"
   ]
  },
  {
   "cell_type": "code",
   "execution_count": null,
   "metadata": {},
   "outputs": [],
   "source": [
    "# let's create a function to report produce\n",
    "\n",
    "def produce_report(produce):\n",
    "     \n",
    "    print(\"cabbage:\\t\",produce[\"vegetables\"].count(\"cabbage\"))\n",
    "    print(\"carrots:\\t\",produce[\"vegetables\"].count(\"carrots\"))\n",
    "    print(\"fruits:\\t\\t\",produce[\"fruits\"])\n",
    "    print(\"vegetables:\\t\",produce[\"vegetables\"])\n",
    "    print(\"produce:\\t\",produce)"
   ]
  },
  {
   "cell_type": "code",
   "execution_count": null,
   "metadata": {},
   "outputs": [],
   "source": [
    "produce_report(produce)"
   ]
  },
  {
   "cell_type": "code",
   "execution_count": null,
   "metadata": {},
   "outputs": [],
   "source": [
    "# why don't our counts match up with the produce report?\n",
    "cabbage_count"
   ]
  },
  {
   "cell_type": "code",
   "execution_count": null,
   "metadata": {},
   "outputs": [],
   "source": [
    "carrot_count"
   ]
  },
  {
   "cell_type": "code",
   "execution_count": null,
   "metadata": {},
   "outputs": [],
   "source": [
    "# we didn't update our counts\n",
    "cabbage_count = vegetables.count(\"cabbage\")\n",
    "carrot_count = vegetables.count(\"carrots\")\n",
    "\n",
    "print(\"cabbage_count:\",cabbage_count)\n",
    "print(\"carrot_count:\",carrot_count)"
   ]
  },
  {
   "cell_type": "code",
   "execution_count": null,
   "metadata": {},
   "outputs": [],
   "source": [
    "cabbage_count == carrot_count"
   ]
  },
  {
   "cell_type": "code",
   "execution_count": null,
   "metadata": {},
   "outputs": [],
   "source": [
    "# let's remove a cabbage\n",
    "vegetables.remove(\"cabbage\")"
   ]
  },
  {
   "cell_type": "code",
   "execution_count": null,
   "metadata": {},
   "outputs": [],
   "source": [
    "# and update our counts\n",
    "cabbage_count = vegetables.count(\"cabbage\")\n",
    "carrot_count = vegetables.count(\"carrots\")\n",
    "\n",
    "print(\"cabbage_count:\",cabbage_count)\n",
    "print(\"carrot_count:\",carrot_count)"
   ]
  },
  {
   "cell_type": "code",
   "execution_count": null,
   "metadata": {},
   "outputs": [],
   "source": [
    "# we either need to update our counts\n",
    "\n",
    "if(cabbage_count == carrot_count):\n",
    "    \n",
    "    # add cabbage\n",
    "    vegetables.append(\"cabbage\")\n",
    "    \n",
    "    # update cabbage count\n",
    "    cabbage_count = vegetables.count(\"cabbage\")"
   ]
  },
  {
   "cell_type": "code",
   "execution_count": null,
   "metadata": {},
   "outputs": [],
   "source": [
    "# and verify...\n",
    "produce_report(produce)"
   ]
  },
  {
   "cell_type": "code",
   "execution_count": null,
   "metadata": {},
   "outputs": [],
   "source": [
    "cabbage_count"
   ]
  },
  {
   "cell_type": "code",
   "execution_count": null,
   "metadata": {},
   "outputs": [],
   "source": [
    "# or eliminate count variables altogether\n",
    "\n",
    "if(vegetables.count(\"cabbage\") == vegetables.count(\"carrots\")):\n",
    "    \n",
    "    # add cabbage\n",
    "    vegetables.append(\"cabbage\")\n",
    "    \n",
    "# and verify...\n",
    "produce_report(produce)"
   ]
  },
  {
   "cell_type": "markdown",
   "metadata": {},
   "source": [
    "#### vegetables <= fruits ?"
   ]
  },
  {
   "cell_type": "code",
   "execution_count": null,
   "metadata": {},
   "outputs": [],
   "source": [
    "# let's refresh our produce basket\n",
    "fruits = ['orange','pear', 'banana', 'kiwi', 'apple', 'banana']\n",
    "vegetables = [\"cabbage\",\"carrots\",\"asparagus\"]\n",
    "produce = {\"fruits\":fruits,\"vegetables\":vegetables}\n",
    "produce_report(produce)"
   ]
  },
  {
   "cell_type": "code",
   "execution_count": null,
   "metadata": {},
   "outputs": [],
   "source": [
    "# Less than: a <= b\n",
    "\n",
    "len(vegetables) <= len(fruits)"
   ]
  },
  {
   "cell_type": "code",
   "execution_count": null,
   "metadata": {},
   "outputs": [],
   "source": [
    "# let's do the same thing, using produce\n",
    "\n",
    "len(produce[\"vegetables\"]) <= len(produce[\"fruits\"])"
   ]
  },
  {
   "cell_type": "code",
   "execution_count": null,
   "metadata": {},
   "outputs": [],
   "source": [
    "# and verify...\n",
    "produce_report(produce)"
   ]
  },
  {
   "cell_type": "code",
   "execution_count": null,
   "metadata": {},
   "outputs": [],
   "source": [
    "# exercise - let's update our produce report function to report # of fruit and # of veggies\n",
    "\n",
    "def produce_report(produce):\n",
    "     \n",
    "    # number of fruits and veggies\n",
    "    print(\"# of fruits:\\t\",len(produce[\"fruits\"]))\n",
    "    print(\"# of veggies:\\t\",len(produce[\"vegetables\"]))\n",
    "\n",
    "    # produce basket\n",
    "    print(\"fruits:\\t\\t\",produce[\"fruits\"])\n",
    "    print(\"vegetables:\\t\",produce[\"vegetables\"])\n",
    "    print(\"produce:\\t\",produce)"
   ]
  },
  {
   "cell_type": "code",
   "execution_count": null,
   "metadata": {},
   "outputs": [],
   "source": [
    "produce_report(produce)"
   ]
  },
  {
   "cell_type": "code",
   "execution_count": null,
   "metadata": {},
   "outputs": [],
   "source": [
    "# we can pre-define extra veggies\n",
    "extra_veggies = [\"kale\",\"sweet potatoes\",\"cauliflower\",\"green beans\"]"
   ]
  },
  {
   "cell_type": "code",
   "execution_count": null,
   "metadata": {},
   "outputs": [],
   "source": [
    "len(produce[\"vegetables\"]) <= len(produce[\"fruits\"])"
   ]
  },
  {
   "cell_type": "code",
   "execution_count": null,
   "metadata": {},
   "outputs": [],
   "source": [
    "# if # veggies <= # fruits, then let's add some extra veggies\n",
    "\n",
    "if(len(produce[\"vegetables\"]) <= len(produce[\"fruits\"])):\n",
    "    \n",
    "    # add some vegetables\n",
    "    vegetables += extra_veggies    # same as: vegetables = vegetables + extra_veggies"
   ]
  },
  {
   "cell_type": "code",
   "execution_count": null,
   "metadata": {},
   "outputs": [],
   "source": [
    "# and verify...\n",
    "produce_report(produce)"
   ]
  },
  {
   "cell_type": "markdown",
   "metadata": {},
   "source": [
    "#### else statement"
   ]
  },
  {
   "cell_type": "code",
   "execution_count": null,
   "metadata": {},
   "outputs": [],
   "source": [
    "# let's refresh our produce basket\n",
    "fruits = ['orange','pear', 'banana', 'kiwi', 'apple', 'banana']\n",
    "vegetables = [\"cabbage\",\"carrots\",\"asparagus\"]\n",
    "produce = {\"fruits\":fruits,\"vegetables\":vegetables}\n",
    "produce_report(produce)"
   ]
  },
  {
   "cell_type": "code",
   "execution_count": null,
   "metadata": {},
   "outputs": [],
   "source": [
    "len(produce[\"vegetables\"]) <= len(produce[\"fruits\"])"
   ]
  },
  {
   "cell_type": "code",
   "execution_count": null,
   "metadata": {},
   "outputs": [],
   "source": [
    "# if veggies <= fruits, then let's add extra veggies\n",
    "\n",
    "# let's use if...else... to report what we've done\n",
    "\n",
    "if(len(produce[\"vegetables\"]) <= len(produce[\"fruits\"])):\n",
    "        \n",
    "    # add extra vegetables\n",
    "    vegetables += extra_veggies\n",
    "    \n",
    "    # confirm adding extra veggies\n",
    "    print(\"We added some extra veggies:\",extra_veggies)\n",
    "    \n",
    "else:\n",
    "    \n",
    "    # report no changes\n",
    "    print(\"No veggies were added!\\n\")\n",
    "    \n",
    "produce_report(produce)"
   ]
  },
  {
   "cell_type": "code",
   "execution_count": null,
   "metadata": {},
   "outputs": [],
   "source": [
    "# and verify...\n",
    "produce_report(produce)"
   ]
  },
  {
   "cell_type": "markdown",
   "metadata": {},
   "source": [
    "#### if() with in operator"
   ]
  },
  {
   "cell_type": "code",
   "execution_count": null,
   "metadata": {},
   "outputs": [],
   "source": [
    "produce_report(produce)"
   ]
  },
  {
   "cell_type": "code",
   "execution_count": null,
   "metadata": {},
   "outputs": [],
   "source": [
    "\"asparagus\" in produce[\"vegetables\"]"
   ]
  },
  {
   "cell_type": "code",
   "execution_count": null,
   "metadata": {},
   "outputs": [],
   "source": [
    "\"watermelon\" in produce[\"fruits\"]"
   ]
  },
  {
   "cell_type": "code",
   "execution_count": null,
   "metadata": {},
   "outputs": [],
   "source": [
    "\"watermelon\" not in produce[\"fruits\"]"
   ]
  },
  {
   "cell_type": "code",
   "execution_count": null,
   "metadata": {},
   "outputs": [],
   "source": [
    "not \"watermelon\" in produce[\"fruits\"]"
   ]
  },
  {
   "cell_type": "markdown",
   "metadata": {},
   "source": [
    "#### exercise - remove aspargus, if it's in our veggie basket"
   ]
  },
  {
   "cell_type": "code",
   "execution_count": null,
   "metadata": {},
   "outputs": [],
   "source": [
    "# let's remove the asparagus if it's in the veggie basket\n",
    "\n",
    "if \"asparagus\" in vegetables:\n",
    "    \n",
    "    vegetables.remove(\"asparagus\")"
   ]
  },
  {
   "cell_type": "code",
   "execution_count": null,
   "metadata": {},
   "outputs": [],
   "source": [
    "produce_report(produce)"
   ]
  },
  {
   "cell_type": "code",
   "execution_count": null,
   "metadata": {},
   "outputs": [],
   "source": [
    "# another example, using the produce dictionary\n",
    "\n",
    "if \"asparagus\" in produce[\"vegetables\"]:\n",
    "    \n",
    "    produce[\"vegetables\"].remove(\"asparagus\")\n",
    "    print(\"removed asparagus\")\n",
    "    \n",
    "else:\n",
    "    \n",
    "    print(\"no asparagus to remove\")"
   ]
  },
  {
   "cell_type": "code",
   "execution_count": null,
   "metadata": {},
   "outputs": [],
   "source": [
    "# and why do we need if() to do this?\n",
    "\n",
    "produce[\"vegetables\"].remove(\"asparagus\")"
   ]
  },
  {
   "cell_type": "markdown",
   "metadata": {},
   "source": [
    "#### exercise - add watermelon, if it's not in our fruit basket"
   ]
  },
  {
   "cell_type": "code",
   "execution_count": null,
   "metadata": {},
   "outputs": [],
   "source": [
    "# let's add watermelon if it's not in the fruit basket. use if()...else to report our actions.\n",
    "\n",
    "if not \"watermelon\" in produce[\"fruits\"]: \n",
    "    \n",
    "    produce[\"fruits\"].append(\"watermelon\")\n",
    "    print(\"added watermelon\\n\")\n",
    "    \n",
    "else:\n",
    "    \n",
    "    print(\"we already have\",produce[\"fruits\"].count(\"watermelon\"),\"watermelon\\n\")\n",
    "    \n",
    "produce_report(produce)"
   ]
  },
  {
   "cell_type": "markdown",
   "metadata": {},
   "source": [
    "#### elif statement - else if"
   ]
  },
  {
   "cell_type": "code",
   "execution_count": null,
   "metadata": {},
   "outputs": [],
   "source": [
    "a = 5\n",
    "b = 6"
   ]
  },
  {
   "cell_type": "code",
   "execution_count": null,
   "metadata": {},
   "outputs": [],
   "source": [
    "print(\"a:\",a)\n",
    "print(\"b:\",b)"
   ]
  },
  {
   "cell_type": "code",
   "execution_count": null,
   "metadata": {},
   "outputs": [],
   "source": [
    "if(a > b):\n",
    "    print(\"a is greater than b\")\n",
    "elif(b > a):\n",
    "    print(\"b is greater than a\")"
   ]
  },
  {
   "cell_type": "code",
   "execution_count": null,
   "metadata": {},
   "outputs": [],
   "source": [
    "a = 6\n",
    "b = 6"
   ]
  },
  {
   "cell_type": "code",
   "execution_count": null,
   "metadata": {},
   "outputs": [],
   "source": [
    "# we can add an else statement\n",
    "\n",
    "print(\"a:\",a)\n",
    "print(\"b:\",b)\n",
    "\n",
    "if(a > b):\n",
    "    \n",
    "    print(\"a is greater than b\")\n",
    "    \n",
    "elif(a < b):\n",
    "    \n",
    "    print(\"a is less than b\")\n",
    "    \n",
    "else:\n",
    "    \n",
    "    print(\"a is equal to b\")"
   ]
  },
  {
   "cell_type": "code",
   "execution_count": null,
   "metadata": {},
   "outputs": [],
   "source": [
    "# let's refresh our produce basket\n",
    "fruits = ['orange','pear', 'banana', 'kiwi', 'apple', 'banana']\n",
    "vegetables = [\"cabbage\",\"carrots\",\"asparagus\"]\n",
    "produce = {\"fruits\":fruits,\"vegetables\":vegetables}\n",
    "produce_report(produce)"
   ]
  },
  {
   "cell_type": "code",
   "execution_count": null,
   "metadata": {},
   "outputs": [],
   "source": [
    "# and use if()...elif()...elif() to code this\n",
    "\n",
    "# veggies < fruits? - then add more veggies\n",
    "# veggies == fruits? - then add one of each\n",
    "# veggies > fruits? - then add a fruit\n",
    "\n",
    "\n",
    "if len(produce[\"vegetables\"]) < len(produce[\"fruits\"]):\n",
    "    \n",
    "    produce[\"vegetables\"].append(\"cucumber\")\n",
    "    print(\"more veggies were added\")\n",
    "\n",
    "elif len(vegetables) == len(fruits):\n",
    "    produce[\"vegetables\"].append(\"cucumber\")\n",
    "    produce[\"fruits\"].append(\"dragonfruit\")\n",
    "    print('more of each were added')\n",
    "    \n",
    "else:\n",
    "    produce[\"fruits\"].append(\"dragonfruit\")\n",
    "    print(\"more fruits were added\")\n",
    "\n",
    "produce_report(produce)"
   ]
  },
  {
   "cell_type": "code",
   "execution_count": null,
   "metadata": {},
   "outputs": [],
   "source": [
    "# original logic\n",
    "\n",
    "# veggies < fruits? - then add more veggies\n",
    "# veggies > fruits? - then add a fruit\n",
    "# veggies == fruits? - then add one of each\n",
    "\n",
    "\n",
    "# case 1: 5 veggies, 6 fruits  --> 6 veggies, 6 fruits\n",
    "\n",
    "# case 2: 6 veggies, 5 fruits --> 6 veggies, 6 fruits\n",
    "\n",
    "# case 3: 5 veggies, 5 fruits --> 6 veggies, 6 fruits"
   ]
  },
  {
   "cell_type": "code",
   "execution_count": null,
   "metadata": {},
   "outputs": [],
   "source": [
    "# optional - we can replace the last elif() statement with else\n"
   ]
  },
  {
   "cell_type": "code",
   "execution_count": null,
   "metadata": {},
   "outputs": [],
   "source": []
  },
  {
   "cell_type": "markdown",
   "metadata": {},
   "source": [
    "# 2. while loops"
   ]
  },
  {
   "cell_type": "markdown",
   "metadata": {},
   "source": [
    "#### relevant links"
   ]
  },
  {
   "cell_type": "code",
   "execution_count": null,
   "metadata": {},
   "outputs": [],
   "source": [
    "# https://www.w3schools.com/python/python_while_loops.asp"
   ]
  },
  {
   "cell_type": "markdown",
   "metadata": {},
   "source": [
    "#### introducing while loops"
   ]
  },
  {
   "cell_type": "code",
   "execution_count": null,
   "metadata": {},
   "outputs": [],
   "source": [
    "a = 3\n",
    "b = 6"
   ]
  },
  {
   "cell_type": "code",
   "execution_count": null,
   "metadata": {},
   "outputs": [],
   "source": [
    "while(a < b):\n",
    "    \n",
    "    a = a + 1"
   ]
  },
  {
   "cell_type": "code",
   "execution_count": null,
   "metadata": {},
   "outputs": [],
   "source": [
    "a,b"
   ]
  },
  {
   "cell_type": "code",
   "execution_count": null,
   "metadata": {},
   "outputs": [],
   "source": [
    "a = 3\n",
    "b = 6"
   ]
  },
  {
   "cell_type": "code",
   "execution_count": null,
   "metadata": {},
   "outputs": [],
   "source": [
    "while(a < b):\n",
    "    \n",
    "    a = a + 1\n",
    "    print(a,b)"
   ]
  },
  {
   "cell_type": "code",
   "execution_count": null,
   "metadata": {},
   "outputs": [],
   "source": [
    "a = 3\n",
    "b = 6"
   ]
  },
  {
   "cell_type": "code",
   "execution_count": null,
   "metadata": {},
   "outputs": [],
   "source": [
    "# push square button \"stop\" to interrupt the kernel\n",
    "while(a < b):\n",
    "\n",
    "    print(a,b)"
   ]
  },
  {
   "cell_type": "markdown",
   "metadata": {},
   "source": [
    "#### vegetables < fruits?"
   ]
  },
  {
   "cell_type": "code",
   "execution_count": null,
   "metadata": {},
   "outputs": [],
   "source": [
    "# let's refresh our produce basket\n",
    "fruits = ['orange','pear', 'banana', 'kiwi', 'apple', 'banana']\n",
    "vegetables = [\"cabbage\",\"carrots\",\"asparagus\"]\n",
    "produce = {\"fruits\":fruits,\"vegetables\":vegetables}\n",
    "produce_report(produce)"
   ]
  },
  {
   "cell_type": "code",
   "execution_count": null,
   "metadata": {},
   "outputs": [],
   "source": [
    "# add veggies until we have an equal number of veggies & fruits\n",
    "\n",
    "while(len(produce[\"vegetables\"]) < len(produce[\"fruits\"])):\n",
    "\n",
    "    produce[\"vegetables\"].append(\"tomato\")\n"
   ]
  },
  {
   "cell_type": "code",
   "execution_count": null,
   "metadata": {},
   "outputs": [],
   "source": [
    "produce_report(produce)"
   ]
  },
  {
   "cell_type": "markdown",
   "metadata": {},
   "source": [
    "#### remove bananas"
   ]
  },
  {
   "cell_type": "code",
   "execution_count": null,
   "metadata": {},
   "outputs": [],
   "source": [
    "# let's refresh our produce basket\n",
    "fruits = ['orange','pear', 'banana', 'kiwi', 'apple', 'banana']\n",
    "vegetables = [\"cabbage\",\"carrots\",\"asparagus\"]\n",
    "produce = {\"fruits\":fruits,\"vegetables\":vegetables}\n",
    "produce_report(produce)"
   ]
  },
  {
   "cell_type": "code",
   "execution_count": null,
   "metadata": {},
   "outputs": [],
   "source": [
    "# remove all the bananas using while(), in operator and remove() function\n",
    "\n",
    "while(\"banana\" in produce[\"fruits\"]):\n",
    "    \n",
    "    produce[\"fruits\"].remove(\"banana\")\n"
   ]
  },
  {
   "cell_type": "code",
   "execution_count": null,
   "metadata": {},
   "outputs": [],
   "source": [
    "produce_report(produce)"
   ]
  },
  {
   "cell_type": "markdown",
   "metadata": {},
   "source": [
    "# Tomorrow"
   ]
  },
  {
   "cell_type": "code",
   "execution_count": 2,
   "metadata": {},
   "outputs": [],
   "source": [
    "#### Thursday - More Control Structures\n",
    "\n",
    "# 1. for loops\n",
    "# 2. nested repetition statements - for, for, for...\n",
    "# 3. combining selection & repetition statements\n",
    "# 4. list comprehensions"
   ]
  },
  {
   "cell_type": "markdown",
   "metadata": {},
   "source": [
    "# After-class Workout"
   ]
  },
  {
   "cell_type": "markdown",
   "metadata": {},
   "source": [
    "#### Exercise 1. # vegetables != # fruits? - use while() to add veggies or fruits one at a time until they are equal"
   ]
  },
  {
   "cell_type": "code",
   "execution_count": null,
   "metadata": {},
   "outputs": [],
   "source": [
    "fruits = ['orange','pear', 'banana', 'kiwi', 'apple', 'banana']\n",
    "vegetables = [\"cabbage\",\"carrots\",\"asparagus\"]"
   ]
  },
  {
   "cell_type": "code",
   "execution_count": null,
   "metadata": {},
   "outputs": [],
   "source": [
    "#### use while() and if() to add veggies or fruits one at a time"
   ]
  },
  {
   "cell_type": "code",
   "execution_count": null,
   "metadata": {},
   "outputs": [],
   "source": []
  },
  {
   "cell_type": "code",
   "execution_count": null,
   "metadata": {},
   "outputs": [],
   "source": []
  },
  {
   "cell_type": "code",
   "execution_count": null,
   "metadata": {},
   "outputs": [],
   "source": []
  },
  {
   "cell_type": "code",
   "execution_count": null,
   "metadata": {},
   "outputs": [],
   "source": [
    "#### use a boolean flag and if() to report when we are done"
   ]
  },
  {
   "cell_type": "code",
   "execution_count": null,
   "metadata": {},
   "outputs": [],
   "source": []
  },
  {
   "cell_type": "code",
   "execution_count": null,
   "metadata": {},
   "outputs": [],
   "source": []
  },
  {
   "cell_type": "code",
   "execution_count": null,
   "metadata": {},
   "outputs": [],
   "source": []
  },
  {
   "cell_type": "markdown",
   "metadata": {},
   "source": [
    "#### Exercise 2. vegetables != fruits? - use if()...elif()...else to add the difference all at once"
   ]
  },
  {
   "cell_type": "code",
   "execution_count": null,
   "metadata": {},
   "outputs": [],
   "source": [
    "fruits = ['orange','pear', 'banana', 'kiwi', 'apple', 'banana']\n",
    "vegetables = [\"cabbage\",\"carrots\",\"asparagus\"]"
   ]
  },
  {
   "cell_type": "code",
   "execution_count": null,
   "metadata": {},
   "outputs": [],
   "source": []
  },
  {
   "cell_type": "code",
   "execution_count": null,
   "metadata": {},
   "outputs": [],
   "source": []
  },
  {
   "cell_type": "code",
   "execution_count": null,
   "metadata": {},
   "outputs": [],
   "source": []
  },
  {
   "cell_type": "markdown",
   "metadata": {},
   "source": [
    "#### Exercise 3. recode Exercise 2 using \"produce\" dictionary instead of \"fruits\" and \"vegetables\" lists"
   ]
  },
  {
   "cell_type": "code",
   "execution_count": null,
   "metadata": {},
   "outputs": [],
   "source": [
    "fruits = ['orange','pear', 'banana', 'kiwi', 'apple', 'banana']\n",
    "vegetables = [\"cabbage\",\"carrots\",\"asparagus\"]\n",
    "produce = {\"fruits\":fruits,\"vegetables\":vegetables}"
   ]
  },
  {
   "cell_type": "code",
   "execution_count": null,
   "metadata": {},
   "outputs": [],
   "source": [
    "produce[\"fruits\"]"
   ]
  },
  {
   "cell_type": "code",
   "execution_count": null,
   "metadata": {},
   "outputs": [],
   "source": []
  },
  {
   "cell_type": "code",
   "execution_count": null,
   "metadata": {},
   "outputs": [],
   "source": []
  },
  {
   "cell_type": "code",
   "execution_count": null,
   "metadata": {},
   "outputs": [],
   "source": []
  },
  {
   "cell_type": "code",
   "execution_count": null,
   "metadata": {},
   "outputs": [],
   "source": []
  }
 ],
 "metadata": {
  "kernelspec": {
   "display_name": "Python 3",
   "language": "python",
   "name": "python3"
  },
  "language_info": {
   "codemirror_mode": {
    "name": "ipython",
    "version": 3
   },
   "file_extension": ".py",
   "mimetype": "text/x-python",
   "name": "python",
   "nbconvert_exporter": "python",
   "pygments_lexer": "ipython3",
   "version": "3.7.3"
  }
 },
 "nbformat": 4,
 "nbformat_minor": 4
}
