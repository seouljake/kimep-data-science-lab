{
 "cells": [
  {
   "cell_type": "markdown",
   "metadata": {},
   "source": [
    "# Python 101 - Data Types and Control Structures"
   ]
  },
  {
   "cell_type": "markdown",
   "metadata": {},
   "source": [
    "## Skills Test"
   ]
  },
  {
   "cell_type": "markdown",
   "metadata": {},
   "source": [
    "#### Time:  30 minutes"
   ]
  },
  {
   "cell_type": "markdown",
   "metadata": {},
   "source": [
    "#### Contents\n",
    "-  Shorter exercises (5 pts x 5)  = 25\n",
    "-  Longer exercises (20 pts x 5) = 100"
   ]
  },
  {
   "cell_type": "markdown",
   "metadata": {},
   "source": [
    "#### Total points: 125"
   ]
  },
  {
   "cell_type": "markdown",
   "metadata": {},
   "source": [
    "#### Passing Grade: 60% (75 of 125pts)"
   ]
  },
  {
   "cell_type": "markdown",
   "metadata": {},
   "source": [
    "## Shorter exercises"
   ]
  },
  {
   "cell_type": "markdown",
   "metadata": {},
   "source": [
    "#### 1. create two lists, pets and toys\n",
    "\n",
    "-  pets will be a list containing three pets, coded as strings (e.g., \"dog\", \"cat\", \"turtle\")\n",
    "-  toys will be a list containing three toys, coded as strings (e.g., \"doll\", \"ball\", \"chessboard\")"
   ]
  },
  {
   "cell_type": "code",
   "execution_count": null,
   "metadata": {},
   "outputs": [],
   "source": []
  },
  {
   "cell_type": "markdown",
   "metadata": {},
   "source": [
    "#### 2. add \"lizard\" to the list of pets\n",
    "-  use the append() function"
   ]
  },
  {
   "cell_type": "code",
   "execution_count": null,
   "metadata": {},
   "outputs": [],
   "source": []
  },
  {
   "cell_type": "markdown",
   "metadata": {},
   "source": [
    "#### 3. create a dictionary, playtime\n",
    "-  whose keys are \"pets\" and \"toys\"\n",
    "-  whose values are the lists, pets and toys, respectively"
   ]
  },
  {
   "cell_type": "code",
   "execution_count": null,
   "metadata": {},
   "outputs": [],
   "source": []
  },
  {
   "cell_type": "markdown",
   "metadata": {},
   "source": [
    "#### 4. add another \"lizard\" to the list of pets\n",
    "-  use the append() function\n",
    "-  use the dictionary, playtime"
   ]
  },
  {
   "cell_type": "code",
   "execution_count": null,
   "metadata": {},
   "outputs": [],
   "source": []
  },
  {
   "cell_type": "markdown",
   "metadata": {},
   "source": [
    "#### 5. create two string variables, pet_report and toy_report, to report the number of pets and toys, respectively.\n",
    "-  use the len() function\n",
    "-  pet_report should return something like \"You have 5 pets.\"\n",
    "-  toy_report should return something like \"You have 3 toys.\""
   ]
  },
  {
   "cell_type": "code",
   "execution_count": null,
   "metadata": {},
   "outputs": [],
   "source": []
  },
  {
   "cell_type": "markdown",
   "metadata": {},
   "source": [
    "## Longer exercises"
   ]
  },
  {
   "cell_type": "markdown",
   "metadata": {},
   "source": [
    "#### 6. Write a function, playtime_report, which reports the numbers and types of pets and toys.\n",
    "\n",
    "##### Instructions:\n",
    "-  complete the code below\n",
    "<br>\n",
    "<br>\n",
    "\n",
    "##### playtime_report should output:\n",
    "-  a report title\n",
    "-  number of pets\n",
    "-  number of toys\n",
    "-  pets list\n",
    "-  toys list\n",
    "-  playtime dictionary\n",
    "<br>\n",
    "<br>\n",
    "\n",
    "##### The output should look something like:\n",
    "   \"===== Playtime report =====\"<br>\n",
    "   You have 5 pets.<br>\n",
    "   You have 3 toys.<br>\n",
    "   *list of pets*<br>\n",
    "   *list of toys*<br>\n",
    "   *playtime dictionary*\n",
    "\n",
    "\n"
   ]
  },
  {
   "cell_type": "code",
   "execution_count": null,
   "metadata": {},
   "outputs": [],
   "source": []
  },
  {
   "cell_type": "code",
   "execution_count": 38,
   "metadata": {},
   "outputs": [],
   "source": [
    "def playtime_report(playtime):\n",
    "    \n",
    "    print(\"===== Playtime report =====\")\n",
    "    print() # report number of pets\n",
    "    print() # report number of toys\n",
    "    print() # report pets list\n",
    "    print() # report toys list\n",
    "    print() # report playtime dictionary"
   ]
  },
  {
   "cell_type": "code",
   "execution_count": 39,
   "metadata": {},
   "outputs": [
    {
     "name": "stdout",
     "output_type": "stream",
     "text": [
      "===== Playtime report =====\n",
      "\n",
      "\n",
      "\n",
      "\n",
      "\n"
     ]
    }
   ],
   "source": [
    "playtime_report(playtime)"
   ]
  },
  {
   "cell_type": "markdown",
   "metadata": {},
   "source": [
    "#### 7. Print out all the toys in your playtime dictionary\n",
    "-  use a while loop\n",
    "-  use the pop() function to remove each toy as you print it"
   ]
  },
  {
   "cell_type": "code",
   "execution_count": null,
   "metadata": {},
   "outputs": [],
   "source": []
  },
  {
   "cell_type": "markdown",
   "metadata": {},
   "source": [
    "#### 8. Remove all the lizards in your playtime dictionary\n",
    "-  use a for loop\n",
    "-  use an if condition to see if a pet is a lizard\n",
    "-  if the pet is a lizard, use the remove() function to remove a lizard\n",
    "-  run playtime_report to show the result "
   ]
  },
  {
   "cell_type": "code",
   "execution_count": null,
   "metadata": {},
   "outputs": [],
   "source": []
  },
  {
   "cell_type": "markdown",
   "metadata": {},
   "source": [
    "#### 9. Output all pairs of pets.\n",
    "-  Use nested FOR loops.\n",
    "-  Don't report identical or duplicate pairs. "
   ]
  },
  {
   "cell_type": "code",
   "execution_count": null,
   "metadata": {},
   "outputs": [],
   "source": []
  },
  {
   "cell_type": "markdown",
   "metadata": {},
   "source": [
    "#### 10. Create a new list, pet_love.\n",
    "-  use a list comprehension on pets in playtime\n",
    "-  for each pet in pets, create a string which reads \"I love $<$pet$>$s.\"\n",
    "-  for example, if pets contains $[$\"dog\", \"cat\", \"turtle\"$]$,\n",
    "-  then pet_love should contain $[$\"I love dogs.\", \"I love cats.\", \"I love turtles.\"$]$,"
   ]
  },
  {
   "cell_type": "code",
   "execution_count": null,
   "metadata": {},
   "outputs": [],
   "source": []
  }
 ],
 "metadata": {
  "kernelspec": {
   "display_name": "Python 3",
   "language": "python",
   "name": "python3"
  },
  "language_info": {
   "codemirror_mode": {
    "name": "ipython",
    "version": 3
   },
   "file_extension": ".py",
   "mimetype": "text/x-python",
   "name": "python",
   "nbconvert_exporter": "python",
   "pygments_lexer": "ipython3",
   "version": "3.7.3"
  }
 },
 "nbformat": 4,
 "nbformat_minor": 4
}
