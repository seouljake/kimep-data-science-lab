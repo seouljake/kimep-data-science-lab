{
 "cells": [
  {
   "cell_type": "markdown",
   "metadata": {},
   "source": [
    "# Python 102"
   ]
  },
  {
   "cell_type": "markdown",
   "metadata": {},
   "source": [
    "#### Session Outline\n",
    "- Session 1 - basic functions\n",
    "- Session 2 - search & sort\n",
    "- Session 3 - classes & objects\n",
    "- Session 4 - number guessing game: object state & recursion\n",
    "- Session 5 - birthday reminder email + Skill Quiz"
   ]
  },
  {
   "cell_type": "markdown",
   "metadata": {},
   "source": [
    "#### Resources for classes & objects\n",
    "\n",
    "- https://docs.python.org/3/tutorial/classes.html\n",
    "- https://www.w3schools.com/python/python_classes.asp    \n"
   ]
  },
  {
   "cell_type": "markdown",
   "metadata": {},
   "source": [
    "# Session 3 - classes & objects"
   ]
  },
  {
   "cell_type": "markdown",
   "metadata": {},
   "source": [
    "#### 1. explore constants & methods of objects"
   ]
  },
  {
   "cell_type": "code",
   "execution_count": 12,
   "metadata": {},
   "outputs": [],
   "source": [
    "sample_string = \"  Hello World  \""
   ]
  },
  {
   "cell_type": "code",
   "execution_count": 13,
   "metadata": {},
   "outputs": [
    {
     "data": {
      "text/plain": [
       "'  Hello World  '"
      ]
     },
     "execution_count": 13,
     "metadata": {},
     "output_type": "execute_result"
    }
   ],
   "source": [
    "sample_string"
   ]
  },
  {
   "cell_type": "code",
   "execution_count": 2,
   "metadata": {},
   "outputs": [
    {
     "data": {
      "text/plain": [
       "11"
      ]
     },
     "execution_count": 2,
     "metadata": {},
     "output_type": "execute_result"
    }
   ],
   "source": [
    "# functions that can operate on classes/objects\n",
    "len(sample_string)"
   ]
  },
  {
   "cell_type": "code",
   "execution_count": 3,
   "metadata": {},
   "outputs": [
    {
     "data": {
      "text/plain": [
       "['hello', 'world']"
      ]
     },
     "execution_count": 3,
     "metadata": {},
     "output_type": "execute_result"
    }
   ],
   "source": [
    "# functions contained in the class itself\n",
    "sample_string.split(\" \")"
   ]
  },
  {
   "cell_type": "code",
   "execution_count": 4,
   "metadata": {},
   "outputs": [],
   "source": [
    "sample_integer = 5"
   ]
  },
  {
   "cell_type": "code",
   "execution_count": 6,
   "metadata": {},
   "outputs": [
    {
     "ename": "AttributeError",
     "evalue": "'int' object has no attribute 'split'",
     "output_type": "error",
     "traceback": [
      "\u001b[1;31m---------------------------------------------------------------------------\u001b[0m",
      "\u001b[1;31mAttributeError\u001b[0m                            Traceback (most recent call last)",
      "\u001b[1;32m<ipython-input-6-5192c159414a>\u001b[0m in \u001b[0;36m<module>\u001b[1;34m\u001b[0m\n\u001b[1;32m----> 1\u001b[1;33m \u001b[0msample_integer\u001b[0m\u001b[1;33m.\u001b[0m\u001b[0msplit\u001b[0m\u001b[1;33m(\u001b[0m\u001b[1;33m)\u001b[0m\u001b[1;33m\u001b[0m\u001b[1;33m\u001b[0m\u001b[0m\n\u001b[0m",
      "\u001b[1;31mAttributeError\u001b[0m: 'int' object has no attribute 'split'"
     ]
    }
   ],
   "source": [
    "sample_integer.split()"
   ]
  },
  {
   "cell_type": "code",
   "execution_count": 14,
   "metadata": {},
   "outputs": [
    {
     "data": {
      "text/plain": [
       "'Hello World'"
      ]
     },
     "execution_count": 14,
     "metadata": {},
     "output_type": "execute_result"
    }
   ],
   "source": [
    "# \n",
    "sample_string.strip()"
   ]
  },
  {
   "cell_type": "markdown",
   "metadata": {},
   "source": [
    "#### 2. create a class __init__"
   ]
  },
  {
   "cell_type": "code",
   "execution_count": 59,
   "metadata": {},
   "outputs": [],
   "source": [
    "class MyAccount:\n",
    "    \n",
    "    # class constants\n",
    "    \n",
    "    user_name = \"John Doe\"\n",
    "    acct_balance = 0"
   ]
  },
  {
   "cell_type": "code",
   "execution_count": 60,
   "metadata": {},
   "outputs": [],
   "source": [
    "acct1 = MyAccount()"
   ]
  },
  {
   "cell_type": "code",
   "execution_count": 61,
   "metadata": {},
   "outputs": [
    {
     "data": {
      "text/plain": [
       "__main__.MyAccount"
      ]
     },
     "execution_count": 61,
     "metadata": {},
     "output_type": "execute_result"
    }
   ],
   "source": [
    "type(acct1)"
   ]
  },
  {
   "cell_type": "code",
   "execution_count": 62,
   "metadata": {},
   "outputs": [
    {
     "data": {
      "text/plain": [
       "'John Doe'"
      ]
     },
     "execution_count": 62,
     "metadata": {},
     "output_type": "execute_result"
    }
   ],
   "source": [
    "acct1.user_name"
   ]
  },
  {
   "cell_type": "code",
   "execution_count": 63,
   "metadata": {},
   "outputs": [
    {
     "data": {
      "text/plain": [
       "0"
      ]
     },
     "execution_count": 63,
     "metadata": {},
     "output_type": "execute_result"
    }
   ],
   "source": [
    "acct1.acct_balance"
   ]
  },
  {
   "cell_type": "code",
   "execution_count": null,
   "metadata": {},
   "outputs": [],
   "source": [
    "class MyAccount:\n",
    "    \n",
    "    # class constants\n",
    "    \n",
    "    user_name = \"John Doe\"\n",
    "    acct_balance = 0\n",
    "    \n",
    "    # class methods\n",
    "    \n",
    "    def make_deposit(self,deposit_amnt):\n",
    "        self.acct_balance += deposit_amnt\n",
    "        print(\"$\"+str(deposit_amnt)+\" has been added to your balance.\",\"\\nYour current balance is \"+str(self.acct_balance)+\".\")"
   ]
  },
  {
   "cell_type": "code",
   "execution_count": 64,
   "metadata": {},
   "outputs": [
    {
     "name": "stdout",
     "output_type": "stream",
     "text": [
      "$1000 has been added to your balance. \n",
      "Your current balance is 1000.\n"
     ]
    }
   ],
   "source": [
    "acct1.make_deposit(1000)"
   ]
  },
  {
   "cell_type": "code",
   "execution_count": 65,
   "metadata": {},
   "outputs": [
    {
     "name": "stdout",
     "output_type": "stream",
     "text": [
      "$1000 has been added to your balance. \n",
      "Your current balance is 2000.\n"
     ]
    }
   ],
   "source": [
    "acct1.make_deposit(1000)"
   ]
  },
  {
   "cell_type": "code",
   "execution_count": 66,
   "metadata": {},
   "outputs": [
    {
     "name": "stdout",
     "output_type": "stream",
     "text": [
      "$1000 has been added to your balance. \n",
      "Your current balance is 3000.\n"
     ]
    }
   ],
   "source": [
    "acct1.make_deposit(1000)"
   ]
  },
  {
   "cell_type": "code",
   "execution_count": 80,
   "metadata": {},
   "outputs": [],
   "source": [
    "class MyAccount:\n",
    "    \n",
    "    # class constants\n",
    "\n",
    "    user_name = \"John Doe\"\n",
    "    acct_balance = 0\n",
    "    \n",
    "    # class methods\n",
    "\n",
    "    def make_deposit(self,deposit_amnt):\n",
    "        self.acct_balance += deposit_amnt\n",
    "        print(\"$\"+str(deposit_amnt)+\" has been added to your balance.\",\"\\nYour current balance is \"+str(self.acct_balance)+\".\")\n",
    "        \n",
    "    def make_withdrawal(self,withdrawal_amnt):\n",
    "        \n",
    "        if withdrawal_amnt >= 0:\n",
    "\n",
    "            if self.acct_balance < withdrawal_amnt:\n",
    "                print(\"You have insufficient funds.\")\n",
    "            else:\n",
    "                self.acct_balance -= withdrawal_amnt\n",
    "                print(\"$\"+str(withdrawal_amnt)+\" has been withdrawn from your balance.\",\"\\nYour current balance is \"+str(self.acct_balance)+\".\")\n",
    "                \n",
    "        else:\n",
    "            \n",
    "            print(\"Nice try!\")"
   ]
  },
  {
   "cell_type": "code",
   "execution_count": 81,
   "metadata": {},
   "outputs": [],
   "source": [
    "acct2 = MyAccount()"
   ]
  },
  {
   "cell_type": "code",
   "execution_count": 82,
   "metadata": {},
   "outputs": [
    {
     "name": "stdout",
     "output_type": "stream",
     "text": [
      "John Doe 0\n"
     ]
    }
   ],
   "source": [
    "print(acct2.user_name,acct2.acct_balance)"
   ]
  },
  {
   "cell_type": "code",
   "execution_count": 83,
   "metadata": {},
   "outputs": [
    {
     "name": "stdout",
     "output_type": "stream",
     "text": [
      "You have insufficient funds.\n"
     ]
    }
   ],
   "source": [
    "acct2.make_withdrawal(1000)"
   ]
  },
  {
   "cell_type": "code",
   "execution_count": 84,
   "metadata": {},
   "outputs": [
    {
     "name": "stdout",
     "output_type": "stream",
     "text": [
      "Nice try!\n"
     ]
    }
   ],
   "source": [
    "acct2.make_withdrawal(-100000000000000)"
   ]
  },
  {
   "cell_type": "code",
   "execution_count": null,
   "metadata": {},
   "outputs": [],
   "source": [
    "# things we can assign - \n"
   ]
  },
  {
   "cell_type": "code",
   "execution_count": 19,
   "metadata": {},
   "outputs": [],
   "source": [
    "# assign values to variable\n",
    "user_name = \"John Doe\""
   ]
  },
  {
   "cell_type": "code",
   "execution_count": null,
   "metadata": {},
   "outputs": [],
   "source": [
    "# assign values using a function\n",
    "def "
   ]
  },
  {
   "cell_type": "markdown",
   "metadata": {},
   "source": [
    "#### 3. class constructor"
   ]
  },
  {
   "cell_type": "code",
   "execution_count": 86,
   "metadata": {},
   "outputs": [],
   "source": [
    "acct3 = MyAccount()"
   ]
  },
  {
   "cell_type": "code",
   "execution_count": 87,
   "metadata": {},
   "outputs": [
    {
     "name": "stdout",
     "output_type": "stream",
     "text": [
      "John Doe 0\n"
     ]
    }
   ],
   "source": [
    "print(acct2.user_name,acct2.acct_balance)"
   ]
  },
  {
   "cell_type": "code",
   "execution_count": 90,
   "metadata": {},
   "outputs": [],
   "source": [
    "class MyAccount:\n",
    "    \n",
    "    # class constants (attributes)\n",
    "    \n",
    "    user_name = \"John Doe\"\n",
    "    acct_balance = 0\n",
    "    \n",
    "    \n",
    "    # class constructor\n",
    "    \n",
    "    def __init__(self,new_user,initial_deposit):\n",
    "        self.user_name = new_user\n",
    "        self.acct_balance = initial_deposit\n",
    "    \n",
    "    #def __init__(self):\n",
    "    #   self.user_name = \"John Doe\"\n",
    "    #    self.acct_balance = 0\n",
    "        \n",
    "    #def __init__(self,new_user):\n",
    "    #    self.user_name = new_user\n",
    "    #    self.acct_balance = 0\n",
    "        \n",
    "    \n",
    "    # class methods\n",
    "\n",
    "    def make_deposit(self,deposit_amnt):\n",
    "        self.acct_balance += deposit_amnt\n",
    "        print(\"$\"+str(deposit_amnt)+\" has been added to your balance.\",\"\\nYour current balance is \"+str(self.acct_balance)+\".\")\n",
    "        \n",
    "    def make_withdrawal(self,withdrawal_amnt):\n",
    "        \n",
    "        if withdrawal_amnt >= 0:\n",
    "\n",
    "            if self.acct_balance < withdrawal_amnt:\n",
    "                print(\"You have insufficient funds.\")\n",
    "            else:\n",
    "                self.acct_balance -= withdrawal_amnt\n",
    "                print(\"$\"+str(withdrawal_amnt)+\" has been withdrawn from your balance.\",\"\\nYour current balance is \"+str(self.acct_balance)+\".\")\n",
    "                \n",
    "        else:\n",
    "            \n",
    "            print(\"Nice try!\")"
   ]
  },
  {
   "cell_type": "code",
   "execution_count": 91,
   "metadata": {},
   "outputs": [
    {
     "ename": "TypeError",
     "evalue": "__init__() missing 2 required positional arguments: 'new_user' and 'initial_deposit'",
     "output_type": "error",
     "traceback": [
      "\u001b[1;31m---------------------------------------------------------------------------\u001b[0m",
      "\u001b[1;31mTypeError\u001b[0m                                 Traceback (most recent call last)",
      "\u001b[1;32m<ipython-input-91-a5b75351cee7>\u001b[0m in \u001b[0;36m<module>\u001b[1;34m\u001b[0m\n\u001b[1;32m----> 1\u001b[1;33m \u001b[0macctA\u001b[0m \u001b[1;33m=\u001b[0m \u001b[0mMyAccount\u001b[0m\u001b[1;33m(\u001b[0m\u001b[1;33m)\u001b[0m\u001b[1;33m\u001b[0m\u001b[1;33m\u001b[0m\u001b[0m\n\u001b[0m",
      "\u001b[1;31mTypeError\u001b[0m: __init__() missing 2 required positional arguments: 'new_user' and 'initial_deposit'"
     ]
    }
   ],
   "source": [
    "acctA = MyAccount()"
   ]
  },
  {
   "cell_type": "code",
   "execution_count": 92,
   "metadata": {},
   "outputs": [],
   "source": [
    "new_user = \"Lady Gaga\"\n",
    "initial_deposit = 10000"
   ]
  },
  {
   "cell_type": "code",
   "execution_count": 93,
   "metadata": {},
   "outputs": [],
   "source": [
    "acctA = MyAccount(new_user,initial_deposit)"
   ]
  },
  {
   "cell_type": "code",
   "execution_count": 95,
   "metadata": {},
   "outputs": [
    {
     "data": {
      "text/plain": [
       "'Lady Gaga'"
      ]
     },
     "execution_count": 95,
     "metadata": {},
     "output_type": "execute_result"
    }
   ],
   "source": [
    "acctA.user_name"
   ]
  },
  {
   "cell_type": "code",
   "execution_count": 96,
   "metadata": {},
   "outputs": [
    {
     "data": {
      "text/plain": [
       "10000"
      ]
     },
     "execution_count": 96,
     "metadata": {},
     "output_type": "execute_result"
    }
   ],
   "source": [
    "acctA.acct_balance"
   ]
  },
  {
   "cell_type": "markdown",
   "metadata": {},
   "source": [
    "#### 5. string function for accessing class constants"
   ]
  },
  {
   "cell_type": "code",
   "execution_count": 98,
   "metadata": {},
   "outputs": [
    {
     "data": {
      "text/plain": [
       "<__main__.MyAccount at 0x204d5954908>"
      ]
     },
     "execution_count": 98,
     "metadata": {},
     "output_type": "execute_result"
    }
   ],
   "source": [
    "acctA"
   ]
  },
  {
   "cell_type": "code",
   "execution_count": 107,
   "metadata": {},
   "outputs": [],
   "source": [
    "class MyAccount:\n",
    "    \n",
    "    # class constants (attributes)\n",
    "    \n",
    "    user_name = \"John Doe\"\n",
    "    acct_balance = 0\n",
    "    \n",
    "    \n",
    "    # class constructor\n",
    "    \n",
    "    def __init__(self,new_user,initial_deposit):\n",
    "        self.user_name = new_user\n",
    "        self.acct_balance = initial_deposit\n",
    "    \n",
    "    #def __init__(self):\n",
    "    #   self.user_name = \"John Doe\"\n",
    "    #    self.acct_balance = 0\n",
    "        \n",
    "    #def __init__(self,new_user):\n",
    "    #    self.user_name = new_user\n",
    "    #    self.acct_balance = 0\n",
    "    \n",
    "    \n",
    "    # class string representation\n",
    "    \n",
    "    \n",
    "    def __str__(self):\n",
    "        print(\"Your account name is\",self.user_name,\"and your balance is\",self.acct_balance,\".\")\n",
    "\n",
    "        \n",
    "    \n",
    "    # class methods\n",
    "\n",
    "    def make_deposit(self,deposit_amnt):\n",
    "        self.acct_balance += deposit_amnt\n",
    "        print(\"$\"+str(deposit_amnt)+\" has been added to your balance.\",\"\\nYour current balance is \"+str(self.acct_balance)+\".\")\n",
    "        \n",
    "    def make_withdrawal(self,withdrawal_amnt):\n",
    "        \n",
    "        if withdrawal_amnt >= 0:\n",
    "\n",
    "            if self.acct_balance < withdrawal_amnt:\n",
    "                print(\"You have insufficient funds.\")\n",
    "            else:\n",
    "                self.acct_balance -= withdrawal_amnt\n",
    "                print(\"$\"+str(withdrawal_amnt)+\" has been withdrawn from your balance.\",\"\\nYour current balance is \"+str(self.acct_balance)+\".\")\n",
    "                \n",
    "        else:\n",
    "            \n",
    "            print(\"Nice try!\")\n",
    "\n",
    "            \n",
    "    def check_balance(self):\n",
    "        print(\"Greetings,\",self.user_name,\"!\")\n",
    "        print(\"Your current balance is:\",self.acct_balance,\".\")"
   ]
  },
  {
   "cell_type": "code",
   "execution_count": 108,
   "metadata": {},
   "outputs": [],
   "source": [
    "acctA = MyAccount(new_user,initial_deposit)"
   ]
  },
  {
   "cell_type": "code",
   "execution_count": 109,
   "metadata": {},
   "outputs": [
    {
     "name": "stdout",
     "output_type": "stream",
     "text": [
      "Your account name is Lady Gaga and your balance is 10000 .\n"
     ]
    }
   ],
   "source": [
    "acctA.__str__()"
   ]
  },
  {
   "cell_type": "code",
   "execution_count": 110,
   "metadata": {},
   "outputs": [
    {
     "name": "stdout",
     "output_type": "stream",
     "text": [
      "Greetings, Lady Gaga !\n",
      "Your current balance is: 10000 .\n"
     ]
    }
   ],
   "source": [
    "acctA.check_balance()"
   ]
  },
  {
   "cell_type": "code",
   "execution_count": null,
   "metadata": {},
   "outputs": [],
   "source": []
  },
  {
   "cell_type": "markdown",
   "metadata": {},
   "source": [
    "#### 4. scope and privacy"
   ]
  },
  {
   "cell_type": "code",
   "execution_count": 111,
   "metadata": {},
   "outputs": [
    {
     "data": {
      "text/plain": [
       "10000"
      ]
     },
     "execution_count": 111,
     "metadata": {},
     "output_type": "execute_result"
    }
   ],
   "source": [
    "acctA.acct_balance"
   ]
  },
  {
   "cell_type": "code",
   "execution_count": 112,
   "metadata": {},
   "outputs": [],
   "source": [
    "acctA.acct_balance += 10000"
   ]
  },
  {
   "cell_type": "code",
   "execution_count": 113,
   "metadata": {},
   "outputs": [
    {
     "name": "stdout",
     "output_type": "stream",
     "text": [
      "Greetings, Lady Gaga !\n",
      "Your current balance is: 20000 .\n"
     ]
    }
   ],
   "source": [
    "acctA.check_balance()"
   ]
  },
  {
   "cell_type": "markdown",
   "metadata": {},
   "source": [
    "#### 5. multiple instances of classes "
   ]
  },
  {
   "cell_type": "code",
   "execution_count": 116,
   "metadata": {},
   "outputs": [],
   "source": [
    "# Exercise 1: write an internal class method to transfer money from one account to another account\n",
    "\n",
    "# 1. create two accounts with non-zero balances\n",
    "# 2. specify the amount of the transfer\n",
    "# 3. write a function to transfer money from one account balance to another account balance\n",
    "        # check that the sending account has sufficient funds for the transfer\n",
    "        # make sure that the amount transfered is added to one account and deducted from another"
   ]
  },
  {
   "cell_type": "code",
   "execution_count": 133,
   "metadata": {},
   "outputs": [],
   "source": [
    "class MyAccount:\n",
    "    \n",
    "    # class constants (attributes)\n",
    "    \n",
    "    user_name = \"John Doe\"\n",
    "    acct_balance = 0\n",
    "    \n",
    "    \n",
    "    # class constructor\n",
    "    \n",
    "    def __init__(self,new_user,initial_deposit):\n",
    "        self.user_name = new_user\n",
    "        self.acct_balance = initial_deposit\n",
    "    \n",
    "    #def __init__(self):\n",
    "    #   self.user_name = \"John Doe\"\n",
    "    #    self.acct_balance = 0\n",
    "        \n",
    "    #def __init__(self,new_user):\n",
    "    #    self.user_name = new_user\n",
    "    #    self.acct_balance = 0\n",
    "    \n",
    "    \n",
    "    # class string representation\n",
    "    \n",
    "    \n",
    "    def __str__(self):\n",
    "        print(\"Your account name is\",self.user_name,\"and your balance is\",self.acct_balance,\".\")\n",
    "\n",
    "        \n",
    "    \n",
    "    # class methods\n",
    "\n",
    "    def make_deposit(self,deposit_amnt):\n",
    "        self.acct_balance += deposit_amnt\n",
    "        print(\"$\"+str(deposit_amnt)+\" has been added to your balance.\",\"\\nYour current balance is \"+str(self.acct_balance)+\".\")\n",
    "        \n",
    "    def make_withdrawal(self,withdrawal_amnt):\n",
    "        \n",
    "        if withdrawal_amnt >= 0:\n",
    "\n",
    "            if self.acct_balance < withdrawal_amnt:\n",
    "                print(\"You have insufficient funds.\")\n",
    "            else:\n",
    "                self.acct_balance -= withdrawal_amnt\n",
    "                print(\"$\"+str(withdrawal_amnt)+\" has been withdrawn from your balance.\",\"\\nYour current balance is \"+str(self.acct_balance)+\".\")\n",
    "                \n",
    "        else:\n",
    "            \n",
    "            print(\"Nice try!\")\n",
    "\n",
    "            \n",
    "    def check_balance(self):\n",
    "        print(\"\\nGreetings,\",self.user_name,\"!\")\n",
    "        print(\"Your current balance is:\",self.acct_balance,\".\")\n",
    "        \n",
    "        \n",
    "    def transfer_in_funds(self,other,transaction_amnt):\n",
    "        \n",
    "        if other.acct_balance >= transaction_amnt:\n",
    "            self.acct_balance += transaction_amnt\n",
    "            other.acct_balance -= transaction_amnt\n",
    "            print(\"\\nYour transaction has been completed.\")\n",
    "            self.check_balance()\n",
    "            other.check_balance()\n",
    "        else:\n",
    "            print(\"Sorry!\",other.user_name,\"has insufficient funds.\")"
   ]
  },
  {
   "cell_type": "code",
   "execution_count": 134,
   "metadata": {},
   "outputs": [],
   "source": [
    "acctA = MyAccount(\"John Doe\",1000)\n",
    "acctB = MyAccount(\"Lady Gaga\",10000)"
   ]
  },
  {
   "cell_type": "code",
   "execution_count": 135,
   "metadata": {},
   "outputs": [
    {
     "name": "stdout",
     "output_type": "stream",
     "text": [
      "\n",
      "Greetings, John Doe !\n",
      "Your current balance is: 1000 .\n"
     ]
    }
   ],
   "source": [
    "acctA.check_balance()"
   ]
  },
  {
   "cell_type": "code",
   "execution_count": 136,
   "metadata": {},
   "outputs": [
    {
     "name": "stdout",
     "output_type": "stream",
     "text": [
      "\n",
      "Greetings, Lady Gaga !\n",
      "Your current balance is: 10000 .\n"
     ]
    }
   ],
   "source": [
    "acctB.check_balance()"
   ]
  },
  {
   "cell_type": "code",
   "execution_count": 137,
   "metadata": {},
   "outputs": [],
   "source": [
    "transfer_amnt = 1000"
   ]
  },
  {
   "cell_type": "code",
   "execution_count": 138,
   "metadata": {},
   "outputs": [
    {
     "name": "stdout",
     "output_type": "stream",
     "text": [
      "\n",
      "Your transaction has been completed.\n",
      "\n",
      "Greetings, John Doe !\n",
      "Your current balance is: 2000 .\n",
      "\n",
      "Greetings, Lady Gaga !\n",
      "Your current balance is: 9000 .\n"
     ]
    }
   ],
   "source": [
    "acctA.transfer_in_funds(acctB,transfer_amnt)"
   ]
  },
  {
   "cell_type": "code",
   "execution_count": 139,
   "metadata": {},
   "outputs": [
    {
     "name": "stdout",
     "output_type": "stream",
     "text": [
      "\n",
      "Your transaction has been completed.\n",
      "\n",
      "Greetings, Lady Gaga !\n",
      "Your current balance is: 10000 .\n",
      "\n",
      "Greetings, John Doe !\n",
      "Your current balance is: 1000 .\n"
     ]
    }
   ],
   "source": [
    "acctB.transfer_in_funds(acctA,transfer_amnt)"
   ]
  },
  {
   "cell_type": "code",
   "execution_count": 140,
   "metadata": {},
   "outputs": [
    {
     "name": "stdout",
     "output_type": "stream",
     "text": [
      "Sorry! John Doe has insufficient funds.\n"
     ]
    }
   ],
   "source": [
    "acctB.transfer_in_funds(acctA,2000)"
   ]
  },
  {
   "cell_type": "code",
   "execution_count": 144,
   "metadata": {},
   "outputs": [],
   "source": [
    "# Exercise 2: write an external class method to transfer money from one account to another account\n",
    "\n",
    "# 1. create two accounts with non-zero balances\n",
    "# 2. specify the amount of the transfer\n",
    "# 3. write a function to transfer money from one account balance to another account balance\n",
    "        # check that the sending account has sufficient funds for the transfer\n",
    "        # make sure that the amount transfered is added to one account and deducted from another"
   ]
  },
  {
   "cell_type": "code",
   "execution_count": 141,
   "metadata": {},
   "outputs": [],
   "source": [
    "\n",
    "def transfer_funds_from1_to2(acct1,acct2,transfer_amnt):\n",
    "    if acct2.acct_balance >= transfer_amnt:\n",
    "        acct1.acct_balance+=transfer_amnt\n",
    "        acct2.acct_balance-=transfer_amnt\n",
    "        print(\"\\nYour transaction has been completed.\")\n",
    "        acct1.check_balance()\n",
    "        acct2.check_balance()\n",
    "    else:\n",
    "        print(\"Sorry!\",acct2.user_name,\"has insufficient funds.\")"
   ]
  },
  {
   "cell_type": "code",
   "execution_count": 142,
   "metadata": {},
   "outputs": [
    {
     "name": "stdout",
     "output_type": "stream",
     "text": [
      "\n",
      "Your transaction has been completed.\n",
      "\n",
      "Greetings, John Doe !\n",
      "Your current balance is: 2000 .\n",
      "\n",
      "Greetings, Lady Gaga !\n",
      "Your current balance is: 9000 .\n"
     ]
    }
   ],
   "source": [
    "transfer_funds_from1_to2(acctA,acctB,transfer_amnt)"
   ]
  },
  {
   "cell_type": "code",
   "execution_count": 143,
   "metadata": {},
   "outputs": [
    {
     "name": "stdout",
     "output_type": "stream",
     "text": [
      "\n",
      "Your transaction has been completed.\n",
      "\n",
      "Greetings, Lady Gaga !\n",
      "Your current balance is: 10000 .\n",
      "\n",
      "Greetings, John Doe !\n",
      "Your current balance is: 1000 .\n"
     ]
    }
   ],
   "source": [
    "transfer_funds_from1_to2(acctB,acctA,transfer_amnt)"
   ]
  },
  {
   "cell_type": "code",
   "execution_count": null,
   "metadata": {},
   "outputs": [],
   "source": []
  }
 ],
 "metadata": {
  "kernelspec": {
   "display_name": "Python 3",
   "language": "python",
   "name": "python3"
  },
  "language_info": {
   "codemirror_mode": {
    "name": "ipython",
    "version": 3
   },
   "file_extension": ".py",
   "mimetype": "text/x-python",
   "name": "python",
   "nbconvert_exporter": "python",
   "pygments_lexer": "ipython3",
   "version": "3.7.3"
  }
 },
 "nbformat": 4,
 "nbformat_minor": 4
}
