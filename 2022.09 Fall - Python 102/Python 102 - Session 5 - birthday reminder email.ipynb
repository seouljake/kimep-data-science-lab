{
 "cells": [
  {
   "cell_type": "markdown",
   "metadata": {},
   "source": [
    "# Python 102 Tutorial Outline\n",
    "\n",
    "- Session 1 - basic functions\n",
    "- Session 2 - search & sort\n",
    "- Session 3 - classes & objects\n",
    "- Session 4 - number guessing game: object state & recursion\n",
    "- Session 5 - birthday reminder email + Skill Quiz"
   ]
  },
  {
   "cell_type": "markdown",
   "metadata": {},
   "source": [
    "# A brief note on Session 4\n",
    "\n",
    "- Definition of recursion: when a function calls itself within its own code\n",
    "- In the Session 4's Number Guessing Game, we can create a replay() function to reset the game and call play(), so we can play  as many times as we want"
   ]
  },
  {
   "cell_type": "markdown",
   "metadata": {},
   "source": [
    "# Session 5\n",
    "\n",
    " \n",
    "Birthday Reminder to Email\n",
    "- Step 1. Functions to import a birthday file and craft a reminder message\n",
    "- Step 2. Function to send an email from Python to Gmail\n",
    "- Step 3. Function to Check Today's Birthdays\n",
    "- Step 4. BirthdayReminder Class - to encapsulate and manage everything"
   ]
  },
  {
   "cell_type": "markdown",
   "metadata": {},
   "source": [
    "### Step 1 - Create Birthday File & Message"
   ]
  },
  {
   "cell_type": "code",
   "execution_count": 2,
   "metadata": {},
   "outputs": [
    {
     "data": {
      "text/plain": [
       "['1111;Leonardo;DiCaprio', '1111;Fyodor;Dostoevsky', '1109;Carl;Sagan']"
      ]
     },
     "execution_count": 2,
     "metadata": {},
     "output_type": "execute_result"
    }
   ],
   "source": [
    "filename = \"BirthdayFile.txt\"\n",
    "filein = open(filename)\n",
    "birthday_list = filein.readlines()\n",
    "birthday_list = [bday.strip() for bday in birthday_list]\n",
    "birthday_list"
   ]
  },
  {
   "cell_type": "code",
   "execution_count": 3,
   "metadata": {},
   "outputs": [
    {
     "data": {
      "text/plain": [
       "[['1111', 'Leonardo', 'DiCaprio'],\n",
       " ['1111', 'Fyodor', 'Dostoevsky'],\n",
       " ['1109', 'Carl', 'Sagan']]"
      ]
     },
     "execution_count": 3,
     "metadata": {},
     "output_type": "execute_result"
    }
   ],
   "source": [
    "birthday_list = [bday.split(\";\") for bday in birthday_list]\n",
    "birthday_list"
   ]
  },
  {
   "cell_type": "code",
   "execution_count": 4,
   "metadata": {},
   "outputs": [],
   "source": [
    "# define a function to import birthday list\n",
    "\n",
    "def import_birthdays(bday_filename):\n",
    "    \n",
    "    filein = open(filename)\n",
    "    birthday_list = filein.readlines()\n",
    "    birthday_list = [bday.strip() for bday in birthday_list]\n",
    "    birthday_list = [bday.split(\";\") for bday in birthday_list]\n",
    "    \n",
    "    return birthday_list"
   ]
  },
  {
   "cell_type": "code",
   "execution_count": 5,
   "metadata": {},
   "outputs": [
    {
     "data": {
      "text/plain": [
       "[['1111', 'Leonardo', 'DiCaprio'],\n",
       " ['1111', 'Fyodor', 'Dostoevsky'],\n",
       " ['1109', 'Carl', 'Sagan']]"
      ]
     },
     "execution_count": 5,
     "metadata": {},
     "output_type": "execute_result"
    }
   ],
   "source": [
    "b = import_birthdays(filename)\n",
    "b"
   ]
  },
  {
   "cell_type": "code",
   "execution_count": 7,
   "metadata": {},
   "outputs": [],
   "source": [
    "# define a function to craft a birthday reminder\n",
    "\n",
    "def craft_message(birthday_list):\n",
    "    \n",
    "    message = \"\\nThe following people have birthdays today: \"\n",
    "    \n",
    "    for bday in birthday_list:\n",
    "        message = message + \"\\n\\t\"+ bday[1]+\" \"+bday[2]\n",
    "        \n",
    "    return message"
   ]
  },
  {
   "cell_type": "code",
   "execution_count": 8,
   "metadata": {},
   "outputs": [
    {
     "name": "stdout",
     "output_type": "stream",
     "text": [
      "\n",
      "The following people have birthdays today: \n",
      "\tLeonardo DiCaprio\n",
      "\tFyodor Dostoevsky\n",
      "\tCarl Sagan\n"
     ]
    }
   ],
   "source": [
    "message = craft_message(b)\n",
    "print(message)"
   ]
  },
  {
   "cell_type": "markdown",
   "metadata": {},
   "source": [
    "### Step 2 - Send an email from Python to Gmail"
   ]
  },
  {
   "cell_type": "code",
   "execution_count": 12,
   "metadata": {},
   "outputs": [],
   "source": [
    "import smtplib, ssl"
   ]
  },
  {
   "cell_type": "code",
   "execution_count": 13,
   "metadata": {},
   "outputs": [],
   "source": [
    "port = 587  # for starttls\n",
    "smtp_server = \"smtp.gmail.com\"\n",
    "sender_email = \"j.reidhead@kimep.kz\"\n",
    "receiver_email = \"seouljake@gmail.com\""
   ]
  },
  {
   "cell_type": "code",
   "execution_count": 48,
   "metadata": {},
   "outputs": [],
   "source": [
    "# password = input(\"Type your password and press enter: \")"
   ]
  },
  {
   "cell_type": "code",
   "execution_count": 10,
   "metadata": {},
   "outputs": [
    {
     "name": "stdout",
     "output_type": "stream",
     "text": [
      "Password:········\n"
     ]
    }
   ],
   "source": [
    "import getpass\n",
    "password = getpass.getpass('Password:')"
   ]
  },
  {
   "cell_type": "code",
   "execution_count": 15,
   "metadata": {},
   "outputs": [],
   "source": [
    "context = ssl.create_default_context()\n",
    "\n",
    "with smtplib.SMTP(smtp_server,port) as server:\n",
    "    server.ehlo()\n",
    "    server.starttls(context=context)\n",
    "    server.ehlo()\n",
    "    server.login(sender_email,password)\n",
    "    server.sendmail(sender_email,receiver_email,message)"
   ]
  },
  {
   "cell_type": "markdown",
   "metadata": {},
   "source": [
    "#### Allow less secure app access\n",
    "\n",
    "EDIT: Google blocks sign-in attempts from apps which do not use modern security standards (mentioned on their support page). You can however, turn on/off this safety feature by going to the link below:\n",
    "\n",
    "Go to this link and select Turn On\n",
    "https://www.google.com/settings/security/lesssecureapps\n",
    "\n",
    "\n",
    "#### send_message() more sophisticated than sendmail()\n",
    "\n",
    "https://docs.python.org/3/library/email.compat32-message.html#email.message.Message"
   ]
  },
  {
   "cell_type": "code",
   "execution_count": 16,
   "metadata": {},
   "outputs": [],
   "source": [
    "# create a function to send an email\n",
    "\n",
    "def send_reminder(smtp_server,port,sender_email,password,receiver_email,message):\n",
    "    \n",
    "    context = ssl.create_default_context()\n",
    "    \n",
    "    with smtplib.SMTP(smtp_server,port) as server:\n",
    "        server.ehlo()\n",
    "        server.starttls(context=context)\n",
    "        server.ehlo()\n",
    "        server.login(sender_email,password)\n",
    "        server.sendmail(sender_email,receiver_email,message)"
   ]
  },
  {
   "cell_type": "code",
   "execution_count": 17,
   "metadata": {},
   "outputs": [
    {
     "name": "stdout",
     "output_type": "stream",
     "text": [
      "\n",
      "The following people have birthdays today: \n",
      "\tLeonardo DiCaprio\n",
      "\tFyodor Dostoevsky\n",
      "\tCarl Sagan\n"
     ]
    }
   ],
   "source": [
    "print(message)"
   ]
  },
  {
   "cell_type": "code",
   "execution_count": 18,
   "metadata": {},
   "outputs": [],
   "source": [
    "send_reminder(smtp_server,port,sender_email,password,receiver_email,message)"
   ]
  },
  {
   "cell_type": "markdown",
   "metadata": {},
   "source": [
    "### Step 3 - Function to Check Today's Birthdays"
   ]
  },
  {
   "cell_type": "code",
   "execution_count": 19,
   "metadata": {},
   "outputs": [],
   "source": [
    "import time"
   ]
  },
  {
   "cell_type": "code",
   "execution_count": 26,
   "metadata": {},
   "outputs": [
    {
     "name": "stdout",
     "output_type": "stream",
     "text": [
      "2022/11/11 15:39:06\n"
     ]
    }
   ],
   "source": [
    "today = time.strftime(\"%Y/%m/%d %H:%M:%S\")\n",
    "print(today)"
   ]
  },
  {
   "cell_type": "code",
   "execution_count": 27,
   "metadata": {},
   "outputs": [
    {
     "name": "stdout",
     "output_type": "stream",
     "text": [
      "1111\n"
     ]
    }
   ],
   "source": [
    "today = time.strftime('%m%d')\n",
    "print(today)"
   ]
  },
  {
   "cell_type": "code",
   "execution_count": 28,
   "metadata": {},
   "outputs": [
    {
     "data": {
      "text/plain": [
       "[['1111', 'Leonardo', 'DiCaprio'],\n",
       " ['1111', 'Fyodor', 'Dostoevsky'],\n",
       " ['1109', 'Carl', 'Sagan']]"
      ]
     },
     "execution_count": 28,
     "metadata": {},
     "output_type": "execute_result"
    }
   ],
   "source": [
    "b"
   ]
  },
  {
   "cell_type": "code",
   "execution_count": 29,
   "metadata": {},
   "outputs": [],
   "source": [
    "def checkTodaysBirthdays(birthday_list):\n",
    "\n",
    "    today = time.strftime('%m%d')\n",
    "    \n",
    "    print(today)\n",
    "    \n",
    "    flag = False\n",
    "    \n",
    "    bday_today = []\n",
    "    \n",
    "    for bday in birthday_list:\n",
    "        if today in bday[0]:\n",
    "            bday_today.append(bday)\n",
    "            flag = True\n",
    "\n",
    "    if flag:\n",
    "        msg = craft_message(bday_today)\n",
    "        print(msg)\n",
    "                \n",
    "    else:\n",
    "        print(\"No birthdays today.\")\n",
    "    \n",
    "    return flag"
   ]
  },
  {
   "cell_type": "code",
   "execution_count": 30,
   "metadata": {},
   "outputs": [
    {
     "name": "stdout",
     "output_type": "stream",
     "text": [
      "1111\n",
      "\n",
      "The following people have birthdays today: \n",
      "\tLeonardo DiCaprio\n",
      "\tFyodor Dostoevsky\n",
      "True\n"
     ]
    }
   ],
   "source": [
    "bday_today_flag = checkTodaysBirthdays(b)\n",
    "print(bday_today_flag)"
   ]
  },
  {
   "cell_type": "markdown",
   "metadata": {},
   "source": [
    "# Step 4. Create a BirthdayReminder Class to manage everything"
   ]
  },
  {
   "cell_type": "code",
   "execution_count": 33,
   "metadata": {},
   "outputs": [],
   "source": [
    "class BirthdayReminder:\n",
    "    \n",
    "    # email server variables\n",
    "    \n",
    "    port = 587  # for starttls\n",
    "    smtp_server = \"smtp.gmail.com\"\n",
    "    sender_email = \"j.reidhead@kimep.kz\"\n",
    "    receiver_email = \"seouljake@gmail.com\"\n",
    "    password = \"\"\n",
    "    \n",
    "    \n",
    "    # birthday variables\n",
    "    \n",
    "    filename = \"BirthdayFile.txt\"\n",
    "    birthday_list = []\n",
    "    \n",
    "    \n",
    "    \n",
    "    # constructor method\n",
    "    \n",
    "    def __init__(self):\n",
    "        \n",
    "        self.password = getpass.getpass('Email Account Password:')\n",
    "        \n",
    "        self.birthday_list = self.import_birthdays(self.filename)\n",
    "       \n",
    "        print(\"\\nConfirming birthday list has been loaded...\")\n",
    "        print(self.birthday_list)\n",
    "        \n",
    "        \n",
    "        \n",
    "\n",
    "    # methods\n",
    "    \n",
    "    def import_birthdays(self,bday_filename):\n",
    "    \n",
    "        filein = open(filename)\n",
    "        birthday_list = filein.readlines()\n",
    "        birthday_list = [bday.strip() for bday in birthday_list]\n",
    "        birthday_list = [bday.split(\";\") for bday in birthday_list]\n",
    "\n",
    "        return birthday_list\n",
    "    \n",
    "    \n",
    "    def checkTodaysBirthdays(self):\n",
    "\n",
    "        today = time.strftime('%m%d')\n",
    "        flag = False\n",
    "        bday_today = []\n",
    "\n",
    "        for bday in self.birthday_list:\n",
    "            if today in bday[0]:\n",
    "                bday_today.append(bday)\n",
    "                flag = True\n",
    "                \n",
    "        if flag:\n",
    "            msg = self.craft_message(bday_today)\n",
    "            print(msg)\n",
    "            \n",
    "            print(\"\\nSending email reminder now...\")\n",
    "            self.send_reminder(msg)\n",
    "            print(\"\\nBirthday reminder email was successfully sent!\")\n",
    "\n",
    "        else:\n",
    "            print(\"No birthdays today.\")\n",
    "\n",
    "        #return flag\n",
    "    \n",
    "    \n",
    "    def craft_message(self,birthday_list):\n",
    "        \n",
    "        message = \"\\nThe following people have birthdays today: \"\n",
    "\n",
    "        for bday in birthday_list:\n",
    "            message = message + \"\\n\\t\"+ bday[1]+\" \"+bday[2]\n",
    "\n",
    "        return message\n",
    "\n",
    "    \n",
    "    def send_reminder(self,message):\n",
    "\n",
    "        context = ssl.create_default_context()\n",
    "        with smtplib.SMTP(self.smtp_server,self.port) as server:\n",
    "            server.ehlo()\n",
    "            server.starttls(context=context)\n",
    "            server.ehlo()\n",
    "            server.login(self.sender_email,self.password)\n",
    "            server.sendmail(self.sender_email,self.receiver_email,message)\n",
    "            \n"
   ]
  },
  {
   "cell_type": "code",
   "execution_count": 37,
   "metadata": {},
   "outputs": [
    {
     "name": "stdout",
     "output_type": "stream",
     "text": [
      "Email Account Password:········\n",
      "\n",
      "Confirming birthday list has been loaded...\n",
      "[['1109', 'Carl', 'Sagan']]\n"
     ]
    }
   ],
   "source": [
    "br = BirthdayReminder()"
   ]
  },
  {
   "cell_type": "code",
   "execution_count": 38,
   "metadata": {},
   "outputs": [
    {
     "name": "stdout",
     "output_type": "stream",
     "text": [
      "No birthdays today.\n"
     ]
    }
   ],
   "source": [
    "br.checkTodaysBirthdays()"
   ]
  },
  {
   "cell_type": "code",
   "execution_count": null,
   "metadata": {},
   "outputs": [],
   "source": []
  }
 ],
 "metadata": {
  "kernelspec": {
   "display_name": "Python 3",
   "language": "python",
   "name": "python3"
  },
  "language_info": {
   "codemirror_mode": {
    "name": "ipython",
    "version": 3
   },
   "file_extension": ".py",
   "mimetype": "text/x-python",
   "name": "python",
   "nbconvert_exporter": "python",
   "pygments_lexer": "ipython3",
   "version": "3.7.3"
  }
 },
 "nbformat": 4,
 "nbformat_minor": 4
}
