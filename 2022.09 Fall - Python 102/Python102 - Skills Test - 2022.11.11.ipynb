{
 "cells": [
  {
   "cell_type": "markdown",
   "metadata": {},
   "source": [
    "# Python 102 - 2022.11.11 - Skills Test - without Solutions"
   ]
  },
  {
   "cell_type": "markdown",
   "metadata": {},
   "source": [
    "## Skills Test"
   ]
  },
  {
   "cell_type": "markdown",
   "metadata": {},
   "source": [
    "#### Time:  30 minutes"
   ]
  },
  {
   "cell_type": "markdown",
   "metadata": {},
   "source": [
    "#### Contents\n",
    "-  Shorter exercises (3 pts x 5)  = 15\n",
    "-  Longer exercises (12 pts x 5) = 60"
   ]
  },
  {
   "cell_type": "markdown",
   "metadata": {},
   "source": [
    "#### Total points: 75"
   ]
  },
  {
   "cell_type": "markdown",
   "metadata": {},
   "source": [
    "#### Passing Grade: 60% (45 of 75 pts)"
   ]
  },
  {
   "cell_type": "markdown",
   "metadata": {},
   "source": [
    "## Shorter exercises"
   ]
  },
  {
   "cell_type": "markdown",
   "metadata": {},
   "source": [
    "#### 1. define a function\n",
    "\n",
    "- define a function add() which accepts two parameters, a and b, and outputs the sum, a+b\n",
    "- you can output using print() function or return \n",
    "- call the function to show that it works"
   ]
  },
  {
   "cell_type": "code",
   "execution_count": 14,
   "metadata": {},
   "outputs": [],
   "source": []
  },
  {
   "cell_type": "code",
   "execution_count": 15,
   "metadata": {},
   "outputs": [
    {
     "name": "stdout",
     "output_type": "stream",
     "text": [
      "11\n"
     ]
    }
   ],
   "source": [
    "add(5,6)"
   ]
  },
  {
   "cell_type": "markdown",
   "metadata": {},
   "source": [
    "#### 2. sort a list\n",
    "\n",
    "- consider the following list, number_list = [1,1,6,2,7,29]\n",
    "- sort the following list in descending order (from largest to smallest)\n",
    "- call the list to show it is sorted"
   ]
  },
  {
   "cell_type": "code",
   "execution_count": 24,
   "metadata": {},
   "outputs": [],
   "source": [
    "number_list = [1,1,6,2,7,29]"
   ]
  },
  {
   "cell_type": "code",
   "execution_count": 25,
   "metadata": {},
   "outputs": [],
   "source": []
  },
  {
   "cell_type": "code",
   "execution_count": 26,
   "metadata": {},
   "outputs": [
    {
     "data": {
      "text/plain": [
       "[29, 7, 6, 2, 1, 1]"
      ]
     },
     "execution_count": 26,
     "metadata": {},
     "output_type": "execute_result"
    }
   ],
   "source": [
    "number_list"
   ]
  },
  {
   "cell_type": "markdown",
   "metadata": {},
   "source": [
    "#### 3. search for larger numbers\n",
    "\n",
    "- consider the following list, number_list = [1,1,6,2,7,29]\n",
    "- use a list comprehension to select numbers larger than 5, and save this as a new list\n",
    "- call the new list to show what it contains"
   ]
  },
  {
   "cell_type": "code",
   "execution_count": 27,
   "metadata": {},
   "outputs": [],
   "source": [
    "number_list = [1,1,6,2,7,29]"
   ]
  },
  {
   "cell_type": "code",
   "execution_count": 28,
   "metadata": {},
   "outputs": [],
   "source": [
    "big_number_list = []"
   ]
  },
  {
   "cell_type": "code",
   "execution_count": 29,
   "metadata": {},
   "outputs": [],
   "source": []
  },
  {
   "cell_type": "code",
   "execution_count": 30,
   "metadata": {},
   "outputs": [
    {
     "data": {
      "text/plain": [
       "[6, 7, 29]"
      ]
     },
     "execution_count": 30,
     "metadata": {},
     "output_type": "execute_result"
    }
   ],
   "source": [
    "big_number_list"
   ]
  },
  {
   "cell_type": "markdown",
   "metadata": {},
   "source": [
    "#### 4. search for words containing substring\n",
    "\n",
    "- consider the following list, word_list = [\"apple\",\"banana\",\"pineapple\",\"pear\",\"snapple\"]\n",
    "- use a list comprehension to select words containing the substring, \"apple\", and save this as a new list\n",
    "- call the new list to show what it contains"
   ]
  },
  {
   "cell_type": "code",
   "execution_count": 31,
   "metadata": {},
   "outputs": [],
   "source": [
    "word_list = [\"apple\",\"banana\",\"pineapple\",\"pear\",\"snapple\"]"
   ]
  },
  {
   "cell_type": "code",
   "execution_count": 32,
   "metadata": {},
   "outputs": [],
   "source": [
    "apple_list = []"
   ]
  },
  {
   "cell_type": "code",
   "execution_count": 33,
   "metadata": {},
   "outputs": [],
   "source": []
  },
  {
   "cell_type": "code",
   "execution_count": 34,
   "metadata": {},
   "outputs": [
    {
     "data": {
      "text/plain": [
       "['apple', 'pineapple', 'snapple']"
      ]
     },
     "execution_count": 34,
     "metadata": {},
     "output_type": "execute_result"
    }
   ],
   "source": [
    "apple_list"
   ]
  },
  {
   "cell_type": "markdown",
   "metadata": {},
   "source": [
    "#### 5. create a class\n",
    "\n",
    "- create a class, MyClass\n",
    "- include the attributes:\n",
    " - firstname = \"Joe\"\n",
    " - lastname = \"Biden\"\n",
    " - age = 101\n",
    "- instantiate the class and call each of the three attributes to show their values"
   ]
  },
  {
   "cell_type": "code",
   "execution_count": 73,
   "metadata": {},
   "outputs": [],
   "source": []
  },
  {
   "cell_type": "code",
   "execution_count": 74,
   "metadata": {},
   "outputs": [],
   "source": [
    "myclass = MyClass()"
   ]
  },
  {
   "cell_type": "code",
   "execution_count": 75,
   "metadata": {},
   "outputs": [
    {
     "data": {
      "text/plain": [
       "'Joe'"
      ]
     },
     "execution_count": 75,
     "metadata": {},
     "output_type": "execute_result"
    }
   ],
   "source": [
    "myclass.firstname"
   ]
  },
  {
   "cell_type": "code",
   "execution_count": 76,
   "metadata": {},
   "outputs": [
    {
     "data": {
      "text/plain": [
       "'Biden'"
      ]
     },
     "execution_count": 76,
     "metadata": {},
     "output_type": "execute_result"
    }
   ],
   "source": [
    "myclass.lastname"
   ]
  },
  {
   "cell_type": "code",
   "execution_count": 77,
   "metadata": {},
   "outputs": [
    {
     "data": {
      "text/plain": [
       "101"
      ]
     },
     "execution_count": 77,
     "metadata": {},
     "output_type": "execute_result"
    }
   ],
   "source": [
    "myclass.age"
   ]
  },
  {
   "cell_type": "markdown",
   "metadata": {},
   "source": [
    "## Longer exercises"
   ]
  },
  {
   "cell_type": "markdown",
   "metadata": {},
   "source": [
    "#### 6. create a Calculator class\n",
    "\n",
    "1. create a class Calculator\n",
    "2. the class should contain four functions:\n",
    " - add()\n",
    " - substract()\n",
    " - multiply()\n",
    " - divide()\n",
    "3. each function should:\n",
    " - accept two numbers\n",
    " - perform the basic operation (add, subtract, multiply divide)\n",
    " - and print() the output\n",
    "4. instantiate the class and call each function once to show that it works"
   ]
  },
  {
   "cell_type": "code",
   "execution_count": 35,
   "metadata": {},
   "outputs": [],
   "source": []
  },
  {
   "cell_type": "code",
   "execution_count": 36,
   "metadata": {},
   "outputs": [],
   "source": [
    "c = Calculator()"
   ]
  },
  {
   "cell_type": "code",
   "execution_count": 37,
   "metadata": {},
   "outputs": [
    {
     "name": "stdout",
     "output_type": "stream",
     "text": [
      "11\n"
     ]
    }
   ],
   "source": [
    "c.add(5,6)"
   ]
  },
  {
   "cell_type": "code",
   "execution_count": 38,
   "metadata": {},
   "outputs": [
    {
     "name": "stdout",
     "output_type": "stream",
     "text": [
      "-1\n"
     ]
    }
   ],
   "source": [
    "c.subtract(5,6)"
   ]
  },
  {
   "cell_type": "code",
   "execution_count": 39,
   "metadata": {},
   "outputs": [
    {
     "name": "stdout",
     "output_type": "stream",
     "text": [
      "30\n"
     ]
    }
   ],
   "source": [
    "c.multiply(5,6)"
   ]
  },
  {
   "cell_type": "code",
   "execution_count": 40,
   "metadata": {},
   "outputs": [
    {
     "name": "stdout",
     "output_type": "stream",
     "text": [
      "0.8333333333333334\n"
     ]
    }
   ],
   "source": [
    "c.divide(5,6)"
   ]
  },
  {
   "cell_type": "markdown",
   "metadata": {},
   "source": [
    "#### 7. sort by multiple fields\n",
    "\n",
    "1. consider the following list, id_list = [[\"Joe\",39],[\"Alma\",39],[\"Frank\",38],[\"Alex\",38]]\n",
    "2. use the lambda function and key parameter in sort() to sort the following list according to two criteria\n",
    " - first by age, ascending (from smallest to largest)\n",
    " - second by name, alphatbetically\n",
    "3. call the list to show it is sorted"
   ]
  },
  {
   "cell_type": "code",
   "execution_count": 41,
   "metadata": {},
   "outputs": [],
   "source": [
    "id_list = [[\"Joe\",39],[\"Alma\",39],[\"Frank\",38],[\"Alex\",38]]"
   ]
  },
  {
   "cell_type": "code",
   "execution_count": 42,
   "metadata": {},
   "outputs": [
    {
     "data": {
      "text/plain": [
       "[['Joe', 39], ['Alma', 39], ['Frank', 38], ['Alex', 38]]"
      ]
     },
     "execution_count": 42,
     "metadata": {},
     "output_type": "execute_result"
    }
   ],
   "source": [
    "id_list"
   ]
  },
  {
   "cell_type": "code",
   "execution_count": 44,
   "metadata": {},
   "outputs": [],
   "source": []
  },
  {
   "cell_type": "code",
   "execution_count": 45,
   "metadata": {},
   "outputs": [
    {
     "data": {
      "text/plain": [
       "[['Alex', 38], ['Frank', 38], ['Alma', 39], ['Joe', 39]]"
      ]
     },
     "execution_count": 45,
     "metadata": {},
     "output_type": "execute_result"
    }
   ],
   "source": [
    "id_list"
   ]
  },
  {
   "cell_type": "markdown",
   "metadata": {},
   "source": [
    "#### 8. search a list by multiple fields\n",
    "\n",
    "1. consider the following list, id_list = [[\"Joe\",39],[\"Alma\",39],[\"Frank\",38],[\"Alex\",38]]\n",
    "2. use a list comprehension to select items by the following two criteria\n",
    " - age < 39\n",
    " - names that begin with A\n",
    "3. call the list to show it is sorted"
   ]
  },
  {
   "cell_type": "code",
   "execution_count": 46,
   "metadata": {},
   "outputs": [],
   "source": [
    "id_list = [[\"Joe\",39],[\"Alma\",39],[\"Frank\",38],[\"Alex\",38]]"
   ]
  },
  {
   "cell_type": "code",
   "execution_count": 50,
   "metadata": {},
   "outputs": [
    {
     "data": {
      "text/plain": [
       "[['Joe', 39], ['Alma', 39], ['Frank', 38], ['Alex', 38]]"
      ]
     },
     "execution_count": 50,
     "metadata": {},
     "output_type": "execute_result"
    }
   ],
   "source": [
    "id_list"
   ]
  },
  {
   "cell_type": "code",
   "execution_count": 51,
   "metadata": {},
   "outputs": [],
   "source": []
  },
  {
   "cell_type": "code",
   "execution_count": 52,
   "metadata": {},
   "outputs": [
    {
     "data": {
      "text/plain": [
       "[['Alex', 38]]"
      ]
     },
     "execution_count": 52,
     "metadata": {},
     "output_type": "execute_result"
    }
   ],
   "source": [
    "new_id_list"
   ]
  },
  {
   "cell_type": "markdown",
   "metadata": {},
   "source": [
    "####  9. create a UserAccount class\n",
    "\n",
    "1. create a class UserAccount\n",
    "\n",
    "2. include the dictionary, Accounts, where\n",
    " - key is user ID\n",
    " - value is [firstname,lastname,account_balance]\n",
    " \n",
    "3. create two functions:\n",
    " - AddUser(userid,firstname,lastname,account_balance) - which adds a user to Accounts\n",
    " - UpdateBalance(userid,new_balance) - which replaces the old balance with a new balance\n",
    " \n",
    "4. call the AddUser function to add a user having the following info\n",
    "  - id = \"009\"\n",
    "  - firstname = \"Joe\"\n",
    "  - lastname = \"Biden\"\n",
    "  - account_balance = 1000\n",
    "  \n",
    "5. call the UpdateBalance function to update Joe Biden's account_balance from 1000 to 2000\n",
    "  \n",
    "6. call Accounts to show that you have updated it"
   ]
  },
  {
   "cell_type": "code",
   "execution_count": 53,
   "metadata": {},
   "outputs": [],
   "source": [
    "Accounts = {\"001\":[\"Alex\",\"Frasier\",105],\"003\":[\"Sally\",\"Ride\",965]}"
   ]
  },
  {
   "cell_type": "code",
   "execution_count": 65,
   "metadata": {},
   "outputs": [],
   "source": []
  },
  {
   "cell_type": "code",
   "execution_count": 66,
   "metadata": {},
   "outputs": [],
   "source": [
    "ua = UserAccount()"
   ]
  },
  {
   "cell_type": "code",
   "execution_count": 67,
   "metadata": {},
   "outputs": [
    {
     "data": {
      "text/plain": [
       "{'001': ['Alex', 'Frasier', 105], '003': ['Sally', 'Ride', 965]}"
      ]
     },
     "execution_count": 67,
     "metadata": {},
     "output_type": "execute_result"
    }
   ],
   "source": [
    "ua.Accounts"
   ]
  },
  {
   "cell_type": "code",
   "execution_count": 68,
   "metadata": {},
   "outputs": [],
   "source": [
    "ua.AddUser(\"009\",\"Joe\",\"Biden\",1000)"
   ]
  },
  {
   "cell_type": "code",
   "execution_count": 69,
   "metadata": {},
   "outputs": [
    {
     "data": {
      "text/plain": [
       "{'001': ['Alex', 'Frasier', 105],\n",
       " '003': ['Sally', 'Ride', 965],\n",
       " '009': ['Joe', 'Biden', 1000]}"
      ]
     },
     "execution_count": 69,
     "metadata": {},
     "output_type": "execute_result"
    }
   ],
   "source": [
    "ua.Accounts"
   ]
  },
  {
   "cell_type": "code",
   "execution_count": 70,
   "metadata": {},
   "outputs": [],
   "source": [
    "ua.UpdateBalance(\"009\",2000)"
   ]
  },
  {
   "cell_type": "code",
   "execution_count": 71,
   "metadata": {},
   "outputs": [
    {
     "data": {
      "text/plain": [
       "{'001': ['Alex', 'Frasier', 105],\n",
       " '003': ['Sally', 'Ride', 965],\n",
       " '009': ['Joe', 'Biden', 2000]}"
      ]
     },
     "execution_count": 71,
     "metadata": {},
     "output_type": "execute_result"
    }
   ],
   "source": [
    "ua.Accounts"
   ]
  },
  {
   "cell_type": "markdown",
   "metadata": {},
   "source": [
    "####  10. create a class, MyClass\n",
    "\n",
    "1. consider the class you created in Exercise 5\n",
    "\n",
    "2. create an __init__ function which prompts the user for their firstname, lastname, and age\n",
    "\n",
    "3. add the function, MyName, which concatenates firstname and lastname into the following sentence, and then prints() it.\n",
    " - \"My name is Joe Biden.\"\n",
    "\n",
    "4. add the function, MyAge, which print()s your age \n",
    " - reports the user's age\n",
    "  \n",
    "5. call the class, input your firstname, lastname and age, and then call MyName and MyAge to show that they work"
   ]
  },
  {
   "cell_type": "code",
   "execution_count": null,
   "metadata": {},
   "outputs": [],
   "source": []
  }
 ],
 "metadata": {
  "kernelspec": {
   "display_name": "Python 3 (ipykernel)",
   "language": "python",
   "name": "python3"
  },
  "language_info": {
   "codemirror_mode": {
    "name": "ipython",
    "version": 3
   },
   "file_extension": ".py",
   "mimetype": "text/x-python",
   "name": "python",
   "nbconvert_exporter": "python",
   "pygments_lexer": "ipython3",
   "version": "3.11.0"
  }
 },
 "nbformat": 4,
 "nbformat_minor": 4
}
