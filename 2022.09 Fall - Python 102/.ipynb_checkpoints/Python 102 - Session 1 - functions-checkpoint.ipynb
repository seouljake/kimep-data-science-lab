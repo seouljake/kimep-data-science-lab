{
 "cells": [
  {
   "cell_type": "markdown",
   "metadata": {},
   "source": [
    "# Python 102"
   ]
  },
  {
   "cell_type": "markdown",
   "metadata": {},
   "source": [
    "#### Session Outline\n",
    "- Session 1 - basic functions\n",
    "- Session 2 - search & sort\n",
    "- Session 3 - classes & objects\n",
    "- Session 4 - number guessing game: object state & recursion\n",
    "- Session 5 - birthday reminder email + Skill Quiz"
   ]
  },
  {
   "cell_type": "markdown",
   "metadata": {},
   "source": [
    "#### YouTube Link to Session Video\n",
    "\n",
    "https://youtu.be/0i2st4x-o_g"
   ]
  },
  {
   "cell_type": "markdown",
   "metadata": {},
   "source": [
    "#### Resources for algorithms\n",
    "\n",
    "https://u.osu.edu/cstutorials/2016/11/21/7-algorithms-and-data-structures-every-programmer-must-know/comment-page-1/"
   ]
  },
  {
   "cell_type": "markdown",
   "metadata": {},
   "source": [
    "# Session 1 - basic functions"
   ]
  },
  {
   "cell_type": "markdown",
   "metadata": {},
   "source": [
    "#### https://www.w3schools.com/python/python_functions.asp"
   ]
  },
  {
   "cell_type": "markdown",
   "metadata": {},
   "source": [
    "#### 1. Defining functions"
   ]
  },
  {
   "cell_type": "code",
   "execution_count": 13,
   "metadata": {},
   "outputs": [],
   "source": [
    "# basic function syntax includes: def, function name, arguments (args)\n",
    "\n",
    "def countapples(s):\n",
    "    \n",
    "    ls = s.lower()\n",
    "    \n",
    "    applecount = ls.count(\"apple\")\n",
    "    \n",
    "    return applecount"
   ]
  },
  {
   "cell_type": "code",
   "execution_count": null,
   "metadata": {},
   "outputs": [],
   "source": []
  },
  {
   "cell_type": "code",
   "execution_count": 18,
   "metadata": {},
   "outputs": [],
   "source": [
    "sentence = \"Apples are so delicious! I love apples!\""
   ]
  },
  {
   "cell_type": "code",
   "execution_count": 15,
   "metadata": {},
   "outputs": [
    {
     "data": {
      "text/plain": [
       "2"
      ]
     },
     "execution_count": 15,
     "metadata": {},
     "output_type": "execute_result"
    }
   ],
   "source": [
    "countapples(sentence)"
   ]
  },
  {
   "cell_type": "code",
   "execution_count": 16,
   "metadata": {},
   "outputs": [],
   "source": [
    "anothersentence = \"Apples are so terrible! I hate them!\""
   ]
  },
  {
   "cell_type": "code",
   "execution_count": 17,
   "metadata": {},
   "outputs": [
    {
     "data": {
      "text/plain": [
       "1"
      ]
     },
     "execution_count": 17,
     "metadata": {},
     "output_type": "execute_result"
    }
   ],
   "source": [
    "countapples(anothersentence)"
   ]
  },
  {
   "cell_type": "code",
   "execution_count": 4,
   "metadata": {},
   "outputs": [
    {
     "data": {
      "text/plain": [
       "'apples are so delicious! i love apples!'"
      ]
     },
     "execution_count": 4,
     "metadata": {},
     "output_type": "execute_result"
    }
   ],
   "source": [
    "s.lower()"
   ]
  },
  {
   "cell_type": "code",
   "execution_count": null,
   "metadata": {},
   "outputs": [],
   "source": []
  },
  {
   "cell_type": "code",
   "execution_count": 19,
   "metadata": {},
   "outputs": [],
   "source": [
    "# one warning about scope\n",
    "\n",
    "def countapples2(s):\n",
    "    \n",
    "    sentence = \"a new sentence\"\n",
    "    \n",
    "    ls = s.lower()\n",
    "    \n",
    "    applecount = ls.count(\"apple\")\n",
    "    \n",
    "    return applecount"
   ]
  },
  {
   "cell_type": "code",
   "execution_count": 21,
   "metadata": {},
   "outputs": [
    {
     "data": {
      "text/plain": [
       "'Apples are so delicious! I love apples!'"
      ]
     },
     "execution_count": 21,
     "metadata": {},
     "output_type": "execute_result"
    }
   ],
   "source": [
    "sentence"
   ]
  },
  {
   "cell_type": "code",
   "execution_count": 24,
   "metadata": {},
   "outputs": [],
   "source": [
    "acount = countapples2(sentence)"
   ]
  },
  {
   "cell_type": "code",
   "execution_count": 23,
   "metadata": {},
   "outputs": [
    {
     "data": {
      "text/plain": [
       "'Apples are so delicious! I love apples!'"
      ]
     },
     "execution_count": 23,
     "metadata": {},
     "output_type": "execute_result"
    }
   ],
   "source": [
    "sentence"
   ]
  },
  {
   "cell_type": "code",
   "execution_count": 25,
   "metadata": {},
   "outputs": [
    {
     "data": {
      "text/plain": [
       "2"
      ]
     },
     "execution_count": 25,
     "metadata": {},
     "output_type": "execute_result"
    }
   ],
   "source": [
    "acount"
   ]
  },
  {
   "cell_type": "markdown",
   "metadata": {},
   "source": [
    "#### 2. Run apple count on Wikipedia fruit"
   ]
  },
  {
   "cell_type": "code",
   "execution_count": 26,
   "metadata": {},
   "outputs": [],
   "source": [
    "import io"
   ]
  },
  {
   "cell_type": "code",
   "execution_count": 35,
   "metadata": {},
   "outputs": [],
   "source": [
    "f = open(\"Wikipedia Fruit.txt\")"
   ]
  },
  {
   "cell_type": "code",
   "execution_count": 36,
   "metadata": {},
   "outputs": [],
   "source": [
    "text = f.readlines()"
   ]
  },
  {
   "cell_type": "code",
   "execution_count": 37,
   "metadata": {},
   "outputs": [
    {
     "data": {
      "text/plain": [
       "361"
      ]
     },
     "execution_count": 37,
     "metadata": {},
     "output_type": "execute_result"
    }
   ],
   "source": [
    "len(text)"
   ]
  },
  {
   "cell_type": "code",
   "execution_count": 38,
   "metadata": {},
   "outputs": [
    {
     "data": {
      "text/plain": [
       "'Fruit\\n'"
      ]
     },
     "execution_count": 38,
     "metadata": {},
     "output_type": "execute_result"
    }
   ],
   "source": [
    "text[0]"
   ]
  },
  {
   "cell_type": "code",
   "execution_count": 39,
   "metadata": {},
   "outputs": [],
   "source": [
    "text = [line.strip() for line in text]"
   ]
  },
  {
   "cell_type": "code",
   "execution_count": 40,
   "metadata": {},
   "outputs": [
    {
     "data": {
      "text/plain": [
       "'Fruit'"
      ]
     },
     "execution_count": 40,
     "metadata": {},
     "output_type": "execute_result"
    }
   ],
   "source": [
    "text[0]"
   ]
  },
  {
   "cell_type": "code",
   "execution_count": 42,
   "metadata": {},
   "outputs": [],
   "source": [
    "text = [line for line in text if len(line)>0]"
   ]
  },
  {
   "cell_type": "code",
   "execution_count": 43,
   "metadata": {},
   "outputs": [
    {
     "data": {
      "text/plain": [
       "275"
      ]
     },
     "execution_count": 43,
     "metadata": {},
     "output_type": "execute_result"
    }
   ],
   "source": [
    "len(text)"
   ]
  },
  {
   "cell_type": "code",
   "execution_count": 46,
   "metadata": {},
   "outputs": [
    {
     "data": {
      "text/plain": [
       "['Fruit',\n",
       " 'From Wikipedia, the free encyclopedia',\n",
       " 'Jump to navigationJump to search',\n",
       " 'For other uses, see Fruit (disambiguation).',\n",
       " 'Various culinary fruits',\n",
       " 'Caraway fruits. A common mistake is to call these and similar ones \"seeds\".',\n",
       " 'Pomegranate display of the exocarp (right) and seeds and edible sarcotesta (left)',\n",
       " 'In botany, a fruit is the seed-bearing structure in flowering plants that is formed from the ovary after flowering.',\n",
       " \"Fruits are the means by which flowering plants (also known as angiosperms) disseminate their seeds. Edible fruits in particular have long propagated using the movements of humans and animals in a symbiotic relationship that is the means for seed dispersal for the one group and nutrition for the other; in fact, humans and many animals have become dependent on fruits as a source of food.[1] Consequently, fruits account for a substantial fraction of the world's agricultural output, and some (such as the apple and the pomegranate) have acquired extensive cultural and symbolic meanings.\",\n",
       " 'In common language usage, \"fruit\" normally means the seed-associated fleshy structures (or produce) of plants that typically are sweet or sour and edible in the raw state, such as apples, bananas, grapes, lemons, oranges, and strawberries. In botanical usage, the term \"fruit\" also includes many structures that are not commonly called \"fruits\" in everyday language, such as nuts, bean pods, corn kernels, tomatoes, and wheat grains.[2][3]',\n",
       " 'Contents',\n",
       " '1\\tBotanical vs. culinary',\n",
       " '2\\tStructure',\n",
       " '3\\tDevelopment',\n",
       " '4\\tClassification of fruits',\n",
       " '4.1\\tSimple fruits',\n",
       " '4.1.1\\tBerries',\n",
       " '4.2\\tAggregate fruits',\n",
       " '4.3\\tMultiple fruits',\n",
       " '4.4\\tAccessory fruit forms',\n",
       " '4.5\\tTable of fleshy fruit examples',\n",
       " '5\\tSeedless fruits',\n",
       " '6\\tSeed dissemination',\n",
       " '7\\tFood uses',\n",
       " '7.1\\tStorage',\n",
       " '7.2\\tNutritional value',\n",
       " '7.3\\tFood safety',\n",
       " '7.4\\tAllergies',\n",
       " '8\\tNonfood uses',\n",
       " '9\\tSee also',\n",
       " '10\\tReferences',\n",
       " '11\\tFurther reading',\n",
       " '12\\tExternal links',\n",
       " 'Botanical vs. culinary',\n",
       " 'An arrangement of fruits commonly thought of as culinary vegetables, including corn (maize), tomatoes, and various squash',\n",
       " 'Many common language terms used for fruit and seeds differ from botanical classifications. For example, in botany, a fruit is a ripened ovary or carpel that contains seeds; e.g., an apple, pomegranate, tomato or a pumpkin. A nut is a type of fruit (and not a seed), and a seed is a ripened ovule.[4]',\n",
       " 'In culinary language, a fruit is the sweet- or not sweet- (even sour-) tasting produce of a specific plant (e.g., a peach, pear or lemon); nuts are hard, oily, non-sweet plant produce in shells (hazelnut, acorn). Vegetables, so called, typically are savory or non-sweet produce (zucchini, lettuce, broccoli, and tomato); but some may be sweet-tasting (sweet potato).[5]',\n",
       " 'Examples of botanically classified fruit that typically are called vegetables include: cucumber, pumpkin, and squash (all are cucurbits); beans, peanuts, and peas (all legumes); corn, eggplant, bell pepper (or sweet pepper), and tomato (see image). The spices chili pepper and allspice are fruits, botanically speaking.[4] In contrast, rhubarb is often called a fruit when used in making pies, but the edible produce of rhubarb is actually the leaf stalk or petiole of the plant.[6] Edible gymnosperm seeds are often given fruit names, e.g., ginkgo nuts and pine nuts.',\n",
       " 'Botanically, a cereal grain, such as corn, rice, or wheat is a kind of fruit (termed a caryopsis). However, the fruit wall is thin and fused to the seed coat, so almost all the edible grain-fruit is actually a seed.[7]',\n",
       " 'Structure',\n",
       " 'Main article: Fruit anatomy',\n",
       " 'The outer layer, often edible, of most fruits is called the pericarp. Typically formed from the ovary, it surrounds the seeds; in some species, however, other structural tissues contribute to or form the edible portion. The pericarp may be described in three layers from outer to inner, i.e., the epicarp, mesocarp and endocarp.',\n",
       " 'Fruit that bears a prominent pointed terminal projection is said to be beaked.[8]',\n",
       " 'Development',\n",
       " \"A fruit results from the fertilizing and maturing of one or more flowers. The gynoecium, which contains the stigma-style-ovary system, is centered in the flower-head, and it forms all or part of the fruit â€”(see graphic: 'the parts of a flower').[9] Inside the ovary(ies) are one or more ovules. Here begins a complex sequence called double fertilization: a female gametophyte produces an egg cell for the purpose of fertilization.[10] (A female gametophyte is called a megagametophyte, and also called the embryo sac.) After double fertilization, the ovules will become seeds.\",\n",
       " 'Ovules are fertilized in a process that starts with pollination, which is the movement of pollen from the stamens to the stigma-style-ovary system within the flower-head, (see graphic). After pollination, a pollen tube grows from the (deposited) pollen through the stigma down the style into the ovary to the ovule. Two sperm are transferred from the pollen to a megagametophyte. Within the megagametophyte one sperm unites with the egg, forming a zygote, while the second sperm enters the central cell forming the endosperm mother cell, which completes the double fertilization process.[11][12] Later the zygote will give rise to the embryo of the seed, and the endosperm mother cell will give rise to endosperm, a nutritive tissue used by the embryo.',\n",
       " 'As the ovules develop into seeds, the ovary begins to ripen and the ovary wall, the pericarp, may become fleshy (as in berries or drupes), or it may form a hard outer covering (as in nuts). In some multiseeded fruits, the extent to which a fleshy structure develops is proportional to the number of fertilized ovules.[13] The pericarp typically is differentiated into two or three distinct layers; these are called the exocarp (outer layer, also called epicarp), mesocarp (middle layer), and endocarp (inner layer) â€”(see image of apple-section).',\n",
       " 'In some fruits the sepals, petals, stamens and/or the style of the flower fall away as the fleshy fruit ripens. However, for simple fruits derived from an inferior ovary â€”i.e., one that lies below the attachment of other floral parts, (see graphic re \\'insertion point\\')â€” there are parts (including petals, sepals, and stamens) that fuse with the ovary and ripen with it. For such a case, when floral parts other than the ovary form a significant part of the fruit that develops, it is called an accessory fruit. Examples of accessory fruits include apple, rose hip, strawberry, pineapple; see below, and \"Table of fleshy fruit examples\".',\n",
       " 'Because several parts of the flower besides the ovary may contribute to the structure of a fruit, it is important to study flower structure to understand how a particular fruit forms.[3] There are three general modes of fruit development:',\n",
       " 'Apocarpous fruits develop from a single flower (while having one or more separate, unfused, carpels); they are the simple fruits.',\n",
       " 'Syncarpous fruits develop from a single gynoecium (having two or more carpels fused together).',\n",
       " 'Multiple fruits form from many flowers â€”i.e., an inflorescence of flowers.',\n",
       " 'The development sequence of a typical drupe, the nectarine (Prunus persica) over a 7.5 month period, from bud formation in early winter to fruit ripening in midsummer (see image page for further information)',\n",
       " 'The development sequence of a typical drupe, the nectarine (Prunus persica) over a 7.5 month period, from bud formation in early winter to fruit ripening in midsummer (see image page for further information)',\n",
       " 'The parts of a flower, showing the stigma-style-ovary system.',\n",
       " 'The parts of a flower, showing the stigma-style-ovary system.',\n",
       " 'An apple is a simple fleshy fruit. Key parts are the epicarp, or exocarp, or outer skin, (not labelled); and the mezocarp and endocarp (labelled).',\n",
       " 'An apple is a simple fleshy fruit. Key parts are the epicarp, or exocarp, or outer skin, (not labelled); and the mezocarp and endocarp (labelled).',\n",
       " \"Insertion point: There are three positions of insertion of the ovary at the base of a flower: I superior; II half-inferior; III inferior. The 'insertion point' is where the androecium parts (a), the petals (p), and the sepals (s) all converge and attach to the receptacle (r). (Ovary= gynoecium (g).)\",\n",
       " \"Insertion point: There are three positions of insertion of the ovary at the base of a flower: I superior; II half-inferior; III inferior. The 'insertion point' is where the androecium parts (a), the petals (p), and the sepals (s) all converge and attach to the receptacle (r). (Ovary= gynoecium (g).)\",\n",
       " 'In the noni, flowers are produced in time-sequence along the stem. It is possible to see a progression of flowering, fruit development, and fruit ripening.',\n",
       " 'In the noni, flowers are produced in time-sequence along the stem. It is possible to see a progression of flowering, fruit development, and fruit ripening.',\n",
       " 'Classification of fruits',\n",
       " 'Dewberry flowers. Note the multiple pistils, each of which will produce a drupelet. Each flower will become a blackberry-like aggregate fruit.',\n",
       " 'Dewberry fruit',\n",
       " 'Consistent with the three modes of fruit development plant scientists have classified fruits into three main groups: simple fruits, aggregate fruits, and multiple (or composite) fruits.[14] The groupings reflect how the ovary and other flower organs are arranged and how the fruits develop, but they are not evolutionarily relevant as diverse plant taxa may be in the same group.',\n",
       " 'While the section of a fungus that produces spores is called a fruiting body,[15] fungi are members of the fungi kingdom and not of the plant kingdom.',\n",
       " 'Simple fruits',\n",
       " 'A dry simple fruit: milkweed (Asclepias syriaca); dehiscence of the follicular fruit reveals seeds within.',\n",
       " \"Simple fruits are the result of the ripening-to-fruit of a simple or compound ovary in a single flower with a single pistil. In contrast, a single flower with numerous pistils typically produces an aggregate fruit; and the merging of several flowers, or a 'multiple' of flowers, results in a 'multiple' fruit.[16] A simple fruit is further classified as to whether it is dry or fleshy.\",\n",
       " 'To distribute their seeds, dry fruits may split open and discharge their seeds to the winds, which is called dehiscence.[17] Or the distribution process may rely upon the decay and degradation of the fruit to expose the seeds; or it may rely upon the eating of fruit and excreting of seeds by frugivores â€”both are called indehiscence. Fleshy fruits do not split open, but they also are indehiscent and they may also rely on frugivores for distribution of their seeds. Typically, the entire outer layer of the ovary wall ripens into a potentially edible pericarp.',\n",
       " 'Types of dry simple fruits, (with examples) include:',\n",
       " 'achene â€“ most commonly seen in aggregate fruits (e.g., strawberry, see below).',\n",
       " 'capsule â€“ (Brazil nut: botanically, it is not a nut).',\n",
       " 'caryopsis â€“ (cereal grains, including wheat, rice, oats, barley).',\n",
       " 'cypsela â€“ an achene-like fruit derived from the individual florets in a capitulum: (dandelion).',\n",
       " 'fibrous drupe â€“ (coconut, walnut: botanically, neither is a true nut.).',\n",
       " 'follicle â€“ follicles are formed from a single carpel, and opens by one suture: (milkweed); also commonly seen in aggregate fruits: (magnolia, peony).',\n",
       " 'legume â€“ (bean, pea, peanut: botanically, the peanut is the seed of a legume, not a nut).',\n",
       " 'loment â€“ a type of indehiscent legume: (sweet vetch or wild potato).',\n",
       " 'nut â€“ (beechnut, hazelnut, acorn (of the oak): botanically, these are true nuts).',\n",
       " 'samara â€“ (ash, elm, maple key).',\n",
       " 'schizocarp, see below â€“ (carrot seed).',\n",
       " 'silique â€“ (radish seed).',\n",
       " \"silicle â€“ (shepherd's purse).\",\n",
       " 'utricle â€“ (beet, Rumex).',\n",
       " 'Fruits in which part or all of the pericarp (fruit wall) is fleshy at maturity are termed fleshy simple fruits.',\n",
       " 'Types of fleshy simple fruits, (with examples) include:',\n",
       " 'berry â€“ The berry is the most common type of fleshy fruit. The entire outer layer of the ovary wall ripens into a potentially edible \"pericarp\", (see below).',\n",
       " 'stone fruit or drupe â€“ The definitive characteristic of a drupe is the hard, \"lignified\" stone (sometimes called the \"pit\"). It is derived from the ovary wall of the flower: apricot, cherry, olive, peach, plum, mango.',\n",
       " \"pome â€“ The pome fruits: apples, pears, rosehips, saskatoon berry, et al., are a syncarpous (fused) fleshy fruit, a simple fruit, developing from a half-inferior ovary, see graphic re 'Insertion point'.[18] Pomes are of the family Rosaceae,\",\n",
       " 'Berries',\n",
       " 'Main articles: Berry (botany) and Berry',\n",
       " 'Fruits of four different banana cultivars (Bananas are berries.)',\n",
       " 'Strawberry, showing achenes attached to surface. Botanically, strawberries are not berries; they are classified as an aggregate accessory fruit.',\n",
       " 'Flower of Magnolia Ã— wieseneri showing the many pistils making up the gynoecium in the middle of the flower. The fruit of this flower is an aggregation of follicles.',\n",
       " 'Berries are a type of simple fleshy fruit that issue from a single ovary.[19] (The ovary itself may be compound, with several carpels.) The botanical term \"true berry\" includes grapes, currants, cucumbers, eggplants (aubergines), tomatoes, chili peppers, and bananas, but excludes certain fruits that are called \"-berry\" by culinary custom or by common usage of the term â€”such as strawberries and raspberries. Berries may be formed from one or more carpels (i.e., from the simple or compound ovary) from the same, single flower. Seeds typically are embedded in the fleshy interior of the ovary.',\n",
       " 'Examples here and in the table below:',\n",
       " 'tomato â€“ In culinary terms, the tomato is regarded as a vegetable, but it is botanically classified as a fruit and a berry.[20]',\n",
       " 'banana â€“ The fruit has been described as a \"leathery berry\".[21] In cultivated varieties, the seeds are diminished nearly to non-existence.',\n",
       " 'pepo â€“ Berries with skin that is hardened: cucurbits, including gourds, squash, melons.',\n",
       " 'hesperidium â€“ Berries with a rind and a juicy interior: most citrus fruit.',\n",
       " 'cranberry, gooseberry, redcurrant, grape.',\n",
       " \"The strawberry, regardless of its appearance, is classified as a dry, not a fleshy fruit. Botanically, it is not a berry; it is an aggregate-accessory fruit, the latter term meaning the fleshy part is derived not from the plant's ovaries but from the receptacle that holds the ovaries.[22] Numerous dry achenes are attached to the outside of the fruit-flesh, (see image); they appear to be seeds but each is actually an ovary of a flower, with a seed inside.[22]\",\n",
       " 'Schizocarps are dry fruits, though some appear to be fleshy. They originate from syncarpous ovaries but do not actually dehisce; rather, they split into segments with one or more seeds. They include a number of different forms from a wide range of families, including carrot, parsnip, parsley, cumin.[14]',\n",
       " 'Aggregate fruits',\n",
       " 'Main article: Aggregate fruit',\n",
       " 'Detail of the raspberry flower: there is a clustering of pistils at the center of the flower. (A pistil consists of stigma, style, and ovary.) The stigma is the apical (at the apex) nodule that receives pollen; the style is the stem-like column that extends down to the ovary, which is the basal part that contains the seed-forming ovule.',\n",
       " 'Lilium unripe capsule fruit; an aggregate fruit.',\n",
       " 'An aggregate fruit is also called an aggregation, or etaerio; it develops from a single flower that presents numerous simple pistils (see graphic of raspberry pistils).[16] Each pistil contains one carpel; together they form a fruitlet. The ultimate (fruiting) development of the aggregation of pistils is called an aggregate fruit, etaerio fruit, or simply an etaerio.',\n",
       " 'Different types of aggregate fruits can produce different etaerios, such as achenes, drupelets, follicles, and berries.',\n",
       " 'For example, the Ranunculaceae species, including Clematis and Ranunculus, produces an etaerio of achenes;',\n",
       " 'Rubus species, including raspberry: an etaerio of drupelets;',\n",
       " 'Calotropis species: an etaerio of follicles fruit;',\n",
       " 'Annona species: an etaerio of berries.[23][24]',\n",
       " 'Some other broadly recognized species and their etaerios (or aggregations) are:',\n",
       " 'Teasel; fruit is an aggregation of cypselas.',\n",
       " 'Tuliptree; fruit is an aggregation of samaras.',\n",
       " 'Magnolia and peony; fruit is an aggregation of follicles.',\n",
       " 'American sweet gum; fruit is an aggregation of capsules.',\n",
       " 'Sycamore; fruit is an aggregation of achenes.',\n",
       " 'The raspberry; its pistils are called drupelets because each pistil is like a small drupe attached to the receptacle. In some bramble fruits such as blackberry the receptacle, an accessory part, elongates and then develops as part of the fruit, making the blackberry an aggregate-accessory fruit.[25] The strawberry is also an aggregate-accessory fruit, of which the seeds are contained in the achenes.[26] Notably in all these examples, the fruit develops from a single flower, with numerous pistils.',\n",
       " 'Multiple fruits',\n",
       " 'Main article: Multiple fruit',\n",
       " \"A multiple fruit is formed from a cluster of flowers, (a 'multiple' of flowers) â€”also called an inflorescence. Each ('smallish') flower produces a single fruitlet, which, as all develop, all merge into one mass of fruit.[27] Examples include pineapple, fig, mulberry, Osage orange, breadfruit. An inflorescence (a cluster) of white flowers, called a head, is produced first. After fertilization, each flower in the cluster develops into a drupe; as the drupes expand, they develop as a connate organ, merging into a multiple fleshy fruit called a syncarp.\",\n",
       " 'Progressive stages of multiple flowering and fruit development can be observed on a single branch of the Indian mulberry, or noni, (see image). During the sequence of development, a progression of second, third, and more inflorescences are initiated in turn at the head of the branch or stem.',\n",
       " 'Accessory fruit forms',\n",
       " 'Main article: Accessory fruit',\n",
       " 'Fruits may incorporate tissues derived from other floral parts besides the ovary, including the receptacle, hypanthium, petals, or sepals. Accessory fruits occur in all three classes of fruit developmentâ€”simple, aggregate, and multiple. Accessory fruits are frequently designated by the hyphenated term showing both characters. For example, a pineapple is a multiple-accessory fruit. a blackberry is an aggregate-accessory fruit, and an apple is a simple-accessory fruit.',\n",
       " 'Table of fleshy fruit examples',\n",
       " 'Types of fleshy fruits',\n",
       " 'Type\\tExamples',\n",
       " 'Simple fleshy fruit\\tTrue berry, Stone fruit, Pome',\n",
       " 'Aggregate fruit\\tBoysenberry, Lilium, Magnolia, Raspberry, Pawpaw, Blackberry, Strawberry',\n",
       " 'Multiple fruit\\tFig, Osage orange, Mulberry, Pineapple',\n",
       " 'True berry\\tBanana, Blackcurrant, Blueberry, Chili pepper, Cranberry, Eggplant, Gooseberry,',\n",
       " 'Grape, Guava, Kiwifruit, Lucuma, Pomegranate, Redcurrant, Tomato, Watermelon',\n",
       " 'True berry: Pepo\\tCucumber, Gourd, Melon, Pumpkin',\n",
       " 'True berry: Hesperidium\\tGrapefruit, Lemon, Lime, Orange',\n",
       " 'Accessory fruit\\tApple, Rose hip, Stone fruit, Pineapple, Blackberry, Strawberry',\n",
       " 'Seedless fruits',\n",
       " 'The fruit of a pineapple includes tissue from the sepals as well as the pistils of many flowers. It is a multiple-accessory fruit.',\n",
       " 'Seedlessness is an important feature of some fruits of commerce. Commercial cultivars of bananas and pineapples are examples of seedless fruits. Some cultivars of citrus fruits (especially grapefruit, mandarin oranges, navel oranges), satsumas, table grapes, and of watermelons are valued for their seedlessness. In some species, seedlessness is the result of parthenocarpy, where fruits set without fertilization. Parthenocarpic fruit-set may (or may not) require pollination, but most seedless citrus fruits require a stimulus from pollination to produce fruit.[28] Seedless bananas and grapes are triploids, and seedlessness results from the abortion of the embryonic plant that is produced by fertilization, a phenomenon known as stenospermocarpy, which requires normal pollination and fertilization.[29]',\n",
       " 'Seed dissemination',\n",
       " 'Variations in fruit structures largely depend on the modes of dispersal applied to their seeds. Dispersal is achieved by wind or water, by explosive dehiscence, and by interactions with animals.[30]',\n",
       " 'Some fruits present their outer skins or shells coated with spikes or hooked burrs; these evolved either to deter would-be foragers from feeding on them, or to serve to attach themselves to the hair, feathers, legs, or clothing of animals, thereby using them as dispersal agents. These plants are termed zoochorous; common examples include cocklebur, unicorn plant, and beggarticks (or Spanish needle).[31][32]',\n",
       " 'By developments of mutual evolution the fleshy produce of fruits typically appeals to hungry animals, such that the seeds contained within are taken in, carried away and later deposited (i.e., defecated) at a distance from the parent plant. Likewise, the nutritious, oily kernels of nuts typically motivate birds and squirrels to hoard them, burying them in soil to retrieve later during the winter of scarcity; thereby, uneaten seeds are sown effectively under natural conditions to germinate and grow a new plant some distance away from the parent.[4]',\n",
       " 'Other fruits have evolved flattened and elongated wings or helicopter-like blades, e.g., elm, maple, and tuliptree. This mechanism increases dispersal distance away from the parent via wind. Other wind-dispersed fruit have tiny \"parachutes\", e.g., dandelion, milkweed, salsify.[30]',\n",
       " 'Coconut fruits can float thousands of miles in the ocean, thereby spreading their seeds. Other fruits that can disperse via water are nipa palm and screw pine.[30]',\n",
       " 'Some fruits have evolved propulsive mechanisms that fling seeds substantial distances â€”(perhaps up to 100 m in the case of the sandbox tree)â€” via explosive dehiscence or other such mechanisms, (see impatiens and squirting cucumber.[33]',\n",
       " 'Food uses',\n",
       " 'Picking blackberries in Oklahoma',\n",
       " 'A cornucopia of fruits â€”fleshy (simple) fruits from apples to berries to watermelon; dry (simple) fruits including beans and rice, coconuts and carrots; aggregate fruits including strawberries, raspberries, blackberries, pawpaw; multiple fruits such as pineapple, fig, mulberries; (see above re all)â€” are commercially valuable as human food. They are eaten both fresh and as jams, marmalade and other fruit preserves. They are used extensively in manufactured and processed foods (cakes, cookies, baked goods, flavorings, ice cream, yogurt, canned vegetables, frozen vegetables and meals) and beverages such as fruit juices and alcoholic beverages (brandy, fruit beer, wine).[34] Spices like vanilla, black pepper, paprika, and allspice are derived from berries. Olive fruit is pressed for olive oil and similar processing is applied to other oil bearing fruits/vegetables.[35]',\n",
       " 'Fruits are also used for socializing and gift-giving in the form of fruit baskets and fruit bouquets.[36][37]',\n",
       " 'Typically, many botanical fruits â€”\"vegetables\" in culinary parlanceâ€” (including tomato, green beans, leaf greens, bell pepper, cucumber, eggplant, okra, pumpkin, squash, zucchini) are bought and sold daily in fresh produce markets and greengroceries and carried back to kitchens, at home or restaurant, for preparation of meals.[38]',\n",
       " 'Storage',\n",
       " 'All fruits benefit from proper post harvest care, and in many fruits, the plant hormone ethylene causes ripening. Therefore, maintaining most fruits in an efficient cold chain is optimal for post harvest storage, with the aim of extending and ensuring shelf life.[39]',\n",
       " 'Nutritional value',\n",
       " 'Comparing fresh fruits for fiber, potassium (K), and vitamin C.[citation needed] Each disk-point refers to a 100 g serving of the fresh fruit named. The size of the disk represents the amount of fiber (as percentage of the recommended daily allowance, RDA) in a serving of fruit (see key at upper right). The amount of vitamin C (as percent RDA) is plotted on the xâ€“axis and the amount of potassium (K), in mg on the yâ€“axis. + Bananas are high in value for fiber and potassium, and oranges for fiber and vitamin C. (Apricots are highest in potassium; strawberries are rich in vitamin C.) Watermelon, providing low levels of both K and vitamin C and almost no fiber, is of least value for the three nutrients together.',\n",
       " 'Various culinary fruits provide significant amounts of fiber and water, and many are generally high in vitamin C.[40] An overview of numerous studies showed that fruits (e.g., whole apples or whole oranges) are satisfying (filling) by simply eating and chewing them.[41]',\n",
       " 'The dietary fiber consumed in eating fruit promotes satiety, and may help to control body weight and aid reduction of blood cholesterol, a risk factor for cardiovascular diseases.[42] Fruit consumption is under preliminary research for the potential to improve nutrition and affect chronic diseases.[43][44] Regular consumption of fruit is generally associated with reduced risks of several diseases and functional declines associated with aging.[45][46][47]',\n",
       " 'Food safety',\n",
       " 'For food safety, the CDC recommends proper fruit handling and preparation to reduce the risk of food contamination and foodborne illness. Fresh fruits and vegetables should be carefully selected; at the store, they should not be damaged or bruised; and precut pieces should be refrigerated or surrounded by ice.',\n",
       " 'All fruits and vegetables should be rinsed before eating. This recommendation also applies to produce with rinds or skins that are not eaten. It should be done just before preparing or eating to avoid premature spoilage.',\n",
       " 'Fruits and vegetables should be kept separate from raw foods like meat, poultry, and seafood, as well as from utensils that have come in contact with raw foods. Fruits and vegetables that are not going to be cooked should be thrown away if they have touched raw meat, poultry, seafood, or eggs.',\n",
       " 'All cut, peeled, or cooked fruits and vegetables should be refrigerated within two hours. After a certain time, harmful bacteria may grow on them and increase the risk of foodborne illness.[48]',\n",
       " 'Allergies',\n",
       " 'Fruit allergies make up about 10 percent of all food related allergies.[49][50]',\n",
       " 'Nonfood uses',\n",
       " 'This section needs additional citations for verification. Please help improve this article by adding citations to reliable sources. Unsourced material may be challenged and removed. (January 2021) (Learn how and when to remove this template message)',\n",
       " 'Because fruits have been such a major part of the human diet, various cultures have developed many different uses for fruits they do not depend on for food. For example:',\n",
       " 'Porcelain vine is usually planted for its showy, colourful berries.[51]',\n",
       " 'Bayberry fruits provide a wax often used to make candles;[52]',\n",
       " 'Many dry fruits are used as decorations or in dried flower arrangements (e.g., annual honesty, cotoneaster, lotus, milkweed, unicorn plant, and wheat). Ornamental trees and shrubs are often cultivated for their colorful fruits, including beautyberry, cotoneaster, holly, pyracantha, skimmia, and viburnum.[53]',\n",
       " 'Fruits of opium poppy are the source of opium, which contains the drugs codeine and morphine, as well as the biologically inactive chemical theabaine from which the drug oxycodone is synthesized.[54]',\n",
       " 'Osage orange fruits are used to repel cockroaches.[55]',\n",
       " 'Many fruits provide natural dyes (e.g., cherry, mulberry, sumac, and walnut).[56]',\n",
       " 'Dried gourds are used as bird houses, cups, decorations, dishes, musical instruments, and water jugs.',\n",
       " \"Pumpkins are carved into Jack-o'-lanterns for Halloween.\",\n",
       " 'The spiny fruit of burdock or cocklebur inspired the invention of Velcro.[57]',\n",
       " 'Coir fiber from coconut shells is used for brushes, doormats, floor tiles, insulation, mattresses, sacking, and as a growing medium for container plants. The shell of the coconut fruit is used to make bird houses, bowls, cups, musical instruments, and souvenir heads.[58]',\n",
       " 'Fruit is often a subject of still life paintings.',\n",
       " 'See also',\n",
       " 'icon\\tFood portal',\n",
       " 'icon\\tPlants portal',\n",
       " 'Fruit tree',\n",
       " 'Fruitarianism',\n",
       " 'List of countries by fruit production',\n",
       " 'List of culinary fruits',\n",
       " 'List of foods',\n",
       " 'List of fruit dishes',\n",
       " 'References',\n",
       " 'Lewis, Robert A. (2002). CRC Dictionary of Agricultural Sciences. CRC Press. ISBN 978-0-8493-2327-0.',\n",
       " 'Schlegel, Rolf H J (2003). Encyclopedic Dictionary of Plant Breeding and Related Subjects. Haworth Press. p. 177. ISBN 978-1-56022-950-6.',\n",
       " 'Mauseth, James D. (2003). Botany: An Introduction to Plant Biology. Jones and Bartlett. pp. 271â€“72. ISBN 978-0-7637-2134-3.',\n",
       " 'McGee, Harold (2004). On Food and Cooking: The Science and Lore of the Kitchen. Simon & Schuster. pp. 247â€“48. ISBN 978-0-684-80001-1.',\n",
       " 'For a Supreme Court of the United States ruling on the matter, see Nix v. Hedden.',\n",
       " 'McGee (2004). On Food and Cooking. p. 367. ISBN 978-0-684-80001-1.',\n",
       " 'Lewis (2002). CRC Dictionary of Agricultural Sciences. p. 238. ISBN 978-0-8493-2327-0.',\n",
       " '\"Glossary of Botanical Terms\". FloraBase. Western Australian Herbarium. Archived from the original on 8 October 2014. Retrieved 23 July 2014.',\n",
       " 'Esau, K. 1977. Anatomy of seed plants. John Wiley and Sons, New York.',\n",
       " '[1] Archived December 20, 2010, at the Wayback Machine',\n",
       " 'Mauseth, James D. (2003). Botany: an introduction to plant biology. Boston: Jones and Bartlett Publishers. p. 258. ISBN 978-0-7637-2134-3.',\n",
       " 'Rost, Thomas L.; Weier, T. Elliot; Weier, Thomas Elliot (1979). Botany: a brief introduction to plant biology. New York: Wiley. pp. 135â€“37. ISBN 978-0-471-02114-8.',\n",
       " 'Mauseth (2003). Botany. Chapter 9: Flowers and Reproduction. ISBN 978-0-7637-2134-3.',\n",
       " 'Singh, Gurcharan (2004). Plants Systematics: An Integrated Approach. Science Publishers. p. 83. ISBN 978-1-57808-351-0.',\n",
       " '\"Sporophore from EncyclopÃ¦dia Britannica\". Archived from the original on 2011-02-22.',\n",
       " 'Schlegel (2003). Encyclopedic Dictionary. p. 16. ISBN 978-1-56022-950-6.',\n",
       " 'Schlegel (2003). Encyclopedic Dictionary. p. 123. ISBN 978-1-56022-950-6.',\n",
       " 'Evolutionary trends in flowering plants. New York: Columbia University Press. 1991. p. 209. ISBN 978-0-231-07328-8.',\n",
       " 'Sinha, Nirmal; Sidhu, Jiwan; Barta, Jozsef; Wu, James; Cano, M. Pilar (2012). Handbook of Fruits and Fruit Processing. John Wiley & Sons. ISBN 978-1-118-35263-2.',\n",
       " 'Mark Abadi (26 May 2018). \"A tomato is actually a fruit â€” but it\\'s a vegetable at the same time\". Business Insider. Retrieved 21 November 2019.',\n",
       " 'Smith, James P. (1977). Vascular Plant Families. Eureka, Calif.: Mad River Press. ISBN 978-0-916422-07-3.',\n",
       " 'Esau, K. (1977). Anatomy of seed plants. John Wiley and Sons, New York. ISBN 0-471-24520-8',\n",
       " 'Gupta, Prof. P.K. (2007). Genetics Classical To Modern. Rastogi Publication. pp. 2â€“134. ISBN 978-81-7133-896-2.',\n",
       " '\"Rgukt.in\" (PDF). www.rkv.rgukt.in.',\n",
       " 'McGee (2004). On Food and Cooking. pp. 361â€“62. ISBN 978-0-684-80001-1.',\n",
       " 'McGee (2004). On Food and Cooking. pp. 364â€“65. ISBN 978-0-684-80001-1.',\n",
       " 'Schlegel (2003). Encyclopedic Dictionary. p. 282. ISBN 978-1-56022-950-6.',\n",
       " 'Agusti, Manuel; Primo-Millo, Eduardo (2020). The Genus Citrus. Woodhead Publishing. pp. 219â€“244. ISBN 978-0-12-812163-4.',\n",
       " 'Spiegel-Roy, P.; E.E. Goldschmidt (1996). The Biology of Citrus. Cambridge University Press. pp. 87â€“88. ISBN 978-0-521-33321-4.',\n",
       " 'Capon, Brian (2005). Botany for Gardeners. Timber Press. pp. 198â€“99. ISBN 978-0-88192-655-2.',\n",
       " 'Heiser, Charles B. (2003). Weeds in My Garden: Observations on Some Misunderstood Plants. Timber Press. pp. 93â€“95. ISBN 978-0-88192-562-3.',\n",
       " 'Heiser (2003). Weeds in My Garden. pp. 162â€“64. ISBN 978-0-88192-562-3.',\n",
       " 'Feldkamp, Susan (2002). Modern Biology. Holt, Rinehart, and Winston. p. 634. ISBN 978-0-88192-562-3.',\n",
       " 'McGee (2004). On Food and Cooking. Chapter 7: A Survey of Common Fruits. ISBN 978-0-684-80001-1.',\n",
       " 'Farrell, Kenneth T. (1999). Spices, Condiments and Seasonings. Springer. pp. 17â€“19. ISBN 978-0-8342-1337-1.',\n",
       " '\"Best Gift Baskets for the Holidays - Consumer Reports\". www.consumerreports.org. Retrieved 2021-03-13.',\n",
       " 'O\\'Connor, Clare. \"How Edible Arrangements Sold $500 Million Of Fruit Bouquets In 2013\". Forbes. Retrieved 2021-03-13.[dead link]',\n",
       " 'McGee (2004). On Food and Cooking. Chapter 6: A Survey of Common Vegetables. ISBN 978-0-684-80001-1.',\n",
       " 'Why Cold Chain for Fruits: Kohli, Pawanexh (2008). \"Fruits and Vegetables Post-Harvest Care: The Basics\". Crosstree Techno-visors. Archived from the original (PDF) on 2016-12-04. Retrieved 2009-09-28.',\n",
       " 'Hulme AC (1970). The Biochemistry of Fruits and Their Products. London & New York: Academic Press.',\n",
       " 'Holt, S. H.; Miller, J. C.; Petocz, P.; Farmakalidis, E. (September 1995). \"A satiety index of common foods\". European Journal of Clinical Nutrition. 49 (9): 675â€“690. ISSN 0954-3007. PMID 7498104.',\n",
       " 'Brown, L.; Rosner, B.; Willett, W. W.; Sacks, F. M. (January 1999). \"Cholesterol-lowering effects of dietary fiber: a meta-analysis\". The American Journal of Clinical Nutrition. 69 (1): 30â€“42. doi:10.1093/ajcn/69.1.30. ISSN 0002-9165. PMID 9925120.',\n",
       " 'Aune D, Giovannucci E, Boffetta P, Fadnes LT, Keum N, Norat T, Greenwood DC, Riboli E, Vatten LJ, Tonstad S. (2017). \"Fruit and vegetable intake and the risk of cardiovascular disease\". International Journal of Epidemiology. 46 (3): 1029â€“1056. doi:10.1093/ije/dyw319. PMC 5837313. PMID 28338764.',\n",
       " 'Angelino D, Godos J, Ghelfi F, Tieri M, Titta L, Lafranconi A, Marventano S, Alonzo E, Gambera A, Sciacca S, Buscemi S, Ray S, Galvano F, Del Rio D, Grosso G. (2019). \"Fruit and vegetable consumption and health outcomes: an umbrella review of observational studies\". International Journal of Food Sciences and Nutrition. 70 (6): 652â€“667. doi:10.1080/09637486.2019.1571021. PMID 30764679. S2CID 73455999.',\n",
       " 'Lim, Stephen S.; Vos, Theo; Flaxman, Abraham D.; Danaei, Goodarz; Shibuya, Kenji; Adair-Rohani, Heather; Amann, Markus; Anderson, H. Ross; Andrews, Kathryn G. (2012-12-15). \"A comparative risk assessment of burden of disease and injury attributable to 67 risk factors and risk factor clusters in 21 regions, 1990-2010: a systematic analysis for the Global Burden of Disease Study 2010\". Lancet. 380 (9859): 2224â€“60. doi:10.1016/S0140-6736(12)61766-8. ISSN 1474-547X. PMC 4156511. PMID 23245609.',\n",
       " 'Wang X, Ouyang Y, Liu J, Zhu M, Zhao G, Bao W, Hu FB (2014). \"Fruit and vegetable consumption and mortality from all causes, cardiovascular disease, and cancer: systematic review and dose-response meta-analysis of prospective cohort studies\". BMJ. 349 (Jul 29): g4490. doi:10.1136/bmj.g4490. PMC 4115152. PMID 25073782.',\n",
       " 'Yip, Cynthia Sau Chun; Chan, Wendy; Fielding, Richard (March 2019). \"The Associations of Fruit and Vegetable Intakes with Burden of Diseases: A Systematic Review of Meta-Analyses\". Journal of the Academy of Nutrition and Dietetics. 119 (3): 464â€“481. doi:10.1016/j.jand.2018.11.007. ISSN 2212-2672. PMID 30639206. S2CID 58628014.',\n",
       " '\"Nutrition for Everyone: Fruits and Vegetables â€“ DNPAO â€“ CDC\". fruitsandveggiesmatter.gov. Archived from the original on 2009-05-09.',\n",
       " '\"Asthma and Allergy Foundation of America\". Aafa.org. Archived from the original on 2012-10-06. Retrieved 2014-04-25.',\n",
       " 'Roy Mankovitz (2010). The Wellness Project. ISBN 978-0-9801584-4-1. Retrieved 2014-04-25.',\n",
       " '\"Porcelain vine\". The Morton Arboretum. Archived from the original on 2020-12-25. Retrieved 2020-11-24.',\n",
       " 'K, Amber (December 1, 2001). Candlemas: Feast of Flames. Llewellyn Worldwide. p. 155. ISBN 978-0-7387-0079-3.',\n",
       " 'Adams, Denise Wiles (2004). Restoring American Gardens: An Encyclopedia of Heirloom Ornamental Plants, 1640â€“1940. Timber Press. ISBN 978-0-88192-619-4.',\n",
       " \"Booth, Martin (1999). Opium: A History. St. Martin's Press. ISBN 978-0-312-20667-3.\",\n",
       " 'Cothran, James R. (2003). Gardens and Historic Plants of the Antebellum South. University of South Carolina Press. p. 221. ISBN 978-1-57003-501-2.',\n",
       " 'Adrosko, Rita J. (1971). Natural Dyes and Home Dyeing: A Practical Guide with over 150 Recipes. Courier Dover Publications. ISBN 978-0-486-22688-0.',\n",
       " 'Wake, Warren (2000). Design Paradigms: A Sourcebook for Creative Visualization. John Wiley and Sons. pp. 162â€“63. ISBN 978-0-471-29976-9.',\n",
       " '\"The Many Uses of the Coconut\". The Coconut Museum. Archived from the original on 2006-09-06. Retrieved 2006-09-14.',\n",
       " 'Further reading',\n",
       " 'Gollner, Adam J. (2010). The Fruit Hunters: A Story of Nature, Adventure, Commerce, and Obsession. Scribner. ISBN 978-0-7432-9695-3',\n",
       " 'Watson, R. R., and Preedy, V.R. (2010, eds.). Bioactive Foods in Promoting Health: Fruits and Vegetables. Academic Press. ISBN 978-0-12-374628-3',\n",
       " 'External links',\n",
       " 'Images of fruit development from flowers at bioimages.Vanderbilt.edu',\n",
       " 'Fruit and seed dispersal images at bioimages.Vanderbilt.edu',\n",
       " 'Fruit Facts Archived 2020-07-12 at the Wayback Machine from California Rare Fruit Growers, Inc.',\n",
       " 'Photo ID of Fruits Archived 2021-01-09 at the Wayback Machine by Capt. Pawanexh Kohli',\n",
       " '\"Fruit\" . EncyclopÃ¦dia Britannica (11th ed.). 1911.',\n",
       " \"Fruit at Wikipedia's sister projects:\",\n",
       " 'Definitions from Wiktionary',\n",
       " 'Media from Commons',\n",
       " 'Quotations from Wikiquote',\n",
       " 'Recipes from Wikibooks',\n",
       " 'vte',\n",
       " 'Types of fruits',\n",
       " 'vte',\n",
       " 'Botany',\n",
       " 'vte',\n",
       " 'Lists of countries by agricultural output rankings',\n",
       " 'vte',\n",
       " 'Veganism and vegetarianism',\n",
       " 'Authority control: National libraries Edit this at Wikidata',\n",
       " 'GermanyJapanCzech Republic',\n",
       " 'Categories: FruitPollination']"
      ]
     },
     "execution_count": 46,
     "metadata": {},
     "output_type": "execute_result"
    }
   ],
   "source": [
    "text"
   ]
  },
  {
   "cell_type": "code",
   "execution_count": 52,
   "metadata": {},
   "outputs": [
    {
     "name": "stdout",
     "output_type": "stream",
     "text": [
      "20\n",
      "Fruits are the means by which flowering plants (also known as angiosperms) disseminate their seeds. Edible fruits in particular have long propagated using the movements of humans and animals in a symbiotic relationship that is the means for seed dispersal for the one group and nutrition for the other; in fact, humans and many animals have become dependent on fruits as a source of food.[1] Consequently, fruits account for a substantial fraction of the world's agricultural output, and some (such as the apple and the pomegranate) have acquired extensive cultural and symbolic meanings. \n",
      "\n",
      "In common language usage, \"fruit\" normally means the seed-associated fleshy structures (or produce) of plants that typically are sweet or sour and edible in the raw state, such as apples, bananas, grapes, lemons, oranges, and strawberries. In botanical usage, the term \"fruit\" also includes many structures that are not commonly called \"fruits\" in everyday language, such as nuts, bean pods, corn kernels, tomatoes, and wheat grains.[2][3] \n",
      "\n",
      "Many common language terms used for fruit and seeds differ from botanical classifications. For example, in botany, a fruit is a ripened ovary or carpel that contains seeds; e.g., an apple, pomegranate, tomato or a pumpkin. A nut is a type of fruit (and not a seed), and a seed is a ripened ovule.[4] \n",
      "\n",
      "As the ovules develop into seeds, the ovary begins to ripen and the ovary wall, the pericarp, may become fleshy (as in berries or drupes), or it may form a hard outer covering (as in nuts). In some multiseeded fruits, the extent to which a fleshy structure develops is proportional to the number of fertilized ovules.[13] The pericarp typically is differentiated into two or three distinct layers; these are called the exocarp (outer layer, also called epicarp), mesocarp (middle layer), and endocarp (inner layer) â€”(see image of apple-section). \n",
      "\n",
      "In some fruits the sepals, petals, stamens and/or the style of the flower fall away as the fleshy fruit ripens. However, for simple fruits derived from an inferior ovary â€”i.e., one that lies below the attachment of other floral parts, (see graphic re 'insertion point')â€” there are parts (including petals, sepals, and stamens) that fuse with the ovary and ripen with it. For such a case, when floral parts other than the ovary form a significant part of the fruit that develops, it is called an accessory fruit. Examples of accessory fruits include apple, rose hip, strawberry, pineapple; see below, and \"Table of fleshy fruit examples\". \n",
      "\n",
      "An apple is a simple fleshy fruit. Key parts are the epicarp, or exocarp, or outer skin, (not labelled); and the mezocarp and endocarp (labelled). \n",
      "\n",
      "An apple is a simple fleshy fruit. Key parts are the epicarp, or exocarp, or outer skin, (not labelled); and the mezocarp and endocarp (labelled). \n",
      "\n",
      "pome â€“ The pome fruits: apples, pears, rosehips, saskatoon berry, et al., are a syncarpous (fused) fleshy fruit, a simple fruit, developing from a half-inferior ovary, see graphic re 'Insertion point'.[18] Pomes are of the family Rosaceae, \n",
      "\n",
      "A multiple fruit is formed from a cluster of flowers, (a 'multiple' of flowers) â€”also called an inflorescence. Each ('smallish') flower produces a single fruitlet, which, as all develop, all merge into one mass of fruit.[27] Examples include pineapple, fig, mulberry, Osage orange, breadfruit. An inflorescence (a cluster) of white flowers, called a head, is produced first. After fertilization, each flower in the cluster develops into a drupe; as the drupes expand, they develop as a connate organ, merging into a multiple fleshy fruit called a syncarp. \n",
      "\n",
      "Fruits may incorporate tissues derived from other floral parts besides the ovary, including the receptacle, hypanthium, petals, or sepals. Accessory fruits occur in all three classes of fruit developmentâ€”simple, aggregate, and multiple. Accessory fruits are frequently designated by the hyphenated term showing both characters. For example, a pineapple is a multiple-accessory fruit. a blackberry is an aggregate-accessory fruit, and an apple is a simple-accessory fruit. \n",
      "\n",
      "Multiple fruit\tFig, Osage orange, Mulberry, Pineapple \n",
      "\n",
      "Accessory fruit\tApple, Rose hip, Stone fruit, Pineapple, Blackberry, Strawberry \n",
      "\n",
      "The fruit of a pineapple includes tissue from the sepals as well as the pistils of many flowers. It is a multiple-accessory fruit. \n",
      "\n",
      "Seedlessness is an important feature of some fruits of commerce. Commercial cultivars of bananas and pineapples are examples of seedless fruits. Some cultivars of citrus fruits (especially grapefruit, mandarin oranges, navel oranges), satsumas, table grapes, and of watermelons are valued for their seedlessness. In some species, seedlessness is the result of parthenocarpy, where fruits set without fertilization. Parthenocarpic fruit-set may (or may not) require pollination, but most seedless citrus fruits require a stimulus from pollination to produce fruit.[28] Seedless bananas and grapes are triploids, and seedlessness results from the abortion of the embryonic plant that is produced by fertilization, a phenomenon known as stenospermocarpy, which requires normal pollination and fertilization.[29] \n",
      "\n",
      "A cornucopia of fruits â€”fleshy (simple) fruits from apples to berries to watermelon; dry (simple) fruits including beans and rice, coconuts and carrots; aggregate fruits including strawberries, raspberries, blackberries, pawpaw; multiple fruits such as pineapple, fig, mulberries; (see above re all)â€” are commercially valuable as human food. They are eaten both fresh and as jams, marmalade and other fruit preserves. They are used extensively in manufactured and processed foods (cakes, cookies, baked goods, flavorings, ice cream, yogurt, canned vegetables, frozen vegetables and meals) and beverages such as fruit juices and alcoholic beverages (brandy, fruit beer, wine).[34] Spices like vanilla, black pepper, paprika, and allspice are derived from berries. Olive fruit is pressed for olive oil and similar processing is applied to other oil bearing fruits/vegetables.[35] \n",
      "\n",
      "Various culinary fruits provide significant amounts of fiber and water, and many are generally high in vitamin C.[40] An overview of numerous studies showed that fruits (e.g., whole apples or whole oranges) are satisfying (filling) by simply eating and chewing them.[41] \n",
      "\n"
     ]
    }
   ],
   "source": [
    "# count total number of \"apple\"s\n",
    "# save any string containing \"apple\" and return it as a list\n",
    "\n",
    "alltheapples = 0\n",
    "applelist = []\n",
    "\n",
    "for t in text:\n",
    "    \n",
    "    alltheapples += countapples(t)\n",
    "    \n",
    "    if countapples(t) > 0:\n",
    "        # print(t)\n",
    "        applelist.append(t)\n",
    "\n",
    "        \n",
    "print(alltheapples)\n",
    "\n",
    "for a in applelist:\n",
    "    print(a,\"\\n\")\n",
    "    "
   ]
  },
  {
   "cell_type": "code",
   "execution_count": null,
   "metadata": {},
   "outputs": [],
   "source": []
  },
  {
   "cell_type": "code",
   "execution_count": null,
   "metadata": {},
   "outputs": [],
   "source": []
  },
  {
   "cell_type": "markdown",
   "metadata": {},
   "source": [
    "#### 3. multiple return values, key value input"
   ]
  },
  {
   "cell_type": "code",
   "execution_count": 77,
   "metadata": {},
   "outputs": [],
   "source": [
    "# define a new function that counts multiple kinds of fruit\n",
    "\n",
    "fruitcount = {\"apple\":0,\"orange\":0,\"grape\":0,\"melon\":0,\"pear\":0}"
   ]
  },
  {
   "cell_type": "code",
   "execution_count": 72,
   "metadata": {},
   "outputs": [
    {
     "data": {
      "text/plain": [
       "{'apple': 0, 'orange': 0, 'grape': 0, 'melon': 0, 'pear': 0}"
      ]
     },
     "execution_count": 72,
     "metadata": {},
     "output_type": "execute_result"
    }
   ],
   "source": [
    "fruitcount"
   ]
  },
  {
   "cell_type": "code",
   "execution_count": 73,
   "metadata": {},
   "outputs": [
    {
     "data": {
      "text/plain": [
       "'Apples are so delicious! I love apples!'"
      ]
     },
     "execution_count": 73,
     "metadata": {},
     "output_type": "execute_result"
    }
   ],
   "source": [
    "sentence"
   ]
  },
  {
   "cell_type": "code",
   "execution_count": 74,
   "metadata": {},
   "outputs": [],
   "source": [
    "# sloppy implementation\n",
    "\n",
    "def countfruit(s):\n",
    "    \n",
    "    for f in fruitcount.keys():\n",
    "        fruitcount[f] += s.lower().count(f)\n",
    "          "
   ]
  },
  {
   "cell_type": "code",
   "execution_count": 75,
   "metadata": {},
   "outputs": [],
   "source": [
    "countfruit(sentence)"
   ]
  },
  {
   "cell_type": "code",
   "execution_count": 76,
   "metadata": {},
   "outputs": [
    {
     "data": {
      "text/plain": [
       "{'apple': 2, 'orange': 0, 'grape': 0, 'melon': 0, 'pear': 0}"
      ]
     },
     "execution_count": 76,
     "metadata": {},
     "output_type": "execute_result"
    }
   ],
   "source": [
    "fruitcount"
   ]
  },
  {
   "cell_type": "code",
   "execution_count": 86,
   "metadata": {},
   "outputs": [],
   "source": [
    "# clean implementation\n",
    "\n",
    "fruitcount = {\"apple\":0,\"orange\":0,\"grape\":0,\"melon\":0,\"pear\":0}\n",
    "\n",
    "def countfruit3(s,fdict):\n",
    "    \n",
    "    for f in fdict.keys():\n",
    "        fdict[f] += s.lower().count(f)\n",
    "        \n",
    "    \n",
    "    \n",
    "    \n",
    "    \n",
    "    \n",
    "    \n",
    "    \n",
    "    \n",
    "        \n",
    "    return fdict"
   ]
  },
  {
   "cell_type": "code",
   "execution_count": 87,
   "metadata": {},
   "outputs": [
    {
     "ename": "TypeError",
     "evalue": "countfruit3() missing 1 required positional argument: 'fdict'",
     "output_type": "error",
     "traceback": [
      "\u001b[1;31m---------------------------------------------------------------------------\u001b[0m",
      "\u001b[1;31mTypeError\u001b[0m                                 Traceback (most recent call last)",
      "\u001b[1;32m<ipython-input-87-b97cb2702268>\u001b[0m in \u001b[0;36m<module>\u001b[1;34m\u001b[0m\n\u001b[0;32m      1\u001b[0m \u001b[1;31m# missing second argument\u001b[0m\u001b[1;33m\u001b[0m\u001b[1;33m\u001b[0m\u001b[1;33m\u001b[0m\u001b[0m\n\u001b[0;32m      2\u001b[0m \u001b[1;33m\u001b[0m\u001b[0m\n\u001b[1;32m----> 3\u001b[1;33m \u001b[0mcountfruit3\u001b[0m\u001b[1;33m(\u001b[0m\u001b[0msentence\u001b[0m\u001b[1;33m)\u001b[0m\u001b[1;33m\u001b[0m\u001b[1;33m\u001b[0m\u001b[0m\n\u001b[0m",
      "\u001b[1;31mTypeError\u001b[0m: countfruit3() missing 1 required positional argument: 'fdict'"
     ]
    }
   ],
   "source": [
    "# missing second argument\n",
    "\n",
    "countfruit3(sentence)"
   ]
  },
  {
   "cell_type": "code",
   "execution_count": 88,
   "metadata": {},
   "outputs": [
    {
     "data": {
      "text/plain": [
       "{'apple': 2, 'orange': 0, 'grape': 0, 'melon': 0, 'pear': 0}"
      ]
     },
     "execution_count": 88,
     "metadata": {},
     "output_type": "execute_result"
    }
   ],
   "source": [
    "countfruit3(sentence,fruitcount)"
   ]
  },
  {
   "cell_type": "code",
   "execution_count": 89,
   "metadata": {},
   "outputs": [
    {
     "data": {
      "text/plain": [
       "{'apple': 2, 'orange': 0, 'grape': 0, 'melon': 0, 'pear': 0}"
      ]
     },
     "execution_count": 89,
     "metadata": {},
     "output_type": "execute_result"
    }
   ],
   "source": [
    "fruitcount"
   ]
  },
  {
   "cell_type": "markdown",
   "metadata": {},
   "source": [
    "#### 4. Nest for loop in a larger function - whose arg is text"
   ]
  },
  {
   "cell_type": "code",
   "execution_count": 103,
   "metadata": {},
   "outputs": [],
   "source": [
    "def count_fruit_in_text(t,fruitcount):\n",
    "\n",
    "    fruitcount = {\"apple\":0,\"orange\":0,\"grape\":0,\"melon\":0,\"pear\":0}\n",
    "\n",
    "    for line in t:\n",
    "        \n",
    "        fruitcount = countfruit3(line,fruitcount)\n",
    "\n",
    "    return fruitcount"
   ]
  },
  {
   "cell_type": "code",
   "execution_count": 104,
   "metadata": {},
   "outputs": [
    {
     "data": {
      "text/plain": [
       "{'apple': 20, 'orange': 9, 'grape': 8, 'melon': 6, 'pear': 5}"
      ]
     },
     "execution_count": 104,
     "metadata": {},
     "output_type": "execute_result"
    }
   ],
   "source": [
    "count_fruit_in_text(text,fruitcount)"
   ]
  },
  {
   "cell_type": "code",
   "execution_count": null,
   "metadata": {},
   "outputs": [],
   "source": []
  }
 ],
 "metadata": {
  "kernelspec": {
   "display_name": "Python 3",
   "language": "python",
   "name": "python3"
  },
  "language_info": {
   "codemirror_mode": {
    "name": "ipython",
    "version": 3
   },
   "file_extension": ".py",
   "mimetype": "text/x-python",
   "name": "python",
   "nbconvert_exporter": "python",
   "pygments_lexer": "ipython3",
   "version": "3.7.3"
  }
 },
 "nbformat": 4,
 "nbformat_minor": 4
}
