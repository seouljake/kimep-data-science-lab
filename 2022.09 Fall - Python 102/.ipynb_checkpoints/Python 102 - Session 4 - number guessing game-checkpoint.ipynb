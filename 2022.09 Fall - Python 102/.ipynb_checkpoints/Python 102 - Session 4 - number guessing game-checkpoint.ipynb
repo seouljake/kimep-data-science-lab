{
 "cells": [
  {
   "cell_type": "markdown",
   "metadata": {},
   "source": [
    "# Python 102 Tutorial Outline\n",
    "- Session 1 - basic functions\n",
    "- Session 2 - search & sort\n",
    "- Session 3 - classes & objects\n",
    "- Session 4 - number guessing game: object state & recursion\n",
    "- Session 5 - birthday reminder email + Skill Quiz"
   ]
  },
  {
   "cell_type": "markdown",
   "metadata": {},
   "source": [
    "# Session 4\n",
    "\n",
    " - Number Guessing Game: object state and recursion\n",
    " - Tic-Tac-Toe"
   ]
  },
  {
   "cell_type": "markdown",
   "metadata": {},
   "source": [
    "# Number Guessing Game - Object State and Recursion"
   ]
  },
  {
   "cell_type": "code",
   "execution_count": 1,
   "metadata": {},
   "outputs": [],
   "source": [
    "# Number Guessing Game\n",
    "\n",
    "# 1. Player sets upper and lower limit.\n",
    "# 2. The game randomly chooses a secret number between those limits.\n",
    "# 3. The player guesses the number and the game reports whether the guess is correct, too high, or too low.\n",
    "# 4. Game play continues until the player guesses the correct number.\n",
    "# 5. The game asks whether the user would like to play again."
   ]
  },
  {
   "cell_type": "code",
   "execution_count": 2,
   "metadata": {},
   "outputs": [],
   "source": [
    "import random"
   ]
  },
  {
   "cell_type": "code",
   "execution_count": 3,
   "metadata": {},
   "outputs": [],
   "source": [
    "# Step 1 - create a class for the game - with a lower limit, upper limit, and secret number\n",
    "\n",
    "class NumberGame:\n",
    "    \n",
    "    # contants\n",
    "    lower_limit = 1\n",
    "    upper_limit = 100\n",
    "    secret_number = 50\n",
    "    \n",
    "    # class constructor\n",
    "    def __init__(self,lowerlimit,upperlimit):\n",
    "        \n",
    "        if lowerlimit > upperlimit:\n",
    "            print(\"Please make sure your upper limit is larger than your lower limit\")\n",
    "            \n",
    "        else:\n",
    "            self.lower_limit = lowerlimit\n",
    "            self.upper_limit = upperlimit\n",
    "            self.secret_number = random.randint(self.lower_limit,self.upper_limit)\n",
    "\n",
    "    # methods\n"
   ]
  },
  {
   "cell_type": "code",
   "execution_count": 4,
   "metadata": {},
   "outputs": [],
   "source": [
    "game = NumberGame(1,10)"
   ]
  },
  {
   "cell_type": "code",
   "execution_count": 5,
   "metadata": {},
   "outputs": [
    {
     "name": "stdout",
     "output_type": "stream",
     "text": [
      "lower limit: 1\n",
      "upper limit: 10\n",
      "secret number: 4\n"
     ]
    }
   ],
   "source": [
    "print(\"lower limit:\",game.lower_limit)\n",
    "print(\"upper limit:\",game.upper_limit)\n",
    "print(\"secret number:\",game.secret_number)"
   ]
  },
  {
   "cell_type": "code",
   "execution_count": 6,
   "metadata": {},
   "outputs": [],
   "source": [
    "# Step 2 - class method: compare input to secret number "
   ]
  },
  {
   "cell_type": "code",
   "execution_count": 7,
   "metadata": {},
   "outputs": [],
   "source": [
    "class NumberGame:\n",
    "    \n",
    "    # contants\n",
    "    lower_limit = 1\n",
    "    upper_limit = 100\n",
    "    secret_number = 50\n",
    "    \n",
    "    # class constructor\n",
    "    def __init__(self,lowerlimit,upperlimit):\n",
    "        \n",
    "        if lowerlimit > upperlimit:\n",
    "            print(\"Please make sure your upper limit is larger than your lower limit\")\n",
    "            \n",
    "        else:\n",
    "            self.lower_limit = lowerlimit\n",
    "            self.upper_limit = upperlimit\n",
    "            self.secret_number = random.randint(self.lower_limit,self.upper_limit)\n",
    "\n",
    "    # methods\n",
    "    \n",
    "    def compare_guess_to_secretnumber(self,guess):\n",
    "        \n",
    "        if guess == self.secret_number:\n",
    "            print(\"Congratulations! You guessed the secret number\",self.secret_number,\".\")\n",
    "            \n",
    "        elif guess > self.secret_number:\n",
    "            print(\"Sorry! You guessed too high!\")\n",
    "            \n",
    "        else:\n",
    "            print(\"Sorry! You guessed too low!\")    "
   ]
  },
  {
   "cell_type": "code",
   "execution_count": 8,
   "metadata": {},
   "outputs": [],
   "source": [
    "game = NumberGame(1,10)"
   ]
  },
  {
   "cell_type": "code",
   "execution_count": 9,
   "metadata": {},
   "outputs": [
    {
     "name": "stdout",
     "output_type": "stream",
     "text": [
      "lower limit: 1\n",
      "upper limit: 10\n",
      "secret number: 9\n"
     ]
    }
   ],
   "source": [
    "print(\"lower limit:\",game.lower_limit)\n",
    "print(\"upper limit:\",game.upper_limit)\n",
    "print(\"secret number:\",game.secret_number)"
   ]
  },
  {
   "cell_type": "code",
   "execution_count": 10,
   "metadata": {},
   "outputs": [
    {
     "name": "stdout",
     "output_type": "stream",
     "text": [
      "Sorry! You guessed too high!\n"
     ]
    }
   ],
   "source": [
    "game.compare_guess_to_secretnumber(100)"
   ]
  },
  {
   "cell_type": "code",
   "execution_count": 11,
   "metadata": {},
   "outputs": [],
   "source": [
    "# Step 3 - class method: implement game play"
   ]
  },
  {
   "cell_type": "code",
   "execution_count": 12,
   "metadata": {},
   "outputs": [],
   "source": [
    "# tutorial on user input\n",
    "# https://www.w3schools.com/python/python_user_input.asp"
   ]
  },
  {
   "cell_type": "code",
   "execution_count": 13,
   "metadata": {},
   "outputs": [],
   "source": [
    "class NumberGame:\n",
    "    \n",
    "    # contants\n",
    "    \n",
    "    lower_limit = 1\n",
    "    upper_limit = 100\n",
    "    secret_number = 50\n",
    "    game_on = True\n",
    "    game_round = 0\n",
    "    \n",
    "    \n",
    "    # class constructor\n",
    "    \n",
    "    def __init__(self):\n",
    "        \n",
    "        lowerlimit = input(\"Please enter a lower limit:   \")\n",
    "        upperlimit = input(\"Please enter an upper limit:   \")\n",
    "        \n",
    "        lowerlimit = int(lowerlimit)\n",
    "        upperlimit = int(upperlimit)\n",
    "\n",
    "        print(\"\\nYou have selected a lower limit of:\",lowerlimit)\n",
    "        print(\"And an upper limit of:\",upperlimit)\n",
    "\n",
    "        if lowerlimit > upperlimit:\n",
    "            print(\"Please make sure your upper limit is larger than your lower limit\")\n",
    "            self.game_on = False\n",
    "        else:\n",
    "            self.game_on = True\n",
    "            self.game_round = 0\n",
    "            self.lower_limit = lowerlimit\n",
    "            self.upper_limit = upperlimit\n",
    "            self.secret_number = random.randint(self.lower_limit,self.upper_limit)\n",
    "\n",
    "\n",
    "            \n",
    "    # methods\n",
    "    \n",
    "    def play(self):\n",
    "        \n",
    "        # open the game\n",
    "        \n",
    "        self.game_on = True\n",
    "        self.game_round = 0\n",
    "\n",
    "        print(\"\\nLet's play the Number Guessing Game!\")\n",
    "        print(\"Please choose a number between\",self.lower_limit,\"and\",self.upper_limit,\".\")\n",
    "        \n",
    "        while(self.game_on):\n",
    "            \n",
    "            self.game_on = self.user_guess()  \n",
    "            self.game_round += 1\n",
    "        \n",
    "        print(\"You guessed the secret number in\",self.game_round,\"tries!\")\n",
    "        \n",
    "    \n",
    "    def user_guess(self):\n",
    "        \n",
    "        guess = input(\"\\nPlease guess a number:\")\n",
    "        guess = int(guess)\n",
    "        print(\"You entered\",guess)\n",
    "        \n",
    "        gameon = True\n",
    "        \n",
    "        if guess == self.secret_number:\n",
    "            print(\"\\nCongratulations! You guessed the secret number\",self.secret_number,\".\")\n",
    "            gameon = False\n",
    "            \n",
    "        elif guess > self.secret_number:\n",
    "            print(\"Sorry! You guessed too high!\")\n",
    "            \n",
    "        else:\n",
    "            print(\"Sorry! You guessed too low!\")  \n",
    "            \n",
    "        return gameon\n",
    "        "
   ]
  },
  {
   "cell_type": "code",
   "execution_count": 14,
   "metadata": {},
   "outputs": [
    {
     "name": "stdout",
     "output_type": "stream",
     "text": [
      "Please enter a lower limit:   \n",
      "Please enter an upper limit:   \n"
     ]
    },
    {
     "ename": "ValueError",
     "evalue": "invalid literal for int() with base 10: ''",
     "output_type": "error",
     "traceback": [
      "\u001b[1;31m---------------------------------------------------------------------------\u001b[0m",
      "\u001b[1;31mValueError\u001b[0m                                Traceback (most recent call last)",
      "\u001b[1;32m<ipython-input-14-60ee18d90209>\u001b[0m in \u001b[0;36m<module>\u001b[1;34m\u001b[0m\n\u001b[1;32m----> 1\u001b[1;33m \u001b[0mgame\u001b[0m \u001b[1;33m=\u001b[0m \u001b[0mNumberGame\u001b[0m\u001b[1;33m(\u001b[0m\u001b[1;33m)\u001b[0m\u001b[1;33m\u001b[0m\u001b[1;33m\u001b[0m\u001b[0m\n\u001b[0m",
      "\u001b[1;32m<ipython-input-13-5f0de0e1603c>\u001b[0m in \u001b[0;36m__init__\u001b[1;34m(self)\u001b[0m\n\u001b[0;32m     17\u001b[0m         \u001b[0mupperlimit\u001b[0m \u001b[1;33m=\u001b[0m \u001b[0minput\u001b[0m\u001b[1;33m(\u001b[0m\u001b[1;34m\"Please enter an upper limit:   \"\u001b[0m\u001b[1;33m)\u001b[0m\u001b[1;33m\u001b[0m\u001b[1;33m\u001b[0m\u001b[0m\n\u001b[0;32m     18\u001b[0m \u001b[1;33m\u001b[0m\u001b[0m\n\u001b[1;32m---> 19\u001b[1;33m         \u001b[0mlowerlimit\u001b[0m \u001b[1;33m=\u001b[0m \u001b[0mint\u001b[0m\u001b[1;33m(\u001b[0m\u001b[0mlowerlimit\u001b[0m\u001b[1;33m)\u001b[0m\u001b[1;33m\u001b[0m\u001b[1;33m\u001b[0m\u001b[0m\n\u001b[0m\u001b[0;32m     20\u001b[0m         \u001b[0mupperlimit\u001b[0m \u001b[1;33m=\u001b[0m \u001b[0mint\u001b[0m\u001b[1;33m(\u001b[0m\u001b[0mupperlimit\u001b[0m\u001b[1;33m)\u001b[0m\u001b[1;33m\u001b[0m\u001b[1;33m\u001b[0m\u001b[0m\n\u001b[0;32m     21\u001b[0m \u001b[1;33m\u001b[0m\u001b[0m\n",
      "\u001b[1;31mValueError\u001b[0m: invalid literal for int() with base 10: ''"
     ]
    }
   ],
   "source": [
    "game = NumberGame()"
   ]
  },
  {
   "cell_type": "code",
   "execution_count": null,
   "metadata": {},
   "outputs": [],
   "source": [
    "# game.secret_number"
   ]
  },
  {
   "cell_type": "code",
   "execution_count": null,
   "metadata": {},
   "outputs": [],
   "source": [
    "game.play()"
   ]
  },
  {
   "cell_type": "markdown",
   "metadata": {},
   "source": [
    "# Step 4.1 - we could create an external function to manage game play\n",
    "\n",
    "def play_number_game():\n",
    "    \n",
    "    keep_playing = True\n",
    "    \n",
    "    while(keep_playing):\n",
    "    \n",
    "        game = NumberGame()\n",
    "        game.play()\n",
    "        \n",
    "        wanna_keep_playing = input(\"\\nDo you want to play again? n=No, y=Yes\")\n",
    "        \n",
    "        if wanna_keep_playing == 'y':\n",
    "            keep_playing = True \n",
    "            print(\"\\nAwesome! Let's play again!\")\n",
    "        else:\n",
    "            keep_playing = False\n",
    "            \n",
    "    print(\"\\nCya! Thanks for playing the Number Guessing Game\")\n"
   ]
  },
  {
   "cell_type": "code",
   "execution_count": null,
   "metadata": {},
   "outputs": [],
   "source": [
    "play_number_game()"
   ]
  },
  {
   "cell_type": "code",
   "execution_count": 15,
   "metadata": {},
   "outputs": [],
   "source": [
    "# Step 4.2 - alternatively, we could create a function, replay() to reset game  \n",
    "\n",
    "class NumberGame:\n",
    "    \n",
    "    # contants\n",
    "    \n",
    "    lower_limit = 1\n",
    "    upper_limit = 100\n",
    "    secret_number = 50\n",
    "    \n",
    "    # constants - track state of each game\n",
    "    game_on = True\n",
    "    game_round = 0\n",
    "    \n",
    "    # class constructor\n",
    "    \n",
    "    def __init__(self):\n",
    "        \n",
    "        print(\"\\n===========================================================\")\n",
    "        print(\"Let's play the Number Guessing Game!\")\n",
    "        print(\"===========================================================\")\n",
    "\n",
    "        lowerlimit = input(\"Please enter a lower limit:   \")\n",
    "        upperlimit = input(\"Please enter an upper limit:   \")\n",
    "        \n",
    "        lowerlimit = int(lowerlimit)\n",
    "        upperlimit = int(upperlimit)\n",
    "\n",
    "        print(\"\\nYou have selected a lower limit of:\",lowerlimit)\n",
    "        print(\"And an upper limit of:\",upperlimit)\n",
    "\n",
    "        if lowerlimit > upperlimit:\n",
    "            print(\"Please make sure your upper limit is larger than your lower limit\")\n",
    "            self.game_on = False\n",
    "        else:\n",
    "            self.game_on = True\n",
    "            self.game_round = 0\n",
    "            self.lower_limit = lowerlimit\n",
    "            self.upper_limit = upperlimit\n",
    "            self.secret_number = random.randint(self.lower_limit,self.upper_limit)       \n",
    "            \n",
    "        self.play()\n",
    "\n",
    "            \n",
    "    # methods\n",
    "    \n",
    "    def play(self):\n",
    "        \n",
    "        # open the game\n",
    "        \n",
    "        self.game_on = True\n",
    "        self.game_round = 0\n",
    "\n",
    "        print(\"Please choose a number between\",self.lower_limit,\"and\",self.upper_limit,\".\")\n",
    "        \n",
    "        while(self.game_on):\n",
    "            \n",
    "            self.game_on = self.user_guess()  \n",
    "            self.game_round += 1\n",
    "        \n",
    "        print(\"You guessed the secret number in\",self.game_round,\"tries!\")\n",
    "        \n",
    "        \n",
    "        # play again - call reset() recursively\n",
    "        self.reset()\n",
    "        \n",
    "        \n",
    "    \n",
    "    def user_guess(self):\n",
    "        \n",
    "        guess = input(\"\\nPlease guess a number:\")\n",
    "        guess = int(guess)\n",
    "        print(\"You entered\",guess)\n",
    "        \n",
    "        gameon = True\n",
    "        \n",
    "        if guess == self.secret_number:\n",
    "            print(\"\\nCongratulations! You guessed the secret number\",self.secret_number,\".\")\n",
    "            gameon = False\n",
    "            \n",
    "        elif guess > self.secret_number:\n",
    "            print(\"Sorry! You guessed too high!\")\n",
    "            \n",
    "        else:\n",
    "            print(\"Sorry! You guessed too low!\")  \n",
    "            \n",
    "        return gameon\n",
    "    \n",
    "    \n",
    "    def reset(self):\n",
    "        \n",
    "        wanna_keep_playing = input(\"\\nDo you want to play again? n=No, y=Yes\")\n",
    "        \n",
    "        if wanna_keep_playing != 'y':\n",
    "            print(\"\\nCya! Thanks for playing the Number Guessing Game\")\n",
    "\n",
    "        else:\n",
    "            \n",
    "            print(\"\\n===========================================================\")\n",
    "            print(\"Awesome! Let's play again!\")\n",
    "            print(\"===========================================================\")\n",
    "        \n",
    "            lowerlimit = input(\"Please enter a lower limit:   \")\n",
    "            upperlimit = input(\"Please enter an upper limit:   \")\n",
    "\n",
    "            lowerlimit = int(lowerlimit)\n",
    "            upperlimit = int(upperlimit)\n",
    "\n",
    "            print(\"\\nYou have selected a lower limit of:\",lowerlimit)\n",
    "            print(\"And an upper limit of:\",upperlimit)\n",
    "\n",
    "            if lowerlimit > upperlimit:\n",
    "                print(\"Please make sure your upper limit is larger than your lower limit\")\n",
    "                self.game_on = False\n",
    "            else:\n",
    "                self.game_on = True\n",
    "                self.game_round = 0\n",
    "                self.lower_limit = lowerlimit\n",
    "                self.upper_limit = upperlimit\n",
    "                self.secret_number = random.randint(self.lower_limit,self.upper_limit)  \n",
    "\n",
    "            self.play()"
   ]
  },
  {
   "cell_type": "code",
   "execution_count": 16,
   "metadata": {},
   "outputs": [
    {
     "name": "stdout",
     "output_type": "stream",
     "text": [
      "\n",
      "===========================================================\n",
      "Let's play the Number Guessing Game!\n",
      "===========================================================\n",
      "Please enter a lower limit:   1\n",
      "Please enter an upper limit:   10\n",
      "\n",
      "You have selected a lower limit of: 1\n",
      "And an upper limit of: 10\n",
      "Please choose a number between 1 and 10 .\n",
      "\n",
      "Please guess a number:5\n",
      "You entered 5\n",
      "\n",
      "Congratulations! You guessed the secret number 5 .\n",
      "You guessed the secret number in 1 tries!\n",
      "\n",
      "Do you want to play again? n=No, y=Yesy\n",
      "\n",
      "===========================================================\n",
      "Awesome! Let's play again!\n",
      "===========================================================\n",
      "Please enter a lower limit:   1\n",
      "Please enter an upper limit:   10\n",
      "\n",
      "You have selected a lower limit of: 1\n",
      "And an upper limit of: 10\n",
      "Please choose a number between 1 and 10 .\n",
      "\n",
      "Please guess a number:5\n",
      "You entered 5\n",
      "Sorry! You guessed too low!\n",
      "\n",
      "Please guess a number:6\n",
      "You entered 6\n",
      "Sorry! You guessed too low!\n",
      "\n",
      "Please guess a number:7\n",
      "You entered 7\n",
      "Sorry! You guessed too low!\n",
      "\n",
      "Please guess a number:8\n",
      "You entered 8\n",
      "Sorry! You guessed too low!\n",
      "\n",
      "Please guess a number:9\n",
      "You entered 9\n",
      "\n",
      "Congratulations! You guessed the secret number 9 .\n",
      "You guessed the secret number in 5 tries!\n",
      "\n",
      "Do you want to play again? n=No, y=Yesn\n",
      "\n",
      "Cya! Thanks for playing the Number Guessing Game\n"
     ]
    }
   ],
   "source": [
    "game = NumberGame()"
   ]
  },
  {
   "cell_type": "markdown",
   "metadata": {},
   "source": [
    "# Tic-Tac-Toe"
   ]
  },
  {
   "cell_type": "code",
   "execution_count": null,
   "metadata": {},
   "outputs": [],
   "source": [
    "# Step 1 - create a class for the game"
   ]
  },
  {
   "cell_type": "code",
   "execution_count": null,
   "metadata": {},
   "outputs": [],
   "source": []
  },
  {
   "cell_type": "code",
   "execution_count": null,
   "metadata": {},
   "outputs": [],
   "source": [
    "# Step 2 - class contant: tic-tac-toe data structure  "
   ]
  },
  {
   "cell_type": "code",
   "execution_count": null,
   "metadata": {},
   "outputs": [],
   "source": []
  },
  {
   "cell_type": "code",
   "execution_count": null,
   "metadata": {},
   "outputs": [],
   "source": [
    "# Step 3 - class method: checking tic-tac-toe "
   ]
  },
  {
   "cell_type": "code",
   "execution_count": null,
   "metadata": {},
   "outputs": [],
   "source": []
  },
  {
   "cell_type": "code",
   "execution_count": null,
   "metadata": {},
   "outputs": [],
   "source": [
    "# Step 4 - class method: updating tic-tac-toe "
   ]
  },
  {
   "cell_type": "code",
   "execution_count": null,
   "metadata": {},
   "outputs": [],
   "source": []
  },
  {
   "cell_type": "code",
   "execution_count": null,
   "metadata": {},
   "outputs": [],
   "source": [
    "# Step 5 - class method: implement game play"
   ]
  },
  {
   "cell_type": "code",
   "execution_count": null,
   "metadata": {},
   "outputs": [],
   "source": []
  }
 ],
 "metadata": {
  "kernelspec": {
   "display_name": "Python 3",
   "language": "python",
   "name": "python3"
  },
  "language_info": {
   "codemirror_mode": {
    "name": "ipython",
    "version": 3
   },
   "file_extension": ".py",
   "mimetype": "text/x-python",
   "name": "python",
   "nbconvert_exporter": "python",
   "pygments_lexer": "ipython3",
   "version": "3.7.3"
  }
 },
 "nbformat": 4,
 "nbformat_minor": 4
}
