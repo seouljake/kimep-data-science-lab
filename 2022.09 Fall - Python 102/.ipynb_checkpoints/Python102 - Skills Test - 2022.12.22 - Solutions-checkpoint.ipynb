{
 "cells": [
  {
   "cell_type": "markdown",
   "metadata": {},
   "source": [
    "# Python 102 - 2022.11.11 - Skills Test - with Solutions"
   ]
  },
  {
   "cell_type": "markdown",
   "metadata": {},
   "source": [
    "## Skills Test"
   ]
  },
  {
   "cell_type": "markdown",
   "metadata": {},
   "source": [
    "#### Time:  30 minutes"
   ]
  },
  {
   "cell_type": "markdown",
   "metadata": {},
   "source": [
    "#### Contents\n",
    "-  Shorter exercises (3 pts x 5)  = 15\n",
    "-  Longer exercises (12 pts x 5) = 60"
   ]
  },
  {
   "cell_type": "markdown",
   "metadata": {},
   "source": [
    "#### Total points: 75"
   ]
  },
  {
   "cell_type": "markdown",
   "metadata": {},
   "source": [
    "#### Passing Grade: 60% (45 of 75 pts)"
   ]
  },
  {
   "cell_type": "markdown",
   "metadata": {},
   "source": [
    "## Shorter exercises"
   ]
  },
  {
   "cell_type": "markdown",
   "metadata": {},
   "source": [
    "#### 1. define a function\n",
    "\n",
    "- define a function substract() which accepts two parameters, a and b, and outputs their difference\n",
    "- you can output using print() function or return \n",
    "- call the function to show that it works"
   ]
  },
  {
   "cell_type": "code",
   "execution_count": 1,
   "metadata": {},
   "outputs": [],
   "source": [
    "def subtract(a,b):\n",
    "    print(a-b)"
   ]
  },
  {
   "cell_type": "code",
   "execution_count": 2,
   "metadata": {},
   "outputs": [
    {
     "name": "stdout",
     "output_type": "stream",
     "text": [
      "-1\n"
     ]
    }
   ],
   "source": [
    "subtract(5,6)"
   ]
  },
  {
   "cell_type": "markdown",
   "metadata": {},
   "source": [
    "#### 2. sort a list\n",
    "\n",
    "- consider the following list, color_list = [\"red\",\"blue\",\"green\",\"yellow\"]\n",
    "- sort the following list in alphabetical order (from A to Z)\n",
    "- call the list to show it is sorted"
   ]
  },
  {
   "cell_type": "code",
   "execution_count": 12,
   "metadata": {},
   "outputs": [],
   "source": [
    "color_list = [\"red\",\"blue\",\"green\",\"yellow\"]"
   ]
  },
  {
   "cell_type": "code",
   "execution_count": 15,
   "metadata": {},
   "outputs": [],
   "source": [
    "color_list.sort(reverse=False)"
   ]
  },
  {
   "cell_type": "code",
   "execution_count": 16,
   "metadata": {},
   "outputs": [
    {
     "data": {
      "text/plain": [
       "['blue', 'green', 'red', 'yellow']"
      ]
     },
     "execution_count": 16,
     "metadata": {},
     "output_type": "execute_result"
    }
   ],
   "source": [
    "color_list"
   ]
  },
  {
   "cell_type": "markdown",
   "metadata": {},
   "source": [
    "#### 3. use a list comprehension to search for cold colors in color_list \n",
    "\n",
    "- consider your list in #2, color_list = [\"red\",\"blue\",\"green\",\"yellow\"]\n",
    "- and a list of cold colors, cold_colors = [\"blue\",\"green\",\"purple\"]\n",
    "- use a list comprehension to the cold colors in color_list and save this as a new list: my_cold_colors\n",
    "- call the new list to show what it contains"
   ]
  },
  {
   "cell_type": "code",
   "execution_count": 18,
   "metadata": {},
   "outputs": [],
   "source": [
    "color_list = [\"red\",\"blue\",\"green\",\"yellow\"]\n",
    "cold_colors = [\"blue\",\"green\",\"purple\"]"
   ]
  },
  {
   "cell_type": "code",
   "execution_count": 21,
   "metadata": {},
   "outputs": [],
   "source": [
    "my_cold_colors = [color for color in color_list if color in cold_colors]"
   ]
  },
  {
   "cell_type": "code",
   "execution_count": 22,
   "metadata": {},
   "outputs": [
    {
     "data": {
      "text/plain": [
       "['blue', 'green']"
      ]
     },
     "execution_count": 22,
     "metadata": {},
     "output_type": "execute_result"
    }
   ],
   "source": [
    "my_cold_colors"
   ]
  },
  {
   "cell_type": "markdown",
   "metadata": {},
   "source": [
    "#### 4. search for words containing a substring\n",
    "\n",
    "- consider the following list, fruit_list = [\"apple\",\"banana\",\"pineapple\",\"pear\",\"snapple\"]\n",
    "- use a list comprehension to select words containing the substring, \"apple\", and save this as a new list\n",
    "- call the new list to show what it contains"
   ]
  },
  {
   "cell_type": "code",
   "execution_count": 23,
   "metadata": {},
   "outputs": [],
   "source": [
    "fruit_list = [\"apple\",\"banana\",\"pineapple\",\"pear\",\"snapple\"]"
   ]
  },
  {
   "cell_type": "code",
   "execution_count": 24,
   "metadata": {},
   "outputs": [],
   "source": [
    "apple_list = [w for w in word_list if \"apple\" in w]"
   ]
  },
  {
   "cell_type": "code",
   "execution_count": 25,
   "metadata": {},
   "outputs": [
    {
     "data": {
      "text/plain": [
       "['apple', 'pineapple', 'snapple']"
      ]
     },
     "execution_count": 25,
     "metadata": {},
     "output_type": "execute_result"
    }
   ],
   "source": [
    "apple_list"
   ]
  },
  {
   "cell_type": "markdown",
   "metadata": {},
   "source": [
    "#### 5. create a class\n",
    "\n",
    "- create a class, MyClass\n",
    "- include the attributes:\n",
    " - firstname = \"Joe\"\n",
    " - lastname = \"Biden\"\n",
    " - age = 101\n",
    "- instantiate the class and call each of the three attributes to show their values"
   ]
  },
  {
   "cell_type": "code",
   "execution_count": 26,
   "metadata": {},
   "outputs": [],
   "source": [
    "class MyClass:\n",
    "    firstname = \"Joe\"\n",
    "    lastname = \"Biden\"\n",
    "    age = 101"
   ]
  },
  {
   "cell_type": "code",
   "execution_count": 27,
   "metadata": {},
   "outputs": [],
   "source": [
    "myclass = MyClass()"
   ]
  },
  {
   "cell_type": "code",
   "execution_count": 28,
   "metadata": {},
   "outputs": [
    {
     "data": {
      "text/plain": [
       "'Joe'"
      ]
     },
     "execution_count": 28,
     "metadata": {},
     "output_type": "execute_result"
    }
   ],
   "source": [
    "myclass.firstname"
   ]
  },
  {
   "cell_type": "code",
   "execution_count": 29,
   "metadata": {},
   "outputs": [
    {
     "data": {
      "text/plain": [
       "'Biden'"
      ]
     },
     "execution_count": 29,
     "metadata": {},
     "output_type": "execute_result"
    }
   ],
   "source": [
    "myclass.lastname"
   ]
  },
  {
   "cell_type": "code",
   "execution_count": 30,
   "metadata": {},
   "outputs": [
    {
     "data": {
      "text/plain": [
       "101"
      ]
     },
     "execution_count": 30,
     "metadata": {},
     "output_type": "execute_result"
    }
   ],
   "source": [
    "myclass.age"
   ]
  },
  {
   "cell_type": "markdown",
   "metadata": {},
   "source": [
    "## Longer exercises"
   ]
  },
  {
   "cell_type": "markdown",
   "metadata": {},
   "source": [
    "#### 6. create a Calculator class\n",
    "\n",
    "1. create a class Calculator\n",
    "2. the class should contain four functions:\n",
    " - add()\n",
    " - substract()\n",
    " - multiply()\n",
    " - divide()\n",
    "3. each function should:\n",
    " - accept two numbers\n",
    " - perform the basic operation (add, subtract, multiply divide)\n",
    " - and print() the output\n",
    "4. instantiate the class and call each function once to show that it works"
   ]
  },
  {
   "cell_type": "code",
   "execution_count": 31,
   "metadata": {},
   "outputs": [],
   "source": [
    "class Calculator():\n",
    "    \n",
    "    def add(self,a,b):\n",
    "        print(a+b)\n",
    "\n",
    "    def subtract(self,a,b):\n",
    "        print(a-b)\n",
    "\n",
    "    def multiply(self,a,b):\n",
    "        print(a*b)\n",
    "\n",
    "    def divide(self,a,b):\n",
    "        print(a/b)"
   ]
  },
  {
   "cell_type": "code",
   "execution_count": 32,
   "metadata": {},
   "outputs": [],
   "source": [
    "c = Calculator()"
   ]
  },
  {
   "cell_type": "code",
   "execution_count": 33,
   "metadata": {},
   "outputs": [
    {
     "name": "stdout",
     "output_type": "stream",
     "text": [
      "11\n"
     ]
    }
   ],
   "source": [
    "c.add(5,6)"
   ]
  },
  {
   "cell_type": "code",
   "execution_count": 34,
   "metadata": {},
   "outputs": [
    {
     "name": "stdout",
     "output_type": "stream",
     "text": [
      "-1\n"
     ]
    }
   ],
   "source": [
    "c.subtract(5,6)"
   ]
  },
  {
   "cell_type": "code",
   "execution_count": 35,
   "metadata": {},
   "outputs": [
    {
     "name": "stdout",
     "output_type": "stream",
     "text": [
      "30\n"
     ]
    }
   ],
   "source": [
    "c.multiply(5,6)"
   ]
  },
  {
   "cell_type": "code",
   "execution_count": 36,
   "metadata": {},
   "outputs": [
    {
     "name": "stdout",
     "output_type": "stream",
     "text": [
      "0.8333333333333334\n"
     ]
    }
   ],
   "source": [
    "c.divide(5,6)"
   ]
  },
  {
   "cell_type": "markdown",
   "metadata": {},
   "source": [
    "#### 7. sort by multiple fields\n",
    "\n",
    "1. consider the following list, friend_list = [[20,\"Alua\"],[21,\"Dana\"],[19,\"Aizhan\"],[19,\"Firai\"]]\n",
    "2. use the lambda function and key parameter in sort() to sort the following list according to two criteria\n",
    " - first by age, descending (from oldest to youngest)\n",
    " - second by name, alphabetically (from A to Z)\n",
    "3. call the list to show it is sorted"
   ]
  },
  {
   "cell_type": "code",
   "execution_count": 52,
   "metadata": {},
   "outputs": [],
   "source": [
    "friend_list = [[20,\"Alua\"],[21,\"Dana\"],[19,\"Aizhan\"],[19,\"Firai\"]]"
   ]
  },
  {
   "cell_type": "code",
   "execution_count": 53,
   "metadata": {},
   "outputs": [
    {
     "data": {
      "text/plain": [
       "[[20, 'Alua'], [21, 'Dana'], [19, 'Aizhan'], [19, 'Firai']]"
      ]
     },
     "execution_count": 53,
     "metadata": {},
     "output_type": "execute_result"
    }
   ],
   "source": [
    "friend_list"
   ]
  },
  {
   "cell_type": "code",
   "execution_count": 54,
   "metadata": {},
   "outputs": [],
   "source": [
    "friend_list.sort(key=lambda x: (-x[0],x[1]))"
   ]
  },
  {
   "cell_type": "code",
   "execution_count": 55,
   "metadata": {},
   "outputs": [
    {
     "data": {
      "text/plain": [
       "[[21, 'Dana'], [20, 'Alua'], [19, 'Aizhan'], [19, 'Firai']]"
      ]
     },
     "execution_count": 55,
     "metadata": {},
     "output_type": "execute_result"
    }
   ],
   "source": [
    "friend_list"
   ]
  },
  {
   "cell_type": "markdown",
   "metadata": {},
   "source": [
    "#### 8. search a list by multiple fields\n",
    "\n",
    "1. consider the following list, id_list = [[\"Joe\",39],[\"Alma\",39],[\"Frank\",38],[\"Alex\",38]]\n",
    "2. use a list comprehension to select items by the following two criteria\n",
    " - age > 19\n",
    " - names that begin with A\n",
    "3. call the list to show it is sorted"
   ]
  },
  {
   "cell_type": "code",
   "execution_count": 58,
   "metadata": {},
   "outputs": [],
   "source": [
    "friend_list = [[20,\"Alua\"],[21,\"Dana\"],[19,\"Aizhan\"],[19,\"Firai\"]]"
   ]
  },
  {
   "cell_type": "code",
   "execution_count": 59,
   "metadata": {},
   "outputs": [
    {
     "data": {
      "text/plain": [
       "[[20, 'Alua'], [21, 'Dana'], [19, 'Aizhan'], [19, 'Firai']]"
      ]
     },
     "execution_count": 59,
     "metadata": {},
     "output_type": "execute_result"
    }
   ],
   "source": [
    "friend_list"
   ]
  },
  {
   "cell_type": "code",
   "execution_count": 61,
   "metadata": {},
   "outputs": [],
   "source": [
    "new_friend_list = [f for f in friend_list if f[0]>19 and f[1][0] == \"A\"]"
   ]
  },
  {
   "cell_type": "code",
   "execution_count": 63,
   "metadata": {},
   "outputs": [
    {
     "data": {
      "text/plain": [
       "[[20, 'Alua']]"
      ]
     },
     "execution_count": 63,
     "metadata": {},
     "output_type": "execute_result"
    }
   ],
   "source": [
    "new_friend_list"
   ]
  },
  {
   "cell_type": "markdown",
   "metadata": {},
   "source": [
    "####  9. create a Menu class\n",
    "\n",
    "1. create a class Menu\n",
    "\n",
    "2. include the dictionary, Beverages, where\n",
    " - key is beverage_name\n",
    " - value is [price,bool value indicating whether beverage contains coffee]\n",
    "\n",
    "\n",
    "3. create two functions:\n",
    " - AddBeverage(beverage_name,price,contains_coffee) - which adds a new beverage to Menu\n",
    " - UpdateBeveragePrice(beverage_name,new_price) - which replaces the old price with a new price\n",
    "\n",
    "\n",
    "4. call the AddBeverage function to add a beverage having the following info\n",
    "  - beverage_name = \"green tea\"\n",
    "  - price = 600\n",
    "  - contains_coffee = False\n",
    " \n",
    "5. call the UpdateBalance function to update Joe Biden's account_balance from 1000 to 2000\n",
    "  \n",
    "6. call Accounts to show that you have updated it"
   ]
  },
  {
   "cell_type": "code",
   "execution_count": 64,
   "metadata": {},
   "outputs": [],
   "source": [
    "Beverages = {\"flat white\":[1000,True],\"latte\":[1100,True],\"black tea\":[500,False]}"
   ]
  },
  {
   "cell_type": "code",
   "execution_count": 78,
   "metadata": {},
   "outputs": [],
   "source": [
    "class Menu:\n",
    "    \n",
    "    Beverages = {\"flat white\":[1000,True],\"latte\":[1100,True],\"black tea\":[500,False]}\n",
    "\n",
    "    def AddBeverage(self,beverage_name,price,contains_coffee):\n",
    "        self.Beverages[beverage_name]=[price,contains_coffee]\n",
    "        \n",
    "    def UpdateBeveragePrice(self,beverage_name,new_price):\n",
    "        self.Beverages[beverage_name][1] = new_price"
   ]
  },
  {
   "cell_type": "code",
   "execution_count": 79,
   "metadata": {},
   "outputs": [],
   "source": [
    "m = Menu()"
   ]
  },
  {
   "cell_type": "code",
   "execution_count": 80,
   "metadata": {},
   "outputs": [
    {
     "data": {
      "text/plain": [
       "{'flat white': [1000, True], 'latte': [1100, True], 'black tea': [500, False]}"
      ]
     },
     "execution_count": 80,
     "metadata": {},
     "output_type": "execute_result"
    }
   ],
   "source": [
    "m.Beverages"
   ]
  },
  {
   "cell_type": "code",
   "execution_count": 81,
   "metadata": {},
   "outputs": [],
   "source": [
    "m.AddBeverage(\"green tea\",500,False)"
   ]
  },
  {
   "cell_type": "code",
   "execution_count": 82,
   "metadata": {},
   "outputs": [
    {
     "data": {
      "text/plain": [
       "{'flat white': [1000, True],\n",
       " 'latte': [1100, True],\n",
       " 'black tea': [500, False],\n",
       " 'green tea': [500, False]}"
      ]
     },
     "execution_count": 82,
     "metadata": {},
     "output_type": "execute_result"
    }
   ],
   "source": [
    "m.Beverages"
   ]
  },
  {
   "cell_type": "code",
   "execution_count": 83,
   "metadata": {},
   "outputs": [],
   "source": [
    "m.UpdateBeveragePrice(\"latte\",1500)"
   ]
  },
  {
   "cell_type": "code",
   "execution_count": 84,
   "metadata": {},
   "outputs": [
    {
     "data": {
      "text/plain": [
       "{'flat white': [1000, True],\n",
       " 'latte': [1100, 1500],\n",
       " 'black tea': [500, False],\n",
       " 'green tea': [500, False]}"
      ]
     },
     "execution_count": 84,
     "metadata": {},
     "output_type": "execute_result"
    }
   ],
   "source": [
    "m.Beverages"
   ]
  },
  {
   "cell_type": "markdown",
   "metadata": {},
   "source": [
    "####  10. create a class, MyClass\n",
    "\n",
    "1. consider the class you created in Exercise 5\n",
    "\n",
    "2. create an __init__ function which:\n",
    "- prompts the user for their first name, last name, and age\n",
    "- concatenates the first name,  last name and age into the following sentence, and then prints() it.\n",
    " - for example: \"My name is Taylor Swift and I am 33 years old.\"\n",
    "  \n",
    "5. call the class, input your firstname, lastname and age to show that it works"
   ]
  },
  {
   "cell_type": "code",
   "execution_count": 93,
   "metadata": {},
   "outputs": [],
   "source": [
    "class MyClass:\n",
    "    \n",
    "    firstname = \"Joe\"\n",
    "    lastname = \"Biden\"\n",
    "    age = 101\n",
    "    \n",
    "    def __init__(self,my_first_name,my_last_name,my_age):\n",
    "        self.firstname=my_first_name\n",
    "        self.lastname=my_last_name\n",
    "        self.age=my_age\n",
    "        print(\"My name is\",self.firstname,self.lastname,\"and I am\",self.age,\"years old.\")"
   ]
  },
  {
   "cell_type": "code",
   "execution_count": 94,
   "metadata": {},
   "outputs": [
    {
     "name": "stdout",
     "output_type": "stream",
     "text": [
      "My name is Taylor Swift and I am 33 years old.\n"
     ]
    }
   ],
   "source": [
    "myclass = MyClass(\"Taylor\",\"Swift\",33)"
   ]
  },
  {
   "cell_type": "code",
   "execution_count": null,
   "metadata": {},
   "outputs": [],
   "source": []
  }
 ],
 "metadata": {
  "kernelspec": {
   "display_name": "Python 3 (ipykernel)",
   "language": "python",
   "name": "python3"
  },
  "language_info": {
   "codemirror_mode": {
    "name": "ipython",
    "version": 3
   },
   "file_extension": ".py",
   "mimetype": "text/x-python",
   "name": "python",
   "nbconvert_exporter": "python",
   "pygments_lexer": "ipython3",
   "version": "3.11.0"
  }
 },
 "nbformat": 4,
 "nbformat_minor": 4
}
